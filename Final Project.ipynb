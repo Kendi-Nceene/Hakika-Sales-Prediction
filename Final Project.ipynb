{
 "cells": [
  {
   "cell_type": "code",
   "execution_count": null,
   "id": "32595764",
   "metadata": {},
   "outputs": [],
   "source": []
  },
  {
   "cell_type": "markdown",
   "id": "669c1ebb",
   "metadata": {},
   "source": [
    " #                    Payment Transactions Prediction."
   ]
  },
  {
   "cell_type": "markdown",
   "id": "8c289afa",
   "metadata": {},
   "source": [
    "## 1. Defining the Question"
   ]
  },
  {
   "cell_type": "markdown",
   "id": "aea4caed",
   "metadata": {},
   "source": [
    "## a) Specifying the Question\n",
    "\n",
    " > Building a supervised machine learning algorithm to predict sales."
   ]
  },
  {
   "cell_type": "markdown",
   "id": "c924f9e8",
   "metadata": {},
   "source": [
    "## b) Defining the Metrics for Success\n",
    "\n",
    "> Building a machine learning algorithm with the lowest RMSE."
   ]
  },
  {
   "cell_type": "markdown",
   "id": "09a22e3c",
   "metadata": {},
   "source": [
    "## c) Understanding the context"
   ]
  },
  {
   "cell_type": "markdown",
   "id": "e7cdb653",
   "metadata": {},
   "source": [
    "## d) Recording the Experimental Design\n",
    "\n",
    ">Problem Definition\n",
    "\n",
    ">Data Sourcing\n",
    "\n",
    ">Check the Data\n",
    "\n",
    ">Perform Data Cleaning\n",
    "\n",
    ">Perform Exploratory Data Analysis (Univariate, Bivariate & Multivariate)\n",
    "\n",
    ">Implement the Solution\n",
    "\n",
    ">Challenge the Solution\n",
    "\n",
    ">Follow up Questions\n",
    "\n",
    ">Conclusions\n",
    "\n",
    ">Recommendations"
   ]
  },
  {
   "cell_type": "markdown",
   "id": "a1577a57",
   "metadata": {},
   "source": [
    "## e) Data Relevance\n",
    "\n",
    "Invoice id: Computer generated sales slip invoice identification number\n",
    "\n",
    "Branch: Branch of supercenter (3 branches are available identified by A, B and C).\n",
    "\n",
    "City: Location of supercenters\n",
    "\n",
    "Customer type: Type of customers, recorded by Members for customers using member card and Normal for without member card.\n",
    "\n",
    "Gender: Gender type of customer\n",
    "\n",
    "Product line: General item categorization groups - Electronic accessories, Fashion accessories, Food and beverages, Health and beauty, Home and lifestyle, Sports and travel\n",
    "\n",
    "Unit price: Price of each product in USD\n",
    "\n",
    "Quantity: Number of products purchased by customer\n",
    "\n",
    "Tax: 5% tax fee for customer buying\n",
    "\n",
    "Total: Total price including tax\n",
    "\n",
    "Date: Date of purchase (Record available from January 2019 to March 2019)\n",
    "\n",
    "Time: Purchase time (10am to 9pm)\n",
    "\n",
    "Payment: Payment used by customer for purchase (3 methods are available – Cash, Credit card and Ewallet)\n",
    "\n",
    "COGS: Cost of goods sold\n",
    "\n",
    "Gross margin percentage: Gross margin percentage\n",
    "\n",
    "Gross income: Gross income\n",
    "\n",
    "Rating: Customer stratification rating on their overall shopping experience (On a scale of 1 to 10)"
   ]
  },
  {
   "cell_type": "markdown",
   "id": "98f4cdb0",
   "metadata": {},
   "source": [
    "# 2. Importing Libraries"
   ]
  },
  {
   "cell_type": "code",
   "execution_count": 1,
   "id": "bc5e9d0e",
   "metadata": {},
   "outputs": [],
   "source": [
    "from zipfile import ZipFile\n",
    "\n",
    "import pandas as pd\n",
    "import numpy as np\n",
    "\n",
    "import seaborn as sns\n",
    "import matplotlib.pyplot as plt\n",
    "%matplotlib inline\n",
    "\n",
    "import warnings\n",
    "warnings.simplefilter(action='ignore', category=FutureWarning)"
   ]
  },
  {
   "cell_type": "markdown",
   "id": "2e329cb2",
   "metadata": {},
   "source": [
    "# 3. Data Wrangling\n",
    "## a) Gathering Data"
   ]
  },
  {
   "cell_type": "code",
   "execution_count": 2,
   "id": "8f247c3f",
   "metadata": {},
   "outputs": [
    {
     "name": "stdout",
     "output_type": "stream",
     "text": [
      "Exctracting..0%....50%............100%\n",
      "Done!\n"
     ]
    }
   ],
   "source": [
    "# Lets extract the csv file from a zipped file\n",
    "\n",
    "file = 'supermarket_archive.zip'\n",
    "\n",
    "with ZipFile(file,'r') as zip:\n",
    "    print('Exctracting..0%....50%............100%')\n",
    "    zip.extractall()\n",
    "    print('Done!')"
   ]
  },
  {
   "cell_type": "code",
   "execution_count": 3,
   "id": "4403a478",
   "metadata": {},
   "outputs": [],
   "source": [
    "# Create a funtion that reads data\n",
    "def read(data):\n",
    "    return pd.read_csv(data)"
   ]
  },
  {
   "cell_type": "code",
   "execution_count": 4,
   "id": "b4bfb69f",
   "metadata": {
    "scrolled": true
   },
   "outputs": [
    {
     "data": {
      "text/html": [
       "<div>\n",
       "<style scoped>\n",
       "    .dataframe tbody tr th:only-of-type {\n",
       "        vertical-align: middle;\n",
       "    }\n",
       "\n",
       "    .dataframe tbody tr th {\n",
       "        vertical-align: top;\n",
       "    }\n",
       "\n",
       "    .dataframe thead th {\n",
       "        text-align: right;\n",
       "    }\n",
       "</style>\n",
       "<table border=\"1\" class=\"dataframe\">\n",
       "  <thead>\n",
       "    <tr style=\"text-align: right;\">\n",
       "      <th></th>\n",
       "      <th>Invoice ID</th>\n",
       "      <th>Branch</th>\n",
       "      <th>Customer type</th>\n",
       "      <th>Gender</th>\n",
       "      <th>Product line</th>\n",
       "      <th>Unit price</th>\n",
       "      <th>Quantity</th>\n",
       "      <th>Tax</th>\n",
       "      <th>Date</th>\n",
       "      <th>Time</th>\n",
       "      <th>Payment</th>\n",
       "      <th>cogs</th>\n",
       "      <th>gross margin percentage</th>\n",
       "      <th>gross income</th>\n",
       "      <th>Rating</th>\n",
       "      <th>Total</th>\n",
       "    </tr>\n",
       "  </thead>\n",
       "  <tbody>\n",
       "    <tr>\n",
       "      <th>559</th>\n",
       "      <td>218-59-9410</td>\n",
       "      <td>A</td>\n",
       "      <td>Member</td>\n",
       "      <td>Female</td>\n",
       "      <td>Home and lifestyle</td>\n",
       "      <td>72.42</td>\n",
       "      <td>3</td>\n",
       "      <td>10.863</td>\n",
       "      <td>3/29/2019</td>\n",
       "      <td>16:54</td>\n",
       "      <td>Ewallet</td>\n",
       "      <td>217.26</td>\n",
       "      <td>4.761905</td>\n",
       "      <td>10.863</td>\n",
       "      <td>8.2</td>\n",
       "      <td>228.123</td>\n",
       "    </tr>\n",
       "    <tr>\n",
       "      <th>391</th>\n",
       "      <td>173-82-9529</td>\n",
       "      <td>B</td>\n",
       "      <td>Normal</td>\n",
       "      <td>Female</td>\n",
       "      <td>Fashion accessories</td>\n",
       "      <td>37.95</td>\n",
       "      <td>10</td>\n",
       "      <td>18.975</td>\n",
       "      <td>1/26/2019</td>\n",
       "      <td>14:51</td>\n",
       "      <td>Cash</td>\n",
       "      <td>379.50</td>\n",
       "      <td>4.761905</td>\n",
       "      <td>18.975</td>\n",
       "      <td>9.7</td>\n",
       "      <td>398.475</td>\n",
       "    </tr>\n",
       "    <tr>\n",
       "      <th>324</th>\n",
       "      <td>746-54-5508</td>\n",
       "      <td>A</td>\n",
       "      <td>Normal</td>\n",
       "      <td>Male</td>\n",
       "      <td>Home and lifestyle</td>\n",
       "      <td>21.52</td>\n",
       "      <td>6</td>\n",
       "      <td>6.456</td>\n",
       "      <td>1/17/2019</td>\n",
       "      <td>12:48</td>\n",
       "      <td>Credit card</td>\n",
       "      <td>129.12</td>\n",
       "      <td>4.761905</td>\n",
       "      <td>6.456</td>\n",
       "      <td>9.4</td>\n",
       "      <td>135.576</td>\n",
       "    </tr>\n",
       "    <tr>\n",
       "      <th>207</th>\n",
       "      <td>263-87-5680</td>\n",
       "      <td>C</td>\n",
       "      <td>Member</td>\n",
       "      <td>Female</td>\n",
       "      <td>Home and lifestyle</td>\n",
       "      <td>28.53</td>\n",
       "      <td>10</td>\n",
       "      <td>14.265</td>\n",
       "      <td>3/18/2019</td>\n",
       "      <td>17:38</td>\n",
       "      <td>Ewallet</td>\n",
       "      <td>285.30</td>\n",
       "      <td>4.761905</td>\n",
       "      <td>14.265</td>\n",
       "      <td>7.8</td>\n",
       "      <td>299.565</td>\n",
       "    </tr>\n",
       "    <tr>\n",
       "      <th>431</th>\n",
       "      <td>574-57-9721</td>\n",
       "      <td>C</td>\n",
       "      <td>Normal</td>\n",
       "      <td>Male</td>\n",
       "      <td>Food and beverages</td>\n",
       "      <td>43.27</td>\n",
       "      <td>2</td>\n",
       "      <td>4.327</td>\n",
       "      <td>3/8/2019</td>\n",
       "      <td>16:53</td>\n",
       "      <td>Ewallet</td>\n",
       "      <td>86.54</td>\n",
       "      <td>4.761905</td>\n",
       "      <td>4.327</td>\n",
       "      <td>5.7</td>\n",
       "      <td>90.867</td>\n",
       "    </tr>\n",
       "  </tbody>\n",
       "</table>\n",
       "</div>"
      ],
      "text/plain": [
       "      Invoice ID Branch Customer type  Gender         Product line  \\\n",
       "559  218-59-9410      A        Member  Female   Home and lifestyle   \n",
       "391  173-82-9529      B        Normal  Female  Fashion accessories   \n",
       "324  746-54-5508      A        Normal    Male   Home and lifestyle   \n",
       "207  263-87-5680      C        Member  Female   Home and lifestyle   \n",
       "431  574-57-9721      C        Normal    Male   Food and beverages   \n",
       "\n",
       "     Unit price  Quantity     Tax       Date   Time      Payment    cogs  \\\n",
       "559       72.42         3  10.863  3/29/2019  16:54      Ewallet  217.26   \n",
       "391       37.95        10  18.975  1/26/2019  14:51         Cash  379.50   \n",
       "324       21.52         6   6.456  1/17/2019  12:48  Credit card  129.12   \n",
       "207       28.53        10  14.265  3/18/2019  17:38      Ewallet  285.30   \n",
       "431       43.27         2   4.327   3/8/2019  16:53      Ewallet   86.54   \n",
       "\n",
       "     gross margin percentage  gross income  Rating    Total  \n",
       "559                 4.761905        10.863     8.2  228.123  \n",
       "391                 4.761905        18.975     9.7  398.475  \n",
       "324                 4.761905         6.456     9.4  135.576  \n",
       "207                 4.761905        14.265     7.8  299.565  \n",
       "431                 4.761905         4.327     5.7   90.867  "
      ]
     },
     "execution_count": 4,
     "metadata": {},
     "output_type": "execute_result"
    }
   ],
   "source": [
    "# Loading the csv file to a dataframe\n",
    "supermarketdf = read('supermarket.csv')\n",
    "supermarketdf.sample(5)"
   ]
  },
  {
   "cell_type": "markdown",
   "id": "76723997",
   "metadata": {},
   "source": [
    "## b) Assessing Data"
   ]
  },
  {
   "cell_type": "code",
   "execution_count": 5,
   "id": "4285e7e9",
   "metadata": {},
   "outputs": [
    {
     "name": "stdout",
     "output_type": "stream",
     "text": [
      "The dataset has (1000, 16)  rows and columns respectively\n"
     ]
    }
   ],
   "source": [
    "# Let's preview the shape of our dataset\n",
    "print('The dataset has' , supermarketdf.shape, ' rows and columns respectively')"
   ]
  },
  {
   "cell_type": "code",
   "execution_count": 6,
   "id": "e421f3b6",
   "metadata": {
    "scrolled": true
   },
   "outputs": [
    {
     "data": {
      "text/plain": [
       "Index(['Invoice ID', 'Branch', 'Customer type', 'Gender', 'Product line',\n",
       "       'Unit price', 'Quantity', 'Tax', 'Date', 'Time', 'Payment', 'cogs',\n",
       "       'gross margin percentage', 'gross income', 'Rating', 'Total'],\n",
       "      dtype='object')"
      ]
     },
     "execution_count": 6,
     "metadata": {},
     "output_type": "execute_result"
    }
   ],
   "source": [
    "# Preview the columns of our dataset\n",
    "\n",
    "supermarketdf.columns"
   ]
  },
  {
   "cell_type": "code",
   "execution_count": 7,
   "id": "cd687f48",
   "metadata": {},
   "outputs": [
    {
     "data": {
      "text/html": [
       "<div>\n",
       "<style scoped>\n",
       "    .dataframe tbody tr th:only-of-type {\n",
       "        vertical-align: middle;\n",
       "    }\n",
       "\n",
       "    .dataframe tbody tr th {\n",
       "        vertical-align: top;\n",
       "    }\n",
       "\n",
       "    .dataframe thead th {\n",
       "        text-align: right;\n",
       "    }\n",
       "</style>\n",
       "<table border=\"1\" class=\"dataframe\">\n",
       "  <thead>\n",
       "    <tr style=\"text-align: right;\">\n",
       "      <th></th>\n",
       "      <th>Invoice ID</th>\n",
       "      <th>Branch</th>\n",
       "      <th>Customer type</th>\n",
       "      <th>Gender</th>\n",
       "      <th>Product line</th>\n",
       "      <th>Unit price</th>\n",
       "      <th>Quantity</th>\n",
       "      <th>Tax</th>\n",
       "      <th>Date</th>\n",
       "      <th>Time</th>\n",
       "      <th>Payment</th>\n",
       "      <th>cogs</th>\n",
       "      <th>gross margin percentage</th>\n",
       "      <th>gross income</th>\n",
       "      <th>Rating</th>\n",
       "      <th>Total</th>\n",
       "    </tr>\n",
       "  </thead>\n",
       "  <tbody>\n",
       "    <tr>\n",
       "      <th>280</th>\n",
       "      <td>136-08-6195</td>\n",
       "      <td>A</td>\n",
       "      <td>Normal</td>\n",
       "      <td>Female</td>\n",
       "      <td>Home and lifestyle</td>\n",
       "      <td>69.96</td>\n",
       "      <td>8</td>\n",
       "      <td>27.9840</td>\n",
       "      <td>2/15/2019</td>\n",
       "      <td>17:01</td>\n",
       "      <td>Credit card</td>\n",
       "      <td>559.68</td>\n",
       "      <td>4.761905</td>\n",
       "      <td>27.9840</td>\n",
       "      <td>6.4</td>\n",
       "      <td>587.6640</td>\n",
       "    </tr>\n",
       "    <tr>\n",
       "      <th>88</th>\n",
       "      <td>504-35-8843</td>\n",
       "      <td>A</td>\n",
       "      <td>Normal</td>\n",
       "      <td>Male</td>\n",
       "      <td>Sports and travel</td>\n",
       "      <td>42.47</td>\n",
       "      <td>1</td>\n",
       "      <td>2.1235</td>\n",
       "      <td>1/2/2019</td>\n",
       "      <td>16:57</td>\n",
       "      <td>Cash</td>\n",
       "      <td>42.47</td>\n",
       "      <td>4.761905</td>\n",
       "      <td>2.1235</td>\n",
       "      <td>5.7</td>\n",
       "      <td>44.5935</td>\n",
       "    </tr>\n",
       "  </tbody>\n",
       "</table>\n",
       "</div>"
      ],
      "text/plain": [
       "      Invoice ID Branch Customer type  Gender        Product line  Unit price  \\\n",
       "280  136-08-6195      A        Normal  Female  Home and lifestyle       69.96   \n",
       "88   504-35-8843      A        Normal    Male   Sports and travel       42.47   \n",
       "\n",
       "     Quantity      Tax       Date   Time      Payment    cogs  \\\n",
       "280         8  27.9840  2/15/2019  17:01  Credit card  559.68   \n",
       "88          1   2.1235   1/2/2019  16:57         Cash   42.47   \n",
       "\n",
       "     gross margin percentage  gross income  Rating     Total  \n",
       "280                 4.761905       27.9840     6.4  587.6640  \n",
       "88                  4.761905        2.1235     5.7   44.5935  "
      ]
     },
     "execution_count": 7,
     "metadata": {},
     "output_type": "execute_result"
    }
   ],
   "source": [
    "supermarketdf.sample(2)"
   ]
  },
  {
   "cell_type": "code",
   "execution_count": 8,
   "id": "3b856b96",
   "metadata": {
    "scrolled": true
   },
   "outputs": [
    {
     "name": "stdout",
     "output_type": "stream",
     "text": [
      "<class 'pandas.core.frame.DataFrame'>\n",
      "RangeIndex: 1000 entries, 0 to 999\n",
      "Data columns (total 16 columns):\n",
      " #   Column                   Non-Null Count  Dtype  \n",
      "---  ------                   --------------  -----  \n",
      " 0   Invoice ID               1000 non-null   object \n",
      " 1   Branch                   1000 non-null   object \n",
      " 2   Customer type            1000 non-null   object \n",
      " 3   Gender                   1000 non-null   object \n",
      " 4   Product line             1000 non-null   object \n",
      " 5   Unit price               1000 non-null   float64\n",
      " 6   Quantity                 1000 non-null   int64  \n",
      " 7   Tax                      1000 non-null   float64\n",
      " 8   Date                     1000 non-null   object \n",
      " 9   Time                     1000 non-null   object \n",
      " 10  Payment                  1000 non-null   object \n",
      " 11  cogs                     1000 non-null   float64\n",
      " 12  gross margin percentage  1000 non-null   float64\n",
      " 13  gross income             1000 non-null   float64\n",
      " 14  Rating                   1000 non-null   float64\n",
      " 15  Total                    1000 non-null   float64\n",
      "dtypes: float64(7), int64(1), object(8)\n",
      "memory usage: 125.1+ KB\n"
     ]
    }
   ],
   "source": [
    "# Check for the info of our datasets\n",
    "supermarketdf.info()"
   ]
  },
  {
   "cell_type": "markdown",
   "id": "a337538f",
   "metadata": {},
   "source": [
    "1. Invoice ID has a wrong datatype (string instead of int).\n",
    "2. Date and Time are objects are instead of datetime.\n",
    "3. We need to strip off the white spaces."
   ]
  },
  {
   "cell_type": "code",
   "execution_count": 9,
   "id": "d9f618c2",
   "metadata": {},
   "outputs": [
    {
     "data": {
      "text/plain": [
       "Invoice ID                 0\n",
       "Branch                     0\n",
       "Customer type              0\n",
       "Gender                     0\n",
       "Product line               0\n",
       "Unit price                 0\n",
       "Quantity                   0\n",
       "Tax                        0\n",
       "Date                       0\n",
       "Time                       0\n",
       "Payment                    0\n",
       "cogs                       0\n",
       "gross margin percentage    0\n",
       "gross income               0\n",
       "Rating                     0\n",
       "Total                      0\n",
       "dtype: int64"
      ]
     },
     "execution_count": 9,
     "metadata": {},
     "output_type": "execute_result"
    }
   ],
   "source": [
    "# Lets check for misssing values\n",
    "supermarketdf.isna().sum()"
   ]
  },
  {
   "cell_type": "markdown",
   "id": "85e4209a",
   "metadata": {},
   "source": [
    "There were no missing values."
   ]
  },
  {
   "cell_type": "code",
   "execution_count": 10,
   "id": "2901c0a5",
   "metadata": {},
   "outputs": [
    {
     "data": {
      "text/plain": [
       "0"
      ]
     },
     "execution_count": 10,
     "metadata": {},
     "output_type": "execute_result"
    }
   ],
   "source": [
    "# Checking for duplicates\n",
    "supermarketdf.duplicated().sum()"
   ]
  },
  {
   "cell_type": "markdown",
   "id": "5e031ea3",
   "metadata": {},
   "source": [
    "There were no duplicate values."
   ]
  },
  {
   "cell_type": "code",
   "execution_count": 11,
   "id": "ef325057",
   "metadata": {
    "scrolled": true
   },
   "outputs": [
    {
     "name": "stdout",
     "output_type": "stream",
     "text": [
      "Cardinality of the dataset columns : \n",
      "\n",
      "Invoice ID : 1000\n",
      "Branch : 3\n",
      "Customer type : 2\n",
      "Gender : 2\n",
      "Product line : 6\n",
      "Unit price : 943\n",
      "Quantity : 10\n",
      "Tax : 990\n",
      "Date : 89\n",
      "Time : 506\n",
      "Payment : 3\n",
      "cogs : 990\n",
      "gross margin percentage : 1\n",
      "gross income : 990\n",
      "Rating : 61\n",
      "Total : 990\n"
     ]
    }
   ],
   "source": [
    "# Check Cardinality\n",
    "# We will use a for loop function to iterate through the columns \n",
    "# while checking for the number of unique values in each column.\n",
    "\n",
    "# Number of unique values in the obesity dataset\n",
    "\n",
    "def cardinal(data):\n",
    "    print('Cardinality of the dataset columns : \\n')\n",
    "    for i in data.columns:\n",
    "        print(f'{i} : {data[i].nunique()}')\n",
    "\n",
    "        \n",
    "cardinal(supermarketdf)"
   ]
  },
  {
   "cell_type": "markdown",
   "id": "120d31d4",
   "metadata": {},
   "source": [
    "We can decide to drop the column gross margin percentage since the whole dataset has one value.\n",
    "\n",
    "According to an article by [investopedia](#https://www.investopedia.com/terms/g/grossmargin.asp) The gross margin (also referred to as gross profit) represents each dollar of revenue that the company retains after subtracting COGS.\n",
    "\n",
    " This means carrefour company's gross profit margin is 4.761905%."
   ]
  },
  {
   "cell_type": "code",
   "execution_count": 12,
   "id": "e5deff5c",
   "metadata": {
    "scrolled": true
   },
   "outputs": [
    {
     "name": "stdout",
     "output_type": "stream",
     "text": [
      "BRANCH\n",
      "['A' 'C' 'B']\n",
      "----------------------------------------------------\n",
      "CUSTOMER TYPE\n",
      "['Member' 'Normal']\n",
      "----------------------------------------------------\n",
      "GENDER\n",
      "['Female' 'Male']\n",
      "----------------------------------------------------\n",
      "PRODUCT LINE\n",
      "['Health and beauty' 'Electronic accessories' 'Home and lifestyle'\n",
      " 'Sports and travel' 'Food and beverages' 'Fashion accessories']\n",
      "----------------------------------------------------\n",
      "PAYMENT\n",
      "['Ewallet' 'Cash' 'Credit card']\n"
     ]
    }
   ],
   "source": [
    "# categorical = ['Branch','Customer type','Gender','Product line','Payment']\n",
    "\n",
    "print('BRANCH')\n",
    "print(supermarketdf['Branch'].unique())\n",
    "print('----------------------------------------------------')\n",
    "print('CUSTOMER TYPE')\n",
    "print(supermarketdf['Customer type'].unique())\n",
    "print('----------------------------------------------------')\n",
    "print('GENDER')\n",
    "print(supermarketdf['Gender'].unique())\n",
    "print('----------------------------------------------------')\n",
    "print('PRODUCT LINE')\n",
    "print(supermarketdf['Product line'].unique())\n",
    "print('----------------------------------------------------')\n",
    "print('PAYMENT')\n",
    "print(supermarketdf['Payment'].unique())"
   ]
  },
  {
   "cell_type": "code",
   "execution_count": 13,
   "id": "4a55d376",
   "metadata": {
    "scrolled": true
   },
   "outputs": [
    {
     "data": {
      "text/html": [
       "<div>\n",
       "<style scoped>\n",
       "    .dataframe tbody tr th:only-of-type {\n",
       "        vertical-align: middle;\n",
       "    }\n",
       "\n",
       "    .dataframe tbody tr th {\n",
       "        vertical-align: top;\n",
       "    }\n",
       "\n",
       "    .dataframe thead th {\n",
       "        text-align: right;\n",
       "    }\n",
       "</style>\n",
       "<table border=\"1\" class=\"dataframe\">\n",
       "  <thead>\n",
       "    <tr style=\"text-align: right;\">\n",
       "      <th></th>\n",
       "      <th>Invoice ID</th>\n",
       "      <th>Branch</th>\n",
       "      <th>City</th>\n",
       "      <th>Customer type</th>\n",
       "      <th>Gender</th>\n",
       "      <th>Product line</th>\n",
       "      <th>Unit price</th>\n",
       "      <th>Quantity</th>\n",
       "      <th>Tax 5%</th>\n",
       "      <th>Total</th>\n",
       "      <th>Date</th>\n",
       "      <th>Time</th>\n",
       "      <th>Payment</th>\n",
       "      <th>cogs</th>\n",
       "      <th>gross margin percentage</th>\n",
       "      <th>gross income</th>\n",
       "      <th>Rating</th>\n",
       "    </tr>\n",
       "  </thead>\n",
       "  <tbody>\n",
       "    <tr>\n",
       "      <th>525</th>\n",
       "      <td>719-89-8991</td>\n",
       "      <td>A</td>\n",
       "      <td>Yangon</td>\n",
       "      <td>Member</td>\n",
       "      <td>Female</td>\n",
       "      <td>Sports and travel</td>\n",
       "      <td>91.41</td>\n",
       "      <td>5</td>\n",
       "      <td>22.8525</td>\n",
       "      <td>479.9025</td>\n",
       "      <td>2/25/2019</td>\n",
       "      <td>16:03</td>\n",
       "      <td>Ewallet</td>\n",
       "      <td>457.05</td>\n",
       "      <td>4.761905</td>\n",
       "      <td>22.8525</td>\n",
       "      <td>7.1</td>\n",
       "    </tr>\n",
       "    <tr>\n",
       "      <th>888</th>\n",
       "      <td>137-74-8729</td>\n",
       "      <td>C</td>\n",
       "      <td>Naypyitaw</td>\n",
       "      <td>Normal</td>\n",
       "      <td>Female</td>\n",
       "      <td>Fashion accessories</td>\n",
       "      <td>12.19</td>\n",
       "      <td>8</td>\n",
       "      <td>4.8760</td>\n",
       "      <td>102.3960</td>\n",
       "      <td>3/13/2019</td>\n",
       "      <td>12:47</td>\n",
       "      <td>Ewallet</td>\n",
       "      <td>97.52</td>\n",
       "      <td>4.761905</td>\n",
       "      <td>4.8760</td>\n",
       "      <td>6.8</td>\n",
       "    </tr>\n",
       "    <tr>\n",
       "      <th>137</th>\n",
       "      <td>354-39-5160</td>\n",
       "      <td>A</td>\n",
       "      <td>Yangon</td>\n",
       "      <td>Member</td>\n",
       "      <td>Female</td>\n",
       "      <td>Home and lifestyle</td>\n",
       "      <td>34.42</td>\n",
       "      <td>6</td>\n",
       "      <td>10.3260</td>\n",
       "      <td>216.8460</td>\n",
       "      <td>2/18/2019</td>\n",
       "      <td>15:39</td>\n",
       "      <td>Cash</td>\n",
       "      <td>206.52</td>\n",
       "      <td>4.761905</td>\n",
       "      <td>10.3260</td>\n",
       "      <td>9.8</td>\n",
       "    </tr>\n",
       "  </tbody>\n",
       "</table>\n",
       "</div>"
      ],
      "text/plain": [
       "      Invoice ID Branch       City Customer type  Gender         Product line  \\\n",
       "525  719-89-8991      A     Yangon        Member  Female    Sports and travel   \n",
       "888  137-74-8729      C  Naypyitaw        Normal  Female  Fashion accessories   \n",
       "137  354-39-5160      A     Yangon        Member  Female   Home and lifestyle   \n",
       "\n",
       "     Unit price  Quantity   Tax 5%     Total       Date   Time  Payment  \\\n",
       "525       91.41         5  22.8525  479.9025  2/25/2019  16:03  Ewallet   \n",
       "888       12.19         8   4.8760  102.3960  3/13/2019  12:47  Ewallet   \n",
       "137       34.42         6  10.3260  216.8460  2/18/2019  15:39     Cash   \n",
       "\n",
       "       cogs  gross margin percentage  gross income  Rating  \n",
       "525  457.05                 4.761905       22.8525     7.1  \n",
       "888   97.52                 4.761905        4.8760     6.8  \n",
       "137  206.52                 4.761905       10.3260     9.8  "
      ]
     },
     "execution_count": 13,
     "metadata": {},
     "output_type": "execute_result"
    }
   ],
   "source": [
    "df1 = read('supermarket_sales.csv')\n",
    "df1.sample(3)"
   ]
  },
  {
   "cell_type": "code",
   "execution_count": 14,
   "id": "f679cb36",
   "metadata": {},
   "outputs": [
    {
     "data": {
      "text/html": [
       "<div>\n",
       "<style scoped>\n",
       "    .dataframe tbody tr th:only-of-type {\n",
       "        vertical-align: middle;\n",
       "    }\n",
       "\n",
       "    .dataframe tbody tr th {\n",
       "        vertical-align: top;\n",
       "    }\n",
       "\n",
       "    .dataframe thead th {\n",
       "        text-align: right;\n",
       "    }\n",
       "</style>\n",
       "<table border=\"1\" class=\"dataframe\">\n",
       "  <thead>\n",
       "    <tr style=\"text-align: right;\">\n",
       "      <th></th>\n",
       "      <th>Unit price</th>\n",
       "      <th>Quantity</th>\n",
       "      <th>Tax 5%</th>\n",
       "      <th>Total</th>\n",
       "      <th>cogs</th>\n",
       "      <th>gross margin percentage</th>\n",
       "      <th>gross income</th>\n",
       "      <th>Rating</th>\n",
       "    </tr>\n",
       "  </thead>\n",
       "  <tbody>\n",
       "    <tr>\n",
       "      <th>count</th>\n",
       "      <td>1000.000000</td>\n",
       "      <td>1000.000000</td>\n",
       "      <td>1000.000000</td>\n",
       "      <td>1000.000000</td>\n",
       "      <td>1000.00000</td>\n",
       "      <td>1.000000e+03</td>\n",
       "      <td>1000.000000</td>\n",
       "      <td>1000.00000</td>\n",
       "    </tr>\n",
       "    <tr>\n",
       "      <th>mean</th>\n",
       "      <td>55.672130</td>\n",
       "      <td>5.510000</td>\n",
       "      <td>15.379369</td>\n",
       "      <td>322.966749</td>\n",
       "      <td>307.58738</td>\n",
       "      <td>4.761905e+00</td>\n",
       "      <td>15.379369</td>\n",
       "      <td>6.97270</td>\n",
       "    </tr>\n",
       "    <tr>\n",
       "      <th>std</th>\n",
       "      <td>26.494628</td>\n",
       "      <td>2.923431</td>\n",
       "      <td>11.708825</td>\n",
       "      <td>245.885335</td>\n",
       "      <td>234.17651</td>\n",
       "      <td>6.131498e-14</td>\n",
       "      <td>11.708825</td>\n",
       "      <td>1.71858</td>\n",
       "    </tr>\n",
       "    <tr>\n",
       "      <th>min</th>\n",
       "      <td>10.080000</td>\n",
       "      <td>1.000000</td>\n",
       "      <td>0.508500</td>\n",
       "      <td>10.678500</td>\n",
       "      <td>10.17000</td>\n",
       "      <td>4.761905e+00</td>\n",
       "      <td>0.508500</td>\n",
       "      <td>4.00000</td>\n",
       "    </tr>\n",
       "    <tr>\n",
       "      <th>25%</th>\n",
       "      <td>32.875000</td>\n",
       "      <td>3.000000</td>\n",
       "      <td>5.924875</td>\n",
       "      <td>124.422375</td>\n",
       "      <td>118.49750</td>\n",
       "      <td>4.761905e+00</td>\n",
       "      <td>5.924875</td>\n",
       "      <td>5.50000</td>\n",
       "    </tr>\n",
       "    <tr>\n",
       "      <th>50%</th>\n",
       "      <td>55.230000</td>\n",
       "      <td>5.000000</td>\n",
       "      <td>12.088000</td>\n",
       "      <td>253.848000</td>\n",
       "      <td>241.76000</td>\n",
       "      <td>4.761905e+00</td>\n",
       "      <td>12.088000</td>\n",
       "      <td>7.00000</td>\n",
       "    </tr>\n",
       "    <tr>\n",
       "      <th>75%</th>\n",
       "      <td>77.935000</td>\n",
       "      <td>8.000000</td>\n",
       "      <td>22.445250</td>\n",
       "      <td>471.350250</td>\n",
       "      <td>448.90500</td>\n",
       "      <td>4.761905e+00</td>\n",
       "      <td>22.445250</td>\n",
       "      <td>8.50000</td>\n",
       "    </tr>\n",
       "    <tr>\n",
       "      <th>max</th>\n",
       "      <td>99.960000</td>\n",
       "      <td>10.000000</td>\n",
       "      <td>49.650000</td>\n",
       "      <td>1042.650000</td>\n",
       "      <td>993.00000</td>\n",
       "      <td>4.761905e+00</td>\n",
       "      <td>49.650000</td>\n",
       "      <td>10.00000</td>\n",
       "    </tr>\n",
       "  </tbody>\n",
       "</table>\n",
       "</div>"
      ],
      "text/plain": [
       "        Unit price     Quantity       Tax 5%        Total        cogs  \\\n",
       "count  1000.000000  1000.000000  1000.000000  1000.000000  1000.00000   \n",
       "mean     55.672130     5.510000    15.379369   322.966749   307.58738   \n",
       "std      26.494628     2.923431    11.708825   245.885335   234.17651   \n",
       "min      10.080000     1.000000     0.508500    10.678500    10.17000   \n",
       "25%      32.875000     3.000000     5.924875   124.422375   118.49750   \n",
       "50%      55.230000     5.000000    12.088000   253.848000   241.76000   \n",
       "75%      77.935000     8.000000    22.445250   471.350250   448.90500   \n",
       "max      99.960000    10.000000    49.650000  1042.650000   993.00000   \n",
       "\n",
       "       gross margin percentage  gross income      Rating  \n",
       "count             1.000000e+03   1000.000000  1000.00000  \n",
       "mean              4.761905e+00     15.379369     6.97270  \n",
       "std               6.131498e-14     11.708825     1.71858  \n",
       "min               4.761905e+00      0.508500     4.00000  \n",
       "25%               4.761905e+00      5.924875     5.50000  \n",
       "50%               4.761905e+00     12.088000     7.00000  \n",
       "75%               4.761905e+00     22.445250     8.50000  \n",
       "max               4.761905e+00     49.650000    10.00000  "
      ]
     },
     "execution_count": 14,
     "metadata": {},
     "output_type": "execute_result"
    }
   ],
   "source": [
    "df1.describe()"
   ]
  },
  {
   "cell_type": "code",
   "execution_count": 15,
   "id": "71cd96f6",
   "metadata": {
    "scrolled": true
   },
   "outputs": [
    {
     "data": {
      "text/html": [
       "<div>\n",
       "<style scoped>\n",
       "    .dataframe tbody tr th:only-of-type {\n",
       "        vertical-align: middle;\n",
       "    }\n",
       "\n",
       "    .dataframe tbody tr th {\n",
       "        vertical-align: top;\n",
       "    }\n",
       "\n",
       "    .dataframe thead th {\n",
       "        text-align: right;\n",
       "    }\n",
       "</style>\n",
       "<table border=\"1\" class=\"dataframe\">\n",
       "  <thead>\n",
       "    <tr style=\"text-align: right;\">\n",
       "      <th></th>\n",
       "      <th>Unit price</th>\n",
       "      <th>Quantity</th>\n",
       "      <th>Tax</th>\n",
       "      <th>cogs</th>\n",
       "      <th>gross margin percentage</th>\n",
       "      <th>gross income</th>\n",
       "      <th>Rating</th>\n",
       "      <th>Total</th>\n",
       "    </tr>\n",
       "  </thead>\n",
       "  <tbody>\n",
       "    <tr>\n",
       "      <th>count</th>\n",
       "      <td>1000.000000</td>\n",
       "      <td>1000.000000</td>\n",
       "      <td>1000.000000</td>\n",
       "      <td>1000.00000</td>\n",
       "      <td>1.000000e+03</td>\n",
       "      <td>1000.000000</td>\n",
       "      <td>1000.00000</td>\n",
       "      <td>1000.000000</td>\n",
       "    </tr>\n",
       "    <tr>\n",
       "      <th>mean</th>\n",
       "      <td>55.672130</td>\n",
       "      <td>5.510000</td>\n",
       "      <td>15.379369</td>\n",
       "      <td>307.58738</td>\n",
       "      <td>4.761905e+00</td>\n",
       "      <td>15.379369</td>\n",
       "      <td>6.97270</td>\n",
       "      <td>322.966749</td>\n",
       "    </tr>\n",
       "    <tr>\n",
       "      <th>std</th>\n",
       "      <td>26.494628</td>\n",
       "      <td>2.923431</td>\n",
       "      <td>11.708825</td>\n",
       "      <td>234.17651</td>\n",
       "      <td>6.131498e-14</td>\n",
       "      <td>11.708825</td>\n",
       "      <td>1.71858</td>\n",
       "      <td>245.885335</td>\n",
       "    </tr>\n",
       "    <tr>\n",
       "      <th>min</th>\n",
       "      <td>10.080000</td>\n",
       "      <td>1.000000</td>\n",
       "      <td>0.508500</td>\n",
       "      <td>10.17000</td>\n",
       "      <td>4.761905e+00</td>\n",
       "      <td>0.508500</td>\n",
       "      <td>4.00000</td>\n",
       "      <td>10.678500</td>\n",
       "    </tr>\n",
       "    <tr>\n",
       "      <th>25%</th>\n",
       "      <td>32.875000</td>\n",
       "      <td>3.000000</td>\n",
       "      <td>5.924875</td>\n",
       "      <td>118.49750</td>\n",
       "      <td>4.761905e+00</td>\n",
       "      <td>5.924875</td>\n",
       "      <td>5.50000</td>\n",
       "      <td>124.422375</td>\n",
       "    </tr>\n",
       "    <tr>\n",
       "      <th>50%</th>\n",
       "      <td>55.230000</td>\n",
       "      <td>5.000000</td>\n",
       "      <td>12.088000</td>\n",
       "      <td>241.76000</td>\n",
       "      <td>4.761905e+00</td>\n",
       "      <td>12.088000</td>\n",
       "      <td>7.00000</td>\n",
       "      <td>253.848000</td>\n",
       "    </tr>\n",
       "    <tr>\n",
       "      <th>75%</th>\n",
       "      <td>77.935000</td>\n",
       "      <td>8.000000</td>\n",
       "      <td>22.445250</td>\n",
       "      <td>448.90500</td>\n",
       "      <td>4.761905e+00</td>\n",
       "      <td>22.445250</td>\n",
       "      <td>8.50000</td>\n",
       "      <td>471.350250</td>\n",
       "    </tr>\n",
       "    <tr>\n",
       "      <th>max</th>\n",
       "      <td>99.960000</td>\n",
       "      <td>10.000000</td>\n",
       "      <td>49.650000</td>\n",
       "      <td>993.00000</td>\n",
       "      <td>4.761905e+00</td>\n",
       "      <td>49.650000</td>\n",
       "      <td>10.00000</td>\n",
       "      <td>1042.650000</td>\n",
       "    </tr>\n",
       "  </tbody>\n",
       "</table>\n",
       "</div>"
      ],
      "text/plain": [
       "        Unit price     Quantity          Tax        cogs  \\\n",
       "count  1000.000000  1000.000000  1000.000000  1000.00000   \n",
       "mean     55.672130     5.510000    15.379369   307.58738   \n",
       "std      26.494628     2.923431    11.708825   234.17651   \n",
       "min      10.080000     1.000000     0.508500    10.17000   \n",
       "25%      32.875000     3.000000     5.924875   118.49750   \n",
       "50%      55.230000     5.000000    12.088000   241.76000   \n",
       "75%      77.935000     8.000000    22.445250   448.90500   \n",
       "max      99.960000    10.000000    49.650000   993.00000   \n",
       "\n",
       "       gross margin percentage  gross income      Rating        Total  \n",
       "count             1.000000e+03   1000.000000  1000.00000  1000.000000  \n",
       "mean              4.761905e+00     15.379369     6.97270   322.966749  \n",
       "std               6.131498e-14     11.708825     1.71858   245.885335  \n",
       "min               4.761905e+00      0.508500     4.00000    10.678500  \n",
       "25%               4.761905e+00      5.924875     5.50000   124.422375  \n",
       "50%               4.761905e+00     12.088000     7.00000   253.848000  \n",
       "75%               4.761905e+00     22.445250     8.50000   471.350250  \n",
       "max               4.761905e+00     49.650000    10.00000  1042.650000  "
      ]
     },
     "execution_count": 15,
     "metadata": {},
     "output_type": "execute_result"
    }
   ],
   "source": [
    "# Lets check the summary statistics of our data\n",
    "\n",
    "supermarketdf.describe()"
   ]
  },
  {
   "cell_type": "code",
   "execution_count": 16,
   "id": "0cb63fd7",
   "metadata": {},
   "outputs": [
    {
     "data": {
      "text/plain": [
       "Invoice ID                  object\n",
       "Branch                      object\n",
       "Customer type               object\n",
       "Gender                      object\n",
       "Product line                object\n",
       "Unit price                 float64\n",
       "Quantity                     int64\n",
       "Tax                        float64\n",
       "Date                        object\n",
       "Time                        object\n",
       "Payment                     object\n",
       "cogs                       float64\n",
       "gross margin percentage    float64\n",
       "gross income               float64\n",
       "Rating                     float64\n",
       "Total                      float64\n",
       "dtype: object"
      ]
     },
     "execution_count": 16,
     "metadata": {},
     "output_type": "execute_result"
    }
   ],
   "source": [
    "# Check or the ``````````AttributeError\n",
    "supermarketdf.dtypes"
   ]
  },
  {
   "cell_type": "code",
   "execution_count": 17,
   "id": "9ff2977f",
   "metadata": {
    "scrolled": true
   },
   "outputs": [
    {
     "data": {
      "image/png": "[encoded data removed]",
      "text/plain": [
       "<Figure size 1440x2160 with 6 Axes>"
      ]
     },
     "metadata": {
      "needs_background": "light"
     },
     "output_type": "display_data"
    }
   ],
   "source": [
    "# checking for outliers\n",
    "# define a function that plots boxplots to visualize outliers\n",
    "\n",
    "def outliers ():\n",
    "    \"making a dictionary for numerical columns\"\n",
    "    columns_dict = {'Unit price': 1, 'Tax': 2, 'cogs': 3, 'gross income': 4, 'Rating': 5, 'Total': 6}\n",
    "    plt.figure(figsize=(20,30))\n",
    "    for variable,i in columns_dict.items():\n",
    "      plt.subplot(3,3,i);\n",
    "      plt.boxplot(supermarketdf[variable]);\n",
    "      plt.title(f\"Boxplot showing {variable}\");\n",
    "    plt.show()\n",
    "outliers()"
   ]
  },
  {
   "cell_type": "markdown",
   "id": "191432d9",
   "metadata": {},
   "source": [
    "(a) Some columns have outliers.\n",
    "\n",
    "(b) We need to assess the outliers."
   ]
  },
  {
   "cell_type": "code",
   "execution_count": 18,
   "id": "f458da71",
   "metadata": {},
   "outputs": [
    {
     "data": {
      "text/html": [
       "<div>\n",
       "<style scoped>\n",
       "    .dataframe tbody tr th:only-of-type {\n",
       "        vertical-align: middle;\n",
       "    }\n",
       "\n",
       "    .dataframe tbody tr th {\n",
       "        vertical-align: top;\n",
       "    }\n",
       "\n",
       "    .dataframe thead th {\n",
       "        text-align: right;\n",
       "    }\n",
       "</style>\n",
       "<table border=\"1\" class=\"dataframe\">\n",
       "  <thead>\n",
       "    <tr style=\"text-align: right;\">\n",
       "      <th></th>\n",
       "      <th>Invoice ID</th>\n",
       "      <th>Branch</th>\n",
       "      <th>Customer type</th>\n",
       "      <th>Gender</th>\n",
       "      <th>Product line</th>\n",
       "      <th>Unit price</th>\n",
       "      <th>Quantity</th>\n",
       "      <th>Tax</th>\n",
       "      <th>Date</th>\n",
       "      <th>Time</th>\n",
       "      <th>Payment</th>\n",
       "      <th>cogs</th>\n",
       "      <th>gross margin percentage</th>\n",
       "      <th>gross income</th>\n",
       "      <th>Rating</th>\n",
       "      <th>Total</th>\n",
       "    </tr>\n",
       "  </thead>\n",
       "  <tbody>\n",
       "    <tr>\n",
       "      <th>141</th>\n",
       "      <td>280-17-4359</td>\n",
       "      <td>C</td>\n",
       "      <td>Member</td>\n",
       "      <td>Male</td>\n",
       "      <td>Health and beauty</td>\n",
       "      <td>90.50</td>\n",
       "      <td>10</td>\n",
       "      <td>45.250</td>\n",
       "      <td>1/25/2019</td>\n",
       "      <td>13:48</td>\n",
       "      <td>Cash</td>\n",
       "      <td>905.0</td>\n",
       "      <td>4.761905</td>\n",
       "      <td>45.250</td>\n",
       "      <td>8.1</td>\n",
       "      <td>950.250</td>\n",
       "    </tr>\n",
       "    <tr>\n",
       "      <th>166</th>\n",
       "      <td>234-65-2137</td>\n",
       "      <td>C</td>\n",
       "      <td>Normal</td>\n",
       "      <td>Male</td>\n",
       "      <td>Home and lifestyle</td>\n",
       "      <td>95.58</td>\n",
       "      <td>10</td>\n",
       "      <td>47.790</td>\n",
       "      <td>1/16/2019</td>\n",
       "      <td>13:32</td>\n",
       "      <td>Cash</td>\n",
       "      <td>955.8</td>\n",
       "      <td>4.761905</td>\n",
       "      <td>47.790</td>\n",
       "      <td>4.8</td>\n",
       "      <td>1003.590</td>\n",
       "    </tr>\n",
       "    <tr>\n",
       "      <th>167</th>\n",
       "      <td>687-47-8271</td>\n",
       "      <td>A</td>\n",
       "      <td>Normal</td>\n",
       "      <td>Male</td>\n",
       "      <td>Fashion accessories</td>\n",
       "      <td>98.98</td>\n",
       "      <td>10</td>\n",
       "      <td>49.490</td>\n",
       "      <td>2/8/2019</td>\n",
       "      <td>16:20</td>\n",
       "      <td>Credit card</td>\n",
       "      <td>989.8</td>\n",
       "      <td>4.761905</td>\n",
       "      <td>49.490</td>\n",
       "      <td>8.7</td>\n",
       "      <td>1039.290</td>\n",
       "    </tr>\n",
       "    <tr>\n",
       "      <th>350</th>\n",
       "      <td>860-79-0874</td>\n",
       "      <td>C</td>\n",
       "      <td>Member</td>\n",
       "      <td>Female</td>\n",
       "      <td>Fashion accessories</td>\n",
       "      <td>99.30</td>\n",
       "      <td>10</td>\n",
       "      <td>49.650</td>\n",
       "      <td>2/15/2019</td>\n",
       "      <td>14:53</td>\n",
       "      <td>Credit card</td>\n",
       "      <td>993.0</td>\n",
       "      <td>4.761905</td>\n",
       "      <td>49.650</td>\n",
       "      <td>6.6</td>\n",
       "      <td>1042.650</td>\n",
       "    </tr>\n",
       "    <tr>\n",
       "      <th>357</th>\n",
       "      <td>554-42-2417</td>\n",
       "      <td>C</td>\n",
       "      <td>Normal</td>\n",
       "      <td>Female</td>\n",
       "      <td>Sports and travel</td>\n",
       "      <td>95.44</td>\n",
       "      <td>10</td>\n",
       "      <td>47.720</td>\n",
       "      <td>1/9/2019</td>\n",
       "      <td>13:45</td>\n",
       "      <td>Cash</td>\n",
       "      <td>954.4</td>\n",
       "      <td>4.761905</td>\n",
       "      <td>47.720</td>\n",
       "      <td>5.2</td>\n",
       "      <td>1002.120</td>\n",
       "    </tr>\n",
       "    <tr>\n",
       "      <th>422</th>\n",
       "      <td>271-88-8734</td>\n",
       "      <td>C</td>\n",
       "      <td>Member</td>\n",
       "      <td>Female</td>\n",
       "      <td>Fashion accessories</td>\n",
       "      <td>97.21</td>\n",
       "      <td>10</td>\n",
       "      <td>48.605</td>\n",
       "      <td>2/8/2019</td>\n",
       "      <td>13:00</td>\n",
       "      <td>Credit card</td>\n",
       "      <td>972.1</td>\n",
       "      <td>4.761905</td>\n",
       "      <td>48.605</td>\n",
       "      <td>8.7</td>\n",
       "      <td>1020.705</td>\n",
       "    </tr>\n",
       "    <tr>\n",
       "      <th>429</th>\n",
       "      <td>325-77-6186</td>\n",
       "      <td>A</td>\n",
       "      <td>Member</td>\n",
       "      <td>Female</td>\n",
       "      <td>Home and lifestyle</td>\n",
       "      <td>90.65</td>\n",
       "      <td>10</td>\n",
       "      <td>45.325</td>\n",
       "      <td>3/8/2019</td>\n",
       "      <td>10:53</td>\n",
       "      <td>Ewallet</td>\n",
       "      <td>906.5</td>\n",
       "      <td>4.761905</td>\n",
       "      <td>45.325</td>\n",
       "      <td>7.3</td>\n",
       "      <td>951.825</td>\n",
       "    </tr>\n",
       "    <tr>\n",
       "      <th>557</th>\n",
       "      <td>283-26-5248</td>\n",
       "      <td>C</td>\n",
       "      <td>Member</td>\n",
       "      <td>Female</td>\n",
       "      <td>Food and beverages</td>\n",
       "      <td>98.52</td>\n",
       "      <td>10</td>\n",
       "      <td>49.260</td>\n",
       "      <td>1/30/2019</td>\n",
       "      <td>20:23</td>\n",
       "      <td>Ewallet</td>\n",
       "      <td>985.2</td>\n",
       "      <td>4.761905</td>\n",
       "      <td>49.260</td>\n",
       "      <td>4.5</td>\n",
       "      <td>1034.460</td>\n",
       "    </tr>\n",
       "    <tr>\n",
       "      <th>699</th>\n",
       "      <td>751-41-9720</td>\n",
       "      <td>C</td>\n",
       "      <td>Normal</td>\n",
       "      <td>Male</td>\n",
       "      <td>Home and lifestyle</td>\n",
       "      <td>97.50</td>\n",
       "      <td>10</td>\n",
       "      <td>48.750</td>\n",
       "      <td>1/12/2019</td>\n",
       "      <td>16:18</td>\n",
       "      <td>Ewallet</td>\n",
       "      <td>975.0</td>\n",
       "      <td>4.761905</td>\n",
       "      <td>48.750</td>\n",
       "      <td>8.0</td>\n",
       "      <td>1023.750</td>\n",
       "    </tr>\n",
       "    <tr>\n",
       "      <th>792</th>\n",
       "      <td>744-16-7898</td>\n",
       "      <td>B</td>\n",
       "      <td>Normal</td>\n",
       "      <td>Female</td>\n",
       "      <td>Home and lifestyle</td>\n",
       "      <td>97.37</td>\n",
       "      <td>10</td>\n",
       "      <td>48.685</td>\n",
       "      <td>1/15/2019</td>\n",
       "      <td>13:48</td>\n",
       "      <td>Credit card</td>\n",
       "      <td>973.7</td>\n",
       "      <td>4.761905</td>\n",
       "      <td>48.685</td>\n",
       "      <td>4.9</td>\n",
       "      <td>1022.385</td>\n",
       "    </tr>\n",
       "    <tr>\n",
       "      <th>996</th>\n",
       "      <td>303-96-2227</td>\n",
       "      <td>B</td>\n",
       "      <td>Normal</td>\n",
       "      <td>Female</td>\n",
       "      <td>Home and lifestyle</td>\n",
       "      <td>97.38</td>\n",
       "      <td>10</td>\n",
       "      <td>48.690</td>\n",
       "      <td>3/2/2019</td>\n",
       "      <td>17:16</td>\n",
       "      <td>Ewallet</td>\n",
       "      <td>973.8</td>\n",
       "      <td>4.761905</td>\n",
       "      <td>48.690</td>\n",
       "      <td>4.4</td>\n",
       "      <td>1022.490</td>\n",
       "    </tr>\n",
       "  </tbody>\n",
       "</table>\n",
       "</div>"
      ],
      "text/plain": [
       "      Invoice ID Branch Customer type  Gender         Product line  \\\n",
       "141  280-17-4359      C        Member    Male    Health and beauty   \n",
       "166  234-65-2137      C        Normal    Male   Home and lifestyle   \n",
       "167  687-47-8271      A        Normal    Male  Fashion accessories   \n",
       "350  860-79-0874      C        Member  Female  Fashion accessories   \n",
       "357  554-42-2417      C        Normal  Female    Sports and travel   \n",
       "422  271-88-8734      C        Member  Female  Fashion accessories   \n",
       "429  325-77-6186      A        Member  Female   Home and lifestyle   \n",
       "557  283-26-5248      C        Member  Female   Food and beverages   \n",
       "699  751-41-9720      C        Normal    Male   Home and lifestyle   \n",
       "792  744-16-7898      B        Normal  Female   Home and lifestyle   \n",
       "996  303-96-2227      B        Normal  Female   Home and lifestyle   \n",
       "\n",
       "     Unit price  Quantity     Tax       Date   Time      Payment   cogs  \\\n",
       "141       90.50        10  45.250  1/25/2019  13:48         Cash  905.0   \n",
       "166       95.58        10  47.790  1/16/2019  13:32         Cash  955.8   \n",
       "167       98.98        10  49.490   2/8/2019  16:20  Credit card  989.8   \n",
       "350       99.30        10  49.650  2/15/2019  14:53  Credit card  993.0   \n",
       "357       95.44        10  47.720   1/9/2019  13:45         Cash  954.4   \n",
       "422       97.21        10  48.605   2/8/2019  13:00  Credit card  972.1   \n",
       "429       90.65        10  45.325   3/8/2019  10:53      Ewallet  906.5   \n",
       "557       98.52        10  49.260  1/30/2019  20:23      Ewallet  985.2   \n",
       "699       97.50        10  48.750  1/12/2019  16:18      Ewallet  975.0   \n",
       "792       97.37        10  48.685  1/15/2019  13:48  Credit card  973.7   \n",
       "996       97.38        10  48.690   3/2/2019  17:16      Ewallet  973.8   \n",
       "\n",
       "     gross margin percentage  gross income  Rating     Total  \n",
       "141                 4.761905        45.250     8.1   950.250  \n",
       "166                 4.761905        47.790     4.8  1003.590  \n",
       "167                 4.761905        49.490     8.7  1039.290  \n",
       "350                 4.761905        49.650     6.6  1042.650  \n",
       "357                 4.761905        47.720     5.2  1002.120  \n",
       "422                 4.761905        48.605     8.7  1020.705  \n",
       "429                 4.761905        45.325     7.3   951.825  \n",
       "557                 4.761905        49.260     4.5  1034.460  \n",
       "699                 4.761905        48.750     8.0  1023.750  \n",
       "792                 4.761905        48.685     4.9  1022.385  \n",
       "996                 4.761905        48.690     4.4  1022.490  "
      ]
     },
     "execution_count": 18,
     "metadata": {},
     "output_type": "execute_result"
    }
   ],
   "source": [
    "# Lets visualize the outliers in the Tax column\n",
    "\n",
    "supermarketdf.query('Tax > 45')"
   ]
  },
  {
   "cell_type": "code",
   "execution_count": 19,
   "id": "31510e3e",
   "metadata": {},
   "outputs": [
    {
     "data": {
      "text/html": [
       "<div>\n",
       "<style scoped>\n",
       "    .dataframe tbody tr th:only-of-type {\n",
       "        vertical-align: middle;\n",
       "    }\n",
       "\n",
       "    .dataframe tbody tr th {\n",
       "        vertical-align: top;\n",
       "    }\n",
       "\n",
       "    .dataframe thead th {\n",
       "        text-align: right;\n",
       "    }\n",
       "</style>\n",
       "<table border=\"1\" class=\"dataframe\">\n",
       "  <thead>\n",
       "    <tr style=\"text-align: right;\">\n",
       "      <th></th>\n",
       "      <th>Invoice ID</th>\n",
       "      <th>Branch</th>\n",
       "      <th>Customer type</th>\n",
       "      <th>Gender</th>\n",
       "      <th>Product line</th>\n",
       "      <th>Unit price</th>\n",
       "      <th>Quantity</th>\n",
       "      <th>Tax</th>\n",
       "      <th>Date</th>\n",
       "      <th>Time</th>\n",
       "      <th>Payment</th>\n",
       "      <th>cogs</th>\n",
       "      <th>gross margin percentage</th>\n",
       "      <th>gross income</th>\n",
       "      <th>Rating</th>\n",
       "      <th>Total</th>\n",
       "    </tr>\n",
       "  </thead>\n",
       "  <tbody>\n",
       "    <tr>\n",
       "      <th>141</th>\n",
       "      <td>280-17-4359</td>\n",
       "      <td>C</td>\n",
       "      <td>Member</td>\n",
       "      <td>Male</td>\n",
       "      <td>Health and beauty</td>\n",
       "      <td>90.50</td>\n",
       "      <td>10</td>\n",
       "      <td>45.250</td>\n",
       "      <td>1/25/2019</td>\n",
       "      <td>13:48</td>\n",
       "      <td>Cash</td>\n",
       "      <td>905.0</td>\n",
       "      <td>4.761905</td>\n",
       "      <td>45.250</td>\n",
       "      <td>8.1</td>\n",
       "      <td>950.250</td>\n",
       "    </tr>\n",
       "    <tr>\n",
       "      <th>166</th>\n",
       "      <td>234-65-2137</td>\n",
       "      <td>C</td>\n",
       "      <td>Normal</td>\n",
       "      <td>Male</td>\n",
       "      <td>Home and lifestyle</td>\n",
       "      <td>95.58</td>\n",
       "      <td>10</td>\n",
       "      <td>47.790</td>\n",
       "      <td>1/16/2019</td>\n",
       "      <td>13:32</td>\n",
       "      <td>Cash</td>\n",
       "      <td>955.8</td>\n",
       "      <td>4.761905</td>\n",
       "      <td>47.790</td>\n",
       "      <td>4.8</td>\n",
       "      <td>1003.590</td>\n",
       "    </tr>\n",
       "    <tr>\n",
       "      <th>167</th>\n",
       "      <td>687-47-8271</td>\n",
       "      <td>A</td>\n",
       "      <td>Normal</td>\n",
       "      <td>Male</td>\n",
       "      <td>Fashion accessories</td>\n",
       "      <td>98.98</td>\n",
       "      <td>10</td>\n",
       "      <td>49.490</td>\n",
       "      <td>2/8/2019</td>\n",
       "      <td>16:20</td>\n",
       "      <td>Credit card</td>\n",
       "      <td>989.8</td>\n",
       "      <td>4.761905</td>\n",
       "      <td>49.490</td>\n",
       "      <td>8.7</td>\n",
       "      <td>1039.290</td>\n",
       "    </tr>\n",
       "    <tr>\n",
       "      <th>350</th>\n",
       "      <td>860-79-0874</td>\n",
       "      <td>C</td>\n",
       "      <td>Member</td>\n",
       "      <td>Female</td>\n",
       "      <td>Fashion accessories</td>\n",
       "      <td>99.30</td>\n",
       "      <td>10</td>\n",
       "      <td>49.650</td>\n",
       "      <td>2/15/2019</td>\n",
       "      <td>14:53</td>\n",
       "      <td>Credit card</td>\n",
       "      <td>993.0</td>\n",
       "      <td>4.761905</td>\n",
       "      <td>49.650</td>\n",
       "      <td>6.6</td>\n",
       "      <td>1042.650</td>\n",
       "    </tr>\n",
       "    <tr>\n",
       "      <th>357</th>\n",
       "      <td>554-42-2417</td>\n",
       "      <td>C</td>\n",
       "      <td>Normal</td>\n",
       "      <td>Female</td>\n",
       "      <td>Sports and travel</td>\n",
       "      <td>95.44</td>\n",
       "      <td>10</td>\n",
       "      <td>47.720</td>\n",
       "      <td>1/9/2019</td>\n",
       "      <td>13:45</td>\n",
       "      <td>Cash</td>\n",
       "      <td>954.4</td>\n",
       "      <td>4.761905</td>\n",
       "      <td>47.720</td>\n",
       "      <td>5.2</td>\n",
       "      <td>1002.120</td>\n",
       "    </tr>\n",
       "    <tr>\n",
       "      <th>422</th>\n",
       "      <td>271-88-8734</td>\n",
       "      <td>C</td>\n",
       "      <td>Member</td>\n",
       "      <td>Female</td>\n",
       "      <td>Fashion accessories</td>\n",
       "      <td>97.21</td>\n",
       "      <td>10</td>\n",
       "      <td>48.605</td>\n",
       "      <td>2/8/2019</td>\n",
       "      <td>13:00</td>\n",
       "      <td>Credit card</td>\n",
       "      <td>972.1</td>\n",
       "      <td>4.761905</td>\n",
       "      <td>48.605</td>\n",
       "      <td>8.7</td>\n",
       "      <td>1020.705</td>\n",
       "    </tr>\n",
       "    <tr>\n",
       "      <th>429</th>\n",
       "      <td>325-77-6186</td>\n",
       "      <td>A</td>\n",
       "      <td>Member</td>\n",
       "      <td>Female</td>\n",
       "      <td>Home and lifestyle</td>\n",
       "      <td>90.65</td>\n",
       "      <td>10</td>\n",
       "      <td>45.325</td>\n",
       "      <td>3/8/2019</td>\n",
       "      <td>10:53</td>\n",
       "      <td>Ewallet</td>\n",
       "      <td>906.5</td>\n",
       "      <td>4.761905</td>\n",
       "      <td>45.325</td>\n",
       "      <td>7.3</td>\n",
       "      <td>951.825</td>\n",
       "    </tr>\n",
       "    <tr>\n",
       "      <th>557</th>\n",
       "      <td>283-26-5248</td>\n",
       "      <td>C</td>\n",
       "      <td>Member</td>\n",
       "      <td>Female</td>\n",
       "      <td>Food and beverages</td>\n",
       "      <td>98.52</td>\n",
       "      <td>10</td>\n",
       "      <td>49.260</td>\n",
       "      <td>1/30/2019</td>\n",
       "      <td>20:23</td>\n",
       "      <td>Ewallet</td>\n",
       "      <td>985.2</td>\n",
       "      <td>4.761905</td>\n",
       "      <td>49.260</td>\n",
       "      <td>4.5</td>\n",
       "      <td>1034.460</td>\n",
       "    </tr>\n",
       "    <tr>\n",
       "      <th>699</th>\n",
       "      <td>751-41-9720</td>\n",
       "      <td>C</td>\n",
       "      <td>Normal</td>\n",
       "      <td>Male</td>\n",
       "      <td>Home and lifestyle</td>\n",
       "      <td>97.50</td>\n",
       "      <td>10</td>\n",
       "      <td>48.750</td>\n",
       "      <td>1/12/2019</td>\n",
       "      <td>16:18</td>\n",
       "      <td>Ewallet</td>\n",
       "      <td>975.0</td>\n",
       "      <td>4.761905</td>\n",
       "      <td>48.750</td>\n",
       "      <td>8.0</td>\n",
       "      <td>1023.750</td>\n",
       "    </tr>\n",
       "    <tr>\n",
       "      <th>792</th>\n",
       "      <td>744-16-7898</td>\n",
       "      <td>B</td>\n",
       "      <td>Normal</td>\n",
       "      <td>Female</td>\n",
       "      <td>Home and lifestyle</td>\n",
       "      <td>97.37</td>\n",
       "      <td>10</td>\n",
       "      <td>48.685</td>\n",
       "      <td>1/15/2019</td>\n",
       "      <td>13:48</td>\n",
       "      <td>Credit card</td>\n",
       "      <td>973.7</td>\n",
       "      <td>4.761905</td>\n",
       "      <td>48.685</td>\n",
       "      <td>4.9</td>\n",
       "      <td>1022.385</td>\n",
       "    </tr>\n",
       "    <tr>\n",
       "      <th>996</th>\n",
       "      <td>303-96-2227</td>\n",
       "      <td>B</td>\n",
       "      <td>Normal</td>\n",
       "      <td>Female</td>\n",
       "      <td>Home and lifestyle</td>\n",
       "      <td>97.38</td>\n",
       "      <td>10</td>\n",
       "      <td>48.690</td>\n",
       "      <td>3/2/2019</td>\n",
       "      <td>17:16</td>\n",
       "      <td>Ewallet</td>\n",
       "      <td>973.8</td>\n",
       "      <td>4.761905</td>\n",
       "      <td>48.690</td>\n",
       "      <td>4.4</td>\n",
       "      <td>1022.490</td>\n",
       "    </tr>\n",
       "  </tbody>\n",
       "</table>\n",
       "</div>"
      ],
      "text/plain": [
       "      Invoice ID Branch Customer type  Gender         Product line  \\\n",
       "141  280-17-4359      C        Member    Male    Health and beauty   \n",
       "166  234-65-2137      C        Normal    Male   Home and lifestyle   \n",
       "167  687-47-8271      A        Normal    Male  Fashion accessories   \n",
       "350  860-79-0874      C        Member  Female  Fashion accessories   \n",
       "357  554-42-2417      C        Normal  Female    Sports and travel   \n",
       "422  271-88-8734      C        Member  Female  Fashion accessories   \n",
       "429  325-77-6186      A        Member  Female   Home and lifestyle   \n",
       "557  283-26-5248      C        Member  Female   Food and beverages   \n",
       "699  751-41-9720      C        Normal    Male   Home and lifestyle   \n",
       "792  744-16-7898      B        Normal  Female   Home and lifestyle   \n",
       "996  303-96-2227      B        Normal  Female   Home and lifestyle   \n",
       "\n",
       "     Unit price  Quantity     Tax       Date   Time      Payment   cogs  \\\n",
       "141       90.50        10  45.250  1/25/2019  13:48         Cash  905.0   \n",
       "166       95.58        10  47.790  1/16/2019  13:32         Cash  955.8   \n",
       "167       98.98        10  49.490   2/8/2019  16:20  Credit card  989.8   \n",
       "350       99.30        10  49.650  2/15/2019  14:53  Credit card  993.0   \n",
       "357       95.44        10  47.720   1/9/2019  13:45         Cash  954.4   \n",
       "422       97.21        10  48.605   2/8/2019  13:00  Credit card  972.1   \n",
       "429       90.65        10  45.325   3/8/2019  10:53      Ewallet  906.5   \n",
       "557       98.52        10  49.260  1/30/2019  20:23      Ewallet  985.2   \n",
       "699       97.50        10  48.750  1/12/2019  16:18      Ewallet  975.0   \n",
       "792       97.37        10  48.685  1/15/2019  13:48  Credit card  973.7   \n",
       "996       97.38        10  48.690   3/2/2019  17:16      Ewallet  973.8   \n",
       "\n",
       "     gross margin percentage  gross income  Rating     Total  \n",
       "141                 4.761905        45.250     8.1   950.250  \n",
       "166                 4.761905        47.790     4.8  1003.590  \n",
       "167                 4.761905        49.490     8.7  1039.290  \n",
       "350                 4.761905        49.650     6.6  1042.650  \n",
       "357                 4.761905        47.720     5.2  1002.120  \n",
       "422                 4.761905        48.605     8.7  1020.705  \n",
       "429                 4.761905        45.325     7.3   951.825  \n",
       "557                 4.761905        49.260     4.5  1034.460  \n",
       "699                 4.761905        48.750     8.0  1023.750  \n",
       "792                 4.761905        48.685     4.9  1022.385  \n",
       "996                 4.761905        48.690     4.4  1022.490  "
      ]
     },
     "execution_count": 19,
     "metadata": {},
     "output_type": "execute_result"
    }
   ],
   "source": [
    "# Lets visualize the outliers in the cogs column\n",
    "supermarketdf.query('cogs > 900')"
   ]
  },
  {
   "cell_type": "code",
   "execution_count": 20,
   "id": "67fe821a",
   "metadata": {},
   "outputs": [
    {
     "data": {
      "text/html": [
       "<div>\n",
       "<style scoped>\n",
       "    .dataframe tbody tr th:only-of-type {\n",
       "        vertical-align: middle;\n",
       "    }\n",
       "\n",
       "    .dataframe tbody tr th {\n",
       "        vertical-align: top;\n",
       "    }\n",
       "\n",
       "    .dataframe thead th {\n",
       "        text-align: right;\n",
       "    }\n",
       "</style>\n",
       "<table border=\"1\" class=\"dataframe\">\n",
       "  <thead>\n",
       "    <tr style=\"text-align: right;\">\n",
       "      <th></th>\n",
       "      <th>Invoice ID</th>\n",
       "      <th>Branch</th>\n",
       "      <th>Customer type</th>\n",
       "      <th>Gender</th>\n",
       "      <th>Product line</th>\n",
       "      <th>Unit price</th>\n",
       "      <th>Quantity</th>\n",
       "      <th>Tax</th>\n",
       "      <th>Date</th>\n",
       "      <th>Time</th>\n",
       "      <th>Payment</th>\n",
       "      <th>cogs</th>\n",
       "      <th>gross margin percentage</th>\n",
       "      <th>gross income</th>\n",
       "      <th>Rating</th>\n",
       "      <th>Total</th>\n",
       "    </tr>\n",
       "  </thead>\n",
       "  <tbody>\n",
       "    <tr>\n",
       "      <th>141</th>\n",
       "      <td>280-17-4359</td>\n",
       "      <td>C</td>\n",
       "      <td>Member</td>\n",
       "      <td>Male</td>\n",
       "      <td>Health and beauty</td>\n",
       "      <td>90.50</td>\n",
       "      <td>10</td>\n",
       "      <td>45.250</td>\n",
       "      <td>1/25/2019</td>\n",
       "      <td>13:48</td>\n",
       "      <td>Cash</td>\n",
       "      <td>905.0</td>\n",
       "      <td>4.761905</td>\n",
       "      <td>45.250</td>\n",
       "      <td>8.1</td>\n",
       "      <td>950.250</td>\n",
       "    </tr>\n",
       "    <tr>\n",
       "      <th>166</th>\n",
       "      <td>234-65-2137</td>\n",
       "      <td>C</td>\n",
       "      <td>Normal</td>\n",
       "      <td>Male</td>\n",
       "      <td>Home and lifestyle</td>\n",
       "      <td>95.58</td>\n",
       "      <td>10</td>\n",
       "      <td>47.790</td>\n",
       "      <td>1/16/2019</td>\n",
       "      <td>13:32</td>\n",
       "      <td>Cash</td>\n",
       "      <td>955.8</td>\n",
       "      <td>4.761905</td>\n",
       "      <td>47.790</td>\n",
       "      <td>4.8</td>\n",
       "      <td>1003.590</td>\n",
       "    </tr>\n",
       "    <tr>\n",
       "      <th>167</th>\n",
       "      <td>687-47-8271</td>\n",
       "      <td>A</td>\n",
       "      <td>Normal</td>\n",
       "      <td>Male</td>\n",
       "      <td>Fashion accessories</td>\n",
       "      <td>98.98</td>\n",
       "      <td>10</td>\n",
       "      <td>49.490</td>\n",
       "      <td>2/8/2019</td>\n",
       "      <td>16:20</td>\n",
       "      <td>Credit card</td>\n",
       "      <td>989.8</td>\n",
       "      <td>4.761905</td>\n",
       "      <td>49.490</td>\n",
       "      <td>8.7</td>\n",
       "      <td>1039.290</td>\n",
       "    </tr>\n",
       "    <tr>\n",
       "      <th>350</th>\n",
       "      <td>860-79-0874</td>\n",
       "      <td>C</td>\n",
       "      <td>Member</td>\n",
       "      <td>Female</td>\n",
       "      <td>Fashion accessories</td>\n",
       "      <td>99.30</td>\n",
       "      <td>10</td>\n",
       "      <td>49.650</td>\n",
       "      <td>2/15/2019</td>\n",
       "      <td>14:53</td>\n",
       "      <td>Credit card</td>\n",
       "      <td>993.0</td>\n",
       "      <td>4.761905</td>\n",
       "      <td>49.650</td>\n",
       "      <td>6.6</td>\n",
       "      <td>1042.650</td>\n",
       "    </tr>\n",
       "    <tr>\n",
       "      <th>357</th>\n",
       "      <td>554-42-2417</td>\n",
       "      <td>C</td>\n",
       "      <td>Normal</td>\n",
       "      <td>Female</td>\n",
       "      <td>Sports and travel</td>\n",
       "      <td>95.44</td>\n",
       "      <td>10</td>\n",
       "      <td>47.720</td>\n",
       "      <td>1/9/2019</td>\n",
       "      <td>13:45</td>\n",
       "      <td>Cash</td>\n",
       "      <td>954.4</td>\n",
       "      <td>4.761905</td>\n",
       "      <td>47.720</td>\n",
       "      <td>5.2</td>\n",
       "      <td>1002.120</td>\n",
       "    </tr>\n",
       "    <tr>\n",
       "      <th>422</th>\n",
       "      <td>271-88-8734</td>\n",
       "      <td>C</td>\n",
       "      <td>Member</td>\n",
       "      <td>Female</td>\n",
       "      <td>Fashion accessories</td>\n",
       "      <td>97.21</td>\n",
       "      <td>10</td>\n",
       "      <td>48.605</td>\n",
       "      <td>2/8/2019</td>\n",
       "      <td>13:00</td>\n",
       "      <td>Credit card</td>\n",
       "      <td>972.1</td>\n",
       "      <td>4.761905</td>\n",
       "      <td>48.605</td>\n",
       "      <td>8.7</td>\n",
       "      <td>1020.705</td>\n",
       "    </tr>\n",
       "    <tr>\n",
       "      <th>429</th>\n",
       "      <td>325-77-6186</td>\n",
       "      <td>A</td>\n",
       "      <td>Member</td>\n",
       "      <td>Female</td>\n",
       "      <td>Home and lifestyle</td>\n",
       "      <td>90.65</td>\n",
       "      <td>10</td>\n",
       "      <td>45.325</td>\n",
       "      <td>3/8/2019</td>\n",
       "      <td>10:53</td>\n",
       "      <td>Ewallet</td>\n",
       "      <td>906.5</td>\n",
       "      <td>4.761905</td>\n",
       "      <td>45.325</td>\n",
       "      <td>7.3</td>\n",
       "      <td>951.825</td>\n",
       "    </tr>\n",
       "    <tr>\n",
       "      <th>557</th>\n",
       "      <td>283-26-5248</td>\n",
       "      <td>C</td>\n",
       "      <td>Member</td>\n",
       "      <td>Female</td>\n",
       "      <td>Food and beverages</td>\n",
       "      <td>98.52</td>\n",
       "      <td>10</td>\n",
       "      <td>49.260</td>\n",
       "      <td>1/30/2019</td>\n",
       "      <td>20:23</td>\n",
       "      <td>Ewallet</td>\n",
       "      <td>985.2</td>\n",
       "      <td>4.761905</td>\n",
       "      <td>49.260</td>\n",
       "      <td>4.5</td>\n",
       "      <td>1034.460</td>\n",
       "    </tr>\n",
       "    <tr>\n",
       "      <th>699</th>\n",
       "      <td>751-41-9720</td>\n",
       "      <td>C</td>\n",
       "      <td>Normal</td>\n",
       "      <td>Male</td>\n",
       "      <td>Home and lifestyle</td>\n",
       "      <td>97.50</td>\n",
       "      <td>10</td>\n",
       "      <td>48.750</td>\n",
       "      <td>1/12/2019</td>\n",
       "      <td>16:18</td>\n",
       "      <td>Ewallet</td>\n",
       "      <td>975.0</td>\n",
       "      <td>4.761905</td>\n",
       "      <td>48.750</td>\n",
       "      <td>8.0</td>\n",
       "      <td>1023.750</td>\n",
       "    </tr>\n",
       "    <tr>\n",
       "      <th>792</th>\n",
       "      <td>744-16-7898</td>\n",
       "      <td>B</td>\n",
       "      <td>Normal</td>\n",
       "      <td>Female</td>\n",
       "      <td>Home and lifestyle</td>\n",
       "      <td>97.37</td>\n",
       "      <td>10</td>\n",
       "      <td>48.685</td>\n",
       "      <td>1/15/2019</td>\n",
       "      <td>13:48</td>\n",
       "      <td>Credit card</td>\n",
       "      <td>973.7</td>\n",
       "      <td>4.761905</td>\n",
       "      <td>48.685</td>\n",
       "      <td>4.9</td>\n",
       "      <td>1022.385</td>\n",
       "    </tr>\n",
       "    <tr>\n",
       "      <th>996</th>\n",
       "      <td>303-96-2227</td>\n",
       "      <td>B</td>\n",
       "      <td>Normal</td>\n",
       "      <td>Female</td>\n",
       "      <td>Home and lifestyle</td>\n",
       "      <td>97.38</td>\n",
       "      <td>10</td>\n",
       "      <td>48.690</td>\n",
       "      <td>3/2/2019</td>\n",
       "      <td>17:16</td>\n",
       "      <td>Ewallet</td>\n",
       "      <td>973.8</td>\n",
       "      <td>4.761905</td>\n",
       "      <td>48.690</td>\n",
       "      <td>4.4</td>\n",
       "      <td>1022.490</td>\n",
       "    </tr>\n",
       "  </tbody>\n",
       "</table>\n",
       "</div>"
      ],
      "text/plain": [
       "      Invoice ID Branch Customer type  Gender         Product line  \\\n",
       "141  280-17-4359      C        Member    Male    Health and beauty   \n",
       "166  234-65-2137      C        Normal    Male   Home and lifestyle   \n",
       "167  687-47-8271      A        Normal    Male  Fashion accessories   \n",
       "350  860-79-0874      C        Member  Female  Fashion accessories   \n",
       "357  554-42-2417      C        Normal  Female    Sports and travel   \n",
       "422  271-88-8734      C        Member  Female  Fashion accessories   \n",
       "429  325-77-6186      A        Member  Female   Home and lifestyle   \n",
       "557  283-26-5248      C        Member  Female   Food and beverages   \n",
       "699  751-41-9720      C        Normal    Male   Home and lifestyle   \n",
       "792  744-16-7898      B        Normal  Female   Home and lifestyle   \n",
       "996  303-96-2227      B        Normal  Female   Home and lifestyle   \n",
       "\n",
       "     Unit price  Quantity     Tax       Date   Time      Payment   cogs  \\\n",
       "141       90.50        10  45.250  1/25/2019  13:48         Cash  905.0   \n",
       "166       95.58        10  47.790  1/16/2019  13:32         Cash  955.8   \n",
       "167       98.98        10  49.490   2/8/2019  16:20  Credit card  989.8   \n",
       "350       99.30        10  49.650  2/15/2019  14:53  Credit card  993.0   \n",
       "357       95.44        10  47.720   1/9/2019  13:45         Cash  954.4   \n",
       "422       97.21        10  48.605   2/8/2019  13:00  Credit card  972.1   \n",
       "429       90.65        10  45.325   3/8/2019  10:53      Ewallet  906.5   \n",
       "557       98.52        10  49.260  1/30/2019  20:23      Ewallet  985.2   \n",
       "699       97.50        10  48.750  1/12/2019  16:18      Ewallet  975.0   \n",
       "792       97.37        10  48.685  1/15/2019  13:48  Credit card  973.7   \n",
       "996       97.38        10  48.690   3/2/2019  17:16      Ewallet  973.8   \n",
       "\n",
       "     gross margin percentage  gross income  Rating     Total  \n",
       "141                 4.761905        45.250     8.1   950.250  \n",
       "166                 4.761905        47.790     4.8  1003.590  \n",
       "167                 4.761905        49.490     8.7  1039.290  \n",
       "350                 4.761905        49.650     6.6  1042.650  \n",
       "357                 4.761905        47.720     5.2  1002.120  \n",
       "422                 4.761905        48.605     8.7  1020.705  \n",
       "429                 4.761905        45.325     7.3   951.825  \n",
       "557                 4.761905        49.260     4.5  1034.460  \n",
       "699                 4.761905        48.750     8.0  1023.750  \n",
       "792                 4.761905        48.685     4.9  1022.385  \n",
       "996                 4.761905        48.690     4.4  1022.490  "
      ]
     },
     "execution_count": 20,
     "metadata": {},
     "output_type": "execute_result"
    }
   ],
   "source": [
    "# Lets visualize the outliers in the Totals column\n",
    "\n",
    "supermarketdf.query('Total > 950')"
   ]
  },
  {
   "cell_type": "markdown",
   "id": "a8d3d9c5",
   "metadata": {},
   "source": [
    "Outliers shall be retained as they contain pertinent and real information."
   ]
  },
  {
   "cell_type": "markdown",
   "id": "b59e81f4",
   "metadata": {},
   "source": [
    "## c) Cleaning"
   ]
  },
  {
   "cell_type": "markdown",
   "id": "9175bf7b",
   "metadata": {},
   "source": [
    "Lets correct the following :\n",
    "1. Invoice ID has a wrong datatype (string instead of int).\n",
    "2. Date and Time are objects are instead of datetime.\n",
    "3. We need to strip off the white spaces and lower the cases of columns for easier computation.\n",
    "4. Drop the gross_margin_percentage column, inplace = True.. :-D"
   ]
  },
  {
   "cell_type": "code",
   "execution_count": 21,
   "id": "0255d63f",
   "metadata": {},
   "outputs": [],
   "source": [
    "# Make a copy of the dataframe\n",
    "# Lets save the dataframe to a csv file \n",
    "cleandf = supermarketdf.copy()"
   ]
  },
  {
   "cell_type": "markdown",
   "id": "8b1195f5",
   "metadata": {},
   "source": [
    "# Issue 1 :\n",
    "\n",
    "1. Lets strip white spaces from the column names and for the row invoice ID for :\n",
    "\n",
    "    (i) Consistency\n",
    "    \n",
    "    (ii) Easier and faster computation.\n",
    "\n"
   ]
  },
  {
   "cell_type": "markdown",
   "id": "3994ac4b",
   "metadata": {},
   "source": [
    "### Code"
   ]
  },
  {
   "cell_type": "code",
   "execution_count": 22,
   "id": "a816df24",
   "metadata": {},
   "outputs": [],
   "source": [
    "# Lets use the lambda funtion to strip off white spaces\n",
    "\n",
    "cleandf.rename(columns = lambda x : x.strip().lower().replace(\" \",\"_\"),inplace =True)"
   ]
  },
  {
   "cell_type": "markdown",
   "id": "cf863e2a",
   "metadata": {},
   "source": [
    "### Test"
   ]
  },
  {
   "cell_type": "code",
   "execution_count": 23,
   "id": "a0106742",
   "metadata": {
    "scrolled": true
   },
   "outputs": [
    {
     "data": {
      "text/plain": [
       "Index(['invoice_id', 'branch', 'customer_type', 'gender', 'product_line',\n",
       "       'unit_price', 'quantity', 'tax', 'date', 'time', 'payment', 'cogs',\n",
       "       'gross_margin_percentage', 'gross_income', 'rating', 'total'],\n",
       "      dtype='object')"
      ]
     },
     "execution_count": 23,
     "metadata": {},
     "output_type": "execute_result"
    }
   ],
   "source": [
    "# Lets preview the columns\n",
    "\n",
    "cleandf.columns"
   ]
  },
  {
   "cell_type": "code",
   "execution_count": 24,
   "id": "c2e239ef",
   "metadata": {},
   "outputs": [
    {
     "data": {
      "text/plain": [
       "invoice_id                  object\n",
       "branch                      object\n",
       "customer_type               object\n",
       "gender                      object\n",
       "product_line                object\n",
       "unit_price                 float64\n",
       "quantity                     int64\n",
       "tax                        float64\n",
       "date                        object\n",
       "time                        object\n",
       "payment                     object\n",
       "cogs                       float64\n",
       "gross_margin_percentage    float64\n",
       "gross_income               float64\n",
       "rating                     float64\n",
       "total                      float64\n",
       "dtype: object"
      ]
     },
     "execution_count": 24,
     "metadata": {},
     "output_type": "execute_result"
    }
   ],
   "source": [
    "cleandf.dtypes"
   ]
  },
  {
   "cell_type": "markdown",
   "id": "5b73b217",
   "metadata": {},
   "source": [
    "# Issue 2 :\n",
    "(i)The columns date and time have incorect datatypes ie object instead of datetime.\n",
    "\n",
    "(ii)Sort the dates so as to identify the trends.\n",
    "\n",
    "(iii) Split time to hours and minutes, Split date to years, months and days."
   ]
  },
  {
   "cell_type": "markdown",
   "id": "a74e7a93",
   "metadata": {},
   "source": [
    "## Code"
   ]
  },
  {
   "cell_type": "markdown",
   "id": "a3102e1f",
   "metadata": {},
   "source": [
    "#### Splitting of the dataset"
   ]
  },
  {
   "cell_type": "code",
   "execution_count": 25,
   "id": "2180cbdd",
   "metadata": {},
   "outputs": [],
   "source": [
    "# Lets split the time to hours and minutes. This is required for the machine to learn trends easier.\n",
    "\n",
    "cleandf['hour'] = cleandf['time'].apply(lambda x :x.split(':')[0])\n",
    "cleandf['min'] = cleandf['time'].apply(lambda x :x.split(':')[1])\n"
   ]
  },
  {
   "cell_type": "code",
   "execution_count": 26,
   "id": "80c66ab3",
   "metadata": {},
   "outputs": [],
   "source": [
    "# Lets split the date to years,months and days. This is required for the machine to learn trends easier.\n",
    "\n",
    "cleandf['day'] = cleandf['date'].apply(lambda x :x.split('/')[0])\n",
    "cleandf['month'] = cleandf['date'].apply(lambda x :x.split('/')[1])\n",
    "cleandf['year'] = cleandf['date'].apply(lambda x :x.split('/')[2])"
   ]
  },
  {
   "cell_type": "markdown",
   "id": "406f5cb1",
   "metadata": {},
   "source": [
    "#### Inspecting the data types"
   ]
  },
  {
   "cell_type": "code",
   "execution_count": 27,
   "id": "7609b18f",
   "metadata": {},
   "outputs": [],
   "source": [
    "# Lets change the datatype of the date column to datetime.\n",
    "\n",
    "cleandf['date'] = pd.to_datetime(cleandf['date'])"
   ]
  },
  {
   "cell_type": "code",
   "execution_count": 28,
   "id": "2aff0ac1",
   "metadata": {},
   "outputs": [],
   "source": [
    "# lets change hours,minutes, year, month and day to integers\n",
    "\n",
    "cleandf[['hour','min','year','month','day']] = cleandf[['hour','min','year','month','day']].astype('int64')"
   ]
  },
  {
   "cell_type": "markdown",
   "id": "c9ffc905",
   "metadata": {},
   "source": [
    "#### Test"
   ]
  },
  {
   "cell_type": "code",
   "execution_count": 29,
   "id": "e21ba853",
   "metadata": {
    "scrolled": true
   },
   "outputs": [
    {
     "data": {
      "text/plain": [
       "invoice_id                         object\n",
       "branch                             object\n",
       "customer_type                      object\n",
       "gender                             object\n",
       "product_line                       object\n",
       "unit_price                        float64\n",
       "quantity                            int64\n",
       "tax                               float64\n",
       "date                       datetime64[ns]\n",
       "time                               object\n",
       "payment                            object\n",
       "cogs                              float64\n",
       "gross_margin_percentage           float64\n",
       "gross_income                      float64\n",
       "rating                            float64\n",
       "total                             float64\n",
       "hour                                int64\n",
       "min                                 int64\n",
       "day                                 int64\n",
       "month                               int64\n",
       "year                                int64\n",
       "dtype: object"
      ]
     },
     "execution_count": 29,
     "metadata": {},
     "output_type": "execute_result"
    }
   ],
   "source": [
    "# Check for the datatypes\n",
    "cleandf.dtypes"
   ]
  },
  {
   "cell_type": "markdown",
   "id": "a97750db",
   "metadata": {},
   "source": [
    "#### Sorting the dates"
   ]
  },
  {
   "cell_type": "code",
   "execution_count": 30,
   "id": "16ee8bb7",
   "metadata": {},
   "outputs": [],
   "source": [
    "# Sorting date and time from the 'oldest' transaction to the most recent one\n",
    "cleandf = cleandf.sort_values(by = ['date','time'])   "
   ]
  },
  {
   "cell_type": "code",
   "execution_count": 31,
   "id": "6aab46c3",
   "metadata": {
    "scrolled": false
   },
   "outputs": [
    {
     "data": {
      "text/html": [
       "<div>\n",
       "<style scoped>\n",
       "    .dataframe tbody tr th:only-of-type {\n",
       "        vertical-align: middle;\n",
       "    }\n",
       "\n",
       "    .dataframe tbody tr th {\n",
       "        vertical-align: top;\n",
       "    }\n",
       "\n",
       "    .dataframe thead th {\n",
       "        text-align: right;\n",
       "    }\n",
       "</style>\n",
       "<table border=\"1\" class=\"dataframe\">\n",
       "  <thead>\n",
       "    <tr style=\"text-align: right;\">\n",
       "      <th></th>\n",
       "      <th>invoice_id</th>\n",
       "      <th>branch</th>\n",
       "      <th>customer_type</th>\n",
       "      <th>gender</th>\n",
       "      <th>product_line</th>\n",
       "      <th>unit_price</th>\n",
       "      <th>quantity</th>\n",
       "      <th>tax</th>\n",
       "      <th>date</th>\n",
       "      <th>time</th>\n",
       "      <th>...</th>\n",
       "      <th>cogs</th>\n",
       "      <th>gross_margin_percentage</th>\n",
       "      <th>gross_income</th>\n",
       "      <th>rating</th>\n",
       "      <th>total</th>\n",
       "      <th>hour</th>\n",
       "      <th>min</th>\n",
       "      <th>day</th>\n",
       "      <th>month</th>\n",
       "      <th>year</th>\n",
       "    </tr>\n",
       "  </thead>\n",
       "  <tbody>\n",
       "    <tr>\n",
       "      <th>17</th>\n",
       "      <td>765-26-6951</td>\n",
       "      <td>A</td>\n",
       "      <td>Normal</td>\n",
       "      <td>Male</td>\n",
       "      <td>Sports and travel</td>\n",
       "      <td>72.61</td>\n",
       "      <td>6</td>\n",
       "      <td>21.783</td>\n",
       "      <td>2019-01-01</td>\n",
       "      <td>10:39</td>\n",
       "      <td>...</td>\n",
       "      <td>435.66</td>\n",
       "      <td>4.761905</td>\n",
       "      <td>21.783</td>\n",
       "      <td>6.9</td>\n",
       "      <td>457.443</td>\n",
       "      <td>10</td>\n",
       "      <td>39</td>\n",
       "      <td>1</td>\n",
       "      <td>1</td>\n",
       "      <td>2019</td>\n",
       "    </tr>\n",
       "    <tr>\n",
       "      <th>970</th>\n",
       "      <td>746-04-1077</td>\n",
       "      <td>B</td>\n",
       "      <td>Member</td>\n",
       "      <td>Female</td>\n",
       "      <td>Food and beverages</td>\n",
       "      <td>84.63</td>\n",
       "      <td>10</td>\n",
       "      <td>42.315</td>\n",
       "      <td>2019-01-01</td>\n",
       "      <td>11:36</td>\n",
       "      <td>...</td>\n",
       "      <td>846.30</td>\n",
       "      <td>4.761905</td>\n",
       "      <td>42.315</td>\n",
       "      <td>9.0</td>\n",
       "      <td>888.615</td>\n",
       "      <td>11</td>\n",
       "      <td>36</td>\n",
       "      <td>1</td>\n",
       "      <td>1</td>\n",
       "      <td>2019</td>\n",
       "    </tr>\n",
       "    <tr>\n",
       "      <th>839</th>\n",
       "      <td>271-77-8740</td>\n",
       "      <td>C</td>\n",
       "      <td>Member</td>\n",
       "      <td>Female</td>\n",
       "      <td>Sports and travel</td>\n",
       "      <td>29.22</td>\n",
       "      <td>6</td>\n",
       "      <td>8.766</td>\n",
       "      <td>2019-01-01</td>\n",
       "      <td>11:40</td>\n",
       "      <td>...</td>\n",
       "      <td>175.32</td>\n",
       "      <td>4.761905</td>\n",
       "      <td>8.766</td>\n",
       "      <td>5.0</td>\n",
       "      <td>184.086</td>\n",
       "      <td>11</td>\n",
       "      <td>40</td>\n",
       "      <td>1</td>\n",
       "      <td>1</td>\n",
       "      <td>2019</td>\n",
       "    </tr>\n",
       "    <tr>\n",
       "      <th>523</th>\n",
       "      <td>133-14-7229</td>\n",
       "      <td>C</td>\n",
       "      <td>Normal</td>\n",
       "      <td>Male</td>\n",
       "      <td>Health and beauty</td>\n",
       "      <td>62.87</td>\n",
       "      <td>2</td>\n",
       "      <td>6.287</td>\n",
       "      <td>2019-01-01</td>\n",
       "      <td>11:43</td>\n",
       "      <td>...</td>\n",
       "      <td>125.74</td>\n",
       "      <td>4.761905</td>\n",
       "      <td>6.287</td>\n",
       "      <td>5.0</td>\n",
       "      <td>132.027</td>\n",
       "      <td>11</td>\n",
       "      <td>43</td>\n",
       "      <td>1</td>\n",
       "      <td>1</td>\n",
       "      <td>2019</td>\n",
       "    </tr>\n",
       "    <tr>\n",
       "      <th>567</th>\n",
       "      <td>651-88-7328</td>\n",
       "      <td>A</td>\n",
       "      <td>Normal</td>\n",
       "      <td>Female</td>\n",
       "      <td>Fashion accessories</td>\n",
       "      <td>65.74</td>\n",
       "      <td>9</td>\n",
       "      <td>29.583</td>\n",
       "      <td>2019-01-01</td>\n",
       "      <td>13:55</td>\n",
       "      <td>...</td>\n",
       "      <td>591.66</td>\n",
       "      <td>4.761905</td>\n",
       "      <td>29.583</td>\n",
       "      <td>7.7</td>\n",
       "      <td>621.243</td>\n",
       "      <td>13</td>\n",
       "      <td>55</td>\n",
       "      <td>1</td>\n",
       "      <td>1</td>\n",
       "      <td>2019</td>\n",
       "    </tr>\n",
       "  </tbody>\n",
       "</table>\n",
       "<p>5 rows × 21 columns</p>\n",
       "</div>"
      ],
      "text/plain": [
       "      invoice_id branch customer_type  gender         product_line  \\\n",
       "17   765-26-6951      A        Normal    Male    Sports and travel   \n",
       "970  746-04-1077      B        Member  Female   Food and beverages   \n",
       "839  271-77-8740      C        Member  Female    Sports and travel   \n",
       "523  133-14-7229      C        Normal    Male    Health and beauty   \n",
       "567  651-88-7328      A        Normal  Female  Fashion accessories   \n",
       "\n",
       "     unit_price  quantity     tax       date   time  ...    cogs  \\\n",
       "17        72.61         6  21.783 2019-01-01  10:39  ...  435.66   \n",
       "970       84.63        10  42.315 2019-01-01  11:36  ...  846.30   \n",
       "839       29.22         6   8.766 2019-01-01  11:40  ...  175.32   \n",
       "523       62.87         2   6.287 2019-01-01  11:43  ...  125.74   \n",
       "567       65.74         9  29.583 2019-01-01  13:55  ...  591.66   \n",
       "\n",
       "     gross_margin_percentage  gross_income  rating    total  hour  min  day  \\\n",
       "17                  4.761905        21.783     6.9  457.443    10   39    1   \n",
       "970                 4.761905        42.315     9.0  888.615    11   36    1   \n",
       "839                 4.761905         8.766     5.0  184.086    11   40    1   \n",
       "523                 4.761905         6.287     5.0  132.027    11   43    1   \n",
       "567                 4.761905        29.583     7.7  621.243    13   55    1   \n",
       "\n",
       "     month  year  \n",
       "17       1  2019  \n",
       "970      1  2019  \n",
       "839      1  2019  \n",
       "523      1  2019  \n",
       "567      1  2019  \n",
       "\n",
       "[5 rows x 21 columns]"
      ]
     },
     "execution_count": 31,
     "metadata": {},
     "output_type": "execute_result"
    }
   ],
   "source": [
    "# Lets display the first five rows to display the order\n",
    "cleandf.head()"
   ]
  },
  {
   "cell_type": "markdown",
   "id": "e4306773",
   "metadata": {},
   "source": [
    "# Issue 3"
   ]
  },
  {
   "cell_type": "code",
   "execution_count": 32,
   "id": "2c1c7c14",
   "metadata": {},
   "outputs": [
    {
     "data": {
      "text/plain": [
       "17     765-26-6951\n",
       "970    746-04-1077\n",
       "839    271-77-8740\n",
       "523    133-14-7229\n",
       "567    651-88-7328\n",
       "          ...     \n",
       "671    642-61-4706\n",
       "474    676-39-6028\n",
       "473    731-59-7531\n",
       "643    131-15-8856\n",
       "963    364-34-2972\n",
       "Name: invoice_id, Length: 1000, dtype: object"
      ]
     },
     "execution_count": 32,
     "metadata": {},
     "output_type": "execute_result"
    }
   ],
   "source": [
    "cleandf['invoice_id'].replace('-','')"
   ]
  },
  {
   "cell_type": "code",
   "execution_count": 33,
   "id": "b934902e",
   "metadata": {
    "scrolled": true
   },
   "outputs": [
    {
     "data": {
      "text/html": [
       "<div>\n",
       "<style scoped>\n",
       "    .dataframe tbody tr th:only-of-type {\n",
       "        vertical-align: middle;\n",
       "    }\n",
       "\n",
       "    .dataframe tbody tr th {\n",
       "        vertical-align: top;\n",
       "    }\n",
       "\n",
       "    .dataframe thead th {\n",
       "        text-align: right;\n",
       "    }\n",
       "</style>\n",
       "<table border=\"1\" class=\"dataframe\">\n",
       "  <thead>\n",
       "    <tr style=\"text-align: right;\">\n",
       "      <th></th>\n",
       "      <th>invoice_id</th>\n",
       "      <th>branch</th>\n",
       "      <th>customer_type</th>\n",
       "      <th>gender</th>\n",
       "      <th>product_line</th>\n",
       "      <th>unit_price</th>\n",
       "      <th>quantity</th>\n",
       "      <th>tax</th>\n",
       "      <th>date</th>\n",
       "      <th>time</th>\n",
       "      <th>...</th>\n",
       "      <th>cogs</th>\n",
       "      <th>gross_margin_percentage</th>\n",
       "      <th>gross_income</th>\n",
       "      <th>rating</th>\n",
       "      <th>total</th>\n",
       "      <th>hour</th>\n",
       "      <th>min</th>\n",
       "      <th>day</th>\n",
       "      <th>month</th>\n",
       "      <th>year</th>\n",
       "    </tr>\n",
       "  </thead>\n",
       "  <tbody>\n",
       "    <tr>\n",
       "      <th>252</th>\n",
       "      <td>883-17-4236</td>\n",
       "      <td>C</td>\n",
       "      <td>Normal</td>\n",
       "      <td>Female</td>\n",
       "      <td>Sports and travel</td>\n",
       "      <td>14.39</td>\n",
       "      <td>2</td>\n",
       "      <td>1.439</td>\n",
       "      <td>2019-03-02</td>\n",
       "      <td>19:44</td>\n",
       "      <td>...</td>\n",
       "      <td>28.78</td>\n",
       "      <td>4.761905</td>\n",
       "      <td>1.439</td>\n",
       "      <td>7.2</td>\n",
       "      <td>30.219</td>\n",
       "      <td>19</td>\n",
       "      <td>44</td>\n",
       "      <td>3</td>\n",
       "      <td>2</td>\n",
       "      <td>2019</td>\n",
       "    </tr>\n",
       "    <tr>\n",
       "      <th>311</th>\n",
       "      <td>181-94-6432</td>\n",
       "      <td>C</td>\n",
       "      <td>Member</td>\n",
       "      <td>Male</td>\n",
       "      <td>Fashion accessories</td>\n",
       "      <td>69.33</td>\n",
       "      <td>2</td>\n",
       "      <td>6.933</td>\n",
       "      <td>2019-02-05</td>\n",
       "      <td>19:05</td>\n",
       "      <td>...</td>\n",
       "      <td>138.66</td>\n",
       "      <td>4.761905</td>\n",
       "      <td>6.933</td>\n",
       "      <td>9.7</td>\n",
       "      <td>145.593</td>\n",
       "      <td>19</td>\n",
       "      <td>5</td>\n",
       "      <td>2</td>\n",
       "      <td>5</td>\n",
       "      <td>2019</td>\n",
       "    </tr>\n",
       "  </tbody>\n",
       "</table>\n",
       "<p>2 rows × 21 columns</p>\n",
       "</div>"
      ],
      "text/plain": [
       "      invoice_id branch customer_type  gender         product_line  \\\n",
       "252  883-17-4236      C        Normal  Female    Sports and travel   \n",
       "311  181-94-6432      C        Member    Male  Fashion accessories   \n",
       "\n",
       "     unit_price  quantity    tax       date   time  ...    cogs  \\\n",
       "252       14.39         2  1.439 2019-03-02  19:44  ...   28.78   \n",
       "311       69.33         2  6.933 2019-02-05  19:05  ...  138.66   \n",
       "\n",
       "     gross_margin_percentage  gross_income  rating    total  hour  min  day  \\\n",
       "252                 4.761905         1.439     7.2   30.219    19   44    3   \n",
       "311                 4.761905         6.933     9.7  145.593    19    5    2   \n",
       "\n",
       "     month  year  \n",
       "252      2  2019  \n",
       "311      5  2019  \n",
       "\n",
       "[2 rows x 21 columns]"
      ]
     },
     "execution_count": 33,
     "metadata": {},
     "output_type": "execute_result"
    }
   ],
   "source": [
    "cleandf.sample(2)"
   ]
  },
  {
   "cell_type": "markdown",
   "id": "298faf6a",
   "metadata": {},
   "source": [
    "# Issue 4 \n",
    "Drop the gross margin percentage permanently from our data"
   ]
  },
  {
   "cell_type": "markdown",
   "id": "384156a1",
   "metadata": {},
   "source": [
    "## Code"
   ]
  },
  {
   "cell_type": "code",
   "execution_count": 34,
   "id": "c5891e36",
   "metadata": {},
   "outputs": [],
   "source": [
    "cleandf.drop(columns = 'gross_margin_percentage',inplace = True)"
   ]
  },
  {
   "cell_type": "code",
   "execution_count": 35,
   "id": "a9319480",
   "metadata": {},
   "outputs": [],
   "source": [
    "cleandf.drop(columns = 'invoice_id',inplace = True)"
   ]
  },
  {
   "cell_type": "code",
   "execution_count": 36,
   "id": "43659054",
   "metadata": {},
   "outputs": [],
   "source": [
    "cleandf.drop(columns = 'time',inplace = True)"
   ]
  },
  {
   "cell_type": "markdown",
   "id": "43664d0f",
   "metadata": {},
   "source": [
    "## Test"
   ]
  },
  {
   "cell_type": "code",
   "execution_count": 37,
   "id": "c62cdb5e",
   "metadata": {
    "scrolled": true
   },
   "outputs": [
    {
     "data": {
      "text/html": [
       "<div>\n",
       "<style scoped>\n",
       "    .dataframe tbody tr th:only-of-type {\n",
       "        vertical-align: middle;\n",
       "    }\n",
       "\n",
       "    .dataframe tbody tr th {\n",
       "        vertical-align: top;\n",
       "    }\n",
       "\n",
       "    .dataframe thead th {\n",
       "        text-align: right;\n",
       "    }\n",
       "</style>\n",
       "<table border=\"1\" class=\"dataframe\">\n",
       "  <thead>\n",
       "    <tr style=\"text-align: right;\">\n",
       "      <th></th>\n",
       "      <th>branch</th>\n",
       "      <th>customer_type</th>\n",
       "      <th>gender</th>\n",
       "      <th>product_line</th>\n",
       "      <th>unit_price</th>\n",
       "      <th>quantity</th>\n",
       "      <th>tax</th>\n",
       "      <th>date</th>\n",
       "      <th>payment</th>\n",
       "      <th>cogs</th>\n",
       "      <th>gross_income</th>\n",
       "      <th>rating</th>\n",
       "      <th>total</th>\n",
       "      <th>hour</th>\n",
       "      <th>min</th>\n",
       "      <th>day</th>\n",
       "      <th>month</th>\n",
       "      <th>year</th>\n",
       "    </tr>\n",
       "  </thead>\n",
       "  <tbody>\n",
       "    <tr>\n",
       "      <th>106</th>\n",
       "      <td>C</td>\n",
       "      <td>Normal</td>\n",
       "      <td>Male</td>\n",
       "      <td>Fashion accessories</td>\n",
       "      <td>27.38</td>\n",
       "      <td>6</td>\n",
       "      <td>8.214</td>\n",
       "      <td>2019-01-05</td>\n",
       "      <td>Credit card</td>\n",
       "      <td>164.28</td>\n",
       "      <td>8.214</td>\n",
       "      <td>7.9</td>\n",
       "      <td>172.494</td>\n",
       "      <td>20</td>\n",
       "      <td>54</td>\n",
       "      <td>1</td>\n",
       "      <td>5</td>\n",
       "      <td>2019</td>\n",
       "    </tr>\n",
       "    <tr>\n",
       "      <th>3</th>\n",
       "      <td>A</td>\n",
       "      <td>Member</td>\n",
       "      <td>Male</td>\n",
       "      <td>Health and beauty</td>\n",
       "      <td>58.22</td>\n",
       "      <td>8</td>\n",
       "      <td>23.288</td>\n",
       "      <td>2019-01-27</td>\n",
       "      <td>Ewallet</td>\n",
       "      <td>465.76</td>\n",
       "      <td>23.288</td>\n",
       "      <td>8.4</td>\n",
       "      <td>489.048</td>\n",
       "      <td>20</td>\n",
       "      <td>33</td>\n",
       "      <td>1</td>\n",
       "      <td>27</td>\n",
       "      <td>2019</td>\n",
       "    </tr>\n",
       "  </tbody>\n",
       "</table>\n",
       "</div>"
      ],
      "text/plain": [
       "    branch customer_type gender         product_line  unit_price  quantity  \\\n",
       "106      C        Normal   Male  Fashion accessories       27.38         6   \n",
       "3        A        Member   Male    Health and beauty       58.22         8   \n",
       "\n",
       "        tax       date      payment    cogs  gross_income  rating    total  \\\n",
       "106   8.214 2019-01-05  Credit card  164.28         8.214     7.9  172.494   \n",
       "3    23.288 2019-01-27      Ewallet  465.76        23.288     8.4  489.048   \n",
       "\n",
       "     hour  min  day  month  year  \n",
       "106    20   54    1      5  2019  \n",
       "3      20   33    1     27  2019  "
      ]
     },
     "execution_count": 37,
     "metadata": {},
     "output_type": "execute_result"
    }
   ],
   "source": [
    "cleandf.sample(2)"
   ]
  },
  {
   "cell_type": "code",
   "execution_count": 38,
   "id": "e5002629",
   "metadata": {},
   "outputs": [],
   "source": [
    "# Lets save the dataframe to a csv file \n",
    "cleandf.to_csv('clean_df.csv',index=False)"
   ]
  },
  {
   "cell_type": "code",
   "execution_count": 39,
   "id": "32c620ae",
   "metadata": {},
   "outputs": [
    {
     "data": {
      "text/html": [
       "<div>\n",
       "<style scoped>\n",
       "    .dataframe tbody tr th:only-of-type {\n",
       "        vertical-align: middle;\n",
       "    }\n",
       "\n",
       "    .dataframe tbody tr th {\n",
       "        vertical-align: top;\n",
       "    }\n",
       "\n",
       "    .dataframe thead th {\n",
       "        text-align: right;\n",
       "    }\n",
       "</style>\n",
       "<table border=\"1\" class=\"dataframe\">\n",
       "  <thead>\n",
       "    <tr style=\"text-align: right;\">\n",
       "      <th></th>\n",
       "      <th>branch</th>\n",
       "      <th>customer_type</th>\n",
       "      <th>gender</th>\n",
       "      <th>product_line</th>\n",
       "      <th>unit_price</th>\n",
       "      <th>quantity</th>\n",
       "      <th>tax</th>\n",
       "      <th>date</th>\n",
       "      <th>payment</th>\n",
       "      <th>cogs</th>\n",
       "      <th>gross_income</th>\n",
       "      <th>rating</th>\n",
       "      <th>total</th>\n",
       "      <th>hour</th>\n",
       "      <th>min</th>\n",
       "      <th>day</th>\n",
       "      <th>month</th>\n",
       "      <th>year</th>\n",
       "    </tr>\n",
       "  </thead>\n",
       "  <tbody>\n",
       "    <tr>\n",
       "      <th>17</th>\n",
       "      <td>A</td>\n",
       "      <td>Normal</td>\n",
       "      <td>Male</td>\n",
       "      <td>Sports and travel</td>\n",
       "      <td>72.61</td>\n",
       "      <td>6</td>\n",
       "      <td>21.783</td>\n",
       "      <td>2019-01-01</td>\n",
       "      <td>Credit card</td>\n",
       "      <td>435.66</td>\n",
       "      <td>21.783</td>\n",
       "      <td>6.9</td>\n",
       "      <td>457.443</td>\n",
       "      <td>10</td>\n",
       "      <td>39</td>\n",
       "      <td>1</td>\n",
       "      <td>1</td>\n",
       "      <td>2019</td>\n",
       "    </tr>\n",
       "    <tr>\n",
       "      <th>970</th>\n",
       "      <td>B</td>\n",
       "      <td>Member</td>\n",
       "      <td>Female</td>\n",
       "      <td>Food and beverages</td>\n",
       "      <td>84.63</td>\n",
       "      <td>10</td>\n",
       "      <td>42.315</td>\n",
       "      <td>2019-01-01</td>\n",
       "      <td>Credit card</td>\n",
       "      <td>846.30</td>\n",
       "      <td>42.315</td>\n",
       "      <td>9.0</td>\n",
       "      <td>888.615</td>\n",
       "      <td>11</td>\n",
       "      <td>36</td>\n",
       "      <td>1</td>\n",
       "      <td>1</td>\n",
       "      <td>2019</td>\n",
       "    </tr>\n",
       "    <tr>\n",
       "      <th>839</th>\n",
       "      <td>C</td>\n",
       "      <td>Member</td>\n",
       "      <td>Female</td>\n",
       "      <td>Sports and travel</td>\n",
       "      <td>29.22</td>\n",
       "      <td>6</td>\n",
       "      <td>8.766</td>\n",
       "      <td>2019-01-01</td>\n",
       "      <td>Ewallet</td>\n",
       "      <td>175.32</td>\n",
       "      <td>8.766</td>\n",
       "      <td>5.0</td>\n",
       "      <td>184.086</td>\n",
       "      <td>11</td>\n",
       "      <td>40</td>\n",
       "      <td>1</td>\n",
       "      <td>1</td>\n",
       "      <td>2019</td>\n",
       "    </tr>\n",
       "    <tr>\n",
       "      <th>523</th>\n",
       "      <td>C</td>\n",
       "      <td>Normal</td>\n",
       "      <td>Male</td>\n",
       "      <td>Health and beauty</td>\n",
       "      <td>62.87</td>\n",
       "      <td>2</td>\n",
       "      <td>6.287</td>\n",
       "      <td>2019-01-01</td>\n",
       "      <td>Cash</td>\n",
       "      <td>125.74</td>\n",
       "      <td>6.287</td>\n",
       "      <td>5.0</td>\n",
       "      <td>132.027</td>\n",
       "      <td>11</td>\n",
       "      <td>43</td>\n",
       "      <td>1</td>\n",
       "      <td>1</td>\n",
       "      <td>2019</td>\n",
       "    </tr>\n",
       "    <tr>\n",
       "      <th>567</th>\n",
       "      <td>A</td>\n",
       "      <td>Normal</td>\n",
       "      <td>Female</td>\n",
       "      <td>Fashion accessories</td>\n",
       "      <td>65.74</td>\n",
       "      <td>9</td>\n",
       "      <td>29.583</td>\n",
       "      <td>2019-01-01</td>\n",
       "      <td>Cash</td>\n",
       "      <td>591.66</td>\n",
       "      <td>29.583</td>\n",
       "      <td>7.7</td>\n",
       "      <td>621.243</td>\n",
       "      <td>13</td>\n",
       "      <td>55</td>\n",
       "      <td>1</td>\n",
       "      <td>1</td>\n",
       "      <td>2019</td>\n",
       "    </tr>\n",
       "  </tbody>\n",
       "</table>\n",
       "</div>"
      ],
      "text/plain": [
       "    branch customer_type  gender         product_line  unit_price  quantity  \\\n",
       "17       A        Normal    Male    Sports and travel       72.61         6   \n",
       "970      B        Member  Female   Food and beverages       84.63        10   \n",
       "839      C        Member  Female    Sports and travel       29.22         6   \n",
       "523      C        Normal    Male    Health and beauty       62.87         2   \n",
       "567      A        Normal  Female  Fashion accessories       65.74         9   \n",
       "\n",
       "        tax       date      payment    cogs  gross_income  rating    total  \\\n",
       "17   21.783 2019-01-01  Credit card  435.66        21.783     6.9  457.443   \n",
       "970  42.315 2019-01-01  Credit card  846.30        42.315     9.0  888.615   \n",
       "839   8.766 2019-01-01      Ewallet  175.32         8.766     5.0  184.086   \n",
       "523   6.287 2019-01-01         Cash  125.74         6.287     5.0  132.027   \n",
       "567  29.583 2019-01-01         Cash  591.66        29.583     7.7  621.243   \n",
       "\n",
       "     hour  min  day  month  year  \n",
       "17     10   39    1      1  2019  \n",
       "970    11   36    1      1  2019  \n",
       "839    11   40    1      1  2019  \n",
       "523    11   43    1      1  2019  \n",
       "567    13   55    1      1  2019  "
      ]
     },
     "execution_count": 39,
     "metadata": {},
     "output_type": "execute_result"
    }
   ],
   "source": [
    "cleandf.head()"
   ]
  },
  {
   "cell_type": "markdown",
   "id": "36cf742f",
   "metadata": {},
   "source": [
    "# 4. Exploratory Data Analysis"
   ]
  },
  {
   "cell_type": "markdown",
   "id": "76fef7a4",
   "metadata": {},
   "source": [
    "## (a) Univariate Analysis"
   ]
  },
  {
   "cell_type": "code",
   "execution_count": 40,
   "id": "e2fa0ae7",
   "metadata": {
    "scrolled": false
   },
   "outputs": [
    {
     "data": {
      "text/plain": [
       "<Figure size 1000x300 with 0 Axes>"
      ]
     },
     "metadata": {},
     "output_type": "display_data"
    },
    {
     "data": {
      "image/png": "[encoded data removed]",
      "text/plain": [
       "<Figure size 360x360 with 1 Axes>"
      ]
     },
     "metadata": {
      "needs_background": "light"
     },
     "output_type": "display_data"
    },
    {
     "data": {
      "text/plain": [
       "<Figure size 1000x300 with 0 Axes>"
      ]
     },
     "metadata": {},
     "output_type": "display_data"
    },
    {
     "data": {
      "image/png": "[encoded data removed]",
      "text/plain": [
       "<Figure size 360x360 with 1 Axes>"
      ]
     },
     "metadata": {
      "needs_background": "light"
     },
     "output_type": "display_data"
    },
    {
     "data": {
      "text/plain": [
       "<Figure size 1000x300 with 0 Axes>"
      ]
     },
     "metadata": {},
     "output_type": "display_data"
    },
    {
     "data": {
      "image/png": "[encoded data removed]",
      "text/plain": [
       "<Figure size 360x360 with 1 Axes>"
      ]
     },
     "metadata": {
      "needs_background": "light"
     },
     "output_type": "display_data"
    },
    {
     "data": {
      "text/plain": [
       "<Figure size 1000x300 with 0 Axes>"
      ]
     },
     "metadata": {},
     "output_type": "display_data"
    },
    {
     "data": {
      "image/png": "[encoded data removed]",
      "text/plain": [
       "<Figure size 360x360 with 1 Axes>"
      ]
     },
     "metadata": {
      "needs_background": "light"
     },
     "output_type": "display_data"
    },
    {
     "data": {
      "text/plain": [
       "<Figure size 1000x300 with 0 Axes>"
      ]
     },
     "metadata": {},
     "output_type": "display_data"
    },
    {
     "data": {
      "image/png": "[encoded data removed]",
      "text/plain": [
       "<Figure size 360x360 with 1 Axes>"
      ]
     },
     "metadata": {
      "needs_background": "light"
     },
     "output_type": "display_data"
    }
   ],
   "source": [
    "#Plotting histrograms for categorical values\n",
    "# columns_dict = ['unit_price','tax','cogs','gross_income','total']\n",
    "\n",
    "def histogram (v):\n",
    "    columns_dict = ['unit_price','tax','cogs','gross_income','total']\n",
    "    for i in columns_dict:\n",
    "      plt.figure(figsize = (10,3), dpi=100)\n",
    "      sns.displot(v[i], kde = True, color = 'brown')\n",
    "      plt.title(f\"Histogram showing {i} distribution\", color = 'Black')\n",
    "      plt.show()\n",
    "\n",
    "histogram (cleandf);"
   ]
  },
  {
   "cell_type": "code",
   "execution_count": 43,
   "id": "f3101bda",
   "metadata": {
    "scrolled": false
   },
   "outputs": [
    {
     "data": {
      "text/html": [
       "<div>\n",
       "<style scoped>\n",
       "    .dataframe tbody tr th:only-of-type {\n",
       "        vertical-align: middle;\n",
       "    }\n",
       "\n",
       "    .dataframe tbody tr th {\n",
       "        vertical-align: top;\n",
       "    }\n",
       "\n",
       "    .dataframe thead th {\n",
       "        text-align: right;\n",
       "    }\n",
       "</style>\n",
       "<table border=\"1\" class=\"dataframe\">\n",
       "  <thead>\n",
       "    <tr style=\"text-align: right;\">\n",
       "      <th></th>\n",
       "      <th>branch</th>\n",
       "      <th>customer_type</th>\n",
       "      <th>gender</th>\n",
       "      <th>product_line</th>\n",
       "      <th>unit_price</th>\n",
       "      <th>quantity</th>\n",
       "      <th>tax</th>\n",
       "      <th>date</th>\n",
       "      <th>payment</th>\n",
       "      <th>cogs</th>\n",
       "      <th>gross_income</th>\n",
       "      <th>rating</th>\n",
       "      <th>total</th>\n",
       "      <th>hour</th>\n",
       "      <th>min</th>\n",
       "      <th>day</th>\n",
       "      <th>month</th>\n",
       "      <th>year</th>\n",
       "    </tr>\n",
       "  </thead>\n",
       "  <tbody>\n",
       "    <tr>\n",
       "      <th>415</th>\n",
       "      <td>B</td>\n",
       "      <td>Normal</td>\n",
       "      <td>Male</td>\n",
       "      <td>Health and beauty</td>\n",
       "      <td>96.11</td>\n",
       "      <td>1</td>\n",
       "      <td>4.8055</td>\n",
       "      <td>2019-01-25</td>\n",
       "      <td>Ewallet</td>\n",
       "      <td>96.11</td>\n",
       "      <td>4.8055</td>\n",
       "      <td>7.8</td>\n",
       "      <td>100.9155</td>\n",
       "      <td>16</td>\n",
       "      <td>28</td>\n",
       "      <td>1</td>\n",
       "      <td>25</td>\n",
       "      <td>2019</td>\n",
       "    </tr>\n",
       "    <tr>\n",
       "      <th>443</th>\n",
       "      <td>C</td>\n",
       "      <td>Normal</td>\n",
       "      <td>Male</td>\n",
       "      <td>Fashion accessories</td>\n",
       "      <td>12.78</td>\n",
       "      <td>1</td>\n",
       "      <td>0.6390</td>\n",
       "      <td>2019-01-08</td>\n",
       "      <td>Ewallet</td>\n",
       "      <td>12.78</td>\n",
       "      <td>0.6390</td>\n",
       "      <td>9.5</td>\n",
       "      <td>13.4190</td>\n",
       "      <td>14</td>\n",
       "      <td>11</td>\n",
       "      <td>1</td>\n",
       "      <td>8</td>\n",
       "      <td>2019</td>\n",
       "    </tr>\n",
       "    <tr>\n",
       "      <th>516</th>\n",
       "      <td>B</td>\n",
       "      <td>Member</td>\n",
       "      <td>Male</td>\n",
       "      <td>Health and beauty</td>\n",
       "      <td>54.86</td>\n",
       "      <td>5</td>\n",
       "      <td>13.7150</td>\n",
       "      <td>2019-03-29</td>\n",
       "      <td>Ewallet</td>\n",
       "      <td>274.30</td>\n",
       "      <td>13.7150</td>\n",
       "      <td>9.8</td>\n",
       "      <td>288.0150</td>\n",
       "      <td>16</td>\n",
       "      <td>48</td>\n",
       "      <td>3</td>\n",
       "      <td>29</td>\n",
       "      <td>2019</td>\n",
       "    </tr>\n",
       "  </tbody>\n",
       "</table>\n",
       "</div>"
      ],
      "text/plain": [
       "    branch customer_type gender         product_line  unit_price  quantity  \\\n",
       "415      B        Normal   Male    Health and beauty       96.11         1   \n",
       "443      C        Normal   Male  Fashion accessories       12.78         1   \n",
       "516      B        Member   Male    Health and beauty       54.86         5   \n",
       "\n",
       "         tax       date  payment    cogs  gross_income  rating     total  \\\n",
       "415   4.8055 2019-01-25  Ewallet   96.11        4.8055     7.8  100.9155   \n",
       "443   0.6390 2019-01-08  Ewallet   12.78        0.6390     9.5   13.4190   \n",
       "516  13.7150 2019-03-29  Ewallet  274.30       13.7150     9.8  288.0150   \n",
       "\n",
       "     hour  min  day  month  year  \n",
       "415    16   28    1     25  2019  \n",
       "443    14   11    1      8  2019  \n",
       "516    16   48    3     29  2019  "
      ]
     },
     "execution_count": 43,
     "metadata": {},
     "output_type": "execute_result"
    }
   ],
   "source": [
    "cleandf.sample(3)"
   ]
  },
  {
   "cell_type": "code",
   "execution_count": 44,
   "id": "aa9eb43f",
   "metadata": {
    "scrolled": true
   },
   "outputs": [
    {
     "data": {
      "text/html": [
       "<div>\n",
       "<style scoped>\n",
       "    .dataframe tbody tr th:only-of-type {\n",
       "        vertical-align: middle;\n",
       "    }\n",
       "\n",
       "    .dataframe tbody tr th {\n",
       "        vertical-align: top;\n",
       "    }\n",
       "\n",
       "    .dataframe thead th {\n",
       "        text-align: right;\n",
       "    }\n",
       "</style>\n",
       "<table border=\"1\" class=\"dataframe\">\n",
       "  <thead>\n",
       "    <tr style=\"text-align: right;\">\n",
       "      <th></th>\n",
       "      <th>total</th>\n",
       "    </tr>\n",
       "    <tr>\n",
       "      <th>product_line</th>\n",
       "      <th></th>\n",
       "    </tr>\n",
       "  </thead>\n",
       "  <tbody>\n",
       "    <tr>\n",
       "      <th>Electronic accessories</th>\n",
       "      <td>54337.5315</td>\n",
       "    </tr>\n",
       "    <tr>\n",
       "      <th>Fashion accessories</th>\n",
       "      <td>54305.8950</td>\n",
       "    </tr>\n",
       "    <tr>\n",
       "      <th>Food and beverages</th>\n",
       "      <td>56144.8440</td>\n",
       "    </tr>\n",
       "    <tr>\n",
       "      <th>Health and beauty</th>\n",
       "      <td>49193.7390</td>\n",
       "    </tr>\n",
       "    <tr>\n",
       "      <th>Home and lifestyle</th>\n",
       "      <td>53861.9130</td>\n",
       "    </tr>\n",
       "    <tr>\n",
       "      <th>Sports and travel</th>\n",
       "      <td>55122.8265</td>\n",
       "    </tr>\n",
       "  </tbody>\n",
       "</table>\n",
       "</div>"
      ],
      "text/plain": [
       "                             total\n",
       "product_line                      \n",
       "Electronic accessories  54337.5315\n",
       "Fashion accessories     54305.8950\n",
       "Food and beverages      56144.8440\n",
       "Health and beauty       49193.7390\n",
       "Home and lifestyle      53861.9130\n",
       "Sports and travel       55122.8265"
      ]
     },
     "execution_count": 44,
     "metadata": {},
     "output_type": "execute_result"
    }
   ],
   "source": [
    "# \n",
    "cleandf[['product_line','total']].groupby('product_line').sum('total')"
   ]
  },
  {
   "cell_type": "code",
   "execution_count": 45,
   "id": "8453e1c6",
   "metadata": {},
   "outputs": [
    {
     "data": {
      "text/html": [
       "<div>\n",
       "<style scoped>\n",
       "    .dataframe tbody tr th:only-of-type {\n",
       "        vertical-align: middle;\n",
       "    }\n",
       "\n",
       "    .dataframe tbody tr th {\n",
       "        vertical-align: top;\n",
       "    }\n",
       "\n",
       "    .dataframe thead th {\n",
       "        text-align: right;\n",
       "    }\n",
       "</style>\n",
       "<table border=\"1\" class=\"dataframe\">\n",
       "  <thead>\n",
       "    <tr style=\"text-align: right;\">\n",
       "      <th></th>\n",
       "      <th>tax</th>\n",
       "    </tr>\n",
       "    <tr>\n",
       "      <th>product_line</th>\n",
       "      <th></th>\n",
       "    </tr>\n",
       "  </thead>\n",
       "  <tbody>\n",
       "    <tr>\n",
       "      <th>Electronic accessories</th>\n",
       "      <td>2587.5015</td>\n",
       "    </tr>\n",
       "    <tr>\n",
       "      <th>Fashion accessories</th>\n",
       "      <td>2585.9950</td>\n",
       "    </tr>\n",
       "    <tr>\n",
       "      <th>Food and beverages</th>\n",
       "      <td>2673.5640</td>\n",
       "    </tr>\n",
       "    <tr>\n",
       "      <th>Health and beauty</th>\n",
       "      <td>2342.5590</td>\n",
       "    </tr>\n",
       "    <tr>\n",
       "      <th>Home and lifestyle</th>\n",
       "      <td>2564.8530</td>\n",
       "    </tr>\n",
       "    <tr>\n",
       "      <th>Sports and travel</th>\n",
       "      <td>2624.8965</td>\n",
       "    </tr>\n",
       "  </tbody>\n",
       "</table>\n",
       "</div>"
      ],
      "text/plain": [
       "                              tax\n",
       "product_line                     \n",
       "Electronic accessories  2587.5015\n",
       "Fashion accessories     2585.9950\n",
       "Food and beverages      2673.5640\n",
       "Health and beauty       2342.5590\n",
       "Home and lifestyle      2564.8530\n",
       "Sports and travel       2624.8965"
      ]
     },
     "execution_count": 45,
     "metadata": {},
     "output_type": "execute_result"
    }
   ],
   "source": [
    "# \n",
    "cleandf[['product_line','tax']].groupby('product_line').sum('tax')\n"
   ]
  },
  {
   "cell_type": "code",
   "execution_count": 46,
   "id": "dca59bf2",
   "metadata": {},
   "outputs": [
    {
     "data": {
      "image/png": "[encoded data removed]",
      "text/plain": [
       "<Figure size 720x432 with 1 Axes>"
      ]
     },
     "metadata": {
      "needs_background": "light"
     },
     "output_type": "display_data"
    }
   ],
   "source": [
    "# Lets plot the distribution of patients by age groups\n",
    "base_color = sns.color_palette()[0]\n",
    "plt.figure(figsize=(10,6))\n",
    "sns.countplot(x=cleandf['product_line'],color = base_color)\n",
    "plt.xticks(rotation=60);\n",
    "plt.title('Distribution of different products in the data set');\n",
    "\n",
    "# code to arrange them in descending order"
   ]
  },
  {
   "cell_type": "code",
   "execution_count": 47,
   "id": "aeb42bbd",
   "metadata": {},
   "outputs": [
    {
     "data": {
      "image/png": "[encoded data removed]",
      "text/plain": [
       "<Figure size 432x288 with 1 Axes>"
      ]
     },
     "metadata": {},
     "output_type": "display_data"
    }
   ],
   "source": [
    "branch_count = cleandf['branch'].value_counts()\n",
    "\n",
    "plt.pie(branch_count,labels=[\"A\", \"B\",\"C\"], autopct='%1.1f%%', textprops={'fontsize': 18},\n",
    "        explode = (0.2, 0,0))\n",
    "\n",
    "plt.rcParams['font.size'] = 12\n",
    "plt.title(\"Percentage of branches\",fontsize=15)\n",
    "# plt.legend(loc ='right')\n",
    "plt.show()"
   ]
  },
  {
   "cell_type": "markdown",
   "id": "2af252ef",
   "metadata": {},
   "source": [
    "Branch A had slightly higher sales than other branches"
   ]
  },
  {
   "cell_type": "code",
   "execution_count": 48,
   "id": "db4c6aa9",
   "metadata": {
    "scrolled": true
   },
   "outputs": [
    {
     "data": {
      "image/png": "[encoded data removed]",
      "text/plain": [
       "<Figure size 432x288 with 1 Axes>"
      ]
     },
     "metadata": {},
     "output_type": "display_data"
    }
   ],
   "source": [
    "gender_count =cleandf.gender.value_counts()\n",
    "\n",
    "plt.pie(gender_count,labels = ['F','M'],autopct = '%1.1f%%',textprops ={'fontsize' : 20},\n",
    "       explode = (0.2,0),startangle = 75)\n",
    "plt.rcParams['font.size'] = 14\n",
    "plt.title('Pie plot to show gender distribution',fontsize = 20)\n",
    "plt.show()"
   ]
  },
  {
   "cell_type": "code",
   "execution_count": 49,
   "id": "62a1bdc6",
   "metadata": {
    "scrolled": true
   },
   "outputs": [
    {
     "data": {
      "text/plain": [
       "Female    501\n",
       "Male      499\n",
       "Name: gender, dtype: int64"
      ]
     },
     "execution_count": 49,
     "metadata": {},
     "output_type": "execute_result"
    }
   ],
   "source": [
    "gender_count"
   ]
  },
  {
   "cell_type": "markdown",
   "id": "d8e2db9d",
   "metadata": {},
   "source": [
    "The gender distribution is almost equal."
   ]
  },
  {
   "cell_type": "code",
   "execution_count": 50,
   "id": "5d003dd5",
   "metadata": {
    "scrolled": false
   },
   "outputs": [
    {
     "data": {
      "text/plain": [
       "Fashion accessories       178\n",
       "Food and beverages        174\n",
       "Electronic accessories    170\n",
       "Sports and travel         166\n",
       "Home and lifestyle        160\n",
       "Health and beauty         152\n",
       "Name: product_line, dtype: int64"
      ]
     },
     "execution_count": 50,
     "metadata": {},
     "output_type": "execute_result"
    }
   ],
   "source": [
    "product_count = cleandf.product_line.value_counts()\n",
    "product_count"
   ]
  },
  {
   "cell_type": "code",
   "execution_count": 53,
   "id": "15f60568",
   "metadata": {},
   "outputs": [
    {
     "data": {
      "image/png": "[encoded data removed]",
      "text/plain": [
       "<Figure size 720x720 with 1 Axes>"
      ]
     },
     "metadata": {
      "needs_background": "light"
     },
     "output_type": "display_data"
    }
   ],
   "source": [
    "color = sns.color_palette()[0]\n",
    "\n",
    "plt.figure(figsize = (10,10))\n",
    "sns.countplot(x = cleandf['product_line'],color = color)\n",
    "plt.xlabel('Products')\n",
    "plt.title('Histogram showing distibution of products')\n",
    "plt.show();"
   ]
  },
  {
   "cell_type": "code",
   "execution_count": 54,
   "id": "abeeb21f",
   "metadata": {
    "scrolled": true
   },
   "outputs": [
    {
     "data": {
      "image/png": "[encoded data removed]",
      "text/plain": [
       "<Figure size 432x288 with 1 Axes>"
      ]
     },
     "metadata": {},
     "output_type": "display_data"
    }
   ],
   "source": [
    "plt.pie(product_count,labels = ['Fashion','Food & Beverages','Electronics','Sports','Lifetyle','Health & Beauty'],\n",
    "       explode = (0.28,0.25,0.23,0.21,0.2,0.18),startangle=85,autopct ='%1.1f%%')\n",
    "plt.rcParams['font.size'] = 14\n",
    "plt.title('Pie plot showing distibution of products',fontsize = 15);"
   ]
  },
  {
   "cell_type": "code",
   "execution_count": 55,
   "id": "8b5465fe",
   "metadata": {},
   "outputs": [
    {
     "data": {
      "text/plain": [
       "Ewallet        345\n",
       "Cash           344\n",
       "Credit card    311\n",
       "Name: payment, dtype: int64"
      ]
     },
     "execution_count": 55,
     "metadata": {},
     "output_type": "execute_result"
    }
   ],
   "source": [
    "payment_count =cleandf.payment.value_counts()\n",
    "payment_count"
   ]
  },
  {
   "cell_type": "code",
   "execution_count": 56,
   "id": "0ff99599",
   "metadata": {
    "scrolled": true
   },
   "outputs": [
    {
     "data": {
      "image/png": "[encoded data removed]",
      "text/plain": [
       "<Figure size 432x288 with 1 Axes>"
      ]
     },
     "metadata": {},
     "output_type": "display_data"
    }
   ],
   "source": [
    "payment_count =cleandf.payment.value_counts()\n",
    "\n",
    "plt.pie(payment_count,labels = ['Ewallet','Cash','Credit Card'],autopct = '%1.1f%%',textprops ={'fontsize' : 20},\n",
    "       explode = (0.2,0,0),startangle = 75)\n",
    "plt.rcParams['font.size'] = 14\n",
    "plt.title('Pie plot to show payment distribution',fontsize = 20,color ='violet')\n",
    "plt.show()"
   ]
  },
  {
   "cell_type": "markdown",
   "id": "170b9cf0",
   "metadata": {},
   "source": [
    "# (b) Bivariate Analysis"
   ]
  },
  {
   "cell_type": "code",
   "execution_count": 57,
   "id": "21c88ca8",
   "metadata": {
    "scrolled": true
   },
   "outputs": [
    {
     "data": {
      "image/png": "[encoded data removed]",
      "text/plain": [
       "<Figure size 1080x720 with 2 Axes>"
      ]
     },
     "metadata": {
      "needs_background": "light"
     },
     "output_type": "display_data"
    }
   ],
   "source": [
    "## Plotting a correlation matrix\n",
    "\n",
    "def Cormatrix (h):\n",
    "      plt.subplots(figsize=(15,10))\n",
    "      mask = np.triu(np.ones_like(h.corr()))\n",
    "      colormap = sns.color_palette(\"Greens\")\n",
    "      dataplot = sns.heatmap(h.corr(), cmap=colormap, annot=True, mask=mask)\n",
    "      dataplot.set_title(\"Correlation matrix of the dataset\")\n",
    "      plt.show()\n",
    "\n",
    "Cormatrix (cleandf)"
   ]
  },
  {
   "cell_type": "code",
   "execution_count": 58,
   "id": "085be27f",
   "metadata": {},
   "outputs": [
    {
     "data": {
      "image/png": "[encoded data removed]",
      "text/plain": [
       "<Figure size 432x288 with 1 Axes>"
      ]
     },
     "metadata": {
      "needs_background": "light"
     },
     "output_type": "display_data"
    }
   ],
   "source": [
    "# Import Library\n",
    "\n",
    "import matplotlib.pyplot as plt\n",
    "\n",
    "# Plot\n",
    "\n",
    "plt.plot(cleandf[\"total\"], marker='o')\n",
    "\n",
    "# Labelling \n",
    "\n",
    "plt.xlabel(\"Date\")\n",
    "plt.ylabel(\"Temp in Faherenheit\")\n",
    "plt.title(\"Pandas Time Series Plot\")\n",
    "\n",
    "# Display\n",
    "\n",
    "plt.show()"
   ]
  },
  {
   "cell_type": "code",
   "execution_count": 59,
   "id": "4a988f7c",
   "metadata": {},
   "outputs": [
    {
     "data": {
      "image/png": "[encoded data removed]",
      "text/plain": [
       "<Figure size 1728x576 with 1 Axes>"
      ]
     },
     "metadata": {
      "needs_background": "light"
     },
     "output_type": "display_data"
    }
   ],
   "source": [
    "fig = plt.figure(figsize=(24, 8))\n",
    "plt.plot(cleandf.date, cleandf.total, label='blogs_read', \n",
    "         linewidth=3);"
   ]
  },
  {
   "cell_type": "markdown",
   "id": "40924445",
   "metadata": {},
   "source": [
    "# (c) Multivariate Analysis"
   ]
  },
  {
   "cell_type": "code",
   "execution_count": 60,
   "id": "182bf1fe",
   "metadata": {
    "scrolled": true
   },
   "outputs": [
    {
     "data": {
      "text/html": [
       "<div>\n",
       "<style scoped>\n",
       "    .dataframe tbody tr th:only-of-type {\n",
       "        vertical-align: middle;\n",
       "    }\n",
       "\n",
       "    .dataframe tbody tr th {\n",
       "        vertical-align: top;\n",
       "    }\n",
       "\n",
       "    .dataframe thead th {\n",
       "        text-align: right;\n",
       "    }\n",
       "</style>\n",
       "<table border=\"1\" class=\"dataframe\">\n",
       "  <thead>\n",
       "    <tr style=\"text-align: right;\">\n",
       "      <th></th>\n",
       "      <th>branch</th>\n",
       "      <th>customer_type</th>\n",
       "      <th>gender</th>\n",
       "      <th>product_line</th>\n",
       "      <th>unit_price</th>\n",
       "      <th>quantity</th>\n",
       "      <th>tax</th>\n",
       "      <th>date</th>\n",
       "      <th>payment</th>\n",
       "      <th>cogs</th>\n",
       "      <th>gross_income</th>\n",
       "      <th>rating</th>\n",
       "      <th>total</th>\n",
       "      <th>hour</th>\n",
       "      <th>min</th>\n",
       "      <th>day</th>\n",
       "      <th>month</th>\n",
       "      <th>year</th>\n",
       "    </tr>\n",
       "  </thead>\n",
       "  <tbody>\n",
       "    <tr>\n",
       "      <th>820</th>\n",
       "      <td>B</td>\n",
       "      <td>Normal</td>\n",
       "      <td>Male</td>\n",
       "      <td>Electronic accessories</td>\n",
       "      <td>52.89</td>\n",
       "      <td>4</td>\n",
       "      <td>10.578</td>\n",
       "      <td>2019-03-25</td>\n",
       "      <td>Ewallet</td>\n",
       "      <td>211.56</td>\n",
       "      <td>10.578</td>\n",
       "      <td>6.7</td>\n",
       "      <td>222.138</td>\n",
       "      <td>16</td>\n",
       "      <td>32</td>\n",
       "      <td>3</td>\n",
       "      <td>25</td>\n",
       "      <td>2019</td>\n",
       "    </tr>\n",
       "    <tr>\n",
       "      <th>34</th>\n",
       "      <td>C</td>\n",
       "      <td>Member</td>\n",
       "      <td>Female</td>\n",
       "      <td>Food and beverages</td>\n",
       "      <td>99.42</td>\n",
       "      <td>4</td>\n",
       "      <td>19.884</td>\n",
       "      <td>2019-02-06</td>\n",
       "      <td>Ewallet</td>\n",
       "      <td>397.68</td>\n",
       "      <td>19.884</td>\n",
       "      <td>7.5</td>\n",
       "      <td>417.564</td>\n",
       "      <td>10</td>\n",
       "      <td>42</td>\n",
       "      <td>2</td>\n",
       "      <td>6</td>\n",
       "      <td>2019</td>\n",
       "    </tr>\n",
       "  </tbody>\n",
       "</table>\n",
       "</div>"
      ],
      "text/plain": [
       "    branch customer_type  gender            product_line  unit_price  \\\n",
       "820      B        Normal    Male  Electronic accessories       52.89   \n",
       "34       C        Member  Female      Food and beverages       99.42   \n",
       "\n",
       "     quantity     tax       date  payment    cogs  gross_income  rating  \\\n",
       "820         4  10.578 2019-03-25  Ewallet  211.56        10.578     6.7   \n",
       "34          4  19.884 2019-02-06  Ewallet  397.68        19.884     7.5   \n",
       "\n",
       "       total  hour  min  day  month  year  \n",
       "820  222.138    16   32    3     25  2019  \n",
       "34   417.564    10   42    2      6  2019  "
      ]
     },
     "execution_count": 60,
     "metadata": {},
     "output_type": "execute_result"
    }
   ],
   "source": [
    "cleandf.sample(2)"
   ]
  },
  {
   "cell_type": "code",
   "execution_count": 61,
   "id": "8e1b0372",
   "metadata": {
    "scrolled": false
   },
   "outputs": [
    {
     "data": {
      "text/plain": [
       "branch                   object\n",
       "customer_type            object\n",
       "gender                   object\n",
       "product_line             object\n",
       "unit_price              float64\n",
       "quantity                  int64\n",
       "tax                     float64\n",
       "date             datetime64[ns]\n",
       "payment                  object\n",
       "cogs                    float64\n",
       "gross_income            float64\n",
       "rating                  float64\n",
       "total                   float64\n",
       "hour                      int64\n",
       "min                       int64\n",
       "day                       int64\n",
       "month                     int64\n",
       "year                      int64\n",
       "dtype: object"
      ]
     },
     "execution_count": 61,
     "metadata": {},
     "output_type": "execute_result"
    }
   ],
   "source": [
    "cleandf.dtypes"
   ]
  },
  {
   "cell_type": "markdown",
   "id": "2bd87b8c",
   "metadata": {},
   "source": [
    "## Feature Engineering"
   ]
  },
  {
   "cell_type": "code",
   "execution_count": 62,
   "id": "cf470919",
   "metadata": {},
   "outputs": [
    {
     "data": {
      "text/plain": [
       "branch                   object\n",
       "customer_type            object\n",
       "gender                   object\n",
       "product_line             object\n",
       "unit_price              float64\n",
       "quantity                  int64\n",
       "tax                     float64\n",
       "date             datetime64[ns]\n",
       "payment                  object\n",
       "cogs                    float64\n",
       "gross_income            float64\n",
       "rating                  float64\n",
       "total                   float64\n",
       "hour                      int64\n",
       "min                       int64\n",
       "day                       int64\n",
       "month                     int64\n",
       "year                      int64\n",
       "dtype: object"
      ]
     },
     "execution_count": 62,
     "metadata": {},
     "output_type": "execute_result"
    }
   ],
   "source": [
    "cleandf.dtypes"
   ]
  },
  {
   "cell_type": "markdown",
   "id": "cba18f95",
   "metadata": {},
   "source": [
    "### Label Encoding"
   ]
  },
  {
   "cell_type": "code",
   "execution_count": 63,
   "id": "0b03225e",
   "metadata": {},
   "outputs": [
    {
     "data": {
      "text/plain": [
       "['branch', 'customer_type', 'gender', 'product_line', 'payment']"
      ]
     },
     "execution_count": 63,
     "metadata": {},
     "output_type": "execute_result"
    }
   ],
   "source": [
    "# Lets label encode\n",
    "# Make a copy of the df\n",
    "cleandf_01 = cleandf.copy()\n",
    "\n",
    "\n",
    "from sklearn.preprocessing import LabelEncoder\n",
    "le = LabelEncoder()\n",
    "\n",
    "objects = [col for col in cleandf.columns if cleandf[col].dtype == 'object']\n",
    "objects"
   ]
  },
  {
   "cell_type": "code",
   "execution_count": 64,
   "id": "959b50ac",
   "metadata": {},
   "outputs": [],
   "source": [
    "for col in objects :\n",
    "    cleandf[col] = le.fit_transform(cleandf[col])"
   ]
  },
  {
   "cell_type": "code",
   "execution_count": 65,
   "id": "903ecb55",
   "metadata": {
    "scrolled": false
   },
   "outputs": [
    {
     "data": {
      "text/html": [
       "<div>\n",
       "<style scoped>\n",
       "    .dataframe tbody tr th:only-of-type {\n",
       "        vertical-align: middle;\n",
       "    }\n",
       "\n",
       "    .dataframe tbody tr th {\n",
       "        vertical-align: top;\n",
       "    }\n",
       "\n",
       "    .dataframe thead th {\n",
       "        text-align: right;\n",
       "    }\n",
       "</style>\n",
       "<table border=\"1\" class=\"dataframe\">\n",
       "  <thead>\n",
       "    <tr style=\"text-align: right;\">\n",
       "      <th></th>\n",
       "      <th>branch</th>\n",
       "      <th>customer_type</th>\n",
       "      <th>gender</th>\n",
       "      <th>product_line</th>\n",
       "      <th>unit_price</th>\n",
       "      <th>quantity</th>\n",
       "      <th>tax</th>\n",
       "      <th>date</th>\n",
       "      <th>payment</th>\n",
       "      <th>cogs</th>\n",
       "      <th>gross_income</th>\n",
       "      <th>rating</th>\n",
       "      <th>total</th>\n",
       "      <th>hour</th>\n",
       "      <th>min</th>\n",
       "      <th>day</th>\n",
       "      <th>month</th>\n",
       "      <th>year</th>\n",
       "    </tr>\n",
       "  </thead>\n",
       "  <tbody>\n",
       "    <tr>\n",
       "      <th>643</th>\n",
       "      <td>2</td>\n",
       "      <td>0</td>\n",
       "      <td>0</td>\n",
       "      <td>2</td>\n",
       "      <td>72.52</td>\n",
       "      <td>8</td>\n",
       "      <td>29.0080</td>\n",
       "      <td>2019-03-30</td>\n",
       "      <td>1</td>\n",
       "      <td>580.16</td>\n",
       "      <td>29.0080</td>\n",
       "      <td>4.0</td>\n",
       "      <td>609.1680</td>\n",
       "      <td>19</td>\n",
       "      <td>26</td>\n",
       "      <td>3</td>\n",
       "      <td>30</td>\n",
       "      <td>2019</td>\n",
       "    </tr>\n",
       "    <tr>\n",
       "      <th>452</th>\n",
       "      <td>0</td>\n",
       "      <td>1</td>\n",
       "      <td>0</td>\n",
       "      <td>2</td>\n",
       "      <td>63.61</td>\n",
       "      <td>5</td>\n",
       "      <td>15.9025</td>\n",
       "      <td>2019-03-16</td>\n",
       "      <td>2</td>\n",
       "      <td>318.05</td>\n",
       "      <td>15.9025</td>\n",
       "      <td>4.8</td>\n",
       "      <td>333.9525</td>\n",
       "      <td>12</td>\n",
       "      <td>43</td>\n",
       "      <td>3</td>\n",
       "      <td>16</td>\n",
       "      <td>2019</td>\n",
       "    </tr>\n",
       "    <tr>\n",
       "      <th>528</th>\n",
       "      <td>1</td>\n",
       "      <td>0</td>\n",
       "      <td>0</td>\n",
       "      <td>2</td>\n",
       "      <td>54.36</td>\n",
       "      <td>10</td>\n",
       "      <td>27.1800</td>\n",
       "      <td>2019-02-07</td>\n",
       "      <td>1</td>\n",
       "      <td>543.60</td>\n",
       "      <td>27.1800</td>\n",
       "      <td>6.1</td>\n",
       "      <td>570.7800</td>\n",
       "      <td>11</td>\n",
       "      <td>28</td>\n",
       "      <td>2</td>\n",
       "      <td>7</td>\n",
       "      <td>2019</td>\n",
       "    </tr>\n",
       "  </tbody>\n",
       "</table>\n",
       "</div>"
      ],
      "text/plain": [
       "     branch  customer_type  gender  product_line  unit_price  quantity  \\\n",
       "643       2              0       0             2       72.52         8   \n",
       "452       0              1       0             2       63.61         5   \n",
       "528       1              0       0             2       54.36        10   \n",
       "\n",
       "         tax       date  payment    cogs  gross_income  rating     total  \\\n",
       "643  29.0080 2019-03-30        1  580.16       29.0080     4.0  609.1680   \n",
       "452  15.9025 2019-03-16        2  318.05       15.9025     4.8  333.9525   \n",
       "528  27.1800 2019-02-07        1  543.60       27.1800     6.1  570.7800   \n",
       "\n",
       "     hour  min  day  month  year  \n",
       "643    19   26    3     30  2019  \n",
       "452    12   43    3     16  2019  \n",
       "528    11   28    2      7  2019  "
      ]
     },
     "execution_count": 65,
     "metadata": {},
     "output_type": "execute_result"
    }
   ],
   "source": [
    "cleandf.sample(3)"
   ]
  },
  {
   "cell_type": "markdown",
   "id": "c415bc7a",
   "metadata": {},
   "source": [
    "## Generating cyclical time features\n"
   ]
  },
  {
   "cell_type": "code",
   "execution_count": 66,
   "id": "bfa5cc50",
   "metadata": {},
   "outputs": [],
   "source": [
    "# Lets convert hours to cos and sin\n",
    "# This will help the machine learn easier since our time is in 24 hrs. \n",
    "# This is because theres no way youll convince the machine 0 hrs comes immediately after 23hrs\n",
    "\n",
    "def generate_cyclical_features(df, col_name, period, start_num=0):\n",
    "    kwargs = {\n",
    "        f'sin_{col_name}' : lambda x: np.sin(2*np.pi*(cleandf['hour']-start_num)/period),\n",
    "        f'cos_{col_name}' : lambda x: np.cos(2*np.pi*(cleandf['hour']-start_num)/period)    \n",
    "             }\n",
    "    return df.assign(**kwargs).drop(columns=[col_name])\n",
    "\n",
    "cleandf = generate_cyclical_features(cleandf, 'hour', 24, 0)\n",
    "\n"
   ]
  },
  {
   "cell_type": "code",
   "execution_count": 67,
   "id": "c154fe87",
   "metadata": {},
   "outputs": [
    {
     "data": {
      "text/html": [
       "<div>\n",
       "<style scoped>\n",
       "    .dataframe tbody tr th:only-of-type {\n",
       "        vertical-align: middle;\n",
       "    }\n",
       "\n",
       "    .dataframe tbody tr th {\n",
       "        vertical-align: top;\n",
       "    }\n",
       "\n",
       "    .dataframe thead th {\n",
       "        text-align: right;\n",
       "    }\n",
       "</style>\n",
       "<table border=\"1\" class=\"dataframe\">\n",
       "  <thead>\n",
       "    <tr style=\"text-align: right;\">\n",
       "      <th></th>\n",
       "      <th>branch</th>\n",
       "      <th>customer_type</th>\n",
       "      <th>gender</th>\n",
       "      <th>product_line</th>\n",
       "      <th>unit_price</th>\n",
       "      <th>quantity</th>\n",
       "      <th>tax</th>\n",
       "      <th>date</th>\n",
       "      <th>payment</th>\n",
       "      <th>cogs</th>\n",
       "      <th>gross_income</th>\n",
       "      <th>rating</th>\n",
       "      <th>total</th>\n",
       "      <th>min</th>\n",
       "      <th>day</th>\n",
       "      <th>month</th>\n",
       "      <th>year</th>\n",
       "      <th>sin_hour</th>\n",
       "      <th>cos_hour</th>\n",
       "    </tr>\n",
       "  </thead>\n",
       "  <tbody>\n",
       "    <tr>\n",
       "      <th>17</th>\n",
       "      <td>0</td>\n",
       "      <td>1</td>\n",
       "      <td>1</td>\n",
       "      <td>5</td>\n",
       "      <td>72.61</td>\n",
       "      <td>6</td>\n",
       "      <td>21.783</td>\n",
       "      <td>2019-01-01</td>\n",
       "      <td>1</td>\n",
       "      <td>435.66</td>\n",
       "      <td>21.783</td>\n",
       "      <td>6.9</td>\n",
       "      <td>457.443</td>\n",
       "      <td>39</td>\n",
       "      <td>1</td>\n",
       "      <td>1</td>\n",
       "      <td>2019</td>\n",
       "      <td>0.500000</td>\n",
       "      <td>-0.866025</td>\n",
       "    </tr>\n",
       "    <tr>\n",
       "      <th>970</th>\n",
       "      <td>1</td>\n",
       "      <td>0</td>\n",
       "      <td>0</td>\n",
       "      <td>2</td>\n",
       "      <td>84.63</td>\n",
       "      <td>10</td>\n",
       "      <td>42.315</td>\n",
       "      <td>2019-01-01</td>\n",
       "      <td>1</td>\n",
       "      <td>846.30</td>\n",
       "      <td>42.315</td>\n",
       "      <td>9.0</td>\n",
       "      <td>888.615</td>\n",
       "      <td>36</td>\n",
       "      <td>1</td>\n",
       "      <td>1</td>\n",
       "      <td>2019</td>\n",
       "      <td>0.258819</td>\n",
       "      <td>-0.965926</td>\n",
       "    </tr>\n",
       "    <tr>\n",
       "      <th>839</th>\n",
       "      <td>2</td>\n",
       "      <td>0</td>\n",
       "      <td>0</td>\n",
       "      <td>5</td>\n",
       "      <td>29.22</td>\n",
       "      <td>6</td>\n",
       "      <td>8.766</td>\n",
       "      <td>2019-01-01</td>\n",
       "      <td>2</td>\n",
       "      <td>175.32</td>\n",
       "      <td>8.766</td>\n",
       "      <td>5.0</td>\n",
       "      <td>184.086</td>\n",
       "      <td>40</td>\n",
       "      <td>1</td>\n",
       "      <td>1</td>\n",
       "      <td>2019</td>\n",
       "      <td>0.258819</td>\n",
       "      <td>-0.965926</td>\n",
       "    </tr>\n",
       "    <tr>\n",
       "      <th>523</th>\n",
       "      <td>2</td>\n",
       "      <td>1</td>\n",
       "      <td>1</td>\n",
       "      <td>3</td>\n",
       "      <td>62.87</td>\n",
       "      <td>2</td>\n",
       "      <td>6.287</td>\n",
       "      <td>2019-01-01</td>\n",
       "      <td>0</td>\n",
       "      <td>125.74</td>\n",
       "      <td>6.287</td>\n",
       "      <td>5.0</td>\n",
       "      <td>132.027</td>\n",
       "      <td>43</td>\n",
       "      <td>1</td>\n",
       "      <td>1</td>\n",
       "      <td>2019</td>\n",
       "      <td>0.258819</td>\n",
       "      <td>-0.965926</td>\n",
       "    </tr>\n",
       "    <tr>\n",
       "      <th>567</th>\n",
       "      <td>0</td>\n",
       "      <td>1</td>\n",
       "      <td>0</td>\n",
       "      <td>1</td>\n",
       "      <td>65.74</td>\n",
       "      <td>9</td>\n",
       "      <td>29.583</td>\n",
       "      <td>2019-01-01</td>\n",
       "      <td>0</td>\n",
       "      <td>591.66</td>\n",
       "      <td>29.583</td>\n",
       "      <td>7.7</td>\n",
       "      <td>621.243</td>\n",
       "      <td>55</td>\n",
       "      <td>1</td>\n",
       "      <td>1</td>\n",
       "      <td>2019</td>\n",
       "      <td>-0.258819</td>\n",
       "      <td>-0.965926</td>\n",
       "    </tr>\n",
       "  </tbody>\n",
       "</table>\n",
       "</div>"
      ],
      "text/plain": [
       "     branch  customer_type  gender  product_line  unit_price  quantity  \\\n",
       "17        0              1       1             5       72.61         6   \n",
       "970       1              0       0             2       84.63        10   \n",
       "839       2              0       0             5       29.22         6   \n",
       "523       2              1       1             3       62.87         2   \n",
       "567       0              1       0             1       65.74         9   \n",
       "\n",
       "        tax       date  payment    cogs  gross_income  rating    total  min  \\\n",
       "17   21.783 2019-01-01        1  435.66        21.783     6.9  457.443   39   \n",
       "970  42.315 2019-01-01        1  846.30        42.315     9.0  888.615   36   \n",
       "839   8.766 2019-01-01        2  175.32         8.766     5.0  184.086   40   \n",
       "523   6.287 2019-01-01        0  125.74         6.287     5.0  132.027   43   \n",
       "567  29.583 2019-01-01        0  591.66        29.583     7.7  621.243   55   \n",
       "\n",
       "     day  month  year  sin_hour  cos_hour  \n",
       "17     1      1  2019  0.500000 -0.866025  \n",
       "970    1      1  2019  0.258819 -0.965926  \n",
       "839    1      1  2019  0.258819 -0.965926  \n",
       "523    1      1  2019  0.258819 -0.965926  \n",
       "567    1      1  2019 -0.258819 -0.965926  "
      ]
     },
     "execution_count": 67,
     "metadata": {},
     "output_type": "execute_result"
    }
   ],
   "source": [
    "cleandf.head()"
   ]
  },
  {
   "cell_type": "markdown",
   "id": "7db1573c",
   "metadata": {},
   "source": [
    "## Principal Component Analysis"
   ]
  },
  {
   "cell_type": "code",
   "execution_count": 68,
   "id": "a7720a04",
   "metadata": {},
   "outputs": [],
   "source": [
    "cleandf_01.to_csv('cleaned.csv',index = False)"
   ]
  },
  {
   "cell_type": "code",
   "execution_count": 69,
   "id": "8838596e",
   "metadata": {
    "scrolled": true
   },
   "outputs": [
    {
     "data": {
      "text/plain": [
       "Index(['branch', 'customer_type', 'gender', 'product_line', 'unit_price',\n",
       "       'quantity', 'tax', 'date', 'payment', 'cogs', 'gross_income', 'rating',\n",
       "       'total', 'min', 'day', 'month', 'year', 'sin_hour', 'cos_hour'],\n",
       "      dtype='object')"
      ]
     },
     "execution_count": 69,
     "metadata": {},
     "output_type": "execute_result"
    }
   ],
   "source": [
    "cleandf.columns"
   ]
  },
  {
   "cell_type": "code",
   "execution_count": 70,
   "id": "9e31a829",
   "metadata": {},
   "outputs": [
    {
     "data": {
      "text/html": [
       "<div>\n",
       "<style scoped>\n",
       "    .dataframe tbody tr th:only-of-type {\n",
       "        vertical-align: middle;\n",
       "    }\n",
       "\n",
       "    .dataframe tbody tr th {\n",
       "        vertical-align: top;\n",
       "    }\n",
       "\n",
       "    .dataframe thead th {\n",
       "        text-align: right;\n",
       "    }\n",
       "</style>\n",
       "<table border=\"1\" class=\"dataframe\">\n",
       "  <thead>\n",
       "    <tr style=\"text-align: right;\">\n",
       "      <th></th>\n",
       "      <th>branch</th>\n",
       "      <th>customer_type</th>\n",
       "      <th>gender</th>\n",
       "      <th>product_line</th>\n",
       "      <th>unit_price</th>\n",
       "      <th>quantity</th>\n",
       "      <th>tax</th>\n",
       "      <th>date</th>\n",
       "      <th>payment</th>\n",
       "      <th>cogs</th>\n",
       "      <th>gross_income</th>\n",
       "      <th>rating</th>\n",
       "      <th>total</th>\n",
       "      <th>min</th>\n",
       "      <th>day</th>\n",
       "      <th>month</th>\n",
       "      <th>year</th>\n",
       "      <th>sin_hour</th>\n",
       "      <th>cos_hour</th>\n",
       "    </tr>\n",
       "  </thead>\n",
       "  <tbody>\n",
       "    <tr>\n",
       "      <th>17</th>\n",
       "      <td>0</td>\n",
       "      <td>1</td>\n",
       "      <td>1</td>\n",
       "      <td>5</td>\n",
       "      <td>72.61</td>\n",
       "      <td>6</td>\n",
       "      <td>21.783</td>\n",
       "      <td>2019-01-01</td>\n",
       "      <td>1</td>\n",
       "      <td>435.66</td>\n",
       "      <td>21.783</td>\n",
       "      <td>6.9</td>\n",
       "      <td>457.443</td>\n",
       "      <td>39</td>\n",
       "      <td>1</td>\n",
       "      <td>1</td>\n",
       "      <td>2019</td>\n",
       "      <td>0.500000</td>\n",
       "      <td>-0.866025</td>\n",
       "    </tr>\n",
       "    <tr>\n",
       "      <th>970</th>\n",
       "      <td>1</td>\n",
       "      <td>0</td>\n",
       "      <td>0</td>\n",
       "      <td>2</td>\n",
       "      <td>84.63</td>\n",
       "      <td>10</td>\n",
       "      <td>42.315</td>\n",
       "      <td>2019-01-01</td>\n",
       "      <td>1</td>\n",
       "      <td>846.30</td>\n",
       "      <td>42.315</td>\n",
       "      <td>9.0</td>\n",
       "      <td>888.615</td>\n",
       "      <td>36</td>\n",
       "      <td>1</td>\n",
       "      <td>1</td>\n",
       "      <td>2019</td>\n",
       "      <td>0.258819</td>\n",
       "      <td>-0.965926</td>\n",
       "    </tr>\n",
       "    <tr>\n",
       "      <th>839</th>\n",
       "      <td>2</td>\n",
       "      <td>0</td>\n",
       "      <td>0</td>\n",
       "      <td>5</td>\n",
       "      <td>29.22</td>\n",
       "      <td>6</td>\n",
       "      <td>8.766</td>\n",
       "      <td>2019-01-01</td>\n",
       "      <td>2</td>\n",
       "      <td>175.32</td>\n",
       "      <td>8.766</td>\n",
       "      <td>5.0</td>\n",
       "      <td>184.086</td>\n",
       "      <td>40</td>\n",
       "      <td>1</td>\n",
       "      <td>1</td>\n",
       "      <td>2019</td>\n",
       "      <td>0.258819</td>\n",
       "      <td>-0.965926</td>\n",
       "    </tr>\n",
       "    <tr>\n",
       "      <th>523</th>\n",
       "      <td>2</td>\n",
       "      <td>1</td>\n",
       "      <td>1</td>\n",
       "      <td>3</td>\n",
       "      <td>62.87</td>\n",
       "      <td>2</td>\n",
       "      <td>6.287</td>\n",
       "      <td>2019-01-01</td>\n",
       "      <td>0</td>\n",
       "      <td>125.74</td>\n",
       "      <td>6.287</td>\n",
       "      <td>5.0</td>\n",
       "      <td>132.027</td>\n",
       "      <td>43</td>\n",
       "      <td>1</td>\n",
       "      <td>1</td>\n",
       "      <td>2019</td>\n",
       "      <td>0.258819</td>\n",
       "      <td>-0.965926</td>\n",
       "    </tr>\n",
       "    <tr>\n",
       "      <th>567</th>\n",
       "      <td>0</td>\n",
       "      <td>1</td>\n",
       "      <td>0</td>\n",
       "      <td>1</td>\n",
       "      <td>65.74</td>\n",
       "      <td>9</td>\n",
       "      <td>29.583</td>\n",
       "      <td>2019-01-01</td>\n",
       "      <td>0</td>\n",
       "      <td>591.66</td>\n",
       "      <td>29.583</td>\n",
       "      <td>7.7</td>\n",
       "      <td>621.243</td>\n",
       "      <td>55</td>\n",
       "      <td>1</td>\n",
       "      <td>1</td>\n",
       "      <td>2019</td>\n",
       "      <td>-0.258819</td>\n",
       "      <td>-0.965926</td>\n",
       "    </tr>\n",
       "  </tbody>\n",
       "</table>\n",
       "</div>"
      ],
      "text/plain": [
       "     branch  customer_type  gender  product_line  unit_price  quantity  \\\n",
       "17        0              1       1             5       72.61         6   \n",
       "970       1              0       0             2       84.63        10   \n",
       "839       2              0       0             5       29.22         6   \n",
       "523       2              1       1             3       62.87         2   \n",
       "567       0              1       0             1       65.74         9   \n",
       "\n",
       "        tax       date  payment    cogs  gross_income  rating    total  min  \\\n",
       "17   21.783 2019-01-01        1  435.66        21.783     6.9  457.443   39   \n",
       "970  42.315 2019-01-01        1  846.30        42.315     9.0  888.615   36   \n",
       "839   8.766 2019-01-01        2  175.32         8.766     5.0  184.086   40   \n",
       "523   6.287 2019-01-01        0  125.74         6.287     5.0  132.027   43   \n",
       "567  29.583 2019-01-01        0  591.66        29.583     7.7  621.243   55   \n",
       "\n",
       "     day  month  year  sin_hour  cos_hour  \n",
       "17     1      1  2019  0.500000 -0.866025  \n",
       "970    1      1  2019  0.258819 -0.965926  \n",
       "839    1      1  2019  0.258819 -0.965926  \n",
       "523    1      1  2019  0.258819 -0.965926  \n",
       "567    1      1  2019 -0.258819 -0.965926  "
      ]
     },
     "execution_count": 70,
     "metadata": {},
     "output_type": "execute_result"
    }
   ],
   "source": [
    "cleandf.head(5)"
   ]
  },
  {
   "cell_type": "code",
   "execution_count": 71,
   "id": "bb1698bb",
   "metadata": {},
   "outputs": [],
   "source": [
    "# Preprocessing data\n",
    "\n",
    "X = cleandf.drop(['total','date','rating'],1)\n",
    "y = cleandf['total']"
   ]
  },
  {
   "cell_type": "code",
   "execution_count": 72,
   "id": "1aba3c9e",
   "metadata": {},
   "outputs": [],
   "source": [
    "# Splitting into train and test data\n",
    "\n",
    "from sklearn.model_selection import train_test_split\n",
    "X_train,X_test,y_train,y_test = train_test_split(X,y,test_size = 0.3,shuffle = False)"
   ]
  },
  {
   "cell_type": "code",
   "execution_count": 73,
   "id": "925ce604",
   "metadata": {},
   "outputs": [],
   "source": [
    "# Normalization\n",
    "from sklearn.preprocessing import StandardScaler\n",
    "\n",
    "sc = StandardScaler()\n",
    "X_train = sc.fit_transform(X_train)\n",
    "X_test = sc.transform(X_test)"
   ]
  },
  {
   "cell_type": "code",
   "execution_count": 74,
   "id": "eb7a9c4e",
   "metadata": {},
   "outputs": [],
   "source": [
    "# Applying PCA\n",
    "from sklearn.decomposition import PCA\n",
    "\n",
    "pca = PCA()\n",
    "X_train = pca.fit_transform(X_train)\n",
    "X_test = pca.transform(X_test)"
   ]
  },
  {
   "cell_type": "code",
   "execution_count": 75,
   "id": "080f6960",
   "metadata": {
    "scrolled": true
   },
   "outputs": [
    {
     "data": {
      "text/plain": [
       "array([2.62773563e-01, 1.18597835e-01, 9.30786032e-02, 7.56077242e-02,\n",
       "       7.23173586e-02, 6.84007031e-02, 6.54411833e-02, 6.27077792e-02,\n",
       "       6.12459659e-02, 5.68878371e-02, 4.07415671e-02, 1.66855286e-02,\n",
       "       5.51435125e-03, 7.68665505e-33, 1.56209300e-33, 2.41275284e-67])"
      ]
     },
     "execution_count": 75,
     "metadata": {},
     "output_type": "execute_result"
    }
   ],
   "source": [
    "explained_variance = pca.explained_variance_ratio_\n",
    "explained_variance"
   ]
  },
  {
   "cell_type": "code",
   "execution_count": 76,
   "id": "3272bf48",
   "metadata": {},
   "outputs": [
    {
     "data": {
      "text/plain": [
       "Index(['branch', 'customer_type', 'gender', 'product_line', 'unit_price',\n",
       "       'quantity', 'tax', 'date', 'payment', 'cogs', 'gross_income', 'rating',\n",
       "       'total', 'min', 'day', 'month', 'year', 'sin_hour', 'cos_hour'],\n",
       "      dtype='object')"
      ]
     },
     "execution_count": 76,
     "metadata": {},
     "output_type": "execute_result"
    }
   ],
   "source": [
    "cleandf.columns"
   ]
  },
  {
   "cell_type": "code",
   "execution_count": 77,
   "id": "1c2fde31",
   "metadata": {},
   "outputs": [
    {
     "data": {
      "image/png": "[encoded data removed]",
      "text/plain": [
       "<Figure size 432x288 with 1 Axes>"
      ]
     },
     "metadata": {
      "needs_background": "light"
     },
     "output_type": "display_data"
    }
   ],
   "source": [
    "plt.plot(np.cumsum(pca.explained_variance_ratio_));"
   ]
  },
  {
   "cell_type": "code",
   "execution_count": 78,
   "id": "5ff2b5fc",
   "metadata": {},
   "outputs": [],
   "source": [
    "from sklearn.decomposition import PCA\n",
    "\n",
    "pca = PCA(n_components=11)\n",
    "X_train = pca.fit_transform(X_train)\n",
    "X_test = pca.transform(X_test)"
   ]
  },
  {
   "cell_type": "code",
   "execution_count": 79,
   "id": "5f3ec0bb",
   "metadata": {},
   "outputs": [],
   "source": [
    "from sklearn.ensemble import RandomForestRegressor\n",
    "\n",
    "classifier = RandomForestRegressor(max_depth=2, random_state=0)\n",
    "classifier.fit(X_train, y_train)\n",
    "\n",
    "# Predicting the Test set results\n",
    "y_pred = classifier.predict(X_test)"
   ]
  },
  {
   "cell_type": "code",
   "execution_count": 80,
   "id": "ac33026c",
   "metadata": {},
   "outputs": [
    {
     "name": "stdout",
     "output_type": "stream",
     "text": [
      "RSME is :  54.056327005797996\n",
      "MSE is :  2922.086489357766\n"
     ]
    }
   ],
   "source": [
    "from sklearn.metrics import mean_squared_error\n",
    "\n",
    "def root_mean_squared_error(actual, predictions):\n",
    "    return np.sqrt(mean_squared_error(actual, predictions))\n",
    "\n",
    "# Evaluating the model using RMSE Evaluation Metric\n",
    "print('RSME is : ',root_mean_squared_error(y_test, y_pred))\n",
    "\n",
    "print('MSE is : ', mean_squared_error(y_test,y_pred))"
   ]
  },
  {
   "cell_type": "markdown",
   "id": "feebae6d",
   "metadata": {},
   "source": [
    "# Implementing the Solution"
   ]
  },
  {
   "cell_type": "markdown",
   "id": "e490998c",
   "metadata": {},
   "source": [
    "# XG Boost"
   ]
  },
  {
   "cell_type": "code",
   "execution_count": 81,
   "id": "35d45fe9",
   "metadata": {
    "scrolled": true
   },
   "outputs": [
    {
     "data": {
      "text/plain": [
       "Index(['branch', 'customer_type', 'gender', 'product_line', 'unit_price',\n",
       "       'quantity', 'tax', 'date', 'payment', 'cogs', 'gross_income', 'rating',\n",
       "       'total', 'min', 'day', 'month', 'year', 'sin_hour', 'cos_hour'],\n",
       "      dtype='object')"
      ]
     },
     "execution_count": 81,
     "metadata": {},
     "output_type": "execute_result"
    }
   ],
   "source": [
    "cleandf.columns"
   ]
  },
  {
   "cell_type": "code",
   "execution_count": 82,
   "id": "321ca2ab",
   "metadata": {},
   "outputs": [
    {
     "data": {
      "text/html": [
       "<div>\n",
       "<style scoped>\n",
       "    .dataframe tbody tr th:only-of-type {\n",
       "        vertical-align: middle;\n",
       "    }\n",
       "\n",
       "    .dataframe tbody tr th {\n",
       "        vertical-align: top;\n",
       "    }\n",
       "\n",
       "    .dataframe thead th {\n",
       "        text-align: right;\n",
       "    }\n",
       "</style>\n",
       "<table border=\"1\" class=\"dataframe\">\n",
       "  <thead>\n",
       "    <tr style=\"text-align: right;\">\n",
       "      <th></th>\n",
       "      <th>branch</th>\n",
       "      <th>customer_type</th>\n",
       "      <th>gender</th>\n",
       "      <th>product_line</th>\n",
       "      <th>unit_price</th>\n",
       "      <th>quantity</th>\n",
       "      <th>tax</th>\n",
       "      <th>date</th>\n",
       "      <th>payment</th>\n",
       "      <th>cogs</th>\n",
       "      <th>gross_income</th>\n",
       "      <th>rating</th>\n",
       "      <th>total</th>\n",
       "      <th>min</th>\n",
       "      <th>day</th>\n",
       "      <th>month</th>\n",
       "      <th>year</th>\n",
       "      <th>sin_hour</th>\n",
       "      <th>cos_hour</th>\n",
       "    </tr>\n",
       "  </thead>\n",
       "  <tbody>\n",
       "    <tr>\n",
       "      <th>17</th>\n",
       "      <td>0</td>\n",
       "      <td>1</td>\n",
       "      <td>1</td>\n",
       "      <td>5</td>\n",
       "      <td>72.61</td>\n",
       "      <td>6</td>\n",
       "      <td>21.783</td>\n",
       "      <td>2019-01-01</td>\n",
       "      <td>1</td>\n",
       "      <td>435.66</td>\n",
       "      <td>21.783</td>\n",
       "      <td>6.9</td>\n",
       "      <td>457.443</td>\n",
       "      <td>39</td>\n",
       "      <td>1</td>\n",
       "      <td>1</td>\n",
       "      <td>2019</td>\n",
       "      <td>0.500000</td>\n",
       "      <td>-0.866025</td>\n",
       "    </tr>\n",
       "    <tr>\n",
       "      <th>970</th>\n",
       "      <td>1</td>\n",
       "      <td>0</td>\n",
       "      <td>0</td>\n",
       "      <td>2</td>\n",
       "      <td>84.63</td>\n",
       "      <td>10</td>\n",
       "      <td>42.315</td>\n",
       "      <td>2019-01-01</td>\n",
       "      <td>1</td>\n",
       "      <td>846.30</td>\n",
       "      <td>42.315</td>\n",
       "      <td>9.0</td>\n",
       "      <td>888.615</td>\n",
       "      <td>36</td>\n",
       "      <td>1</td>\n",
       "      <td>1</td>\n",
       "      <td>2019</td>\n",
       "      <td>0.258819</td>\n",
       "      <td>-0.965926</td>\n",
       "    </tr>\n",
       "    <tr>\n",
       "      <th>839</th>\n",
       "      <td>2</td>\n",
       "      <td>0</td>\n",
       "      <td>0</td>\n",
       "      <td>5</td>\n",
       "      <td>29.22</td>\n",
       "      <td>6</td>\n",
       "      <td>8.766</td>\n",
       "      <td>2019-01-01</td>\n",
       "      <td>2</td>\n",
       "      <td>175.32</td>\n",
       "      <td>8.766</td>\n",
       "      <td>5.0</td>\n",
       "      <td>184.086</td>\n",
       "      <td>40</td>\n",
       "      <td>1</td>\n",
       "      <td>1</td>\n",
       "      <td>2019</td>\n",
       "      <td>0.258819</td>\n",
       "      <td>-0.965926</td>\n",
       "    </tr>\n",
       "    <tr>\n",
       "      <th>523</th>\n",
       "      <td>2</td>\n",
       "      <td>1</td>\n",
       "      <td>1</td>\n",
       "      <td>3</td>\n",
       "      <td>62.87</td>\n",
       "      <td>2</td>\n",
       "      <td>6.287</td>\n",
       "      <td>2019-01-01</td>\n",
       "      <td>0</td>\n",
       "      <td>125.74</td>\n",
       "      <td>6.287</td>\n",
       "      <td>5.0</td>\n",
       "      <td>132.027</td>\n",
       "      <td>43</td>\n",
       "      <td>1</td>\n",
       "      <td>1</td>\n",
       "      <td>2019</td>\n",
       "      <td>0.258819</td>\n",
       "      <td>-0.965926</td>\n",
       "    </tr>\n",
       "    <tr>\n",
       "      <th>567</th>\n",
       "      <td>0</td>\n",
       "      <td>1</td>\n",
       "      <td>0</td>\n",
       "      <td>1</td>\n",
       "      <td>65.74</td>\n",
       "      <td>9</td>\n",
       "      <td>29.583</td>\n",
       "      <td>2019-01-01</td>\n",
       "      <td>0</td>\n",
       "      <td>591.66</td>\n",
       "      <td>29.583</td>\n",
       "      <td>7.7</td>\n",
       "      <td>621.243</td>\n",
       "      <td>55</td>\n",
       "      <td>1</td>\n",
       "      <td>1</td>\n",
       "      <td>2019</td>\n",
       "      <td>-0.258819</td>\n",
       "      <td>-0.965926</td>\n",
       "    </tr>\n",
       "  </tbody>\n",
       "</table>\n",
       "</div>"
      ],
      "text/plain": [
       "     branch  customer_type  gender  product_line  unit_price  quantity  \\\n",
       "17        0              1       1             5       72.61         6   \n",
       "970       1              0       0             2       84.63        10   \n",
       "839       2              0       0             5       29.22         6   \n",
       "523       2              1       1             3       62.87         2   \n",
       "567       0              1       0             1       65.74         9   \n",
       "\n",
       "        tax       date  payment    cogs  gross_income  rating    total  min  \\\n",
       "17   21.783 2019-01-01        1  435.66        21.783     6.9  457.443   39   \n",
       "970  42.315 2019-01-01        1  846.30        42.315     9.0  888.615   36   \n",
       "839   8.766 2019-01-01        2  175.32         8.766     5.0  184.086   40   \n",
       "523   6.287 2019-01-01        0  125.74         6.287     5.0  132.027   43   \n",
       "567  29.583 2019-01-01        0  591.66        29.583     7.7  621.243   55   \n",
       "\n",
       "     day  month  year  sin_hour  cos_hour  \n",
       "17     1      1  2019  0.500000 -0.866025  \n",
       "970    1      1  2019  0.258819 -0.965926  \n",
       "839    1      1  2019  0.258819 -0.965926  \n",
       "523    1      1  2019  0.258819 -0.965926  \n",
       "567    1      1  2019 -0.258819 -0.965926  "
      ]
     },
     "execution_count": 82,
     "metadata": {},
     "output_type": "execute_result"
    }
   ],
   "source": [
    "cleandf.head()"
   ]
  },
  {
   "cell_type": "code",
   "execution_count": 83,
   "id": "43ed5fae",
   "metadata": {},
   "outputs": [],
   "source": [
    "# Linear regression\n",
    "X = cleandf.drop(['total','date','rating'],1)\n",
    "y = cleandf['total']"
   ]
  },
  {
   "cell_type": "code",
   "execution_count": 84,
   "id": "f39ba302",
   "metadata": {},
   "outputs": [],
   "source": [
    "X_train, X_test, y_train, y_test = train_test_split(X, y, test_size=0.3, shuffle = False)"
   ]
  },
  {
   "cell_type": "code",
   "execution_count": 85,
   "id": "f11f3467",
   "metadata": {},
   "outputs": [],
   "source": [
    "import xgboost as xg"
   ]
  },
  {
   "cell_type": "code",
   "execution_count": 86,
   "id": "5959473a",
   "metadata": {},
   "outputs": [],
   "source": [
    "# model without hyperparameters\n",
    "from sklearn.linear_model import LinearRegression\n",
    "\n",
    "\n",
    "xgb_r = xg.XGBRegressor()\n",
    "  \n",
    "# Fitting the model\n",
    "xgb_r.fit(X_train, y_train)\n",
    "  \n",
    "# Predict the model\n",
    "y_pred = xgb_r.predict(X_test)"
   ]
  },
  {
   "cell_type": "code",
   "execution_count": 87,
   "id": "6fb196bf",
   "metadata": {},
   "outputs": [
    {
     "data": {
      "text/html": [
       "<div>\n",
       "<style scoped>\n",
       "    .dataframe tbody tr th:only-of-type {\n",
       "        vertical-align: middle;\n",
       "    }\n",
       "\n",
       "    .dataframe tbody tr th {\n",
       "        vertical-align: top;\n",
       "    }\n",
       "\n",
       "    .dataframe thead th {\n",
       "        text-align: right;\n",
       "    }\n",
       "</style>\n",
       "<table border=\"1\" class=\"dataframe\">\n",
       "  <thead>\n",
       "    <tr style=\"text-align: right;\">\n",
       "      <th></th>\n",
       "      <th>Actual</th>\n",
       "      <th>Predicted</th>\n",
       "    </tr>\n",
       "  </thead>\n",
       "  <tbody>\n",
       "    <tr>\n",
       "      <th>941</th>\n",
       "      <td>943.2990</td>\n",
       "      <td>927.072571</td>\n",
       "    </tr>\n",
       "    <tr>\n",
       "      <th>270</th>\n",
       "      <td>354.0075</td>\n",
       "      <td>350.949585</td>\n",
       "    </tr>\n",
       "  </tbody>\n",
       "</table>\n",
       "</div>"
      ],
      "text/plain": [
       "       Actual   Predicted\n",
       "941  943.2990  927.072571\n",
       "270  354.0075  350.949585"
      ]
     },
     "execution_count": 87,
     "metadata": {},
     "output_type": "execute_result"
    }
   ],
   "source": [
    "df = pd.DataFrame({'Actual': y_test, 'Predicted': y_pred})\n",
    "df.sample(2)"
   ]
  },
  {
   "cell_type": "code",
   "execution_count": 88,
   "id": "f337f67e",
   "metadata": {},
   "outputs": [
    {
     "data": {
      "text/html": [
       "<div>\n",
       "<style scoped>\n",
       "    .dataframe tbody tr th:only-of-type {\n",
       "        vertical-align: middle;\n",
       "    }\n",
       "\n",
       "    .dataframe tbody tr th {\n",
       "        vertical-align: top;\n",
       "    }\n",
       "\n",
       "    .dataframe thead th {\n",
       "        text-align: right;\n",
       "    }\n",
       "</style>\n",
       "<table border=\"1\" class=\"dataframe\">\n",
       "  <thead>\n",
       "    <tr style=\"text-align: right;\">\n",
       "      <th></th>\n",
       "      <th>Actual</th>\n",
       "      <th>Predicted</th>\n",
       "    </tr>\n",
       "  </thead>\n",
       "  <tbody>\n",
       "    <tr>\n",
       "      <th>count</th>\n",
       "      <td>300.000000</td>\n",
       "      <td>300.000000</td>\n",
       "    </tr>\n",
       "    <tr>\n",
       "      <th>mean</th>\n",
       "      <td>315.956515</td>\n",
       "      <td>315.500977</td>\n",
       "    </tr>\n",
       "    <tr>\n",
       "      <th>std</th>\n",
       "      <td>240.994547</td>\n",
       "      <td>240.921860</td>\n",
       "    </tr>\n",
       "    <tr>\n",
       "      <th>min</th>\n",
       "      <td>16.275000</td>\n",
       "      <td>16.399591</td>\n",
       "    </tr>\n",
       "    <tr>\n",
       "      <th>25%</th>\n",
       "      <td>126.824250</td>\n",
       "      <td>126.685297</td>\n",
       "    </tr>\n",
       "    <tr>\n",
       "      <th>50%</th>\n",
       "      <td>234.218250</td>\n",
       "      <td>232.036667</td>\n",
       "    </tr>\n",
       "    <tr>\n",
       "      <th>75%</th>\n",
       "      <td>461.377875</td>\n",
       "      <td>456.903938</td>\n",
       "    </tr>\n",
       "    <tr>\n",
       "      <th>max</th>\n",
       "      <td>951.825000</td>\n",
       "      <td>966.394104</td>\n",
       "    </tr>\n",
       "  </tbody>\n",
       "</table>\n",
       "</div>"
      ],
      "text/plain": [
       "           Actual   Predicted\n",
       "count  300.000000  300.000000\n",
       "mean   315.956515  315.500977\n",
       "std    240.994547  240.921860\n",
       "min     16.275000   16.399591\n",
       "25%    126.824250  126.685297\n",
       "50%    234.218250  232.036667\n",
       "75%    461.377875  456.903938\n",
       "max    951.825000  966.394104"
      ]
     },
     "execution_count": 88,
     "metadata": {},
     "output_type": "execute_result"
    }
   ],
   "source": [
    "df.describe()"
   ]
  },
  {
   "cell_type": "code",
   "execution_count": null,
   "id": "5071c260",
   "metadata": {},
   "outputs": [],
   "source": []
  },
  {
   "cell_type": "code",
   "execution_count": null,
   "id": "fdda6213",
   "metadata": {},
   "outputs": [],
   "source": []
  },
  {
   "cell_type": "code",
   "execution_count": 89,
   "id": "156788bc",
   "metadata": {},
   "outputs": [
    {
     "name": "stdout",
     "output_type": "stream",
     "text": [
      "[13:29:39] WARNING: C:/Users/administrator/workspace/xgboost-win64_release_1.6.0/src/objective/regression_obj.cu:203: reg:linear is now deprecated in favor of reg:squarederror.\n"
     ]
    }
   ],
   "source": [
    "from sklearn.linear_model import LinearRegression\n",
    "\n",
    "\n",
    "xgb_r = xg.XGBRegressor(objective ='reg:linear',\n",
    "                  n_estimators = 10)\n",
    "  \n",
    "# Fitting the model\n",
    "model = xgb_r.fit(X_train, y_train)\n",
    "  \n",
    "# Predict the model\n",
    "y_pred = xgb_r.predict(X_test)"
   ]
  },
  {
   "cell_type": "code",
   "execution_count": 90,
   "id": "2ea6fd10",
   "metadata": {
    "scrolled": true
   },
   "outputs": [
    {
     "data": {
      "text/html": [
       "<div>\n",
       "<style scoped>\n",
       "    .dataframe tbody tr th:only-of-type {\n",
       "        vertical-align: middle;\n",
       "    }\n",
       "\n",
       "    .dataframe tbody tr th {\n",
       "        vertical-align: top;\n",
       "    }\n",
       "\n",
       "    .dataframe thead th {\n",
       "        text-align: right;\n",
       "    }\n",
       "</style>\n",
       "<table border=\"1\" class=\"dataframe\">\n",
       "  <thead>\n",
       "    <tr style=\"text-align: right;\">\n",
       "      <th></th>\n",
       "      <th>Actual</th>\n",
       "      <th>Predicted</th>\n",
       "    </tr>\n",
       "  </thead>\n",
       "  <tbody>\n",
       "    <tr>\n",
       "      <th>803</th>\n",
       "      <td>462.672</td>\n",
       "      <td>441.052673</td>\n",
       "    </tr>\n",
       "    <tr>\n",
       "      <th>589</th>\n",
       "      <td>76.755</td>\n",
       "      <td>75.575020</td>\n",
       "    </tr>\n",
       "    <tr>\n",
       "      <th>692</th>\n",
       "      <td>510.615</td>\n",
       "      <td>482.477539</td>\n",
       "    </tr>\n",
       "    <tr>\n",
       "      <th>283</th>\n",
       "      <td>628.929</td>\n",
       "      <td>610.347168</td>\n",
       "    </tr>\n",
       "    <tr>\n",
       "      <th>966</th>\n",
       "      <td>314.685</td>\n",
       "      <td>302.708160</td>\n",
       "    </tr>\n",
       "    <tr>\n",
       "      <th>...</th>\n",
       "      <td>...</td>\n",
       "      <td>...</td>\n",
       "    </tr>\n",
       "    <tr>\n",
       "      <th>671</th>\n",
       "      <td>196.140</td>\n",
       "      <td>189.207291</td>\n",
       "    </tr>\n",
       "    <tr>\n",
       "      <th>474</th>\n",
       "      <td>338.310</td>\n",
       "      <td>329.245270</td>\n",
       "    </tr>\n",
       "    <tr>\n",
       "      <th>473</th>\n",
       "      <td>609.588</td>\n",
       "      <td>579.570862</td>\n",
       "    </tr>\n",
       "    <tr>\n",
       "      <th>643</th>\n",
       "      <td>609.168</td>\n",
       "      <td>579.570862</td>\n",
       "    </tr>\n",
       "    <tr>\n",
       "      <th>963</th>\n",
       "      <td>304.983</td>\n",
       "      <td>299.950867</td>\n",
       "    </tr>\n",
       "  </tbody>\n",
       "</table>\n",
       "<p>300 rows × 2 columns</p>\n",
       "</div>"
      ],
      "text/plain": [
       "      Actual   Predicted\n",
       "803  462.672  441.052673\n",
       "589   76.755   75.575020\n",
       "692  510.615  482.477539\n",
       "283  628.929  610.347168\n",
       "966  314.685  302.708160\n",
       "..       ...         ...\n",
       "671  196.140  189.207291\n",
       "474  338.310  329.245270\n",
       "473  609.588  579.570862\n",
       "643  609.168  579.570862\n",
       "963  304.983  299.950867\n",
       "\n",
       "[300 rows x 2 columns]"
      ]
     },
     "execution_count": 90,
     "metadata": {},
     "output_type": "execute_result"
    }
   ],
   "source": [
    "df = pd.DataFrame({'Actual': y_test, 'Predicted': y_pred})\n",
    "df"
   ]
  },
  {
   "cell_type": "code",
   "execution_count": 91,
   "id": "7fe87f2b",
   "metadata": {},
   "outputs": [
    {
     "name": "stdout",
     "output_type": "stream",
     "text": [
      "RMSE :  14.029767\n"
     ]
    }
   ],
   "source": [
    "from sklearn.metrics import mean_squared_error\n",
    "\n",
    "rmse = np.sqrt(mean_squared_error(y_test, y_pred))\n",
    "print(\"RMSE : % f\" %(rmse))"
   ]
  },
  {
   "cell_type": "code",
   "execution_count": 92,
   "id": "a16ed576",
   "metadata": {
    "scrolled": false
   },
   "outputs": [
    {
     "data": {
      "text/html": [
       "<div>\n",
       "<style scoped>\n",
       "    .dataframe tbody tr th:only-of-type {\n",
       "        vertical-align: middle;\n",
       "    }\n",
       "\n",
       "    .dataframe tbody tr th {\n",
       "        vertical-align: top;\n",
       "    }\n",
       "\n",
       "    .dataframe thead th {\n",
       "        text-align: right;\n",
       "    }\n",
       "</style>\n",
       "<table border=\"1\" class=\"dataframe\">\n",
       "  <thead>\n",
       "    <tr style=\"text-align: right;\">\n",
       "      <th></th>\n",
       "      <th>Actual</th>\n",
       "      <th>Predicted</th>\n",
       "    </tr>\n",
       "  </thead>\n",
       "  <tbody>\n",
       "    <tr>\n",
       "      <th>count</th>\n",
       "      <td>300.000000</td>\n",
       "      <td>300.000000</td>\n",
       "    </tr>\n",
       "    <tr>\n",
       "      <th>mean</th>\n",
       "      <td>315.956515</td>\n",
       "      <td>305.885529</td>\n",
       "    </tr>\n",
       "    <tr>\n",
       "      <th>std</th>\n",
       "      <td>240.994547</td>\n",
       "      <td>233.438171</td>\n",
       "    </tr>\n",
       "    <tr>\n",
       "      <th>min</th>\n",
       "      <td>16.275000</td>\n",
       "      <td>15.852458</td>\n",
       "    </tr>\n",
       "    <tr>\n",
       "      <th>25%</th>\n",
       "      <td>126.824250</td>\n",
       "      <td>122.482849</td>\n",
       "    </tr>\n",
       "    <tr>\n",
       "      <th>50%</th>\n",
       "      <td>234.218250</td>\n",
       "      <td>222.075623</td>\n",
       "    </tr>\n",
       "    <tr>\n",
       "      <th>75%</th>\n",
       "      <td>461.377875</td>\n",
       "      <td>441.052673</td>\n",
       "    </tr>\n",
       "    <tr>\n",
       "      <th>max</th>\n",
       "      <td>951.825000</td>\n",
       "      <td>930.425293</td>\n",
       "    </tr>\n",
       "  </tbody>\n",
       "</table>\n",
       "</div>"
      ],
      "text/plain": [
       "           Actual   Predicted\n",
       "count  300.000000  300.000000\n",
       "mean   315.956515  305.885529\n",
       "std    240.994547  233.438171\n",
       "min     16.275000   15.852458\n",
       "25%    126.824250  122.482849\n",
       "50%    234.218250  222.075623\n",
       "75%    461.377875  441.052673\n",
       "max    951.825000  930.425293"
      ]
     },
     "execution_count": 92,
     "metadata": {},
     "output_type": "execute_result"
    }
   ],
   "source": [
    "df.describe()"
   ]
  },
  {
   "cell_type": "code",
   "execution_count": 95,
   "id": "53ebc182",
   "metadata": {
    "scrolled": true
   },
   "outputs": [
    {
     "name": "stdout",
     "output_type": "stream",
     "text": [
      "Mean Absolute Error: 10.177247490946453\n",
      "Mean Squared Error: 196.83435509509619\n",
      "Root Mean Squared Error: 14.02976675127196\n"
     ]
    }
   ],
   "source": [
    "from sklearn.metrics import mean_absolute_error\n",
    "from sklearn import metrics\n",
    "# And now we assess the errors\n",
    "print('Mean Absolute Error:', metrics.mean_absolute_error(y_test, y_pred))  \n",
    "print('Mean Squared Error:', metrics.mean_squared_error(y_test, y_pred))  \n",
    "print('Root Mean Squared Error:', np.sqrt(metrics.mean_squared_error(y_test, y_pred)))"
   ]
  },
  {
   "cell_type": "code",
   "execution_count": null,
   "id": "44d60582",
   "metadata": {
    "scrolled": true
   },
   "outputs": [],
   "source": [
    "import pickle\n",
    "pickle.dump(model, open('model.pkl', 'wb'))"
   ]
  },
  {
   "cell_type": "code",
   "execution_count": null,
   "id": "8eda23a3",
   "metadata": {},
   "outputs": [],
   "source": [
    "\n",
    "\n",
    "# And now we assess the errors\n",
    "print('Mean Absolute Error:', metrics.mean_absolute_error(y_test, y_pred))  \n",
    "print('Mean Squared Error:', metrics.mean_squared_error(y_test, y_pred))  \n",
    "print('Root Mean Squared Error:', np.sqrt(metrics.mean_squared_error(y_test, y_pred)))"
   ]
  },
  {
   "cell_type": "markdown",
   "id": "aecff6ef",
   "metadata": {},
   "source": [
    "# Challenging the solution"
   ]
  },
  {
   "cell_type": "markdown",
   "id": "d65b3709",
   "metadata": {},
   "source": [
    "## Random Forest Regressor"
   ]
  },
  {
   "cell_type": "code",
   "execution_count": null,
   "id": "b1fb44b7",
   "metadata": {},
   "outputs": [],
   "source": [
    "cleandf.sample(2)"
   ]
  },
  {
   "cell_type": "code",
   "execution_count": null,
   "id": "dfd78855",
   "metadata": {},
   "outputs": [],
   "source": [
    "X = cleandf.drop(['total','date','rating'],1)\n",
    "y = cleandf['total']"
   ]
  },
  {
   "cell_type": "code",
   "execution_count": null,
   "id": "82abbcee",
   "metadata": {},
   "outputs": [],
   "source": [
    "X_train, X_test, y_train, y_test = train_test_split(X, y, test_size=0.3, shuffle = False)"
   ]
  },
  {
   "cell_type": "code",
   "execution_count": null,
   "id": "572bbd09",
   "metadata": {
    "scrolled": true
   },
   "outputs": [],
   "source": [
    "from sklearn.ensemble import RandomForestRegressor\n",
    "forest = RandomForestRegressor()\n",
    "forest = forest.fit(X_train, y_train)\n",
    "\n",
    "# Predict based on the model we've trained\n",
    "y_pred = forest.predict(X_test)\n",
    "\n",
    "\n",
    "comparison_frame = pd.DataFrame({'Actual': y_test, 'Predicted': y_pred})\n",
    "comparison_frame.head(5)\n"
   ]
  },
  {
   "cell_type": "code",
   "execution_count": null,
   "id": "37b633e8",
   "metadata": {},
   "outputs": [],
   "source": [
    "comparison_frame.describe()"
   ]
  },
  {
   "cell_type": "markdown",
   "id": "78646909",
   "metadata": {},
   "source": [
    "There is overfitting."
   ]
  },
  {
   "cell_type": "markdown",
   "id": "530a3cda",
   "metadata": {},
   "source": [
    "Hyperameter tuning"
   ]
  },
  {
   "cell_type": "code",
   "execution_count": null,
   "id": "833f49b8",
   "metadata": {},
   "outputs": [],
   "source": [
    "from sklearn import metrics\n",
    "\n",
    "# And now we assess the errors\n",
    "print('Mean Absolute Error:', metrics.mean_absolute_error(y_test, y_pred))  \n",
    "print('Mean Squared Error:', metrics.mean_squared_error(y_test, y_pred))  \n",
    "print('Root Mean Squared Error:', np.sqrt(metrics.mean_squared_error(y_test, y_pred)))"
   ]
  },
  {
   "cell_type": "code",
   "execution_count": null,
   "id": "f691747e",
   "metadata": {},
   "outputs": [],
   "source": [
    "# Import the model\n",
    "from sklearn.ensemble import RandomForestRegressor\n",
    "\n",
    "# The random_state variable is here to guarantee that we all see the same numbers.\n",
    "# Note that we can provide the same parameters as in the decision tree, such as \n",
    "# min_samples_split or max_depth\n",
    "forest = RandomForestRegressor(n_estimators = 100, random_state=42, min_samples_split = 20, max_depth=5)\n",
    "forest = forest.fit(X_train, y_train)\n",
    "\n",
    "# Predict based on the model we've trained\n",
    "y_pred = forest.predict(X_test)\n",
    "\n",
    "\n",
    "comparison_frame = pd.DataFrame({'Actual': y_test, 'Predicted': y_pred})\n",
    "comparison_frame.head(5)\n"
   ]
  },
  {
   "cell_type": "code",
   "execution_count": null,
   "id": "742c3916",
   "metadata": {
    "scrolled": true
   },
   "outputs": [],
   "source": [
    "comparison_frame.describe()"
   ]
  },
  {
   "cell_type": "code",
   "execution_count": null,
   "id": "1e8bd5eb",
   "metadata": {
    "scrolled": false
   },
   "outputs": [],
   "source": [
    "from sklearn import metrics\n",
    "\n",
    "# And now we assess the errors\n",
    "print('Mean Absolute Error:', metrics.mean_absolute_error(y_test, y_pred))  \n",
    "print('Mean Squared Error:', metrics.mean_squared_error(y_test, y_pred))  \n",
    "print('Root Mean Squared Error:', np.sqrt(metrics.mean_squared_error(y_test, y_pred)))"
   ]
  },
  {
   "cell_type": "markdown",
   "id": "c3c9f07f",
   "metadata": {},
   "source": [
    "# Conclusion"
   ]
  },
  {
   "cell_type": "markdown",
   "id": "9a2595bc",
   "metadata": {},
   "source": [
    "1. Store A has the highest number of sales \n",
    "2. Gender is almost equal in proportion\n",
    "3. Many people pay via ewallet\n",
    "4. Most of the numerical variables are not normally distributed.\n",
    "5. Correlation\n",
    "6. ML prediction with an accuracy of.\n"
   ]
  }
 ],
 "metadata": {
  "kernelspec": {
   "display_name": "Python 3 (ipykernel)",
   "language": "python",
   "name": "python3"
  },
  "language_info": {
   "codemirror_mode": {
    "name": "ipython",
    "version": 3
   },
   "file_extension": ".py",
   "mimetype": "text/x-python",
   "name": "python",
   "nbconvert_exporter": "python",
   "pygments_lexer": "ipython3",
   "version": "3.9.12"
  }
 },
 "nbformat": 4,
 "nbformat_minor": 5
}
