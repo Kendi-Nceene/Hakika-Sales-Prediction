{
 "cells": [
  {
   "cell_type": "markdown",
   "id": "8dca5c71",
   "metadata": {
    "id": "8dca5c71"
   },
   "source": [
    "# Supermarket Sales Prediction\n"
   ]
  },
  {
   "cell_type": "markdown",
   "id": "954fea75",
   "metadata": {
    "id": "954fea75"
   },
   "source": [
    "# 1. Defining the Question"
   ]
  },
  {
   "cell_type": "markdown",
   "id": "c3a1cea4",
   "metadata": {
    "id": "c3a1cea4"
   },
   "source": [
    "# a) Specifying the Question\n",
    "\n",
    "> Building a supervised machine learning algorithm to predict sales."
   ]
  },
  {
   "cell_type": "markdown",
   "id": "cb70529f",
   "metadata": {
    "id": "cb70529f"
   },
   "source": [
    "# b) Defining the Metrics for Success¶\n",
    "\n",
    "> Building a machine learning algorithm with the lowest RMSE."
   ]
  },
  {
   "cell_type": "markdown",
   "id": "5043c90b",
   "metadata": {
    "id": "5043c90b"
   },
   "source": [
    "# c) Understanding the context\n",
    "\n",
    "ProductID : unique product ID\n",
    "\n",
    "Weight : weight of products\n",
    "\n",
    "FatContent : specifies whether the product is low on fat or not\n",
    "\n",
    "Visibility : percentage of total display area of all products in a store allocated to the particular product\n",
    "\n",
    "ProductType : the category to which the product belongs\n",
    "\n",
    "MRP : Maximum Retail Price (listed price) of the products\n",
    "\n",
    "OutletID : unique store ID\n",
    "\n",
    "EstablishmentYear : year of establishment of the outlets\n",
    "\n",
    "OutletSize : the size of the store in terms of ground area covered\n",
    "\n",
    "LocationType : the type of city in which the store is located\n",
    "\n",
    "OutletType : specifies whether the outlet is just a grocery store or some sort of supermarket\n",
    "\n",
    "OutletSales : (target variable) sales of the product in the particular store"
   ]
  },
  {
   "cell_type": "markdown",
   "id": "cf9eea05",
   "metadata": {
    "id": "cf9eea05"
   },
   "source": [
    "# d) Recording the Experimental Design\n",
    "\n",
    "> 1. Problem Definition\n",
    "\n",
    "> 2. Data Sourcing\n",
    "\n",
    "> 3. Check the Data\n",
    "\n",
    "> 4. Perform Data Cleaning\n",
    "\n",
    "> 5. Perform Exploratory Data Analysis (Univariate, Bivariate & Multivariate)\n",
    "\n",
    "> 6. Implement the Solution\n",
    "\n",
    "> 7. Challenge the Solution\n",
    "\n",
    "> 8. Follow up Questions\n",
    "\n",
    "> 9. Conclusions\n",
    "\n",
    "> 10. Recommendations"
   ]
  },
  {
   "cell_type": "markdown",
   "id": "487a92e8",
   "metadata": {
    "id": "487a92e8"
   },
   "source": [
    "# 2. Importing Libraries"
   ]
  },
  {
   "cell_type": "code",
   "execution_count": 1,
   "id": "c486934c",
   "metadata": {
    "executionInfo": {
     "elapsed": 2421,
     "status": "ok",
     "timestamp": 1669724312561,
     "user": {
      "displayName": "Peter Maina",
      "userId": "16506398786875401359"
     },
     "user_tz": -180
    },
    "id": "c486934c"
   },
   "outputs": [],
   "source": [
    "# Lets import relevant libraries\n",
    "import pandas as pd\n",
    "import numpy as np\n",
    "\n",
    "\n",
    "import matplotlib.pyplot as plt\n",
    "%matplotlib inline\n",
    "import seaborn as sns\n",
    "\n",
    "from sklearn.preprocessing import LabelEncoder\n",
    "from sklearn.preprocessing import StandardScaler\n",
    "\n",
    "import warnings\n",
    "warnings.simplefilter(action='ignore', category=FutureWarning)"
   ]
  },
  {
   "cell_type": "markdown",
   "id": "54e59cca",
   "metadata": {
    "id": "54e59cca"
   },
   "source": [
    "# 3. Data Wrangling\n",
    "## a) Gathering Data"
   ]
  },
  {
   "cell_type": "code",
   "execution_count": 2,
   "id": "c3657d9b",
   "metadata": {
    "executionInfo": {
     "elapsed": 34,
     "status": "ok",
     "timestamp": 1669724312563,
     "user": {
      "displayName": "Peter Maina",
      "userId": "16506398786875401359"
     },
     "user_tz": -180
    },
    "id": "c3657d9b"
   },
   "outputs": [],
   "source": [
    "# Lets create a function that reads data\n",
    "\n",
    "def read(data):\n",
    "    return pd.read_csv(data)"
   ]
  },
  {
   "cell_type": "code",
   "execution_count": 3,
   "id": "aba42bd6",
   "metadata": {
    "colab": {
     "base_uri": "https://localhost:8080/",
     "height": 357
    },
    "executionInfo": {
     "elapsed": 34,
     "status": "ok",
     "timestamp": 1669724312563,
     "user": {
      "displayName": "Peter Maina",
      "userId": "16506398786875401359"
     },
     "user_tz": -180
    },
    "id": "aba42bd6",
    "outputId": "e1055c47-1c88-4e4a-813d-d9213747c5fd"
   },
   "outputs": [
    {
     "data": {
      "text/html": [
       "<div>\n",
       "<style scoped>\n",
       "    .dataframe tbody tr th:only-of-type {\n",
       "        vertical-align: middle;\n",
       "    }\n",
       "\n",
       "    .dataframe tbody tr th {\n",
       "        vertical-align: top;\n",
       "    }\n",
       "\n",
       "    .dataframe thead th {\n",
       "        text-align: right;\n",
       "    }\n",
       "</style>\n",
       "<table border=\"1\" class=\"dataframe\">\n",
       "  <thead>\n",
       "    <tr style=\"text-align: right;\">\n",
       "      <th></th>\n",
       "      <th>Item_Identifier</th>\n",
       "      <th>Item_Weight</th>\n",
       "      <th>Item_Fat_Content</th>\n",
       "      <th>Item_Visibility</th>\n",
       "      <th>Item_Type</th>\n",
       "      <th>Item_MRP</th>\n",
       "      <th>Outlet_Identifier</th>\n",
       "      <th>Outlet_Establishment_Year</th>\n",
       "      <th>Outlet_Size</th>\n",
       "      <th>Outlet_Location_Type</th>\n",
       "      <th>Outlet_Type</th>\n",
       "      <th>Item_Outlet_Sales</th>\n",
       "    </tr>\n",
       "  </thead>\n",
       "  <tbody>\n",
       "    <tr>\n",
       "      <th>3382</th>\n",
       "      <td>FDP10</td>\n",
       "      <td>19.000</td>\n",
       "      <td>Low Fat</td>\n",
       "      <td>0.128289</td>\n",
       "      <td>Snack Foods</td>\n",
       "      <td>104.9622</td>\n",
       "      <td>OUT049</td>\n",
       "      <td>1999</td>\n",
       "      <td>Medium</td>\n",
       "      <td>Tier 1</td>\n",
       "      <td>Supermarket Type1</td>\n",
       "      <td>1164.4842</td>\n",
       "    </tr>\n",
       "    <tr>\n",
       "      <th>1641</th>\n",
       "      <td>FDB59</td>\n",
       "      <td>18.250</td>\n",
       "      <td>Low Fat</td>\n",
       "      <td>0.015303</td>\n",
       "      <td>Snack Foods</td>\n",
       "      <td>198.0084</td>\n",
       "      <td>OUT049</td>\n",
       "      <td>1999</td>\n",
       "      <td>Medium</td>\n",
       "      <td>Tier 1</td>\n",
       "      <td>Supermarket Type1</td>\n",
       "      <td>793.6336</td>\n",
       "    </tr>\n",
       "    <tr>\n",
       "      <th>2973</th>\n",
       "      <td>FDW12</td>\n",
       "      <td>8.315</td>\n",
       "      <td>reg</td>\n",
       "      <td>0.035627</td>\n",
       "      <td>Baking Goods</td>\n",
       "      <td>146.6444</td>\n",
       "      <td>OUT049</td>\n",
       "      <td>1999</td>\n",
       "      <td>Medium</td>\n",
       "      <td>Tier 1</td>\n",
       "      <td>Supermarket Type1</td>\n",
       "      <td>870.8664</td>\n",
       "    </tr>\n",
       "    <tr>\n",
       "      <th>6766</th>\n",
       "      <td>NCD31</td>\n",
       "      <td>12.100</td>\n",
       "      <td>LF</td>\n",
       "      <td>0.015497</td>\n",
       "      <td>Household</td>\n",
       "      <td>165.5526</td>\n",
       "      <td>OUT018</td>\n",
       "      <td>2009</td>\n",
       "      <td>Medium</td>\n",
       "      <td>Tier 3</td>\n",
       "      <td>Supermarket Type2</td>\n",
       "      <td>3453.5046</td>\n",
       "    </tr>\n",
       "    <tr>\n",
       "      <th>4072</th>\n",
       "      <td>FDF41</td>\n",
       "      <td>12.150</td>\n",
       "      <td>Low Fat</td>\n",
       "      <td>0.131922</td>\n",
       "      <td>Frozen Foods</td>\n",
       "      <td>246.3460</td>\n",
       "      <td>OUT017</td>\n",
       "      <td>2007</td>\n",
       "      <td>NaN</td>\n",
       "      <td>Tier 2</td>\n",
       "      <td>Supermarket Type1</td>\n",
       "      <td>739.0380</td>\n",
       "    </tr>\n",
       "  </tbody>\n",
       "</table>\n",
       "</div>"
      ],
      "text/plain": [
       "     Item_Identifier  Item_Weight Item_Fat_Content  Item_Visibility  \\\n",
       "3382           FDP10       19.000          Low Fat         0.128289   \n",
       "1641           FDB59       18.250          Low Fat         0.015303   \n",
       "2973           FDW12        8.315              reg         0.035627   \n",
       "6766           NCD31       12.100               LF         0.015497   \n",
       "4072           FDF41       12.150          Low Fat         0.131922   \n",
       "\n",
       "         Item_Type  Item_MRP Outlet_Identifier  Outlet_Establishment_Year  \\\n",
       "3382   Snack Foods  104.9622            OUT049                       1999   \n",
       "1641   Snack Foods  198.0084            OUT049                       1999   \n",
       "2973  Baking Goods  146.6444            OUT049                       1999   \n",
       "6766     Household  165.5526            OUT018                       2009   \n",
       "4072  Frozen Foods  246.3460            OUT017                       2007   \n",
       "\n",
       "     Outlet_Size Outlet_Location_Type        Outlet_Type  Item_Outlet_Sales  \n",
       "3382      Medium               Tier 1  Supermarket Type1          1164.4842  \n",
       "1641      Medium               Tier 1  Supermarket Type1           793.6336  \n",
       "2973      Medium               Tier 1  Supermarket Type1           870.8664  \n",
       "6766      Medium               Tier 3  Supermarket Type2          3453.5046  \n",
       "4072         NaN               Tier 2  Supermarket Type1           739.0380  "
      ]
     },
     "execution_count": 3,
     "metadata": {},
     "output_type": "execute_result"
    }
   ],
   "source": [
    "# Lets read the  train dataset\n",
    "\n",
    "sales_traindf = read('train.csv')\n",
    "sales_traindf.sample(5)"
   ]
  },
  {
   "cell_type": "code",
   "execution_count": 4,
   "id": "71317c6b",
   "metadata": {
    "colab": {
     "base_uri": "https://localhost:8080/",
     "height": 357
    },
    "executionInfo": {
     "elapsed": 33,
     "status": "ok",
     "timestamp": 1669724312565,
     "user": {
      "displayName": "Peter Maina",
      "userId": "16506398786875401359"
     },
     "user_tz": -180
    },
    "id": "71317c6b",
    "outputId": "3755aaee-efb9-4e06-b1e9-644392990efb",
    "scrolled": true
   },
   "outputs": [
    {
     "data": {
      "text/html": [
       "<div>\n",
       "<style scoped>\n",
       "    .dataframe tbody tr th:only-of-type {\n",
       "        vertical-align: middle;\n",
       "    }\n",
       "\n",
       "    .dataframe tbody tr th {\n",
       "        vertical-align: top;\n",
       "    }\n",
       "\n",
       "    .dataframe thead th {\n",
       "        text-align: right;\n",
       "    }\n",
       "</style>\n",
       "<table border=\"1\" class=\"dataframe\">\n",
       "  <thead>\n",
       "    <tr style=\"text-align: right;\">\n",
       "      <th></th>\n",
       "      <th>Item_Identifier</th>\n",
       "      <th>Item_Weight</th>\n",
       "      <th>Item_Fat_Content</th>\n",
       "      <th>Item_Visibility</th>\n",
       "      <th>Item_Type</th>\n",
       "      <th>Item_MRP</th>\n",
       "      <th>Outlet_Identifier</th>\n",
       "      <th>Outlet_Establishment_Year</th>\n",
       "      <th>Outlet_Size</th>\n",
       "      <th>Outlet_Location_Type</th>\n",
       "      <th>Outlet_Type</th>\n",
       "    </tr>\n",
       "  </thead>\n",
       "  <tbody>\n",
       "    <tr>\n",
       "      <th>5658</th>\n",
       "      <td>FDL45</td>\n",
       "      <td>15.60</td>\n",
       "      <td>Low Fat</td>\n",
       "      <td>0.037656</td>\n",
       "      <td>Snack Foods</td>\n",
       "      <td>123.4704</td>\n",
       "      <td>OUT013</td>\n",
       "      <td>1987</td>\n",
       "      <td>High</td>\n",
       "      <td>Tier 3</td>\n",
       "      <td>Supermarket Type1</td>\n",
       "    </tr>\n",
       "    <tr>\n",
       "      <th>2176</th>\n",
       "      <td>NCE55</td>\n",
       "      <td>8.92</td>\n",
       "      <td>Low Fat</td>\n",
       "      <td>0.129928</td>\n",
       "      <td>Household</td>\n",
       "      <td>175.7370</td>\n",
       "      <td>OUT046</td>\n",
       "      <td>1997</td>\n",
       "      <td>Small</td>\n",
       "      <td>Tier 1</td>\n",
       "      <td>Supermarket Type1</td>\n",
       "    </tr>\n",
       "    <tr>\n",
       "      <th>3955</th>\n",
       "      <td>DRI13</td>\n",
       "      <td>15.35</td>\n",
       "      <td>Low Fat</td>\n",
       "      <td>0.020323</td>\n",
       "      <td>Soft Drinks</td>\n",
       "      <td>217.6508</td>\n",
       "      <td>OUT035</td>\n",
       "      <td>2004</td>\n",
       "      <td>Small</td>\n",
       "      <td>Tier 2</td>\n",
       "      <td>Supermarket Type1</td>\n",
       "    </tr>\n",
       "    <tr>\n",
       "      <th>4652</th>\n",
       "      <td>FDC53</td>\n",
       "      <td>8.68</td>\n",
       "      <td>Low Fat</td>\n",
       "      <td>0.008849</td>\n",
       "      <td>Frozen Foods</td>\n",
       "      <td>99.9384</td>\n",
       "      <td>OUT049</td>\n",
       "      <td>1999</td>\n",
       "      <td>Medium</td>\n",
       "      <td>Tier 1</td>\n",
       "      <td>Supermarket Type1</td>\n",
       "    </tr>\n",
       "    <tr>\n",
       "      <th>169</th>\n",
       "      <td>FDK26</td>\n",
       "      <td>5.46</td>\n",
       "      <td>Regular</td>\n",
       "      <td>0.053858</td>\n",
       "      <td>Canned</td>\n",
       "      <td>186.9240</td>\n",
       "      <td>OUT010</td>\n",
       "      <td>1998</td>\n",
       "      <td>NaN</td>\n",
       "      <td>Tier 3</td>\n",
       "      <td>Grocery Store</td>\n",
       "    </tr>\n",
       "  </tbody>\n",
       "</table>\n",
       "</div>"
      ],
      "text/plain": [
       "     Item_Identifier  Item_Weight Item_Fat_Content  Item_Visibility  \\\n",
       "5658           FDL45        15.60          Low Fat         0.037656   \n",
       "2176           NCE55         8.92          Low Fat         0.129928   \n",
       "3955           DRI13        15.35          Low Fat         0.020323   \n",
       "4652           FDC53         8.68          Low Fat         0.008849   \n",
       "169            FDK26         5.46          Regular         0.053858   \n",
       "\n",
       "         Item_Type  Item_MRP Outlet_Identifier  Outlet_Establishment_Year  \\\n",
       "5658   Snack Foods  123.4704            OUT013                       1987   \n",
       "2176     Household  175.7370            OUT046                       1997   \n",
       "3955   Soft Drinks  217.6508            OUT035                       2004   \n",
       "4652  Frozen Foods   99.9384            OUT049                       1999   \n",
       "169         Canned  186.9240            OUT010                       1998   \n",
       "\n",
       "     Outlet_Size Outlet_Location_Type        Outlet_Type  \n",
       "5658        High               Tier 3  Supermarket Type1  \n",
       "2176       Small               Tier 1  Supermarket Type1  \n",
       "3955       Small               Tier 2  Supermarket Type1  \n",
       "4652      Medium               Tier 1  Supermarket Type1  \n",
       "169          NaN               Tier 3      Grocery Store  "
      ]
     },
     "execution_count": 4,
     "metadata": {},
     "output_type": "execute_result"
    }
   ],
   "source": [
    "# Lets preview a sample of the dataset\n",
    "sales_testdf = read('test.csv')\n",
    "sales_testdf.sample(5)\n"
   ]
  },
  {
   "cell_type": "markdown",
   "id": "de11531e",
   "metadata": {
    "id": "de11531e"
   },
   "source": [
    "## b) Assessing Data"
   ]
  },
  {
   "cell_type": "code",
   "execution_count": 5,
   "id": "c68d1c91",
   "metadata": {
    "colab": {
     "base_uri": "https://localhost:8080/"
    },
    "executionInfo": {
     "elapsed": 32,
     "status": "ok",
     "timestamp": 1669724312565,
     "user": {
      "displayName": "Peter Maina",
      "userId": "16506398786875401359"
     },
     "user_tz": -180
    },
    "id": "c68d1c91",
    "outputId": "82ed3512-346b-466c-8fee-13d950ee85f1"
   },
   "outputs": [
    {
     "name": "stdout",
     "output_type": "stream",
     "text": [
      "The train dataset had (8523, 12) rows and columns respectively\n",
      "The test dataset had (5681, 11) rows and columns respectively\n"
     ]
    }
   ],
   "source": [
    "# Lets preview the shape of the datasets\n",
    "print('The train dataset had',sales_traindf.shape,'rows and columns respectively')\n",
    "print('The test dataset had',sales_testdf.shape,'rows and columns respectively')"
   ]
  },
  {
   "cell_type": "code",
   "execution_count": 6,
   "id": "5fdfd046",
   "metadata": {
    "colab": {
     "base_uri": "https://localhost:8080/"
    },
    "executionInfo": {
     "elapsed": 31,
     "status": "ok",
     "timestamp": 1669724312566,
     "user": {
      "displayName": "Peter Maina",
      "userId": "16506398786875401359"
     },
     "user_tz": -180
    },
    "id": "5fdfd046",
    "outputId": "3fbaf12c-c274-45ff-a138-16755d3c9b52"
   },
   "outputs": [
    {
     "name": "stdout",
     "output_type": "stream",
     "text": [
      "<class 'pandas.core.frame.DataFrame'>\n",
      "RangeIndex: 8523 entries, 0 to 8522\n",
      "Data columns (total 12 columns):\n",
      " #   Column                     Non-Null Count  Dtype  \n",
      "---  ------                     --------------  -----  \n",
      " 0   Item_Identifier            8523 non-null   object \n",
      " 1   Item_Weight                7060 non-null   float64\n",
      " 2   Item_Fat_Content           8523 non-null   object \n",
      " 3   Item_Visibility            8523 non-null   float64\n",
      " 4   Item_Type                  8523 non-null   object \n",
      " 5   Item_MRP                   8523 non-null   float64\n",
      " 6   Outlet_Identifier          8523 non-null   object \n",
      " 7   Outlet_Establishment_Year  8523 non-null   int64  \n",
      " 8   Outlet_Size                6113 non-null   object \n",
      " 9   Outlet_Location_Type       8523 non-null   object \n",
      " 10  Outlet_Type                8523 non-null   object \n",
      " 11  Item_Outlet_Sales          8523 non-null   float64\n",
      "dtypes: float64(4), int64(1), object(7)\n",
      "memory usage: 799.2+ KB\n",
      "None\n",
      "....................................................................................................\n",
      "<class 'pandas.core.frame.DataFrame'>\n",
      "RangeIndex: 5681 entries, 0 to 5680\n",
      "Data columns (total 11 columns):\n",
      " #   Column                     Non-Null Count  Dtype  \n",
      "---  ------                     --------------  -----  \n",
      " 0   Item_Identifier            5681 non-null   object \n",
      " 1   Item_Weight                4705 non-null   float64\n",
      " 2   Item_Fat_Content           5681 non-null   object \n",
      " 3   Item_Visibility            5681 non-null   float64\n",
      " 4   Item_Type                  5681 non-null   object \n",
      " 5   Item_MRP                   5681 non-null   float64\n",
      " 6   Outlet_Identifier          5681 non-null   object \n",
      " 7   Outlet_Establishment_Year  5681 non-null   int64  \n",
      " 8   Outlet_Size                4075 non-null   object \n",
      " 9   Outlet_Location_Type       5681 non-null   object \n",
      " 10  Outlet_Type                5681 non-null   object \n",
      "dtypes: float64(3), int64(1), object(7)\n",
      "memory usage: 488.3+ KB\n",
      "None\n"
     ]
    }
   ],
   "source": [
    "# Lets preview the columns of each dataset since the test dataset seems to have one column less\n",
    "print(sales_traindf.info())\n",
    "print('..'*50)\n",
    "print(sales_testdf.info())"
   ]
  },
  {
   "cell_type": "markdown",
   "id": "68f31b96",
   "metadata": {
    "id": "68f31b96"
   },
   "source": [
    "> The missing column is our target variable which is sales which the machine needs to predict.\n",
    "\n",
    "> All the columns have correct datatpes"
   ]
  },
  {
   "cell_type": "code",
   "execution_count": 7,
   "id": "61e8830b",
   "metadata": {
    "colab": {
     "base_uri": "https://localhost:8080/"
    },
    "executionInfo": {
     "elapsed": 30,
     "status": "ok",
     "timestamp": 1669724312567,
     "user": {
      "displayName": "Peter Maina",
      "userId": "16506398786875401359"
     },
     "user_tz": -180
    },
    "id": "61e8830b",
    "outputId": "768699e3-1a47-420a-9e4d-3839a07c0a2b"
   },
   "outputs": [
    {
     "name": "stdout",
     "output_type": "stream",
     "text": [
      "The percentage of missing values in the train data were: \n",
      "Item_Identifier               0.000000\n",
      "Item_Weight                  17.165317\n",
      "Item_Fat_Content              0.000000\n",
      "Item_Visibility               0.000000\n",
      "Item_Type                     0.000000\n",
      "Item_MRP                      0.000000\n",
      "Outlet_Identifier             0.000000\n",
      "Outlet_Establishment_Year     0.000000\n",
      "Outlet_Size                  28.276428\n",
      "Outlet_Location_Type          0.000000\n",
      "Outlet_Type                   0.000000\n",
      "Item_Outlet_Sales             0.000000\n",
      "dtype: float64\n",
      "....................................................................................................\n",
      "The percentage of missing values in the train data were \n",
      "Item_Identifier               0.000000\n",
      "Item_Weight                  11.451367\n",
      "Item_Fat_Content              0.000000\n",
      "Item_Visibility               0.000000\n",
      "Item_Type                     0.000000\n",
      "Item_MRP                      0.000000\n",
      "Outlet_Identifier             0.000000\n",
      "Outlet_Establishment_Year     0.000000\n",
      "Outlet_Size                  18.843130\n",
      "Outlet_Location_Type          0.000000\n",
      "Outlet_Type                   0.000000\n",
      "dtype: float64\n"
     ]
    }
   ],
   "source": [
    "# Lets check for missing values in both the datasets\n",
    "print('The percentage of missing values in the train data were: ')\n",
    "print(sales_traindf.isna().sum()/len(sales_traindf)*100)\n",
    "print('..'*50)\n",
    "print('The percentage of missing values in the train data were ')\n",
    "print(sales_testdf.isna().sum()/len(sales_traindf)*100)"
   ]
  },
  {
   "cell_type": "markdown",
   "id": "865794c4",
   "metadata": {
    "id": "865794c4"
   },
   "source": [
    "> Two columns in each dataset had missing values. We'll perform some cleaning procedures"
   ]
  },
  {
   "cell_type": "code",
   "execution_count": 8,
   "id": "d1430939",
   "metadata": {
    "colab": {
     "base_uri": "https://localhost:8080/"
    },
    "executionInfo": {
     "elapsed": 29,
     "status": "ok",
     "timestamp": 1669724312568,
     "user": {
      "displayName": "Peter Maina",
      "userId": "16506398786875401359"
     },
     "user_tz": -180
    },
    "id": "d1430939",
    "outputId": "231eb0e4-51aa-4371-911b-1187f96ee470"
   },
   "outputs": [
    {
     "name": "stdout",
     "output_type": "stream",
     "text": [
      "The percentage of duplicate values in the train data was: \n",
      "0.0\n",
      "....................................................................................................\n",
      "The percentage of duplicate values in the train data was \n",
      "0.0\n"
     ]
    }
   ],
   "source": [
    "print('The percentage of duplicate values in the train data was: ')\n",
    "print(sales_traindf.duplicated().sum()/len(sales_traindf)*100)\n",
    "print('..'*50)\n",
    "print('The percentage of duplicate values in the train data was ')\n",
    "print(sales_testdf.duplicated().sum()/len(sales_traindf)*100)"
   ]
  },
  {
   "cell_type": "code",
   "execution_count": 9,
   "id": "a6ac9f1f",
   "metadata": {
    "colab": {
     "base_uri": "https://localhost:8080/"
    },
    "executionInfo": {
     "elapsed": 28,
     "status": "ok",
     "timestamp": 1669724312569,
     "user": {
      "displayName": "Peter Maina",
      "userId": "16506398786875401359"
     },
     "user_tz": -180
    },
    "id": "a6ac9f1f",
    "outputId": "5e1a6bf4-68b2-4bdf-a418-dd879a4bb759"
   },
   "outputs": [
    {
     "name": "stdout",
     "output_type": "stream",
     "text": [
      "Train Dataset\n",
      "Cardinality of the dataset columns : \n",
      "\n",
      "Item_Identifier : 1559\n",
      "Item_Weight : 415\n",
      "Item_Fat_Content : 5\n",
      "Item_Visibility : 7880\n",
      "Item_Type : 16\n",
      "Item_MRP : 5938\n",
      "Outlet_Identifier : 10\n",
      "Outlet_Establishment_Year : 9\n",
      "Outlet_Size : 3\n",
      "Outlet_Location_Type : 3\n",
      "Outlet_Type : 4\n",
      "Item_Outlet_Sales : 3493\n",
      "....................................................................................................\n",
      "Test Dataset\n",
      "Cardinality of the dataset columns : \n",
      "\n",
      "Item_Identifier : 1543\n",
      "Item_Weight : 410\n",
      "Item_Fat_Content : 5\n",
      "Item_Visibility : 5277\n",
      "Item_Type : 16\n",
      "Item_MRP : 4402\n",
      "Outlet_Identifier : 10\n",
      "Outlet_Establishment_Year : 9\n",
      "Outlet_Size : 3\n",
      "Outlet_Location_Type : 3\n",
      "Outlet_Type : 4\n"
     ]
    }
   ],
   "source": [
    "# Check Cardinality\n",
    "# We will use a for loop function to iterate through the columns \n",
    "# while checking for the number of unique values in each column.\n",
    "\n",
    "# Number of unique values in the obesity dataset\n",
    "\n",
    "def cardinal(data):\n",
    "    print('Cardinality of the dataset columns : \\n')\n",
    "    for i in data.columns:\n",
    "        print(f'{i} : {data[i].nunique()}')\n",
    "\n",
    "print('Train Dataset')\n",
    "cardinal(sales_traindf)\n",
    "print('..'*50)\n",
    "print('Test Dataset')\n",
    "cardinal(sales_testdf)\n"
   ]
  },
  {
   "cell_type": "code",
   "execution_count": 10,
   "id": "31657cd9",
   "metadata": {
    "colab": {
     "base_uri": "https://localhost:8080/"
    },
    "executionInfo": {
     "elapsed": 27,
     "status": "ok",
     "timestamp": 1669724312570,
     "user": {
      "displayName": "Peter Maina",
      "userId": "16506398786875401359"
     },
     "user_tz": -180
    },
    "id": "31657cd9",
    "outputId": "6d5f7a40-ffbb-464a-af65-7c031fabde66"
   },
   "outputs": [
    {
     "name": "stdout",
     "output_type": "stream",
     "text": [
      "Fat Content\n",
      "['Low Fat' 'Regular' 'low fat' 'LF' 'reg']\n",
      "----------------------------------------------------\n",
      "Item Type\n",
      "['Dairy' 'Soft Drinks' 'Meat' 'Fruits and Vegetables' 'Household'\n",
      " 'Baking Goods' 'Snack Foods' 'Frozen Foods' 'Breakfast'\n",
      " 'Health and Hygiene' 'Hard Drinks' 'Canned' 'Breads' 'Starchy Foods'\n",
      " 'Others' 'Seafood']\n",
      "----------------------------------------------------\n",
      "Outlet Size\n",
      "['Medium' nan 'High' 'Small']\n",
      "----------------------------------------------------\n",
      "Outlet location Type\n",
      "['Tier 1' 'Tier 3' 'Tier 2']\n"
     ]
    }
   ],
   "source": [
    "print('Fat Content')\n",
    "print(sales_traindf['Item_Fat_Content'].unique())\n",
    "print('----------------------------------------------------')\n",
    "print('Item Type')\n",
    "print(sales_traindf['Item_Type'].unique())\n",
    "print('----------------------------------------------------')\n",
    "print('Outlet Size')\n",
    "print(sales_traindf['Outlet_Size'].unique())\n",
    "print('----------------------------------------------------')\n",
    "print('Outlet location Type')\n",
    "print(sales_traindf['Outlet_Location_Type'].unique())\n"
   ]
  },
  {
   "cell_type": "markdown",
   "id": "39ebfa38",
   "metadata": {
    "id": "39ebfa38"
   },
   "source": [
    "> We realize that the fat content column has some inconsistencies. reg and regular, lowfat and lf\n",
    "\n",
    "> The same column has some words in caps while others are in lowwer cases."
   ]
  },
  {
   "cell_type": "code",
   "execution_count": 11,
   "id": "4a356cdd",
   "metadata": {
    "colab": {
     "base_uri": "https://localhost:8080/"
    },
    "executionInfo": {
     "elapsed": 27,
     "status": "ok",
     "timestamp": 1669724312571,
     "user": {
      "displayName": "Peter Maina",
      "userId": "16506398786875401359"
     },
     "user_tz": -180
    },
    "id": "4a356cdd",
    "outputId": "388cb6dd-f800-45ca-fa8d-089c9d60a626",
    "scrolled": true
   },
   "outputs": [
    {
     "name": "stdout",
     "output_type": "stream",
     "text": [
      "Train Dataset\n",
      "       Item_Weight  Item_Visibility     Item_MRP  Outlet_Establishment_Year  \\\n",
      "count  7060.000000      8523.000000  8523.000000                8523.000000   \n",
      "mean     12.857645         0.066132   140.992782                1997.831867   \n",
      "std       4.643456         0.051598    62.275067                   8.371760   \n",
      "min       4.555000         0.000000    31.290000                1985.000000   \n",
      "25%       8.773750         0.026989    93.826500                1987.000000   \n",
      "50%      12.600000         0.053931   143.012800                1999.000000   \n",
      "75%      16.850000         0.094585   185.643700                2004.000000   \n",
      "max      21.350000         0.328391   266.888400                2009.000000   \n",
      "\n",
      "       Item_Outlet_Sales  \n",
      "count        8523.000000  \n",
      "mean         2181.288914  \n",
      "std          1706.499616  \n",
      "min            33.290000  \n",
      "25%           834.247400  \n",
      "50%          1794.331000  \n",
      "75%          3101.296400  \n",
      "max         13086.964800  \n",
      "Test Dataset\n",
      "       Item_Weight  Item_Visibility     Item_MRP  Outlet_Establishment_Year\n",
      "count  4705.000000      5681.000000  5681.000000                5681.000000\n",
      "mean     12.695633         0.065684   141.023273                1997.828903\n",
      "std       4.664849         0.051252    61.809091                   8.372256\n",
      "min       4.555000         0.000000    31.990000                1985.000000\n",
      "25%       8.645000         0.027047    94.412000                1987.000000\n",
      "50%      12.500000         0.054154   141.415400                1999.000000\n",
      "75%      16.700000         0.093463   186.026600                2004.000000\n",
      "max      21.350000         0.323637   266.588400                2009.000000\n"
     ]
    }
   ],
   "source": [
    "# Lets check for the summary statistics\n",
    "print('Train Dataset')\n",
    "print(sales_traindf.describe())\n",
    "print('Test Dataset')\n",
    "print(sales_testdf.describe())"
   ]
  },
  {
   "cell_type": "code",
   "execution_count": 12,
   "id": "3a112841",
   "metadata": {
    "colab": {
     "base_uri": "https://localhost:8080/",
     "height": 357
    },
    "executionInfo": {
     "elapsed": 24,
     "status": "ok",
     "timestamp": 1669724312571,
     "user": {
      "displayName": "Peter Maina",
      "userId": "16506398786875401359"
     },
     "user_tz": -180
    },
    "id": "3a112841",
    "outputId": "a8bfc767-772e-4c18-b892-e969fe25607e"
   },
   "outputs": [
    {
     "data": {
      "text/html": [
       "<div>\n",
       "<style scoped>\n",
       "    .dataframe tbody tr th:only-of-type {\n",
       "        vertical-align: middle;\n",
       "    }\n",
       "\n",
       "    .dataframe tbody tr th {\n",
       "        vertical-align: top;\n",
       "    }\n",
       "\n",
       "    .dataframe thead th {\n",
       "        text-align: right;\n",
       "    }\n",
       "</style>\n",
       "<table border=\"1\" class=\"dataframe\">\n",
       "  <thead>\n",
       "    <tr style=\"text-align: right;\">\n",
       "      <th></th>\n",
       "      <th>Item_Identifier</th>\n",
       "      <th>Item_Weight</th>\n",
       "      <th>Item_Fat_Content</th>\n",
       "      <th>Item_Visibility</th>\n",
       "      <th>Item_Type</th>\n",
       "      <th>Item_MRP</th>\n",
       "      <th>Outlet_Identifier</th>\n",
       "      <th>Outlet_Establishment_Year</th>\n",
       "      <th>Outlet_Size</th>\n",
       "      <th>Outlet_Location_Type</th>\n",
       "      <th>Outlet_Type</th>\n",
       "      <th>Item_Outlet_Sales</th>\n",
       "    </tr>\n",
       "  </thead>\n",
       "  <tbody>\n",
       "    <tr>\n",
       "      <th>0</th>\n",
       "      <td>FDA15</td>\n",
       "      <td>9.30</td>\n",
       "      <td>Low Fat</td>\n",
       "      <td>0.016047</td>\n",
       "      <td>Dairy</td>\n",
       "      <td>249.8092</td>\n",
       "      <td>OUT049</td>\n",
       "      <td>1999</td>\n",
       "      <td>Medium</td>\n",
       "      <td>Tier 1</td>\n",
       "      <td>Supermarket Type1</td>\n",
       "      <td>3735.1380</td>\n",
       "    </tr>\n",
       "    <tr>\n",
       "      <th>1</th>\n",
       "      <td>DRC01</td>\n",
       "      <td>5.92</td>\n",
       "      <td>Regular</td>\n",
       "      <td>0.019278</td>\n",
       "      <td>Soft Drinks</td>\n",
       "      <td>48.2692</td>\n",
       "      <td>OUT018</td>\n",
       "      <td>2009</td>\n",
       "      <td>Medium</td>\n",
       "      <td>Tier 3</td>\n",
       "      <td>Supermarket Type2</td>\n",
       "      <td>443.4228</td>\n",
       "    </tr>\n",
       "    <tr>\n",
       "      <th>2</th>\n",
       "      <td>FDN15</td>\n",
       "      <td>17.50</td>\n",
       "      <td>Low Fat</td>\n",
       "      <td>0.016760</td>\n",
       "      <td>Meat</td>\n",
       "      <td>141.6180</td>\n",
       "      <td>OUT049</td>\n",
       "      <td>1999</td>\n",
       "      <td>Medium</td>\n",
       "      <td>Tier 1</td>\n",
       "      <td>Supermarket Type1</td>\n",
       "      <td>2097.2700</td>\n",
       "    </tr>\n",
       "    <tr>\n",
       "      <th>3</th>\n",
       "      <td>FDX07</td>\n",
       "      <td>19.20</td>\n",
       "      <td>Regular</td>\n",
       "      <td>0.000000</td>\n",
       "      <td>Fruits and Vegetables</td>\n",
       "      <td>182.0950</td>\n",
       "      <td>OUT010</td>\n",
       "      <td>1998</td>\n",
       "      <td>NaN</td>\n",
       "      <td>Tier 3</td>\n",
       "      <td>Grocery Store</td>\n",
       "      <td>732.3800</td>\n",
       "    </tr>\n",
       "    <tr>\n",
       "      <th>4</th>\n",
       "      <td>NCD19</td>\n",
       "      <td>8.93</td>\n",
       "      <td>Low Fat</td>\n",
       "      <td>0.000000</td>\n",
       "      <td>Household</td>\n",
       "      <td>53.8614</td>\n",
       "      <td>OUT013</td>\n",
       "      <td>1987</td>\n",
       "      <td>High</td>\n",
       "      <td>Tier 3</td>\n",
       "      <td>Supermarket Type1</td>\n",
       "      <td>994.7052</td>\n",
       "    </tr>\n",
       "  </tbody>\n",
       "</table>\n",
       "</div>"
      ],
      "text/plain": [
       "  Item_Identifier  Item_Weight Item_Fat_Content  Item_Visibility  \\\n",
       "0           FDA15         9.30          Low Fat         0.016047   \n",
       "1           DRC01         5.92          Regular         0.019278   \n",
       "2           FDN15        17.50          Low Fat         0.016760   \n",
       "3           FDX07        19.20          Regular         0.000000   \n",
       "4           NCD19         8.93          Low Fat         0.000000   \n",
       "\n",
       "               Item_Type  Item_MRP Outlet_Identifier  \\\n",
       "0                  Dairy  249.8092            OUT049   \n",
       "1            Soft Drinks   48.2692            OUT018   \n",
       "2                   Meat  141.6180            OUT049   \n",
       "3  Fruits and Vegetables  182.0950            OUT010   \n",
       "4              Household   53.8614            OUT013   \n",
       "\n",
       "   Outlet_Establishment_Year Outlet_Size Outlet_Location_Type  \\\n",
       "0                       1999      Medium               Tier 1   \n",
       "1                       2009      Medium               Tier 3   \n",
       "2                       1999      Medium               Tier 1   \n",
       "3                       1998         NaN               Tier 3   \n",
       "4                       1987        High               Tier 3   \n",
       "\n",
       "         Outlet_Type  Item_Outlet_Sales  \n",
       "0  Supermarket Type1          3735.1380  \n",
       "1  Supermarket Type2           443.4228  \n",
       "2  Supermarket Type1          2097.2700  \n",
       "3      Grocery Store           732.3800  \n",
       "4  Supermarket Type1           994.7052  "
      ]
     },
     "execution_count": 12,
     "metadata": {},
     "output_type": "execute_result"
    }
   ],
   "source": [
    "sales_traindf.head()"
   ]
  },
  {
   "cell_type": "code",
   "execution_count": 13,
   "id": "aa5adea7",
   "metadata": {
    "colab": {
     "base_uri": "https://localhost:8080/",
     "height": 523
    },
    "executionInfo": {
     "elapsed": 24,
     "status": "ok",
     "timestamp": 1669724312572,
     "user": {
      "displayName": "Peter Maina",
      "userId": "16506398786875401359"
     },
     "user_tz": -180
    },
    "id": "aa5adea7",
    "outputId": "bfc0cc73-3896-4ec3-f7f0-461462079f3a",
    "scrolled": true
   },
   "outputs": [
    {
     "data": {
      "image/png": "[encoded data removed]",
      "text/plain": [
       "<Figure size 1440x2160 with 3 Axes>"
      ]
     },
     "metadata": {
      "needs_background": "light"
     },
     "output_type": "display_data"
    }
   ],
   "source": [
    "# checking for outliers\n",
    "# define a function that plots boxplots to visualize outliers\n",
    "\n",
    "def outliers ():\n",
    "    \"making a dictionary for numerical columns\"\n",
    "    columns_dict = {'Item_Visibility': 1, 'Item_MRP': 2, 'Item_Outlet_Sales': 3}\n",
    "    plt.figure(figsize=(20,30))\n",
    "    for variable,i in columns_dict.items():\n",
    "      plt.subplot(3,3,i);\n",
    "      plt.boxplot(sales_traindf[variable]);\n",
    "      plt.title(f\"Boxplot showing {variable}\");\n",
    "    plt.show()\n",
    "outliers()"
   ]
  },
  {
   "cell_type": "markdown",
   "id": "d8f6ef59",
   "metadata": {
    "id": "d8f6ef59"
   },
   "source": [
    "(a) Some columns have outliers.\n",
    "\n",
    "(b) We need to assess the outliers."
   ]
  },
  {
   "cell_type": "code",
   "execution_count": 14,
   "id": "346c42bf",
   "metadata": {
    "colab": {
     "base_uri": "https://localhost:8080/",
     "height": 661
    },
    "executionInfo": {
     "elapsed": 681,
     "status": "ok",
     "timestamp": 1669724313230,
     "user": {
      "displayName": "Peter Maina",
      "userId": "16506398786875401359"
     },
     "user_tz": -180
    },
    "id": "346c42bf",
    "outputId": "175a98d5-59a6-4fe6-b34d-a419042c7462"
   },
   "outputs": [
    {
     "data": {
      "text/html": [
       "<div>\n",
       "<style scoped>\n",
       "    .dataframe tbody tr th:only-of-type {\n",
       "        vertical-align: middle;\n",
       "    }\n",
       "\n",
       "    .dataframe tbody tr th {\n",
       "        vertical-align: top;\n",
       "    }\n",
       "\n",
       "    .dataframe thead th {\n",
       "        text-align: right;\n",
       "    }\n",
       "</style>\n",
       "<table border=\"1\" class=\"dataframe\">\n",
       "  <thead>\n",
       "    <tr style=\"text-align: right;\">\n",
       "      <th></th>\n",
       "      <th>Item_Identifier</th>\n",
       "      <th>Item_Weight</th>\n",
       "      <th>Item_Fat_Content</th>\n",
       "      <th>Item_Visibility</th>\n",
       "      <th>Item_Type</th>\n",
       "      <th>Item_MRP</th>\n",
       "      <th>Outlet_Identifier</th>\n",
       "      <th>Outlet_Establishment_Year</th>\n",
       "      <th>Outlet_Size</th>\n",
       "      <th>Outlet_Location_Type</th>\n",
       "      <th>Outlet_Type</th>\n",
       "      <th>Item_Outlet_Sales</th>\n",
       "    </tr>\n",
       "  </thead>\n",
       "  <tbody>\n",
       "    <tr>\n",
       "      <th>43</th>\n",
       "      <td>FDC02</td>\n",
       "      <td>21.35</td>\n",
       "      <td>Low Fat</td>\n",
       "      <td>0.069103</td>\n",
       "      <td>Canned</td>\n",
       "      <td>259.9278</td>\n",
       "      <td>OUT018</td>\n",
       "      <td>2009</td>\n",
       "      <td>Medium</td>\n",
       "      <td>Tier 3</td>\n",
       "      <td>Supermarket Type2</td>\n",
       "      <td>6768.5228</td>\n",
       "    </tr>\n",
       "    <tr>\n",
       "      <th>130</th>\n",
       "      <td>FDY25</td>\n",
       "      <td>NaN</td>\n",
       "      <td>Low Fat</td>\n",
       "      <td>0.033810</td>\n",
       "      <td>Canned</td>\n",
       "      <td>180.5976</td>\n",
       "      <td>OUT027</td>\n",
       "      <td>1985</td>\n",
       "      <td>Medium</td>\n",
       "      <td>Tier 3</td>\n",
       "      <td>Supermarket Type3</td>\n",
       "      <td>7968.2944</td>\n",
       "    </tr>\n",
       "    <tr>\n",
       "      <th>132</th>\n",
       "      <td>NCR53</td>\n",
       "      <td>NaN</td>\n",
       "      <td>Low Fat</td>\n",
       "      <td>0.144338</td>\n",
       "      <td>Health and Hygiene</td>\n",
       "      <td>224.4404</td>\n",
       "      <td>OUT027</td>\n",
       "      <td>1985</td>\n",
       "      <td>Medium</td>\n",
       "      <td>Tier 3</td>\n",
       "      <td>Supermarket Type3</td>\n",
       "      <td>6976.2524</td>\n",
       "    </tr>\n",
       "    <tr>\n",
       "      <th>145</th>\n",
       "      <td>FDP16</td>\n",
       "      <td>18.60</td>\n",
       "      <td>Low Fat</td>\n",
       "      <td>0.039356</td>\n",
       "      <td>Frozen Foods</td>\n",
       "      <td>246.3802</td>\n",
       "      <td>OUT049</td>\n",
       "      <td>1999</td>\n",
       "      <td>Medium</td>\n",
       "      <td>Tier 1</td>\n",
       "      <td>Supermarket Type1</td>\n",
       "      <td>7370.4060</td>\n",
       "    </tr>\n",
       "    <tr>\n",
       "      <th>203</th>\n",
       "      <td>FDI24</td>\n",
       "      <td>NaN</td>\n",
       "      <td>Low Fat</td>\n",
       "      <td>0.078362</td>\n",
       "      <td>Baking Goods</td>\n",
       "      <td>177.9370</td>\n",
       "      <td>OUT027</td>\n",
       "      <td>1985</td>\n",
       "      <td>Medium</td>\n",
       "      <td>Tier 3</td>\n",
       "      <td>Supermarket Type3</td>\n",
       "      <td>6704.6060</td>\n",
       "    </tr>\n",
       "    <tr>\n",
       "      <th>...</th>\n",
       "      <td>...</td>\n",
       "      <td>...</td>\n",
       "      <td>...</td>\n",
       "      <td>...</td>\n",
       "      <td>...</td>\n",
       "      <td>...</td>\n",
       "      <td>...</td>\n",
       "      <td>...</td>\n",
       "      <td>...</td>\n",
       "      <td>...</td>\n",
       "      <td>...</td>\n",
       "      <td>...</td>\n",
       "    </tr>\n",
       "    <tr>\n",
       "      <th>8245</th>\n",
       "      <td>FDU55</td>\n",
       "      <td>16.20</td>\n",
       "      <td>Low Fat</td>\n",
       "      <td>0.035967</td>\n",
       "      <td>Fruits and Vegetables</td>\n",
       "      <td>260.3278</td>\n",
       "      <td>OUT049</td>\n",
       "      <td>1999</td>\n",
       "      <td>Medium</td>\n",
       "      <td>Tier 1</td>\n",
       "      <td>Supermarket Type1</td>\n",
       "      <td>7549.5062</td>\n",
       "    </tr>\n",
       "    <tr>\n",
       "      <th>8329</th>\n",
       "      <td>NCQ06</td>\n",
       "      <td>NaN</td>\n",
       "      <td>Low Fat</td>\n",
       "      <td>0.041622</td>\n",
       "      <td>Household</td>\n",
       "      <td>253.6014</td>\n",
       "      <td>OUT027</td>\n",
       "      <td>1985</td>\n",
       "      <td>Medium</td>\n",
       "      <td>Tier 3</td>\n",
       "      <td>Supermarket Type3</td>\n",
       "      <td>6630.0364</td>\n",
       "    </tr>\n",
       "    <tr>\n",
       "      <th>8350</th>\n",
       "      <td>NCE18</td>\n",
       "      <td>10.00</td>\n",
       "      <td>Low Fat</td>\n",
       "      <td>0.021421</td>\n",
       "      <td>Household</td>\n",
       "      <td>248.3750</td>\n",
       "      <td>OUT035</td>\n",
       "      <td>2004</td>\n",
       "      <td>Small</td>\n",
       "      <td>Tier 2</td>\n",
       "      <td>Supermarket Type1</td>\n",
       "      <td>7240.5750</td>\n",
       "    </tr>\n",
       "    <tr>\n",
       "      <th>8447</th>\n",
       "      <td>FDS26</td>\n",
       "      <td>20.35</td>\n",
       "      <td>Low Fat</td>\n",
       "      <td>0.089975</td>\n",
       "      <td>Dairy</td>\n",
       "      <td>261.6594</td>\n",
       "      <td>OUT017</td>\n",
       "      <td>2007</td>\n",
       "      <td>NaN</td>\n",
       "      <td>Tier 2</td>\n",
       "      <td>Supermarket Type1</td>\n",
       "      <td>7588.1226</td>\n",
       "    </tr>\n",
       "    <tr>\n",
       "      <th>8510</th>\n",
       "      <td>FDN58</td>\n",
       "      <td>13.80</td>\n",
       "      <td>Regular</td>\n",
       "      <td>0.056862</td>\n",
       "      <td>Snack Foods</td>\n",
       "      <td>231.5984</td>\n",
       "      <td>OUT035</td>\n",
       "      <td>2004</td>\n",
       "      <td>Small</td>\n",
       "      <td>Tier 2</td>\n",
       "      <td>Supermarket Type1</td>\n",
       "      <td>7182.6504</td>\n",
       "    </tr>\n",
       "  </tbody>\n",
       "</table>\n",
       "<p>186 rows × 12 columns</p>\n",
       "</div>"
      ],
      "text/plain": [
       "     Item_Identifier  Item_Weight Item_Fat_Content  Item_Visibility  \\\n",
       "43             FDC02        21.35          Low Fat         0.069103   \n",
       "130            FDY25          NaN          Low Fat         0.033810   \n",
       "132            NCR53          NaN          Low Fat         0.144338   \n",
       "145            FDP16        18.60          Low Fat         0.039356   \n",
       "203            FDI24          NaN          Low Fat         0.078362   \n",
       "...              ...          ...              ...              ...   \n",
       "8245           FDU55        16.20          Low Fat         0.035967   \n",
       "8329           NCQ06          NaN          Low Fat         0.041622   \n",
       "8350           NCE18        10.00          Low Fat         0.021421   \n",
       "8447           FDS26        20.35          Low Fat         0.089975   \n",
       "8510           FDN58        13.80          Regular         0.056862   \n",
       "\n",
       "                  Item_Type  Item_MRP Outlet_Identifier  \\\n",
       "43                   Canned  259.9278            OUT018   \n",
       "130                  Canned  180.5976            OUT027   \n",
       "132      Health and Hygiene  224.4404            OUT027   \n",
       "145            Frozen Foods  246.3802            OUT049   \n",
       "203            Baking Goods  177.9370            OUT027   \n",
       "...                     ...       ...               ...   \n",
       "8245  Fruits and Vegetables  260.3278            OUT049   \n",
       "8329              Household  253.6014            OUT027   \n",
       "8350              Household  248.3750            OUT035   \n",
       "8447                  Dairy  261.6594            OUT017   \n",
       "8510            Snack Foods  231.5984            OUT035   \n",
       "\n",
       "      Outlet_Establishment_Year Outlet_Size Outlet_Location_Type  \\\n",
       "43                         2009      Medium               Tier 3   \n",
       "130                        1985      Medium               Tier 3   \n",
       "132                        1985      Medium               Tier 3   \n",
       "145                        1999      Medium               Tier 1   \n",
       "203                        1985      Medium               Tier 3   \n",
       "...                         ...         ...                  ...   \n",
       "8245                       1999      Medium               Tier 1   \n",
       "8329                       1985      Medium               Tier 3   \n",
       "8350                       2004       Small               Tier 2   \n",
       "8447                       2007         NaN               Tier 2   \n",
       "8510                       2004       Small               Tier 2   \n",
       "\n",
       "            Outlet_Type  Item_Outlet_Sales  \n",
       "43    Supermarket Type2          6768.5228  \n",
       "130   Supermarket Type3          7968.2944  \n",
       "132   Supermarket Type3          6976.2524  \n",
       "145   Supermarket Type1          7370.4060  \n",
       "203   Supermarket Type3          6704.6060  \n",
       "...                 ...                ...  \n",
       "8245  Supermarket Type1          7549.5062  \n",
       "8329  Supermarket Type3          6630.0364  \n",
       "8350  Supermarket Type1          7240.5750  \n",
       "8447  Supermarket Type1          7588.1226  \n",
       "8510  Supermarket Type1          7182.6504  \n",
       "\n",
       "[186 rows x 12 columns]"
      ]
     },
     "execution_count": 14,
     "metadata": {},
     "output_type": "execute_result"
    }
   ],
   "source": [
    "# Lets preview the outliers of the sales column\n",
    "sales_traindf.query('Item_Outlet_Sales > 6500')"
   ]
  },
  {
   "cell_type": "markdown",
   "id": "cc127c58",
   "metadata": {
    "id": "cc127c58"
   },
   "source": [
    "> Outliers shall be retained as they contain pertinent and real information."
   ]
  },
  {
   "cell_type": "markdown",
   "id": "fdd7ca65",
   "metadata": {
    "id": "fdd7ca65"
   },
   "source": [
    "## c) Cleaning\n",
    "\n",
    "> 1. Some columns have missing values. We will need to deal with the missing values.\n",
    "\n",
    "> 2. The item fat content column had some inconsistencies.\n",
    "\n",
    "> 3. Lets lower the cases of all columns for easier computation. \n",
    "\n",
    "> 4. Lets convertthe datatype of the year column from integer to datetime."
   ]
  },
  {
   "cell_type": "markdown",
   "id": "b6adc51f",
   "metadata": {
    "id": "b6adc51f"
   },
   "source": [
    "# Issue 1 : \n",
    "\n",
    "## Define:\n",
    "\n",
    "> Remove the missing values since they were a small percentage.\n",
    "\n",
    "# Code"
   ]
  },
  {
   "cell_type": "code",
   "execution_count": 15,
   "id": "b17a5574",
   "metadata": {
    "executionInfo": {
     "elapsed": 27,
     "status": "ok",
     "timestamp": 1669724313232,
     "user": {
      "displayName": "Peter Maina",
      "userId": "16506398786875401359"
     },
     "user_tz": -180
    },
    "id": "b17a5574"
   },
   "outputs": [],
   "source": [
    "# Lets drop rows with missing values in each column\n",
    "sales_traindf.dropna(inplace = True)\n",
    "sales_testdf.dropna(inplace = True)"
   ]
  },
  {
   "cell_type": "markdown",
   "id": "03553df0",
   "metadata": {
    "id": "03553df0"
   },
   "source": [
    "# Test"
   ]
  },
  {
   "cell_type": "code",
   "execution_count": 16,
   "id": "bd24aa65",
   "metadata": {
    "colab": {
     "base_uri": "https://localhost:8080/"
    },
    "executionInfo": {
     "elapsed": 28,
     "status": "ok",
     "timestamp": 1669724313233,
     "user": {
      "displayName": "Peter Maina",
      "userId": "16506398786875401359"
     },
     "user_tz": -180
    },
    "id": "bd24aa65",
    "outputId": "4d26c7bf-688e-4458-d168-4a9f0621159a"
   },
   "outputs": [
    {
     "name": "stdout",
     "output_type": "stream",
     "text": [
      "The percentage of missing values in the train data were: \n",
      "Item_Identifier              0.0\n",
      "Item_Weight                  0.0\n",
      "Item_Fat_Content             0.0\n",
      "Item_Visibility              0.0\n",
      "Item_Type                    0.0\n",
      "Item_MRP                     0.0\n",
      "Outlet_Identifier            0.0\n",
      "Outlet_Establishment_Year    0.0\n",
      "Outlet_Size                  0.0\n",
      "Outlet_Location_Type         0.0\n",
      "Outlet_Type                  0.0\n",
      "Item_Outlet_Sales            0.0\n",
      "dtype: float64\n",
      "....................................................................................................\n",
      "The percentage of missing values in the train data were \n",
      "Item_Identifier              0.0\n",
      "Item_Weight                  0.0\n",
      "Item_Fat_Content             0.0\n",
      "Item_Visibility              0.0\n",
      "Item_Type                    0.0\n",
      "Item_MRP                     0.0\n",
      "Outlet_Identifier            0.0\n",
      "Outlet_Establishment_Year    0.0\n",
      "Outlet_Size                  0.0\n",
      "Outlet_Location_Type         0.0\n",
      "Outlet_Type                  0.0\n",
      "dtype: float64\n"
     ]
    }
   ],
   "source": [
    "# Lets check for missing values in both the datasets\n",
    "print('The percentage of missing values in the train data were: ')\n",
    "print(sales_traindf.isna().sum()/len(sales_traindf)*100)\n",
    "print('..'*50)\n",
    "print('The percentage of missing values in the train data were ')\n",
    "print(sales_testdf.isna().sum()/len(sales_traindf)*100)"
   ]
  },
  {
   "cell_type": "markdown",
   "id": "51adc843",
   "metadata": {
    "id": "51adc843"
   },
   "source": [
    "# Issue 2 :\n",
    "\n",
    "> Lets deal with incosistencies in the fat content column.\n",
    "\n",
    "# Code"
   ]
  },
  {
   "cell_type": "code",
   "execution_count": 17,
   "id": "51d46247",
   "metadata": {
    "colab": {
     "base_uri": "https://localhost:8080/"
    },
    "executionInfo": {
     "elapsed": 27,
     "status": "ok",
     "timestamp": 1669724313234,
     "user": {
      "displayName": "Peter Maina",
      "userId": "16506398786875401359"
     },
     "user_tz": -180
    },
    "id": "51d46247",
    "outputId": "54c13103-5f9d-4473-9a16-2e8654f1a5e2"
   },
   "outputs": [
    {
     "data": {
      "text/plain": [
       "array(['Low Fat', 'Regular', 'low fat', 'reg', 'LF'], dtype=object)"
      ]
     },
     "execution_count": 17,
     "metadata": {},
     "output_type": "execute_result"
    }
   ],
   "source": [
    "# Lets preview an array of the unique features in te column\n",
    "sales_traindf.Item_Fat_Content.unique()"
   ]
  },
  {
   "cell_type": "code",
   "execution_count": 18,
   "id": "aad2aad9",
   "metadata": {
    "colab": {
     "base_uri": "https://localhost:8080/"
    },
    "executionInfo": {
     "elapsed": 26,
     "status": "ok",
     "timestamp": 1669724313235,
     "user": {
      "displayName": "Peter Maina",
      "userId": "16506398786875401359"
     },
     "user_tz": -180
    },
    "id": "aad2aad9",
    "outputId": "41e3a5bd-774a-4ff9-d640-c4081c6944ba"
   },
   "outputs": [
    {
     "data": {
      "text/plain": [
       "array(['Low Fat', 'Regular', 'LF', 'reg', 'low fat'], dtype=object)"
      ]
     },
     "execution_count": 18,
     "metadata": {},
     "output_type": "execute_result"
    }
   ],
   "source": [
    "# Lets preview an array of the unique features in te column\n",
    "sales_testdf.Item_Fat_Content.unique()"
   ]
  },
  {
   "cell_type": "code",
   "execution_count": 19,
   "id": "8c724296",
   "metadata": {
    "executionInfo": {
     "elapsed": 25,
     "status": "ok",
     "timestamp": 1669724313235,
     "user": {
      "displayName": "Peter Maina",
      "userId": "16506398786875401359"
     },
     "user_tz": -180
    },
    "id": "8c724296"
   },
   "outputs": [],
   "source": [
    "# The train dataset\n",
    "sales_traindf.Item_Fat_Content.replace({'Low Fat': 'low fat','Regular':'regular','reg':'regular','LF':'low fat'},inplace = True)"
   ]
  },
  {
   "cell_type": "code",
   "execution_count": 20,
   "id": "0fc781de",
   "metadata": {
    "executionInfo": {
     "elapsed": 26,
     "status": "ok",
     "timestamp": 1669724313236,
     "user": {
      "displayName": "Peter Maina",
      "userId": "16506398786875401359"
     },
     "user_tz": -180
    },
    "id": "0fc781de"
   },
   "outputs": [],
   "source": [
    "# # The test dataset\n",
    "sales_testdf.Item_Fat_Content.replace({'Low Fat': 'low fat','Regular':'regular','reg':'regular','LF':'low fat'},inplace = True)"
   ]
  },
  {
   "cell_type": "markdown",
   "id": "26d72651",
   "metadata": {
    "id": "26d72651"
   },
   "source": [
    "# Test"
   ]
  },
  {
   "cell_type": "code",
   "execution_count": 21,
   "id": "69998e57",
   "metadata": {
    "colab": {
     "base_uri": "https://localhost:8080/"
    },
    "executionInfo": {
     "elapsed": 26,
     "status": "ok",
     "timestamp": 1669724313237,
     "user": {
      "displayName": "Peter Maina",
      "userId": "16506398786875401359"
     },
     "user_tz": -180
    },
    "id": "69998e57",
    "outputId": "fde6f1aa-c48f-42c5-e5ac-1b90ed6c1dfe"
   },
   "outputs": [
    {
     "name": "stdout",
     "output_type": "stream",
     "text": [
      "['low fat' 'regular']\n",
      "........................................\n",
      "['low fat' 'regular']\n"
     ]
    }
   ],
   "source": [
    "# Lets preview the rows again\n",
    "print(sales_traindf.Item_Fat_Content.unique())\n",
    "print('..'*20)\n",
    "print(sales_testdf.Item_Fat_Content.unique())"
   ]
  },
  {
   "cell_type": "markdown",
   "id": "75048217",
   "metadata": {
    "id": "75048217"
   },
   "source": [
    "# Issue 3 :\n",
    "\n",
    "> Lets lower the cases of all columns for easier computation.\n",
    "\n",
    "# Code"
   ]
  },
  {
   "cell_type": "code",
   "execution_count": 22,
   "id": "bae83380",
   "metadata": {
    "colab": {
     "base_uri": "https://localhost:8080/"
    },
    "executionInfo": {
     "elapsed": 28,
     "status": "ok",
     "timestamp": 1669724313240,
     "user": {
      "displayName": "Peter Maina",
      "userId": "16506398786875401359"
     },
     "user_tz": -180
    },
    "id": "bae83380",
    "outputId": "1df33ae3-fade-4159-9c0e-e44b0cebd49e"
   },
   "outputs": [
    {
     "data": {
      "text/plain": [
       "Index(['Item_Identifier', 'Item_Weight', 'Item_Fat_Content', 'Item_Visibility',\n",
       "       'Item_Type', 'Item_MRP', 'Outlet_Identifier',\n",
       "       'Outlet_Establishment_Year', 'Outlet_Size', 'Outlet_Location_Type',\n",
       "       'Outlet_Type', 'Item_Outlet_Sales'],\n",
       "      dtype='object')"
      ]
     },
     "execution_count": 22,
     "metadata": {},
     "output_type": "execute_result"
    }
   ],
   "source": [
    "# lets preview the columns\n",
    "sales_traindf.columns"
   ]
  },
  {
   "cell_type": "code",
   "execution_count": 23,
   "id": "6ae0cc4f",
   "metadata": {
    "executionInfo": {
     "elapsed": 32,
     "status": "ok",
     "timestamp": 1669724313244,
     "user": {
      "displayName": "Peter Maina",
      "userId": "16506398786875401359"
     },
     "user_tz": -180
    },
    "id": "6ae0cc4f"
   },
   "outputs": [],
   "source": [
    "# Lets rename the columns of all rows\n",
    "# We'll use the lambda funtion to strip off white spaces\n",
    "\n",
    "sales_traindf.rename(columns = lambda x : x.lower(),inplace =True)\n",
    "\n",
    "sales_testdf.rename(columns = lambda x : x.lower(),inplace =True)\n",
    "\n"
   ]
  },
  {
   "cell_type": "markdown",
   "id": "5f496228",
   "metadata": {
    "id": "5f496228"
   },
   "source": [
    "# Test"
   ]
  },
  {
   "cell_type": "code",
   "execution_count": 24,
   "id": "b7228917",
   "metadata": {
    "colab": {
     "base_uri": "https://localhost:8080/"
    },
    "executionInfo": {
     "elapsed": 32,
     "status": "ok",
     "timestamp": 1669724313244,
     "user": {
      "displayName": "Peter Maina",
      "userId": "16506398786875401359"
     },
     "user_tz": -180
    },
    "id": "b7228917",
    "outputId": "0875364b-716f-4172-a00f-8907797c6835"
   },
   "outputs": [
    {
     "data": {
      "text/plain": [
       "Index(['item_identifier', 'item_weight', 'item_fat_content', 'item_visibility',\n",
       "       'item_type', 'item_mrp', 'outlet_identifier',\n",
       "       'outlet_establishment_year', 'outlet_size', 'outlet_location_type',\n",
       "       'outlet_type', 'item_outlet_sales'],\n",
       "      dtype='object')"
      ]
     },
     "execution_count": 24,
     "metadata": {},
     "output_type": "execute_result"
    }
   ],
   "source": [
    "# Lets preview the columns\n",
    "sales_traindf.columns"
   ]
  },
  {
   "cell_type": "code",
   "execution_count": 25,
   "id": "c36b0129",
   "metadata": {
    "colab": {
     "base_uri": "https://localhost:8080/"
    },
    "executionInfo": {
     "elapsed": 33,
     "status": "ok",
     "timestamp": 1669724313246,
     "user": {
      "displayName": "Peter Maina",
      "userId": "16506398786875401359"
     },
     "user_tz": -180
    },
    "id": "c36b0129",
    "outputId": "fd8525d8-bb8e-47e4-a8d0-eb380e0afe14",
    "scrolled": false
   },
   "outputs": [
    {
     "data": {
      "text/plain": [
       "Index(['item_identifier', 'item_weight', 'item_fat_content', 'item_visibility',\n",
       "       'item_type', 'item_mrp', 'outlet_identifier',\n",
       "       'outlet_establishment_year', 'outlet_size', 'outlet_location_type',\n",
       "       'outlet_type'],\n",
       "      dtype='object')"
      ]
     },
     "execution_count": 25,
     "metadata": {},
     "output_type": "execute_result"
    }
   ],
   "source": [
    "sales_testdf.columns"
   ]
  },
  {
   "cell_type": "markdown",
   "id": "71af1b28",
   "metadata": {
    "id": "71af1b28"
   },
   "source": [
    "# Issue 4:\n",
    "\n",
    "> Lets convert the datatype of the year column from integer to datetime.\n",
    "\n",
    "# Code"
   ]
  },
  {
   "cell_type": "code",
   "execution_count": 26,
   "id": "5df90bd2",
   "metadata": {
    "executionInfo": {
     "elapsed": 34,
     "status": "ok",
     "timestamp": 1669724313247,
     "user": {
      "displayName": "Peter Maina",
      "userId": "16506398786875401359"
     },
     "user_tz": -180
    },
    "id": "5df90bd2"
   },
   "outputs": [],
   "source": [
    "# Lets convert the data type \n",
    "sales_traindf['outlet_establishment_year']= pd.to_datetime(sales_traindf['outlet_establishment_year'])\n",
    "sales_testdf['outlet_establishment_year']= pd.to_datetime(sales_testdf['outlet_establishment_year'])"
   ]
  },
  {
   "cell_type": "markdown",
   "id": "a85ca0a3",
   "metadata": {
    "id": "a85ca0a3"
   },
   "source": [
    "# Test"
   ]
  },
  {
   "cell_type": "code",
   "execution_count": 27,
   "id": "337d69c3",
   "metadata": {
    "colab": {
     "base_uri": "https://localhost:8080/"
    },
    "executionInfo": {
     "elapsed": 34,
     "status": "ok",
     "timestamp": 1669724313248,
     "user": {
      "displayName": "Peter Maina",
      "userId": "16506398786875401359"
     },
     "user_tz": -180
    },
    "id": "337d69c3",
    "outputId": "fd11fef7-b493-44d0-e061-f1ec88d6d9ec"
   },
   "outputs": [
    {
     "name": "stdout",
     "output_type": "stream",
     "text": [
      "item_identifier                      object\n",
      "item_weight                         float64\n",
      "item_fat_content                     object\n",
      "item_visibility                     float64\n",
      "item_type                            object\n",
      "item_mrp                            float64\n",
      "outlet_identifier                    object\n",
      "outlet_establishment_year    datetime64[ns]\n",
      "outlet_size                          object\n",
      "outlet_location_type                 object\n",
      "outlet_type                          object\n",
      "item_outlet_sales                   float64\n",
      "dtype: object\n",
      "................................................................................\n",
      "item_identifier                      object\n",
      "item_weight                         float64\n",
      "item_fat_content                     object\n",
      "item_visibility                     float64\n",
      "item_type                            object\n",
      "item_mrp                            float64\n",
      "outlet_identifier                    object\n",
      "outlet_establishment_year    datetime64[ns]\n",
      "outlet_size                          object\n",
      "outlet_location_type                 object\n",
      "outlet_type                          object\n",
      "dtype: object\n"
     ]
    }
   ],
   "source": [
    "print(sales_traindf.dtypes)\n",
    "print('..'*40)\n",
    "print(sales_testdf.dtypes)"
   ]
  },
  {
   "cell_type": "markdown",
   "id": "1818e5d3",
   "metadata": {
    "id": "1818e5d3"
   },
   "source": [
    "# 4. Exploratory Data Analysis\n",
    "\n",
    "## (a) Univariate Analysis"
   ]
  },
  {
   "cell_type": "code",
   "execution_count": null,
   "id": "j1we3Phd74BI",
   "metadata": {
    "executionInfo": {
     "elapsed": 36,
     "status": "ok",
     "timestamp": 1669724313250,
     "user": {
      "displayName": "Peter Maina",
      "userId": "16506398786875401359"
     },
     "user_tz": -180
    },
    "id": "j1we3Phd74BI"
   },
   "outputs": [],
   "source": []
  },
  {
   "cell_type": "code",
   "execution_count": 28,
   "id": "c8d44c30",
   "metadata": {
    "colab": {
     "base_uri": "https://localhost:8080/",
     "height": 0
    },
    "executionInfo": {
     "elapsed": 37,
     "status": "ok",
     "timestamp": 1669724313251,
     "user": {
      "displayName": "Peter Maina",
      "userId": "16506398786875401359"
     },
     "user_tz": -180
    },
    "id": "c8d44c30",
    "outputId": "983372cf-2453-4aa1-98eb-3e109bf083b1"
   },
   "outputs": [
    {
     "data": {
      "text/html": [
       "<div>\n",
       "<style scoped>\n",
       "    .dataframe tbody tr th:only-of-type {\n",
       "        vertical-align: middle;\n",
       "    }\n",
       "\n",
       "    .dataframe tbody tr th {\n",
       "        vertical-align: top;\n",
       "    }\n",
       "\n",
       "    .dataframe thead th {\n",
       "        text-align: right;\n",
       "    }\n",
       "</style>\n",
       "<table border=\"1\" class=\"dataframe\">\n",
       "  <thead>\n",
       "    <tr style=\"text-align: right;\">\n",
       "      <th></th>\n",
       "      <th>item_identifier</th>\n",
       "      <th>item_weight</th>\n",
       "      <th>item_fat_content</th>\n",
       "      <th>item_visibility</th>\n",
       "      <th>item_type</th>\n",
       "      <th>item_mrp</th>\n",
       "      <th>outlet_identifier</th>\n",
       "      <th>outlet_establishment_year</th>\n",
       "      <th>outlet_size</th>\n",
       "      <th>outlet_location_type</th>\n",
       "      <th>outlet_type</th>\n",
       "      <th>item_outlet_sales</th>\n",
       "    </tr>\n",
       "  </thead>\n",
       "  <tbody>\n",
       "    <tr>\n",
       "      <th>0</th>\n",
       "      <td>FDA15</td>\n",
       "      <td>9.300</td>\n",
       "      <td>low fat</td>\n",
       "      <td>0.016047</td>\n",
       "      <td>Dairy</td>\n",
       "      <td>249.8092</td>\n",
       "      <td>OUT049</td>\n",
       "      <td>1970-01-01 00:00:00.000001999</td>\n",
       "      <td>Medium</td>\n",
       "      <td>Tier 1</td>\n",
       "      <td>Supermarket Type1</td>\n",
       "      <td>3735.1380</td>\n",
       "    </tr>\n",
       "    <tr>\n",
       "      <th>1</th>\n",
       "      <td>DRC01</td>\n",
       "      <td>5.920</td>\n",
       "      <td>regular</td>\n",
       "      <td>0.019278</td>\n",
       "      <td>Soft Drinks</td>\n",
       "      <td>48.2692</td>\n",
       "      <td>OUT018</td>\n",
       "      <td>1970-01-01 00:00:00.000002009</td>\n",
       "      <td>Medium</td>\n",
       "      <td>Tier 3</td>\n",
       "      <td>Supermarket Type2</td>\n",
       "      <td>443.4228</td>\n",
       "    </tr>\n",
       "    <tr>\n",
       "      <th>2</th>\n",
       "      <td>FDN15</td>\n",
       "      <td>17.500</td>\n",
       "      <td>low fat</td>\n",
       "      <td>0.016760</td>\n",
       "      <td>Meat</td>\n",
       "      <td>141.6180</td>\n",
       "      <td>OUT049</td>\n",
       "      <td>1970-01-01 00:00:00.000001999</td>\n",
       "      <td>Medium</td>\n",
       "      <td>Tier 1</td>\n",
       "      <td>Supermarket Type1</td>\n",
       "      <td>2097.2700</td>\n",
       "    </tr>\n",
       "    <tr>\n",
       "      <th>4</th>\n",
       "      <td>NCD19</td>\n",
       "      <td>8.930</td>\n",
       "      <td>low fat</td>\n",
       "      <td>0.000000</td>\n",
       "      <td>Household</td>\n",
       "      <td>53.8614</td>\n",
       "      <td>OUT013</td>\n",
       "      <td>1970-01-01 00:00:00.000001987</td>\n",
       "      <td>High</td>\n",
       "      <td>Tier 3</td>\n",
       "      <td>Supermarket Type1</td>\n",
       "      <td>994.7052</td>\n",
       "    </tr>\n",
       "    <tr>\n",
       "      <th>5</th>\n",
       "      <td>FDP36</td>\n",
       "      <td>10.395</td>\n",
       "      <td>regular</td>\n",
       "      <td>0.000000</td>\n",
       "      <td>Baking Goods</td>\n",
       "      <td>51.4008</td>\n",
       "      <td>OUT018</td>\n",
       "      <td>1970-01-01 00:00:00.000002009</td>\n",
       "      <td>Medium</td>\n",
       "      <td>Tier 3</td>\n",
       "      <td>Supermarket Type2</td>\n",
       "      <td>556.6088</td>\n",
       "    </tr>\n",
       "  </tbody>\n",
       "</table>\n",
       "</div>"
      ],
      "text/plain": [
       "  item_identifier  item_weight item_fat_content  item_visibility  \\\n",
       "0           FDA15        9.300          low fat         0.016047   \n",
       "1           DRC01        5.920          regular         0.019278   \n",
       "2           FDN15       17.500          low fat         0.016760   \n",
       "4           NCD19        8.930          low fat         0.000000   \n",
       "5           FDP36       10.395          regular         0.000000   \n",
       "\n",
       "      item_type  item_mrp outlet_identifier     outlet_establishment_year  \\\n",
       "0         Dairy  249.8092            OUT049 1970-01-01 00:00:00.000001999   \n",
       "1   Soft Drinks   48.2692            OUT018 1970-01-01 00:00:00.000002009   \n",
       "2          Meat  141.6180            OUT049 1970-01-01 00:00:00.000001999   \n",
       "4     Household   53.8614            OUT013 1970-01-01 00:00:00.000001987   \n",
       "5  Baking Goods   51.4008            OUT018 1970-01-01 00:00:00.000002009   \n",
       "\n",
       "  outlet_size outlet_location_type        outlet_type  item_outlet_sales  \n",
       "0      Medium               Tier 1  Supermarket Type1          3735.1380  \n",
       "1      Medium               Tier 3  Supermarket Type2           443.4228  \n",
       "2      Medium               Tier 1  Supermarket Type1          2097.2700  \n",
       "4        High               Tier 3  Supermarket Type1           994.7052  \n",
       "5      Medium               Tier 3  Supermarket Type2           556.6088  "
      ]
     },
     "execution_count": 28,
     "metadata": {},
     "output_type": "execute_result"
    }
   ],
   "source": [
    "sales_traindf.head()"
   ]
  },
  {
   "cell_type": "code",
   "execution_count": 29,
   "id": "c2efe96f",
   "metadata": {
    "colab": {
     "base_uri": "https://localhost:8080/",
     "height": 0
    },
    "executionInfo": {
     "elapsed": 2466,
     "status": "ok",
     "timestamp": 1669724315681,
     "user": {
      "displayName": "Peter Maina",
      "userId": "16506398786875401359"
     },
     "user_tz": -180
    },
    "id": "c2efe96f",
    "outputId": "eab13ed2-f507-4c45-8c92-cbb9acc2848b"
   },
   "outputs": [
    {
     "data": {
      "text/plain": [
       "<Figure size 1000x300 with 0 Axes>"
      ]
     },
     "metadata": {},
     "output_type": "display_data"
    },
    {
     "data": {
      "image/png": "[encoded data removed]",
      "text/plain": [
       "<Figure size 360x360 with 1 Axes>"
      ]
     },
     "metadata": {
      "needs_background": "light"
     },
     "output_type": "display_data"
    },
    {
     "data": {
      "text/plain": [
       "<Figure size 1000x300 with 0 Axes>"
      ]
     },
     "metadata": {},
     "output_type": "display_data"
    },
    {
     "data": {
      "image/png": "[encoded data removed]",
      "text/plain": [
       "<Figure size 360x360 with 1 Axes>"
      ]
     },
     "metadata": {
      "needs_background": "light"
     },
     "output_type": "display_data"
    },
    {
     "data": {
      "text/plain": [
       "<Figure size 1000x300 with 0 Axes>"
      ]
     },
     "metadata": {},
     "output_type": "display_data"
    },
    {
     "data": {
      "image/png": "[encoded data removed]",
      "text/plain": [
       "<Figure size 360x360 with 1 Axes>"
      ]
     },
     "metadata": {
      "needs_background": "light"
     },
     "output_type": "display_data"
    },
    {
     "data": {
      "text/plain": [
       "<Figure size 1000x300 with 0 Axes>"
      ]
     },
     "metadata": {},
     "output_type": "display_data"
    },
    {
     "data": {
      "image/png": "[encoded data removed]",
      "text/plain": [
       "<Figure size 360x360 with 1 Axes>"
      ]
     },
     "metadata": {
      "needs_background": "light"
     },
     "output_type": "display_data"
    }
   ],
   "source": [
    "#Plotting histrograms for categorical values\n",
    "# columns_dict = ['unit_price','tax','cogs','gross_income','total']\n",
    "\n",
    "def histogram (v):\n",
    "    columns_dict = ['item_weight','item_visibility','item_mrp','item_outlet_sales']\n",
    "    for i in columns_dict:\n",
    "      plt.figure(figsize = (10,3), dpi=100)\n",
    "      sns.displot(v[i], kde = True, color = 'brown')\n",
    "      plt.title(f\"Histogram showing {i} distribution\", color = 'Black')\n",
    "      plt.show()\n",
    "\n",
    "histogram (sales_traindf);"
   ]
  },
  {
   "cell_type": "code",
   "execution_count": 30,
   "id": "9ba573b0",
   "metadata": {
    "colab": {
     "base_uri": "https://localhost:8080/"
    },
    "executionInfo": {
     "elapsed": 24,
     "status": "ok",
     "timestamp": 1669724315692,
     "user": {
      "displayName": "Peter Maina",
      "userId": "16506398786875401359"
     },
     "user_tz": -180
    },
    "id": "9ba573b0",
    "outputId": "2a7c7599-0fd6-4586-b87a-cb5b1a875c26"
   },
   "outputs": [
    {
     "data": {
      "text/plain": [
       "Small     1860\n",
       "Medium    1858\n",
       "High       932\n",
       "Name: outlet_size, dtype: int64"
      ]
     },
     "execution_count": 30,
     "metadata": {},
     "output_type": "execute_result"
    }
   ],
   "source": [
    "# Lets check for the value counts of the outlet_size\n",
    "sales_traindf['outlet_size'].value_counts()"
   ]
  },
  {
   "cell_type": "code",
   "execution_count": 31,
   "id": "11653d2e",
   "metadata": {
    "colab": {
     "base_uri": "https://localhost:8080/",
     "height": 0
    },
    "executionInfo": {
     "elapsed": 23,
     "status": "ok",
     "timestamp": 1669724315693,
     "user": {
      "displayName": "Peter Maina",
      "userId": "16506398786875401359"
     },
     "user_tz": -180
    },
    "id": "11653d2e",
    "outputId": "dc6f7d69-d137-4c9f-b358-633cab269978"
   },
   "outputs": [
    {
     "data": {
      "image/png": "[encoded data removed]",
      "text/plain": [
       "<Figure size 720x432 with 1 Axes>"
      ]
     },
     "metadata": {
      "needs_background": "light"
     },
     "output_type": "display_data"
    }
   ],
   "source": [
    "# Lets plot a countplot for the column\n",
    "\n",
    "base_color = sns.color_palette()[0]\n",
    "plt.figure(figsize=(10,6))\n",
    "sns.countplot(x = sales_traindf['outlet_size'],color = base_color)\n",
    "plt.xticks(rotation=60);\n",
    "plt.title('Distribution of outlet_size in the data set');"
   ]
  },
  {
   "cell_type": "code",
   "execution_count": 32,
   "id": "ee6f375a",
   "metadata": {
    "colab": {
     "base_uri": "https://localhost:8080/",
     "height": 0
    },
    "executionInfo": {
     "elapsed": 23,
     "status": "ok",
     "timestamp": 1669724315694,
     "user": {
      "displayName": "Peter Maina",
      "userId": "16506398786875401359"
     },
     "user_tz": -180
    },
    "id": "ee6f375a",
    "outputId": "0c660037-7f87-43df-9b12-ff5325b785a8"
   },
   "outputs": [
    {
     "data": {
      "image/png": "[encoded data removed]",
      "text/plain": [
       "<Figure size 720x432 with 1 Axes>"
      ]
     },
     "metadata": {
      "needs_background": "light"
     },
     "output_type": "display_data"
    }
   ],
   "source": [
    "# Lets plot a countplot for the column\n",
    "\n",
    "base_color = sns.color_palette()[0]\n",
    "plt.figure(figsize=(10,6))\n",
    "sns.countplot(x = sales_traindf['item_fat_content'],color = base_color)\n",
    "plt.xticks(rotation=60);\n",
    "plt.title('Distribution of fat content in the data set');"
   ]
  },
  {
   "cell_type": "code",
   "execution_count": 33,
   "id": "194664d9",
   "metadata": {
    "colab": {
     "base_uri": "https://localhost:8080/"
    },
    "executionInfo": {
     "elapsed": 24,
     "status": "ok",
     "timestamp": 1669724315696,
     "user": {
      "displayName": "Peter Maina",
      "userId": "16506398786875401359"
     },
     "user_tz": -180
    },
    "id": "194664d9",
    "outputId": "f0aa6891-eb37-4355-eda0-c22fbd37be77"
   },
   "outputs": [
    {
     "data": {
      "text/plain": [
       "Supermarket Type1    3722\n",
       "Supermarket Type2     928\n",
       "Name: outlet_type, dtype: int64"
      ]
     },
     "execution_count": 33,
     "metadata": {},
     "output_type": "execute_result"
    }
   ],
   "source": [
    "sales_traindf.outlet_type.value_counts()"
   ]
  },
  {
   "cell_type": "code",
   "execution_count": 34,
   "id": "ee01cf38",
   "metadata": {
    "colab": {
     "base_uri": "https://localhost:8080/",
     "height": 0
    },
    "executionInfo": {
     "elapsed": 24,
     "status": "ok",
     "timestamp": 1669724315696,
     "user": {
      "displayName": "Peter Maina",
      "userId": "16506398786875401359"
     },
     "user_tz": -180
    },
    "id": "ee01cf38",
    "outputId": "ec1f19a1-40cd-409d-b6f7-96c8ad738622"
   },
   "outputs": [
    {
     "data": {
      "image/png": "[encoded data removed]",
      "text/plain": [
       "<Figure size 720x432 with 1 Axes>"
      ]
     },
     "metadata": {
      "needs_background": "light"
     },
     "output_type": "display_data"
    }
   ],
   "source": [
    "# Lets plot a countplot for the column\n",
    "\n",
    "base_color = sns.color_palette()[0]\n",
    "plt.figure(figsize=(10,6))\n",
    "sns.countplot(x = sales_traindf['outlet_type'],color = base_color)\n",
    "plt.xticks(rotation=60);\n",
    "plt.title('Distribution of fat content in the data set');"
   ]
  },
  {
   "cell_type": "markdown",
   "id": "a8b168b1",
   "metadata": {
    "id": "a8b168b1"
   },
   "source": [
    "## Bivariate Analysis"
   ]
  },
  {
   "cell_type": "code",
   "execution_count": 35,
   "id": "3ccfff43",
   "metadata": {
    "colab": {
     "base_uri": "https://localhost:8080/",
     "height": 0
    },
    "executionInfo": {
     "elapsed": 24,
     "status": "ok",
     "timestamp": 1669724315697,
     "user": {
      "displayName": "Peter Maina",
      "userId": "16506398786875401359"
     },
     "user_tz": -180
    },
    "id": "3ccfff43",
    "outputId": "fc720a52-174b-450f-9cc3-7048d8a13128"
   },
   "outputs": [
    {
     "data": {
      "image/png": "[encoded data removed]",
      "text/plain": [
       "<Figure size 1080x720 with 2 Axes>"
      ]
     },
     "metadata": {
      "needs_background": "light"
     },
     "output_type": "display_data"
    }
   ],
   "source": [
    "## Plotting a correlation matrix\n",
    "\n",
    "def Cormatrix (h):\n",
    "      plt.subplots(figsize=(15,10))\n",
    "      mask = np.triu(np.ones_like(h.corr()))\n",
    "      colormap = sns.color_palette(\"Greens\")\n",
    "      dataplot = sns.heatmap(h.corr(), cmap=colormap, annot=True, mask=mask)\n",
    "      dataplot.set_title(\"Correlation matrix of the dataset\")\n",
    "      plt.show()\n",
    "\n",
    "Cormatrix (sales_traindf)"
   ]
  },
  {
   "cell_type": "code",
   "execution_count": 36,
   "id": "530f4a7f",
   "metadata": {
    "colab": {
     "base_uri": "https://localhost:8080/",
     "height": 0
    },
    "executionInfo": {
     "elapsed": 935,
     "status": "ok",
     "timestamp": 1669724316609,
     "user": {
      "displayName": "Peter Maina",
      "userId": "16506398786875401359"
     },
     "user_tz": -180
    },
    "id": "530f4a7f",
    "outputId": "70126194-41a4-4938-9b88-16673b72733b",
    "scrolled": true
   },
   "outputs": [
    {
     "data": {
      "image/png": "[encoded data removed]",
      "text/plain": [
       "<Figure size 432x288 with 1 Axes>"
      ]
     },
     "metadata": {
      "needs_background": "light"
     },
     "output_type": "display_data"
    }
   ],
   "source": [
    "# Lets plot scatter plots of the highly correlated features \n",
    "\n",
    "ax = sales_traindf.plot.scatter(x=\"item_mrp\", y=\"item_outlet_sales\")"
   ]
  },
  {
   "cell_type": "code",
   "execution_count": 37,
   "id": "508ae21c",
   "metadata": {
    "colab": {
     "base_uri": "https://localhost:8080/",
     "height": 0
    },
    "executionInfo": {
     "elapsed": 44,
     "status": "ok",
     "timestamp": 1669724316611,
     "user": {
      "displayName": "Peter Maina",
      "userId": "16506398786875401359"
     },
     "user_tz": -180
    },
    "id": "508ae21c",
    "outputId": "076d85bd-4f83-4c7d-844d-56c55debaef5"
   },
   "outputs": [
    {
     "data": {
      "text/html": [
       "<div>\n",
       "<style scoped>\n",
       "    .dataframe tbody tr th:only-of-type {\n",
       "        vertical-align: middle;\n",
       "    }\n",
       "\n",
       "    .dataframe tbody tr th {\n",
       "        vertical-align: top;\n",
       "    }\n",
       "\n",
       "    .dataframe thead th {\n",
       "        text-align: right;\n",
       "    }\n",
       "</style>\n",
       "<table border=\"1\" class=\"dataframe\">\n",
       "  <thead>\n",
       "    <tr style=\"text-align: right;\">\n",
       "      <th></th>\n",
       "      <th>item_identifier</th>\n",
       "      <th>item_weight</th>\n",
       "      <th>item_fat_content</th>\n",
       "      <th>item_visibility</th>\n",
       "      <th>item_type</th>\n",
       "      <th>item_mrp</th>\n",
       "      <th>outlet_identifier</th>\n",
       "      <th>outlet_establishment_year</th>\n",
       "      <th>outlet_size</th>\n",
       "      <th>outlet_location_type</th>\n",
       "      <th>outlet_type</th>\n",
       "      <th>item_outlet_sales</th>\n",
       "    </tr>\n",
       "  </thead>\n",
       "  <tbody>\n",
       "    <tr>\n",
       "      <th>0</th>\n",
       "      <td>FDA15</td>\n",
       "      <td>9.30</td>\n",
       "      <td>low fat</td>\n",
       "      <td>0.016047</td>\n",
       "      <td>Dairy</td>\n",
       "      <td>249.8092</td>\n",
       "      <td>OUT049</td>\n",
       "      <td>1970-01-01 00:00:00.000001999</td>\n",
       "      <td>Medium</td>\n",
       "      <td>Tier 1</td>\n",
       "      <td>Supermarket Type1</td>\n",
       "      <td>3735.1380</td>\n",
       "    </tr>\n",
       "    <tr>\n",
       "      <th>1</th>\n",
       "      <td>DRC01</td>\n",
       "      <td>5.92</td>\n",
       "      <td>regular</td>\n",
       "      <td>0.019278</td>\n",
       "      <td>Soft Drinks</td>\n",
       "      <td>48.2692</td>\n",
       "      <td>OUT018</td>\n",
       "      <td>1970-01-01 00:00:00.000002009</td>\n",
       "      <td>Medium</td>\n",
       "      <td>Tier 3</td>\n",
       "      <td>Supermarket Type2</td>\n",
       "      <td>443.4228</td>\n",
       "    </tr>\n",
       "    <tr>\n",
       "      <th>2</th>\n",
       "      <td>FDN15</td>\n",
       "      <td>17.50</td>\n",
       "      <td>low fat</td>\n",
       "      <td>0.016760</td>\n",
       "      <td>Meat</td>\n",
       "      <td>141.6180</td>\n",
       "      <td>OUT049</td>\n",
       "      <td>1970-01-01 00:00:00.000001999</td>\n",
       "      <td>Medium</td>\n",
       "      <td>Tier 1</td>\n",
       "      <td>Supermarket Type1</td>\n",
       "      <td>2097.2700</td>\n",
       "    </tr>\n",
       "  </tbody>\n",
       "</table>\n",
       "</div>"
      ],
      "text/plain": [
       "  item_identifier  item_weight item_fat_content  item_visibility    item_type  \\\n",
       "0           FDA15         9.30          low fat         0.016047        Dairy   \n",
       "1           DRC01         5.92          regular         0.019278  Soft Drinks   \n",
       "2           FDN15        17.50          low fat         0.016760         Meat   \n",
       "\n",
       "   item_mrp outlet_identifier     outlet_establishment_year outlet_size  \\\n",
       "0  249.8092            OUT049 1970-01-01 00:00:00.000001999      Medium   \n",
       "1   48.2692            OUT018 1970-01-01 00:00:00.000002009      Medium   \n",
       "2  141.6180            OUT049 1970-01-01 00:00:00.000001999      Medium   \n",
       "\n",
       "  outlet_location_type        outlet_type  item_outlet_sales  \n",
       "0               Tier 1  Supermarket Type1          3735.1380  \n",
       "1               Tier 3  Supermarket Type2           443.4228  \n",
       "2               Tier 1  Supermarket Type1          2097.2700  "
      ]
     },
     "execution_count": 37,
     "metadata": {},
     "output_type": "execute_result"
    }
   ],
   "source": [
    "sales_traindf.head(3)"
   ]
  },
  {
   "cell_type": "markdown",
   "id": "eb839d7e",
   "metadata": {
    "id": "eb839d7e"
   },
   "source": [
    "# Pre-processing\n",
    "\n",
    "## (a) Label Encoding"
   ]
  },
  {
   "cell_type": "code",
   "execution_count": 38,
   "id": "af81493b",
   "metadata": {
    "colab": {
     "base_uri": "https://localhost:8080/",
     "height": 0
    },
    "executionInfo": {
     "elapsed": 42,
     "status": "ok",
     "timestamp": 1669724316611,
     "user": {
      "displayName": "Peter Maina",
      "userId": "16506398786875401359"
     },
     "user_tz": -180
    },
    "id": "af81493b",
    "outputId": "5ad00780-4e2c-4289-93e4-737ac12b3d49"
   },
   "outputs": [
    {
     "data": {
      "text/html": [
       "<div>\n",
       "<style scoped>\n",
       "    .dataframe tbody tr th:only-of-type {\n",
       "        vertical-align: middle;\n",
       "    }\n",
       "\n",
       "    .dataframe tbody tr th {\n",
       "        vertical-align: top;\n",
       "    }\n",
       "\n",
       "    .dataframe thead th {\n",
       "        text-align: right;\n",
       "    }\n",
       "</style>\n",
       "<table border=\"1\" class=\"dataframe\">\n",
       "  <thead>\n",
       "    <tr style=\"text-align: right;\">\n",
       "      <th></th>\n",
       "      <th>item_identifier</th>\n",
       "      <th>item_weight</th>\n",
       "      <th>item_fat_content</th>\n",
       "      <th>item_visibility</th>\n",
       "      <th>item_type</th>\n",
       "      <th>item_mrp</th>\n",
       "      <th>outlet_identifier</th>\n",
       "      <th>outlet_establishment_year</th>\n",
       "      <th>outlet_size</th>\n",
       "      <th>outlet_location_type</th>\n",
       "      <th>outlet_type</th>\n",
       "      <th>item_outlet_sales</th>\n",
       "    </tr>\n",
       "  </thead>\n",
       "  <tbody>\n",
       "    <tr>\n",
       "      <th>2698</th>\n",
       "      <td>DRE13</td>\n",
       "      <td>6.28</td>\n",
       "      <td>low fat</td>\n",
       "      <td>0.027748</td>\n",
       "      <td>Soft Drinks</td>\n",
       "      <td>86.5198</td>\n",
       "      <td>OUT049</td>\n",
       "      <td>1970-01-01 00:00:00.000001999</td>\n",
       "      <td>Medium</td>\n",
       "      <td>Tier 1</td>\n",
       "      <td>Supermarket Type1</td>\n",
       "      <td>1395.5168</td>\n",
       "    </tr>\n",
       "    <tr>\n",
       "      <th>119</th>\n",
       "      <td>FDY58</td>\n",
       "      <td>11.65</td>\n",
       "      <td>low fat</td>\n",
       "      <td>0.040081</td>\n",
       "      <td>Snack Foods</td>\n",
       "      <td>227.0694</td>\n",
       "      <td>OUT018</td>\n",
       "      <td>1970-01-01 00:00:00.000002009</td>\n",
       "      <td>Medium</td>\n",
       "      <td>Tier 3</td>\n",
       "      <td>Supermarket Type2</td>\n",
       "      <td>1141.8470</td>\n",
       "    </tr>\n",
       "  </tbody>\n",
       "</table>\n",
       "</div>"
      ],
      "text/plain": [
       "     item_identifier  item_weight item_fat_content  item_visibility  \\\n",
       "2698           DRE13         6.28          low fat         0.027748   \n",
       "119            FDY58        11.65          low fat         0.040081   \n",
       "\n",
       "        item_type  item_mrp outlet_identifier     outlet_establishment_year  \\\n",
       "2698  Soft Drinks   86.5198            OUT049 1970-01-01 00:00:00.000001999   \n",
       "119   Snack Foods  227.0694            OUT018 1970-01-01 00:00:00.000002009   \n",
       "\n",
       "     outlet_size outlet_location_type        outlet_type  item_outlet_sales  \n",
       "2698      Medium               Tier 1  Supermarket Type1          1395.5168  \n",
       "119       Medium               Tier 3  Supermarket Type2          1141.8470  "
      ]
     },
     "execution_count": 38,
     "metadata": {},
     "output_type": "execute_result"
    }
   ],
   "source": [
    "# Preview a sample\n",
    "sales_traindf.sample(2)"
   ]
  },
  {
   "cell_type": "code",
   "execution_count": 39,
   "id": "cd6c35fc",
   "metadata": {
    "colab": {
     "base_uri": "https://localhost:8080/"
    },
    "executionInfo": {
     "elapsed": 42,
     "status": "ok",
     "timestamp": 1669724316613,
     "user": {
      "displayName": "Peter Maina",
      "userId": "16506398786875401359"
     },
     "user_tz": -180
    },
    "id": "cd6c35fc",
    "outputId": "47f5ec75-c9b2-40f0-9da9-e8c558f18a7d"
   },
   "outputs": [
    {
     "data": {
      "text/plain": [
       "['item_identifier',\n",
       " 'item_fat_content',\n",
       " 'item_type',\n",
       " 'outlet_identifier',\n",
       " 'outlet_size',\n",
       " 'outlet_location_type',\n",
       " 'outlet_type']"
      ]
     },
     "execution_count": 39,
     "metadata": {},
     "output_type": "execute_result"
    }
   ],
   "source": [
    "# Lets label encode\n",
    "le = LabelEncoder()\n",
    "\n",
    "objects = [col for col in sales_traindf.columns if sales_traindf[col].dtype == 'object']\n",
    "objects"
   ]
  },
  {
   "cell_type": "code",
   "execution_count": 40,
   "id": "a0a57826",
   "metadata": {
    "executionInfo": {
     "elapsed": 41,
     "status": "ok",
     "timestamp": 1669724316614,
     "user": {
      "displayName": "Peter Maina",
      "userId": "16506398786875401359"
     },
     "user_tz": -180
    },
    "id": "a0a57826"
   },
   "outputs": [],
   "source": [
    "# Lets label encode categorical varibles\n",
    "categorical = ['item_fat_content','item_type','outlet_size','outlet_location_type','outlet_type']\n",
    "\n",
    "for col in categorical :\n",
    "    sales_traindf[col] = le.fit_transform(sales_traindf[col])"
   ]
  },
  {
   "cell_type": "code",
   "execution_count": 41,
   "id": "800db206",
   "metadata": {
    "colab": {
     "base_uri": "https://localhost:8080/",
     "height": 0
    },
    "executionInfo": {
     "elapsed": 42,
     "status": "ok",
     "timestamp": 1669724316615,
     "user": {
      "displayName": "Peter Maina",
      "userId": "16506398786875401359"
     },
     "user_tz": -180
    },
    "id": "800db206",
    "outputId": "9ba36f26-e53e-4630-b98a-c87b5565ba91",
    "scrolled": true
   },
   "outputs": [
    {
     "data": {
      "text/html": [
       "<div>\n",
       "<style scoped>\n",
       "    .dataframe tbody tr th:only-of-type {\n",
       "        vertical-align: middle;\n",
       "    }\n",
       "\n",
       "    .dataframe tbody tr th {\n",
       "        vertical-align: top;\n",
       "    }\n",
       "\n",
       "    .dataframe thead th {\n",
       "        text-align: right;\n",
       "    }\n",
       "</style>\n",
       "<table border=\"1\" class=\"dataframe\">\n",
       "  <thead>\n",
       "    <tr style=\"text-align: right;\">\n",
       "      <th></th>\n",
       "      <th>item_identifier</th>\n",
       "      <th>item_weight</th>\n",
       "      <th>item_fat_content</th>\n",
       "      <th>item_visibility</th>\n",
       "      <th>item_type</th>\n",
       "      <th>item_mrp</th>\n",
       "      <th>outlet_identifier</th>\n",
       "      <th>outlet_establishment_year</th>\n",
       "      <th>outlet_size</th>\n",
       "      <th>outlet_location_type</th>\n",
       "      <th>outlet_type</th>\n",
       "      <th>item_outlet_sales</th>\n",
       "    </tr>\n",
       "  </thead>\n",
       "  <tbody>\n",
       "    <tr>\n",
       "      <th>0</th>\n",
       "      <td>FDA15</td>\n",
       "      <td>9.30</td>\n",
       "      <td>0</td>\n",
       "      <td>0.016047</td>\n",
       "      <td>4</td>\n",
       "      <td>249.8092</td>\n",
       "      <td>OUT049</td>\n",
       "      <td>1970-01-01 00:00:00.000001999</td>\n",
       "      <td>1</td>\n",
       "      <td>0</td>\n",
       "      <td>0</td>\n",
       "      <td>3735.1380</td>\n",
       "    </tr>\n",
       "    <tr>\n",
       "      <th>1</th>\n",
       "      <td>DRC01</td>\n",
       "      <td>5.92</td>\n",
       "      <td>1</td>\n",
       "      <td>0.019278</td>\n",
       "      <td>14</td>\n",
       "      <td>48.2692</td>\n",
       "      <td>OUT018</td>\n",
       "      <td>1970-01-01 00:00:00.000002009</td>\n",
       "      <td>1</td>\n",
       "      <td>2</td>\n",
       "      <td>1</td>\n",
       "      <td>443.4228</td>\n",
       "    </tr>\n",
       "    <tr>\n",
       "      <th>2</th>\n",
       "      <td>FDN15</td>\n",
       "      <td>17.50</td>\n",
       "      <td>0</td>\n",
       "      <td>0.016760</td>\n",
       "      <td>10</td>\n",
       "      <td>141.6180</td>\n",
       "      <td>OUT049</td>\n",
       "      <td>1970-01-01 00:00:00.000001999</td>\n",
       "      <td>1</td>\n",
       "      <td>0</td>\n",
       "      <td>0</td>\n",
       "      <td>2097.2700</td>\n",
       "    </tr>\n",
       "  </tbody>\n",
       "</table>\n",
       "</div>"
      ],
      "text/plain": [
       "  item_identifier  item_weight  item_fat_content  item_visibility  item_type  \\\n",
       "0           FDA15         9.30                 0         0.016047          4   \n",
       "1           DRC01         5.92                 1         0.019278         14   \n",
       "2           FDN15        17.50                 0         0.016760         10   \n",
       "\n",
       "   item_mrp outlet_identifier     outlet_establishment_year  outlet_size  \\\n",
       "0  249.8092            OUT049 1970-01-01 00:00:00.000001999            1   \n",
       "1   48.2692            OUT018 1970-01-01 00:00:00.000002009            1   \n",
       "2  141.6180            OUT049 1970-01-01 00:00:00.000001999            1   \n",
       "\n",
       "   outlet_location_type  outlet_type  item_outlet_sales  \n",
       "0                     0            0          3735.1380  \n",
       "1                     2            1           443.4228  \n",
       "2                     0            0          2097.2700  "
      ]
     },
     "execution_count": 41,
     "metadata": {},
     "output_type": "execute_result"
    }
   ],
   "source": [
    "# Preview a sample\n",
    "sales_traindf.head(3)"
   ]
  },
  {
   "cell_type": "markdown",
   "id": "c356f598",
   "metadata": {
    "id": "c356f598"
   },
   "source": [
    "## Splitting the dataset\n"
   ]
  },
  {
   "cell_type": "code",
   "execution_count": 42,
   "id": "c430a2ce",
   "metadata": {
    "executionInfo": {
     "elapsed": 41,
     "status": "ok",
     "timestamp": 1669724316615,
     "user": {
      "displayName": "Peter Maina",
      "userId": "16506398786875401359"
     },
     "user_tz": -180
    },
    "id": "c430a2ce"
   },
   "outputs": [],
   "source": [
    "# Linear regression\n",
    "X = sales_traindf.drop(['item_identifier','outlet_identifier','item_outlet_sales','outlet_establishment_year'],1)\n",
    "y = sales_traindf['item_outlet_sales']"
   ]
  },
  {
   "cell_type": "code",
   "execution_count": 43,
   "id": "561bb559",
   "metadata": {
    "executionInfo": {
     "elapsed": 41,
     "status": "ok",
     "timestamp": 1669724316616,
     "user": {
      "displayName": "Peter Maina",
      "userId": "16506398786875401359"
     },
     "user_tz": -180
    },
    "id": "561bb559"
   },
   "outputs": [],
   "source": [
    "# Crafting of the dataset\n",
    "from sklearn.model_selection import train_test_split\n",
    "\n",
    "X_train, X_test, y_train, y_test = train_test_split(X,y, random_state=101, test_size=0.2)"
   ]
  },
  {
   "cell_type": "markdown",
   "id": "4b4c3f63",
   "metadata": {
    "id": "4b4c3f63"
   },
   "source": [
    "## Standardization"
   ]
  },
  {
   "cell_type": "code",
   "execution_count": 44,
   "id": "f5d7aeaf",
   "metadata": {
    "colab": {
     "base_uri": "https://localhost:8080/"
    },
    "executionInfo": {
     "elapsed": 41,
     "status": "ok",
     "timestamp": 1669724316617,
     "user": {
      "displayName": "Peter Maina",
      "userId": "16506398786875401359"
     },
     "user_tz": -180
    },
    "id": "f5d7aeaf",
    "outputId": "58f23cc5-d5c0-4492-cd63-cc9b4f88dd2b",
    "scrolled": true
   },
   "outputs": [
    {
     "data": {
      "text/plain": [
       "array([[ 0.5756752 , -0.73900924,  1.84835355, ..., -0.26809708,\n",
       "         1.1249453 ,  2.00843957],\n",
       "       [ 1.03357788,  1.35316305,  2.14114477, ...,  1.07058899,\n",
       "        -1.10635116, -0.49789897],\n",
       "       [ 0.09647473, -0.73900924, -0.63465873, ..., -0.26809708,\n",
       "        -1.10635116, -0.49789897],\n",
       "       ...,\n",
       "       [ 1.42758715, -0.73900924, -0.59626072, ..., -0.26809708,\n",
       "        -1.10635116, -0.49789897],\n",
       "       [ 0.92708888,  1.35316305,  1.43648482, ...,  1.07058899,\n",
       "         0.00929707, -0.49789897],\n",
       "       [ 0.94838668, -0.73900924, -0.89465211, ...,  1.07058899,\n",
       "        -1.10635116, -0.49789897]])"
      ]
     },
     "execution_count": 44,
     "metadata": {},
     "output_type": "execute_result"
    }
   ],
   "source": [
    "# Lets use standardization \n",
    "sc= StandardScaler()\n",
    "\n",
    "sc.fit_transform(X_train)\n",
    "sc.transform(X_test)"
   ]
  },
  {
   "cell_type": "markdown",
   "id": "00fa357b",
   "metadata": {
    "id": "00fa357b"
   },
   "source": [
    "# Modeling\n",
    "\n",
    "## Base Model :\n",
    "\n",
    "### Decision Tree Regressor"
   ]
  },
  {
   "cell_type": "code",
   "execution_count": 45,
   "id": "6236aadd",
   "metadata": {
    "executionInfo": {
     "elapsed": 41,
     "status": "ok",
     "timestamp": 1669724316617,
     "user": {
      "displayName": "Peter Maina",
      "userId": "16506398786875401359"
     },
     "user_tz": -180
    },
    "id": "6236aadd"
   },
   "outputs": [],
   "source": [
    "# Decision Tree \n",
    "from sklearn.model_selection import train_test_split\n",
    "X_train, X_test, y_train, y_test = train_test_split(X, y, test_size = 0.3, random_state=25)"
   ]
  },
  {
   "cell_type": "code",
   "execution_count": 46,
   "id": "b2426f50",
   "metadata": {
    "colab": {
     "base_uri": "https://localhost:8080/"
    },
    "executionInfo": {
     "elapsed": 41,
     "status": "ok",
     "timestamp": 1669724316618,
     "user": {
      "displayName": "Peter Maina",
      "userId": "16506398786875401359"
     },
     "user_tz": -180
    },
    "id": "b2426f50",
    "outputId": "b85e54e0-c153-44f3-c8c6-a3967faaff24"
   },
   "outputs": [
    {
     "data": {
      "text/plain": [
       "DecisionTreeRegressor(random_state=10)"
      ]
     },
     "execution_count": 46,
     "metadata": {},
     "output_type": "execute_result"
    }
   ],
   "source": [
    "# Building the model\n",
    "\n",
    "from sklearn.tree import DecisionTreeRegressor\n",
    "model = DecisionTreeRegressor(random_state = 10,min_samples_split = 2)\n",
    "\n",
    "# Fitting the model\n",
    "\n",
    "model.fit(X_train, y_train)"
   ]
  },
  {
   "cell_type": "code",
   "execution_count": 47,
   "id": "c97e0b09",
   "metadata": {
    "colab": {
     "base_uri": "https://localhost:8080/",
     "height": 0
    },
    "executionInfo": {
     "elapsed": 40,
     "status": "ok",
     "timestamp": 1669724316618,
     "user": {
      "displayName": "Peter Maina",
      "userId": "16506398786875401359"
     },
     "user_tz": -180
    },
    "id": "c97e0b09",
    "outputId": "16914212-13bb-4b45-d7da-cffd194f2ec7"
   },
   "outputs": [
    {
     "data": {
      "text/html": [
       "<div>\n",
       "<style scoped>\n",
       "    .dataframe tbody tr th:only-of-type {\n",
       "        vertical-align: middle;\n",
       "    }\n",
       "\n",
       "    .dataframe tbody tr th {\n",
       "        vertical-align: top;\n",
       "    }\n",
       "\n",
       "    .dataframe thead th {\n",
       "        text-align: right;\n",
       "    }\n",
       "</style>\n",
       "<table border=\"1\" class=\"dataframe\">\n",
       "  <thead>\n",
       "    <tr style=\"text-align: right;\">\n",
       "      <th></th>\n",
       "      <th>Actual</th>\n",
       "      <th>Predicted</th>\n",
       "    </tr>\n",
       "  </thead>\n",
       "  <tbody>\n",
       "    <tr>\n",
       "      <th>5785</th>\n",
       "      <td>1584.6040</td>\n",
       "      <td>3038.7112</td>\n",
       "    </tr>\n",
       "    <tr>\n",
       "      <th>3415</th>\n",
       "      <td>1566.6274</td>\n",
       "      <td>1478.0760</td>\n",
       "    </tr>\n",
       "    <tr>\n",
       "      <th>1793</th>\n",
       "      <td>194.4136</td>\n",
       "      <td>972.0680</td>\n",
       "    </tr>\n",
       "    <tr>\n",
       "      <th>2701</th>\n",
       "      <td>2465.4574</td>\n",
       "      <td>2036.6822</td>\n",
       "    </tr>\n",
       "    <tr>\n",
       "      <th>7118</th>\n",
       "      <td>7190.6400</td>\n",
       "      <td>3046.7008</td>\n",
       "    </tr>\n",
       "  </tbody>\n",
       "</table>\n",
       "</div>"
      ],
      "text/plain": [
       "         Actual  Predicted\n",
       "5785  1584.6040  3038.7112\n",
       "3415  1566.6274  1478.0760\n",
       "1793   194.4136   972.0680\n",
       "2701  2465.4574  2036.6822\n",
       "7118  7190.6400  3046.7008"
      ]
     },
     "execution_count": 47,
     "metadata": {},
     "output_type": "execute_result"
    }
   ],
   "source": [
    "# Predict based on the model we've trained\n",
    "y_preddt = model.predict(X_test)\n",
    "\n",
    "# creating a dataframe of the predicted and actuals\n",
    "comparison_framedt = pd.DataFrame({'Actual': y_test, 'Predicted': y_preddt})\n",
    "comparison_framedt.head(5)"
   ]
  },
  {
   "cell_type": "code",
   "execution_count": 48,
   "id": "98177b6e",
   "metadata": {
    "colab": {
     "base_uri": "https://localhost:8080/",
     "height": 0
    },
    "executionInfo": {
     "elapsed": 40,
     "status": "ok",
     "timestamp": 1669724316619,
     "user": {
      "displayName": "Peter Maina",
      "userId": "16506398786875401359"
     },
     "user_tz": -180
    },
    "id": "98177b6e",
    "outputId": "076f1701-1948-4720-c1b7-1c81555ba7a7"
   },
   "outputs": [
    {
     "data": {
      "text/html": [
       "<div>\n",
       "<style scoped>\n",
       "    .dataframe tbody tr th:only-of-type {\n",
       "        vertical-align: middle;\n",
       "    }\n",
       "\n",
       "    .dataframe tbody tr th {\n",
       "        vertical-align: top;\n",
       "    }\n",
       "\n",
       "    .dataframe thead th {\n",
       "        text-align: right;\n",
       "    }\n",
       "</style>\n",
       "<table border=\"1\" class=\"dataframe\">\n",
       "  <thead>\n",
       "    <tr style=\"text-align: right;\">\n",
       "      <th></th>\n",
       "      <th>Actual</th>\n",
       "      <th>Predicted</th>\n",
       "    </tr>\n",
       "  </thead>\n",
       "  <tbody>\n",
       "    <tr>\n",
       "      <th>count</th>\n",
       "      <td>1395.000000</td>\n",
       "      <td>1395.000000</td>\n",
       "    </tr>\n",
       "    <tr>\n",
       "      <th>mean</th>\n",
       "      <td>2234.214321</td>\n",
       "      <td>2276.672793</td>\n",
       "    </tr>\n",
       "    <tr>\n",
       "      <th>std</th>\n",
       "      <td>1489.723391</td>\n",
       "      <td>1540.028733</td>\n",
       "    </tr>\n",
       "    <tr>\n",
       "      <th>min</th>\n",
       "      <td>69.243200</td>\n",
       "      <td>75.901200</td>\n",
       "    </tr>\n",
       "    <tr>\n",
       "      <th>25%</th>\n",
       "      <td>1100.567400</td>\n",
       "      <td>1066.611600</td>\n",
       "    </tr>\n",
       "    <tr>\n",
       "      <th>50%</th>\n",
       "      <td>1895.532600</td>\n",
       "      <td>1869.566400</td>\n",
       "    </tr>\n",
       "    <tr>\n",
       "      <th>75%</th>\n",
       "      <td>3103.959600</td>\n",
       "      <td>3147.902400</td>\n",
       "    </tr>\n",
       "    <tr>\n",
       "      <th>max</th>\n",
       "      <td>9069.527600</td>\n",
       "      <td>9779.936200</td>\n",
       "    </tr>\n",
       "  </tbody>\n",
       "</table>\n",
       "</div>"
      ],
      "text/plain": [
       "            Actual    Predicted\n",
       "count  1395.000000  1395.000000\n",
       "mean   2234.214321  2276.672793\n",
       "std    1489.723391  1540.028733\n",
       "min      69.243200    75.901200\n",
       "25%    1100.567400  1066.611600\n",
       "50%    1895.532600  1869.566400\n",
       "75%    3103.959600  3147.902400\n",
       "max    9069.527600  9779.936200"
      ]
     },
     "execution_count": 48,
     "metadata": {},
     "output_type": "execute_result"
    }
   ],
   "source": [
    "# Summary statistics of the dataframe\n",
    "comparison_framedt.describe()"
   ]
  },
  {
   "cell_type": "markdown",
   "id": "a6ca35f5",
   "metadata": {
    "executionInfo": {
     "elapsed": 39,
     "status": "aborted",
     "timestamp": 1669040921150,
     "user": {
      "displayName": "Peter Maina",
      "userId": "16506398786875401359"
     },
     "user_tz": -180
    },
    "id": "a6ca35f5"
   },
   "source": [
    "#### Lets now evaluate our model\n",
    "model.score(X_test, y_test)"
   ]
  },
  {
   "cell_type": "code",
   "execution_count": 49,
   "id": "81ac3a0a",
   "metadata": {
    "colab": {
     "base_uri": "https://localhost:8080/"
    },
    "executionInfo": {
     "elapsed": 39,
     "status": "ok",
     "timestamp": 1669724316620,
     "user": {
      "displayName": "Peter Maina",
      "userId": "16506398786875401359"
     },
     "user_tz": -180
    },
    "id": "81ac3a0a",
    "outputId": "c4515be5-d728-42bb-d7ca-d19ab9cb533c"
   },
   "outputs": [
    {
     "name": "stdout",
     "output_type": "stream",
     "text": [
      "Mean Absolute Error: 1170.646310250896\n",
      "Mean Squared Error: 2567845.8392048464\n",
      "Root Mean Squared Error: 1602.4499490482835\n"
     ]
    }
   ],
   "source": [
    "from sklearn import metrics\n",
    "\n",
    "# And now we assess the errors\n",
    "print('Mean Absolute Error:', metrics.mean_absolute_error(y_test, y_preddt))  \n",
    "print('Mean Squared Error:', metrics.mean_squared_error(y_test, y_preddt))  \n",
    "print('Root Mean Squared Error:', np.sqrt(metrics.mean_squared_error(y_test, y_preddt)))"
   ]
  },
  {
   "cell_type": "markdown",
   "id": "40b160a7",
   "metadata": {
    "id": "40b160a7"
   },
   "source": [
    "# Challenging the Base Model.\n",
    "\n",
    "## Random Forest Regressor"
   ]
  },
  {
   "cell_type": "code",
   "execution_count": 50,
   "id": "ceb247b7",
   "metadata": {
    "colab": {
     "base_uri": "https://localhost:8080/",
     "height": 0
    },
    "executionInfo": {
     "elapsed": 1856,
     "status": "ok",
     "timestamp": 1669724318438,
     "user": {
      "displayName": "Peter Maina",
      "userId": "16506398786875401359"
     },
     "user_tz": -180
    },
    "id": "ceb247b7",
    "outputId": "93bb7e0a-7ab2-42a8-fc38-5cd0b553b27f"
   },
   "outputs": [
    {
     "data": {
      "text/html": [
       "<div>\n",
       "<style scoped>\n",
       "    .dataframe tbody tr th:only-of-type {\n",
       "        vertical-align: middle;\n",
       "    }\n",
       "\n",
       "    .dataframe tbody tr th {\n",
       "        vertical-align: top;\n",
       "    }\n",
       "\n",
       "    .dataframe thead th {\n",
       "        text-align: right;\n",
       "    }\n",
       "</style>\n",
       "<table border=\"1\" class=\"dataframe\">\n",
       "  <thead>\n",
       "    <tr style=\"text-align: right;\">\n",
       "      <th></th>\n",
       "      <th>Actual</th>\n",
       "      <th>Predicted</th>\n",
       "    </tr>\n",
       "  </thead>\n",
       "  <tbody>\n",
       "    <tr>\n",
       "      <th>5785</th>\n",
       "      <td>1584.6040</td>\n",
       "      <td>1930.094278</td>\n",
       "    </tr>\n",
       "    <tr>\n",
       "      <th>3415</th>\n",
       "      <td>1566.6274</td>\n",
       "      <td>1992.386526</td>\n",
       "    </tr>\n",
       "    <tr>\n",
       "      <th>1793</th>\n",
       "      <td>194.4136</td>\n",
       "      <td>672.544554</td>\n",
       "    </tr>\n",
       "    <tr>\n",
       "      <th>2701</th>\n",
       "      <td>2465.4574</td>\n",
       "      <td>1878.534726</td>\n",
       "    </tr>\n",
       "    <tr>\n",
       "      <th>7118</th>\n",
       "      <td>7190.6400</td>\n",
       "      <td>4320.089906</td>\n",
       "    </tr>\n",
       "  </tbody>\n",
       "</table>\n",
       "</div>"
      ],
      "text/plain": [
       "         Actual    Predicted\n",
       "5785  1584.6040  1930.094278\n",
       "3415  1566.6274  1992.386526\n",
       "1793   194.4136   672.544554\n",
       "2701  2465.4574  1878.534726\n",
       "7118  7190.6400  4320.089906"
      ]
     },
     "execution_count": 50,
     "metadata": {},
     "output_type": "execute_result"
    }
   ],
   "source": [
    "from sklearn.ensemble import RandomForestRegressor\n",
    "\n",
    "# Building the model\n",
    "forest = RandomForestRegressor()\n",
    "\n",
    "# Lets fit the model to our dataset\n",
    "forest = forest.fit(X_train, y_train)\n",
    "\n",
    "# Predict based on the model we've trained\n",
    "y_pred = forest.predict(X_test)\n",
    "\n",
    "# Creating a dataframe of the actuals and predicted\n",
    "comparison_frame = pd.DataFrame({'Actual': y_test, 'Predicted': y_pred})\n",
    "comparison_frame.head(5)"
   ]
  },
  {
   "cell_type": "code",
   "execution_count": 51,
   "id": "ce0d4e44",
   "metadata": {
    "colab": {
     "base_uri": "https://localhost:8080/",
     "height": 0
    },
    "executionInfo": {
     "elapsed": 10,
     "status": "ok",
     "timestamp": 1669724318439,
     "user": {
      "displayName": "Peter Maina",
      "userId": "16506398786875401359"
     },
     "user_tz": -180
    },
    "id": "ce0d4e44",
    "outputId": "6e82b642-c34a-490b-8ada-5a50f6034ea3"
   },
   "outputs": [
    {
     "data": {
      "text/html": [
       "<div>\n",
       "<style scoped>\n",
       "    .dataframe tbody tr th:only-of-type {\n",
       "        vertical-align: middle;\n",
       "    }\n",
       "\n",
       "    .dataframe tbody tr th {\n",
       "        vertical-align: top;\n",
       "    }\n",
       "\n",
       "    .dataframe thead th {\n",
       "        text-align: right;\n",
       "    }\n",
       "</style>\n",
       "<table border=\"1\" class=\"dataframe\">\n",
       "  <thead>\n",
       "    <tr style=\"text-align: right;\">\n",
       "      <th></th>\n",
       "      <th>Actual</th>\n",
       "      <th>Predicted</th>\n",
       "    </tr>\n",
       "  </thead>\n",
       "  <tbody>\n",
       "    <tr>\n",
       "      <th>count</th>\n",
       "      <td>1395.000000</td>\n",
       "      <td>1395.000000</td>\n",
       "    </tr>\n",
       "    <tr>\n",
       "      <th>mean</th>\n",
       "      <td>2234.214321</td>\n",
       "      <td>2271.164279</td>\n",
       "    </tr>\n",
       "    <tr>\n",
       "      <th>std</th>\n",
       "      <td>1489.723391</td>\n",
       "      <td>1106.374291</td>\n",
       "    </tr>\n",
       "    <tr>\n",
       "      <th>min</th>\n",
       "      <td>69.243200</td>\n",
       "      <td>230.573198</td>\n",
       "    </tr>\n",
       "    <tr>\n",
       "      <th>25%</th>\n",
       "      <td>1100.567400</td>\n",
       "      <td>1381.162152</td>\n",
       "    </tr>\n",
       "    <tr>\n",
       "      <th>50%</th>\n",
       "      <td>1895.532600</td>\n",
       "      <td>2177.385714</td>\n",
       "    </tr>\n",
       "    <tr>\n",
       "      <th>75%</th>\n",
       "      <td>3103.959600</td>\n",
       "      <td>3054.826889</td>\n",
       "    </tr>\n",
       "    <tr>\n",
       "      <th>max</th>\n",
       "      <td>9069.527600</td>\n",
       "      <td>6935.279068</td>\n",
       "    </tr>\n",
       "  </tbody>\n",
       "</table>\n",
       "</div>"
      ],
      "text/plain": [
       "            Actual    Predicted\n",
       "count  1395.000000  1395.000000\n",
       "mean   2234.214321  2271.164279\n",
       "std    1489.723391  1106.374291\n",
       "min      69.243200   230.573198\n",
       "25%    1100.567400  1381.162152\n",
       "50%    1895.532600  2177.385714\n",
       "75%    3103.959600  3054.826889\n",
       "max    9069.527600  6935.279068"
      ]
     },
     "execution_count": 51,
     "metadata": {},
     "output_type": "execute_result"
    }
   ],
   "source": [
    "# lets investigate the summary statistics of the df\n",
    "comparison_frame.describe()"
   ]
  },
  {
   "cell_type": "code",
   "execution_count": 52,
   "id": "e23b7ab9",
   "metadata": {
    "colab": {
     "base_uri": "https://localhost:8080/"
    },
    "executionInfo": {
     "elapsed": 9,
     "status": "ok",
     "timestamp": 1669724318440,
     "user": {
      "displayName": "Peter Maina",
      "userId": "16506398786875401359"
     },
     "user_tz": -180
    },
    "id": "e23b7ab9",
    "outputId": "8bb5b402-cd78-4919-e89e-2f5f0d8a3b9a",
    "scrolled": true
   },
   "outputs": [
    {
     "name": "stdout",
     "output_type": "stream",
     "text": [
      "Mean Absolute Error: 838.9311431125448\n",
      "Mean Squared Error: 1334648.818925795\n",
      "Root Mean Squared Error: 1155.2700199199298\n"
     ]
    }
   ],
   "source": [
    "# Lets evaluate the model\n",
    "from sklearn import metrics\n",
    "\n",
    "# And now we assess the errors\n",
    "print('Mean Absolute Error:', metrics.mean_absolute_error(y_test, y_pred))  \n",
    "print('Mean Squared Error:', metrics.mean_squared_error(y_test, y_pred))  \n",
    "print('Root Mean Squared Error:', np.sqrt(metrics.mean_squared_error(y_test, y_pred)))"
   ]
  },
  {
   "cell_type": "markdown",
   "id": "1e820aca",
   "metadata": {
    "id": "1e820aca"
   },
   "source": [
    "## Hyperparameter Tuning"
   ]
  },
  {
   "cell_type": "code",
   "execution_count": 53,
   "id": "56bddd81",
   "metadata": {
    "colab": {
     "base_uri": "https://localhost:8080/",
     "height": 0
    },
    "executionInfo": {
     "elapsed": 1647,
     "status": "ok",
     "timestamp": 1669724320079,
     "user": {
      "displayName": "Peter Maina",
      "userId": "16506398786875401359"
     },
     "user_tz": -180
    },
    "id": "56bddd81",
    "outputId": "5dcd76de-c291-4720-e5b3-3a4f5b82f342"
   },
   "outputs": [
    {
     "data": {
      "text/html": [
       "<div>\n",
       "<style scoped>\n",
       "    .dataframe tbody tr th:only-of-type {\n",
       "        vertical-align: middle;\n",
       "    }\n",
       "\n",
       "    .dataframe tbody tr th {\n",
       "        vertical-align: top;\n",
       "    }\n",
       "\n",
       "    .dataframe thead th {\n",
       "        text-align: right;\n",
       "    }\n",
       "</style>\n",
       "<table border=\"1\" class=\"dataframe\">\n",
       "  <thead>\n",
       "    <tr style=\"text-align: right;\">\n",
       "      <th></th>\n",
       "      <th>Actual</th>\n",
       "      <th>Predicted</th>\n",
       "    </tr>\n",
       "  </thead>\n",
       "  <tbody>\n",
       "    <tr>\n",
       "      <th>5785</th>\n",
       "      <td>1584.6040</td>\n",
       "      <td>1822.823888</td>\n",
       "    </tr>\n",
       "    <tr>\n",
       "      <th>3415</th>\n",
       "      <td>1566.6274</td>\n",
       "      <td>2077.749842</td>\n",
       "    </tr>\n",
       "    <tr>\n",
       "      <th>1793</th>\n",
       "      <td>194.4136</td>\n",
       "      <td>703.809001</td>\n",
       "    </tr>\n",
       "    <tr>\n",
       "      <th>2701</th>\n",
       "      <td>2465.4574</td>\n",
       "      <td>1748.782222</td>\n",
       "    </tr>\n",
       "    <tr>\n",
       "      <th>7118</th>\n",
       "      <td>7190.6400</td>\n",
       "      <td>4221.353824</td>\n",
       "    </tr>\n",
       "  </tbody>\n",
       "</table>\n",
       "</div>"
      ],
      "text/plain": [
       "         Actual    Predicted\n",
       "5785  1584.6040  1822.823888\n",
       "3415  1566.6274  2077.749842\n",
       "1793   194.4136   703.809001\n",
       "2701  2465.4574  1748.782222\n",
       "7118  7190.6400  4221.353824"
      ]
     },
     "execution_count": 53,
     "metadata": {},
     "output_type": "execute_result"
    }
   ],
   "source": [
    "# Import the model\n",
    "from sklearn.ensemble import RandomForestRegressor\n",
    "\n",
    "# The random_state variable is here to guarantee that we all see the same numbers.\n",
    "# Note that we can provide the same parameters as in the decision tree, such as \n",
    "# min_samples_split or max_depth\n",
    "forest = RandomForestRegressor(n_estimators = 170, random_state= 25, min_samples_split = 15, max_depth= 10)\n",
    "forest = forest.fit(X_train, y_train)\n",
    "\n",
    "# Predict based on the model we've trained\n",
    "y_pred = forest.predict(X_test)\n",
    "\n",
    "\n",
    "comparison_frame = pd.DataFrame({'Actual': y_test, 'Predicted': y_pred})\n",
    "comparison_frame.head(5)"
   ]
  },
  {
   "cell_type": "code",
   "execution_count": 54,
   "id": "9d169ca8",
   "metadata": {
    "colab": {
     "base_uri": "https://localhost:8080/",
     "height": 0
    },
    "executionInfo": {
     "elapsed": 38,
     "status": "ok",
     "timestamp": 1669724320081,
     "user": {
      "displayName": "Peter Maina",
      "userId": "16506398786875401359"
     },
     "user_tz": -180
    },
    "id": "9d169ca8",
    "outputId": "9f5f2cda-9895-4f6d-bd38-12e50ac4da37"
   },
   "outputs": [
    {
     "data": {
      "text/html": [
       "<div>\n",
       "<style scoped>\n",
       "    .dataframe tbody tr th:only-of-type {\n",
       "        vertical-align: middle;\n",
       "    }\n",
       "\n",
       "    .dataframe tbody tr th {\n",
       "        vertical-align: top;\n",
       "    }\n",
       "\n",
       "    .dataframe thead th {\n",
       "        text-align: right;\n",
       "    }\n",
       "</style>\n",
       "<table border=\"1\" class=\"dataframe\">\n",
       "  <thead>\n",
       "    <tr style=\"text-align: right;\">\n",
       "      <th></th>\n",
       "      <th>Actual</th>\n",
       "      <th>Predicted</th>\n",
       "    </tr>\n",
       "  </thead>\n",
       "  <tbody>\n",
       "    <tr>\n",
       "      <th>count</th>\n",
       "      <td>1395.000000</td>\n",
       "      <td>1395.000000</td>\n",
       "    </tr>\n",
       "    <tr>\n",
       "      <th>mean</th>\n",
       "      <td>2234.214321</td>\n",
       "      <td>2269.212507</td>\n",
       "    </tr>\n",
       "    <tr>\n",
       "      <th>std</th>\n",
       "      <td>1489.723391</td>\n",
       "      <td>1048.141043</td>\n",
       "    </tr>\n",
       "    <tr>\n",
       "      <th>min</th>\n",
       "      <td>69.243200</td>\n",
       "      <td>364.670818</td>\n",
       "    </tr>\n",
       "    <tr>\n",
       "      <th>25%</th>\n",
       "      <td>1100.567400</td>\n",
       "      <td>1429.972058</td>\n",
       "    </tr>\n",
       "    <tr>\n",
       "      <th>50%</th>\n",
       "      <td>1895.532600</td>\n",
       "      <td>2226.979148</td>\n",
       "    </tr>\n",
       "    <tr>\n",
       "      <th>75%</th>\n",
       "      <td>3103.959600</td>\n",
       "      <td>3050.112463</td>\n",
       "    </tr>\n",
       "    <tr>\n",
       "      <th>max</th>\n",
       "      <td>9069.527600</td>\n",
       "      <td>5271.953558</td>\n",
       "    </tr>\n",
       "  </tbody>\n",
       "</table>\n",
       "</div>"
      ],
      "text/plain": [
       "            Actual    Predicted\n",
       "count  1395.000000  1395.000000\n",
       "mean   2234.214321  2269.212507\n",
       "std    1489.723391  1048.141043\n",
       "min      69.243200   364.670818\n",
       "25%    1100.567400  1429.972058\n",
       "50%    1895.532600  2226.979148\n",
       "75%    3103.959600  3050.112463\n",
       "max    9069.527600  5271.953558"
      ]
     },
     "execution_count": 54,
     "metadata": {},
     "output_type": "execute_result"
    }
   ],
   "source": [
    "comparison_frame.describe()"
   ]
  },
  {
   "cell_type": "code",
   "execution_count": 57,
   "id": "a7be3e5e",
   "metadata": {
    "colab": {
     "base_uri": "https://localhost:8080/"
    },
    "executionInfo": {
     "elapsed": 37,
     "status": "ok",
     "timestamp": 1669724320082,
     "user": {
      "displayName": "Peter Maina",
      "userId": "16506398786875401359"
     },
     "user_tz": -180
    },
    "id": "a7be3e5e",
    "outputId": "d64eba57-7a7b-4723-beb1-c1375205322c",
    "scrolled": true
   },
   "outputs": [
    {
     "name": "stdout",
     "output_type": "stream",
     "text": [
      "Mean Absolute Error: 813.8319783123357\n",
      "Mean Squared Error: 1231152.7026874973\n",
      "Root Mean Squared Error: 1109.5732074484754\n"
     ]
    }
   ],
   "source": [
    "from sklearn import metrics\n",
    "\n",
    "# And now we assess the errors\n",
    "print('Mean Absolute Error:', metrics.mean_absolute_error(y_test, y_pred))  \n",
    "print('Mean Squared Error:', metrics.mean_squared_error(y_test, y_pred))  \n",
    "print('Root Mean Squared Error:', np.sqrt(metrics.mean_squared_error(y_test, y_pred)))"
   ]
  },
  {
   "cell_type": "code",
   "execution_count": 62,
   "id": "04b20662",
   "metadata": {},
   "outputs": [],
   "source": [
    "import pickle\n",
    "pickle.dump(model, open('model.pkl', 'wb'))"
   ]
  },
  {
   "cell_type": "markdown",
   "id": "9499367b",
   "metadata": {
    "id": "9499367b"
   },
   "source": [
    "# Lazy Predict Regressor\n",
    "\n",
    "> Lazy predict is one of the best python libraries that helps you to semi-automate your Machine Learning Task.\n",
    "\n",
    "> It builds a lot of basic models without much code and helps understand which models work better without any parameter tuning."
   ]
  },
  {
   "cell_type": "code",
   "execution_count": 58,
   "id": "6b386bf0",
   "metadata": {
    "colab": {
     "base_uri": "https://localhost:8080/",
     "height": 304
    },
    "executionInfo": {
     "elapsed": 35,
     "status": "error",
     "timestamp": 1669724320083,
     "user": {
      "displayName": "Peter Maina",
      "userId": "16506398786875401359"
     },
     "user_tz": -180
    },
    "id": "6b386bf0",
    "outputId": "e1e8e14c-147a-48df-eee6-edf719d6aee4"
   },
   "outputs": [],
   "source": [
    "from lazypredict.Supervised import LazyRegressor"
   ]
  },
  {
   "cell_type": "code",
   "execution_count": 59,
   "id": "aa0d1e51",
   "metadata": {
    "executionInfo": {
     "elapsed": 32,
     "status": "aborted",
     "timestamp": 1669724320084,
     "user": {
      "displayName": "Peter Maina",
      "userId": "16506398786875401359"
     },
     "user_tz": -180
    },
    "id": "aa0d1e51"
   },
   "outputs": [],
   "source": [
    "#  Lets split the dataset\n",
    "X = sales_traindf.drop(['item_identifier','outlet_identifier','item_outlet_sales','outlet_establishment_year'],1)\n",
    "y = sales_traindf['item_outlet_sales']"
   ]
  },
  {
   "cell_type": "code",
   "execution_count": 60,
   "id": "a4447fc3",
   "metadata": {
    "executionInfo": {
     "elapsed": 35,
     "status": "aborted",
     "timestamp": 1669724320088,
     "user": {
      "displayName": "Peter Maina",
      "userId": "16506398786875401359"
     },
     "user_tz": -180
    },
    "id": "a4447fc3"
   },
   "outputs": [],
   "source": [
    "# Crafting of the dataset\n",
    "X_train, X_test, y_train, y_test = train_test_split(X,y, random_state=101, test_size=0.2)"
   ]
  },
  {
   "cell_type": "code",
   "execution_count": 61,
   "id": "395cd6c1",
   "metadata": {
    "executionInfo": {
     "elapsed": 36,
     "status": "aborted",
     "timestamp": 1669724320089,
     "user": {
      "displayName": "Peter Maina",
      "userId": "16506398786875401359"
     },
     "user_tz": -180
    },
    "id": "395cd6c1"
   },
   "outputs": [
    {
     "name": "stderr",
     "output_type": "stream",
     "text": [
      "100%|█████████████████████████████████████████████████████████████████████████████████████████████████████████████████████████████████████████████████████████████████████████████| 42/42 [24:11<00:00, 34.57s/it]"
     ]
    },
    {
     "name": "stdout",
     "output_type": "stream",
     "text": [
      "                               Adjusted R-Squared  R-Squared    RMSE  \\\n",
      "Model                                                                  \n",
      "LassoLarsCV                                  0.44       0.45 1133.51   \n",
      "LarsCV                                       0.44       0.45 1133.51   \n",
      "LassoCV                                      0.44       0.45 1133.52   \n",
      "LassoLarsIC                                  0.44       0.45 1134.00   \n",
      "HuberRegressor                               0.44       0.44 1134.19   \n",
      "OrthogonalMatchingPursuitCV                  0.44       0.44 1134.25   \n",
      "Lasso                                        0.44       0.44 1134.51   \n",
      "LassoLars                                    0.44       0.44 1134.53   \n",
      "RidgeCV                                      0.44       0.44 1134.54   \n",
      "BayesianRidge                                0.44       0.44 1134.55   \n",
      "Ridge                                        0.44       0.44 1134.61   \n",
      "Lars                                         0.44       0.44 1134.61   \n",
      "LinearRegression                             0.44       0.44 1134.61   \n",
      "TransformedTargetRegressor                   0.44       0.44 1134.61   \n",
      "SGDRegressor                                 0.44       0.44 1134.71   \n",
      "PassiveAggressiveRegressor                   0.44       0.44 1135.01   \n",
      "OrthogonalMatchingPursuit                    0.44       0.44 1138.58   \n",
      "GradientBoostingRegressor                    0.42       0.43 1149.48   \n",
      "PoissonRegressor                             0.41       0.42 1159.49   \n",
      "RANSACRegressor                              0.41       0.42 1161.62   \n",
      "AdaBoostRegressor                            0.41       0.41 1169.16   \n",
      "ElasticNet                                   0.40       0.40 1178.85   \n",
      "MLPRegressor                                 0.39       0.39 1187.77   \n",
      "LGBMRegressor                                0.37       0.38 1199.26   \n",
      "HistGradientBoostingRegressor                0.36       0.37 1209.31   \n",
      "RandomForestRegressor                        0.36       0.36 1213.07   \n",
      "ExtraTreesRegressor                          0.35       0.36 1218.83   \n",
      "TweedieRegressor                             0.33       0.34 1237.48   \n",
      "GammaRegressor                               0.33       0.34 1239.17   \n",
      "ElasticNetCV                                 0.33       0.34 1239.75   \n",
      "BaggingRegressor                             0.32       0.32 1251.05   \n",
      "XGBRegressor                                 0.30       0.31 1266.67   \n",
      "KNeighborsRegressor                          0.29       0.30 1275.99   \n",
      "LinearSVR                                    0.14       0.15 1405.23   \n",
      "NuSVR                                        0.04       0.05 1487.28   \n",
      "SVR                                          0.01       0.02 1506.03   \n",
      "DummyRegressor                              -0.01      -0.00 1522.29   \n",
      "QuantileRegressor                           -0.06      -0.05 1559.17   \n",
      "ExtraTreeRegressor                          -0.22      -0.21 1672.62   \n",
      "DecisionTreeRegressor                       -0.24      -0.23 1690.02   \n",
      "KernelRidge                                 -1.78      -1.76 2527.88   \n",
      "GaussianProcessRegressor                   -25.55     -25.32 7809.99   \n",
      "\n",
      "                               Time Taken  \n",
      "Model                                      \n",
      "LassoLarsCV                          0.05  \n",
      "LarsCV                               0.13  \n",
      "LassoCV                              0.15  \n",
      "LassoLarsIC                          0.06  \n",
      "HuberRegressor                       0.06  \n",
      "OrthogonalMatchingPursuitCV          0.78  \n",
      "Lasso                                0.02  \n",
      "LassoLars                            0.02  \n",
      "RidgeCV                              0.02  \n",
      "BayesianRidge                        0.70  \n",
      "Ridge                                0.01  \n",
      "Lars                                 0.18  \n",
      "LinearRegression                     0.04  \n",
      "TransformedTargetRegressor           0.02  \n",
      "SGDRegressor                         0.03  \n",
      "PassiveAggressiveRegressor           0.08  \n",
      "OrthogonalMatchingPursuit            0.03  \n",
      "GradientBoostingRegressor            0.71  \n",
      "PoissonRegressor                     0.06  \n",
      "RANSACRegressor                      0.09  \n",
      "AdaBoostRegressor                    0.31  \n",
      "ElasticNet                           0.13  \n",
      "MLPRegressor                         5.61  \n",
      "LGBMRegressor                        0.54  \n",
      "HistGradientBoostingRegressor        5.35  \n",
      "RandomForestRegressor                1.27  \n",
      "ExtraTreesRegressor                  0.87  \n",
      "TweedieRegressor                     0.01  \n",
      "GammaRegressor                       0.83  \n",
      "ElasticNetCV                         0.38  \n",
      "BaggingRegressor                     0.14  \n",
      "XGBRegressor                         1.04  \n",
      "KNeighborsRegressor                  0.09  \n",
      "LinearSVR                            0.06  \n",
      "NuSVR                                1.24  \n",
      "SVR                                  1.29  \n",
      "DummyRegressor                       0.01  \n",
      "QuantileRegressor                 1420.61  \n",
      "ExtraTreeRegressor                   0.02  \n",
      "DecisionTreeRegressor                0.04  \n",
      "KernelRidge                          1.64  \n",
      "GaussianProcessRegressor             7.22  \n"
     ]
    },
    {
     "name": "stderr",
     "output_type": "stream",
     "text": [
      "\n"
     ]
    }
   ],
   "source": [
    "# Lets create the model\n",
    "reg = LazyRegressor(verbose=0, ignore_warnings=False, custom_metric=None)\n",
    "\n",
    "# Fitting of the model\n",
    "models, predictions = reg.fit(X_train, X_test, y_train, y_test)\n",
    "\n",
    "print(models)"
   ]
  },
  {
   "cell_type": "markdown",
   "id": "c31d285b",
   "metadata": {},
   "source": [
    "# XGBOOST REGRESSOR"
   ]
  },
  {
   "cell_type": "code",
   "execution_count": 71,
   "id": "6c7dc2b5",
   "metadata": {},
   "outputs": [
    {
     "name": "stdout",
     "output_type": "stream",
     "text": [
      "[16:59:50] WARNING: C:/Users/administrator/workspace/xgboost-win64_release_1.6.0/src/objective/regression_obj.cu:203: reg:linear is now deprecated in favor of reg:squarederror.\n"
     ]
    }
   ],
   "source": [
    "from sklearn.linear_model import LinearRegression\n",
    "import xgboost as xg\n",
    "\n",
    "xgb_r = xg.XGBRegressor(objective ='reg:linear',\n",
    "                  n_estimators = 10)\n",
    "  \n",
    "# Fitting the model\n",
    "model = xgb_r.fit(X_train, y_train)\n",
    "  \n",
    "# Predict the model\n",
    "y_pred = xgb_r.predict(X_test)"
   ]
  },
  {
   "cell_type": "code",
   "execution_count": 72,
   "id": "6b6de4b6",
   "metadata": {},
   "outputs": [
    {
     "data": {
      "text/html": [
       "<div>\n",
       "<style scoped>\n",
       "    .dataframe tbody tr th:only-of-type {\n",
       "        vertical-align: middle;\n",
       "    }\n",
       "\n",
       "    .dataframe tbody tr th {\n",
       "        vertical-align: top;\n",
       "    }\n",
       "\n",
       "    .dataframe thead th {\n",
       "        text-align: right;\n",
       "    }\n",
       "</style>\n",
       "<table border=\"1\" class=\"dataframe\">\n",
       "  <thead>\n",
       "    <tr style=\"text-align: right;\">\n",
       "      <th></th>\n",
       "      <th>Actual</th>\n",
       "      <th>Predicted</th>\n",
       "    </tr>\n",
       "  </thead>\n",
       "  <tbody>\n",
       "    <tr>\n",
       "      <th>6545</th>\n",
       "      <td>2184.49</td>\n",
       "      <td>1484.92</td>\n",
       "    </tr>\n",
       "    <tr>\n",
       "      <th>3974</th>\n",
       "      <td>1201.77</td>\n",
       "      <td>3961.68</td>\n",
       "    </tr>\n",
       "    <tr>\n",
       "      <th>930</th>\n",
       "      <td>743.03</td>\n",
       "      <td>901.91</td>\n",
       "    </tr>\n",
       "    <tr>\n",
       "      <th>7845</th>\n",
       "      <td>1120.54</td>\n",
       "      <td>1969.04</td>\n",
       "    </tr>\n",
       "    <tr>\n",
       "      <th>3042</th>\n",
       "      <td>2137.22</td>\n",
       "      <td>3685.88</td>\n",
       "    </tr>\n",
       "    <tr>\n",
       "      <th>...</th>\n",
       "      <td>...</td>\n",
       "      <td>...</td>\n",
       "    </tr>\n",
       "    <tr>\n",
       "      <th>6858</th>\n",
       "      <td>1581.94</td>\n",
       "      <td>2310.34</td>\n",
       "    </tr>\n",
       "    <tr>\n",
       "      <th>3177</th>\n",
       "      <td>4756.48</td>\n",
       "      <td>4017.55</td>\n",
       "    </tr>\n",
       "    <tr>\n",
       "      <th>4285</th>\n",
       "      <td>773.66</td>\n",
       "      <td>868.50</td>\n",
       "    </tr>\n",
       "    <tr>\n",
       "      <th>5958</th>\n",
       "      <td>679.12</td>\n",
       "      <td>651.99</td>\n",
       "    </tr>\n",
       "    <tr>\n",
       "      <th>5674</th>\n",
       "      <td>1288.99</td>\n",
       "      <td>1042.78</td>\n",
       "    </tr>\n",
       "  </tbody>\n",
       "</table>\n",
       "<p>930 rows × 2 columns</p>\n",
       "</div>"
      ],
      "text/plain": [
       "      Actual  Predicted\n",
       "6545 2184.49    1484.92\n",
       "3974 1201.77    3961.68\n",
       "930   743.03     901.91\n",
       "7845 1120.54    1969.04\n",
       "3042 2137.22    3685.88\n",
       "...      ...        ...\n",
       "6858 1581.94    2310.34\n",
       "3177 4756.48    4017.55\n",
       "4285  773.66     868.50\n",
       "5958  679.12     651.99\n",
       "5674 1288.99    1042.78\n",
       "\n",
       "[930 rows x 2 columns]"
      ]
     },
     "execution_count": 72,
     "metadata": {},
     "output_type": "execute_result"
    }
   ],
   "source": [
    "df = pd.DataFrame({'Actual': y_test, 'Predicted': y_pred})\n",
    "df"
   ]
  },
  {
   "cell_type": "code",
   "execution_count": 73,
   "id": "a8a61017",
   "metadata": {},
   "outputs": [
    {
     "name": "stdout",
     "output_type": "stream",
     "text": [
      "Mean Absolute Error: 839.9174839470976\n",
      "Mean Squared Error: 1365674.4420981563\n",
      "Root Mean Squared Error: 1168.6207434827418\n"
     ]
    }
   ],
   "source": [
    "from sklearn.metrics import mean_absolute_error\n",
    "from sklearn import metrics\n",
    "# And now we assess the errors\n",
    "print('Mean Absolute Error:', metrics.mean_absolute_error(y_test, y_pred))  \n",
    "print('Mean Squared Error:', metrics.mean_squared_error(y_test, y_pred))  \n",
    "print('Root Mean Squared Error:', np.sqrt(metrics.mean_squared_error(y_test, y_pred)))"
   ]
  },
  {
   "cell_type": "code",
   "execution_count": null,
   "id": "4b86ae83",
   "metadata": {},
   "outputs": [],
   "source": []
  }
 ],
 "metadata": {
  "colab": {
   "provenance": []
  },
  "kernelspec": {
   "display_name": "Python 3 (ipykernel)",
   "language": "python",
   "name": "python3"
  },
  "language_info": {
   "codemirror_mode": {
    "name": "ipython",
    "version": 3
   },
   "file_extension": ".py",
   "mimetype": "text/x-python",
   "name": "python",
   "nbconvert_exporter": "python",
   "pygments_lexer": "ipython3",
   "version": "3.9.12"
  }
 },
 "nbformat": 4,
 "nbformat_minor": 5
}
