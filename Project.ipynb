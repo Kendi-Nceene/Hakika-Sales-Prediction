{
 "cells": [
  {
   "cell_type": "code",
   "execution_count": null,
   "id": "32595764",
   "metadata": {},
   "outputs": [],
   "source": []
  },
  {
   "cell_type": "markdown",
   "id": "669c1ebb",
   "metadata": {},
   "source": [
    " #                    Payment Transactions Prediction."
   ]
  },
  {
   "cell_type": "markdown",
   "id": "8c289afa",
   "metadata": {},
   "source": [
    "## 1. Defining the Question"
   ]
  },
  {
   "cell_type": "markdown",
   "id": "aea4caed",
   "metadata": {},
   "source": [
    "## a) Specifying the Question\n",
    "\n",
    " > Building a supervised machine learning algorithm to predict sales."
   ]
  },
  {
   "cell_type": "markdown",
   "id": "c924f9e8",
   "metadata": {},
   "source": [
    "## b) Defining the Metrics for Success\n",
    "\n",
    "> Building a machine learning algorithm with the lowest RMSE."
   ]
  },
  {
   "cell_type": "markdown",
   "id": "09a22e3c",
   "metadata": {},
   "source": [
    "## c) Understanding the context"
   ]
  },
  {
   "cell_type": "markdown",
   "id": "e7cdb653",
   "metadata": {},
   "source": [
    "## d) Recording the Experimental Design\n",
    "\n",
    ">Problem Definition\n",
    "\n",
    ">Data Sourcing\n",
    "\n",
    ">Check the Data\n",
    "\n",
    ">Perform Data Cleaning\n",
    "\n",
    ">Perform Exploratory Data Analysis (Univariate, Bivariate & Multivariate)\n",
    "\n",
    ">Implement the Solution\n",
    "\n",
    ">Challenge the Solution\n",
    "\n",
    ">Follow up Questions\n",
    "\n",
    ">Conclusions\n",
    "\n",
    ">Recommendations"
   ]
  },
  {
   "cell_type": "markdown",
   "id": "a1577a57",
   "metadata": {},
   "source": [
    "## e) Data Relevance\n",
    "\n",
    "Invoice id: Computer generated sales slip invoice identification number\n",
    "\n",
    "Branch: Branch of supercenter (3 branches are available identified by A, B and C).\n",
    "\n",
    "City: Location of supercenters\n",
    "\n",
    "Customer type: Type of customers, recorded by Members for customers using member card and Normal for without member card.\n",
    "\n",
    "Gender: Gender type of customer\n",
    "\n",
    "Product line: General item categorization groups - Electronic accessories, Fashion accessories, Food and beverages, Health and beauty, Home and lifestyle, Sports and travel\n",
    "\n",
    "Unit price: Price of each product in USD\n",
    "\n",
    "Quantity: Number of products purchased by customer\n",
    "\n",
    "Tax: 5% tax fee for customer buying\n",
    "\n",
    "Total: Total price including tax\n",
    "\n",
    "Date: Date of purchase (Record available from January 2019 to March 2019)\n",
    "\n",
    "Time: Purchase time (10am to 9pm)\n",
    "\n",
    "Payment: Payment used by customer for purchase (3 methods are available – Cash, Credit card and Ewallet)\n",
    "\n",
    "COGS: Cost of goods sold\n",
    "\n",
    "Gross margin percentage: Gross margin percentage\n",
    "\n",
    "Gross income: Gross income\n",
    "\n",
    "Rating: Customer stratification rating on their overall shopping experience (On a scale of 1 to 10)"
   ]
  },
  {
   "cell_type": "markdown",
   "id": "98f4cdb0",
   "metadata": {},
   "source": [
    "# 2. Importing Libraries"
   ]
  },
  {
   "cell_type": "code",
   "execution_count": 1,
   "id": "bc5e9d0e",
   "metadata": {},
   "outputs": [],
   "source": [
    "from zipfile import ZipFile\n",
    "\n",
    "import pandas as pd\n",
    "import numpy as np\n",
    "\n",
    "import seaborn as sns\n",
    "import matplotlib.pyplot as plt\n",
    "%matplotlib inline\n",
    "\n",
    "import warnings\n",
    "warnings.simplefilter(action='ignore', category=FutureWarning)"
   ]
  },
  {
   "cell_type": "markdown",
   "id": "2e329cb2",
   "metadata": {},
   "source": [
    "# 3. Data Wrangling\n",
    "## a) Gathering Data"
   ]
  },
  {
   "cell_type": "code",
   "execution_count": 2,
   "id": "8f247c3f",
   "metadata": {},
   "outputs": [
    {
     "name": "stdout",
     "output_type": "stream",
     "text": [
      "Exctracting..0%....50%............100%\n",
      "Done!\n"
     ]
    }
   ],
   "source": [
    "# Lets extract the csv file from a zipped file\n",
    "\n",
    "file = 'supermarket_archive.zip'\n",
    "\n",
    "with ZipFile(file,'r') as zip:\n",
    "    print('Exctracting..0%....50%............100%')\n",
    "    zip.extractall()\n",
    "    print('Done!')"
   ]
  },
  {
   "cell_type": "code",
   "execution_count": 3,
   "id": "4403a478",
   "metadata": {},
   "outputs": [],
   "source": [
    "# Create a funtion that reads data\n",
    "def read(data):\n",
    "    return pd.read_csv(data)"
   ]
  },
  {
   "cell_type": "code",
   "execution_count": 4,
   "id": "b4bfb69f",
   "metadata": {
    "scrolled": true
   },
   "outputs": [
    {
     "data": {
      "text/html": [
       "<div>\n",
       "<style scoped>\n",
       "    .dataframe tbody tr th:only-of-type {\n",
       "        vertical-align: middle;\n",
       "    }\n",
       "\n",
       "    .dataframe tbody tr th {\n",
       "        vertical-align: top;\n",
       "    }\n",
       "\n",
       "    .dataframe thead th {\n",
       "        text-align: right;\n",
       "    }\n",
       "</style>\n",
       "<table border=\"1\" class=\"dataframe\">\n",
       "  <thead>\n",
       "    <tr style=\"text-align: right;\">\n",
       "      <th></th>\n",
       "      <th>Invoice ID</th>\n",
       "      <th>Branch</th>\n",
       "      <th>Customer type</th>\n",
       "      <th>Gender</th>\n",
       "      <th>Product line</th>\n",
       "      <th>Unit price</th>\n",
       "      <th>Quantity</th>\n",
       "      <th>Tax</th>\n",
       "      <th>Date</th>\n",
       "      <th>Time</th>\n",
       "      <th>Payment</th>\n",
       "      <th>cogs</th>\n",
       "      <th>gross margin percentage</th>\n",
       "      <th>gross income</th>\n",
       "      <th>Rating</th>\n",
       "      <th>Total</th>\n",
       "    </tr>\n",
       "  </thead>\n",
       "  <tbody>\n",
       "    <tr>\n",
       "      <th>448</th>\n",
       "      <td>296-11-7041</td>\n",
       "      <td>B</td>\n",
       "      <td>Member</td>\n",
       "      <td>Female</td>\n",
       "      <td>Health and beauty</td>\n",
       "      <td>27.07</td>\n",
       "      <td>1</td>\n",
       "      <td>1.3535</td>\n",
       "      <td>1/12/2019</td>\n",
       "      <td>20:07</td>\n",
       "      <td>Credit card</td>\n",
       "      <td>27.07</td>\n",
       "      <td>4.761905</td>\n",
       "      <td>1.3535</td>\n",
       "      <td>5.3</td>\n",
       "      <td>28.4235</td>\n",
       "    </tr>\n",
       "    <tr>\n",
       "      <th>823</th>\n",
       "      <td>276-75-6884</td>\n",
       "      <td>A</td>\n",
       "      <td>Normal</td>\n",
       "      <td>Female</td>\n",
       "      <td>Health and beauty</td>\n",
       "      <td>68.71</td>\n",
       "      <td>3</td>\n",
       "      <td>10.3065</td>\n",
       "      <td>3/4/2019</td>\n",
       "      <td>10:05</td>\n",
       "      <td>Cash</td>\n",
       "      <td>206.13</td>\n",
       "      <td>4.761905</td>\n",
       "      <td>10.3065</td>\n",
       "      <td>8.7</td>\n",
       "      <td>216.4365</td>\n",
       "    </tr>\n",
       "    <tr>\n",
       "      <th>988</th>\n",
       "      <td>267-62-7380</td>\n",
       "      <td>C</td>\n",
       "      <td>Member</td>\n",
       "      <td>Male</td>\n",
       "      <td>Electronic accessories</td>\n",
       "      <td>82.34</td>\n",
       "      <td>10</td>\n",
       "      <td>41.1700</td>\n",
       "      <td>3/29/2019</td>\n",
       "      <td>19:12</td>\n",
       "      <td>Ewallet</td>\n",
       "      <td>823.40</td>\n",
       "      <td>4.761905</td>\n",
       "      <td>41.1700</td>\n",
       "      <td>4.3</td>\n",
       "      <td>864.5700</td>\n",
       "    </tr>\n",
       "    <tr>\n",
       "      <th>312</th>\n",
       "      <td>870-76-1733</td>\n",
       "      <td>A</td>\n",
       "      <td>Member</td>\n",
       "      <td>Female</td>\n",
       "      <td>Food and beverages</td>\n",
       "      <td>14.23</td>\n",
       "      <td>5</td>\n",
       "      <td>3.5575</td>\n",
       "      <td>2/1/2019</td>\n",
       "      <td>10:08</td>\n",
       "      <td>Credit card</td>\n",
       "      <td>71.15</td>\n",
       "      <td>4.761905</td>\n",
       "      <td>3.5575</td>\n",
       "      <td>4.4</td>\n",
       "      <td>74.7075</td>\n",
       "    </tr>\n",
       "    <tr>\n",
       "      <th>323</th>\n",
       "      <td>563-91-7120</td>\n",
       "      <td>A</td>\n",
       "      <td>Normal</td>\n",
       "      <td>Female</td>\n",
       "      <td>Fashion accessories</td>\n",
       "      <td>61.77</td>\n",
       "      <td>5</td>\n",
       "      <td>15.4425</td>\n",
       "      <td>3/8/2019</td>\n",
       "      <td>13:21</td>\n",
       "      <td>Cash</td>\n",
       "      <td>308.85</td>\n",
       "      <td>4.761905</td>\n",
       "      <td>15.4425</td>\n",
       "      <td>6.7</td>\n",
       "      <td>324.2925</td>\n",
       "    </tr>\n",
       "  </tbody>\n",
       "</table>\n",
       "</div>"
      ],
      "text/plain": [
       "      Invoice ID Branch Customer type  Gender            Product line  \\\n",
       "448  296-11-7041      B        Member  Female       Health and beauty   \n",
       "823  276-75-6884      A        Normal  Female       Health and beauty   \n",
       "988  267-62-7380      C        Member    Male  Electronic accessories   \n",
       "312  870-76-1733      A        Member  Female      Food and beverages   \n",
       "323  563-91-7120      A        Normal  Female     Fashion accessories   \n",
       "\n",
       "     Unit price  Quantity      Tax       Date   Time      Payment    cogs  \\\n",
       "448       27.07         1   1.3535  1/12/2019  20:07  Credit card   27.07   \n",
       "823       68.71         3  10.3065   3/4/2019  10:05         Cash  206.13   \n",
       "988       82.34        10  41.1700  3/29/2019  19:12      Ewallet  823.40   \n",
       "312       14.23         5   3.5575   2/1/2019  10:08  Credit card   71.15   \n",
       "323       61.77         5  15.4425   3/8/2019  13:21         Cash  308.85   \n",
       "\n",
       "     gross margin percentage  gross income  Rating     Total  \n",
       "448                 4.761905        1.3535     5.3   28.4235  \n",
       "823                 4.761905       10.3065     8.7  216.4365  \n",
       "988                 4.761905       41.1700     4.3  864.5700  \n",
       "312                 4.761905        3.5575     4.4   74.7075  \n",
       "323                 4.761905       15.4425     6.7  324.2925  "
      ]
     },
     "execution_count": 4,
     "metadata": {},
     "output_type": "execute_result"
    }
   ],
   "source": [
    "# Loading the csv file to a dataframe\n",
    "supermarketdf = read('supermarket.csv')\n",
    "supermarketdf.sample(5)"
   ]
  },
  {
   "cell_type": "markdown",
   "id": "76723997",
   "metadata": {},
   "source": [
    "## b) Assessing Data"
   ]
  },
  {
   "cell_type": "code",
   "execution_count": 5,
   "id": "4285e7e9",
   "metadata": {},
   "outputs": [
    {
     "name": "stdout",
     "output_type": "stream",
     "text": [
      "The dataset has (1000, 16)  rows and columns respectively\n"
     ]
    }
   ],
   "source": [
    "# Let's preview the shape of our dataset\n",
    "print('The dataset has' , supermarketdf.shape, ' rows and columns respectively')"
   ]
  },
  {
   "cell_type": "code",
   "execution_count": 6,
   "id": "e421f3b6",
   "metadata": {
    "scrolled": true
   },
   "outputs": [
    {
     "data": {
      "text/plain": [
       "Index(['Invoice ID', 'Branch', 'Customer type', 'Gender', 'Product line',\n",
       "       'Unit price', 'Quantity', 'Tax', 'Date', 'Time', 'Payment', 'cogs',\n",
       "       'gross margin percentage', 'gross income', 'Rating', 'Total'],\n",
       "      dtype='object')"
      ]
     },
     "execution_count": 6,
     "metadata": {},
     "output_type": "execute_result"
    }
   ],
   "source": [
    "# Preview the columns of our dataset\n",
    "\n",
    "supermarketdf.columns"
   ]
  },
  {
   "cell_type": "code",
   "execution_count": 7,
   "id": "cd687f48",
   "metadata": {},
   "outputs": [
    {
     "data": {
      "text/html": [
       "<div>\n",
       "<style scoped>\n",
       "    .dataframe tbody tr th:only-of-type {\n",
       "        vertical-align: middle;\n",
       "    }\n",
       "\n",
       "    .dataframe tbody tr th {\n",
       "        vertical-align: top;\n",
       "    }\n",
       "\n",
       "    .dataframe thead th {\n",
       "        text-align: right;\n",
       "    }\n",
       "</style>\n",
       "<table border=\"1\" class=\"dataframe\">\n",
       "  <thead>\n",
       "    <tr style=\"text-align: right;\">\n",
       "      <th></th>\n",
       "      <th>Invoice ID</th>\n",
       "      <th>Branch</th>\n",
       "      <th>Customer type</th>\n",
       "      <th>Gender</th>\n",
       "      <th>Product line</th>\n",
       "      <th>Unit price</th>\n",
       "      <th>Quantity</th>\n",
       "      <th>Tax</th>\n",
       "      <th>Date</th>\n",
       "      <th>Time</th>\n",
       "      <th>Payment</th>\n",
       "      <th>cogs</th>\n",
       "      <th>gross margin percentage</th>\n",
       "      <th>gross income</th>\n",
       "      <th>Rating</th>\n",
       "      <th>Total</th>\n",
       "    </tr>\n",
       "  </thead>\n",
       "  <tbody>\n",
       "    <tr>\n",
       "      <th>216</th>\n",
       "      <td>560-30-5617</td>\n",
       "      <td>B</td>\n",
       "      <td>Normal</td>\n",
       "      <td>Female</td>\n",
       "      <td>Sports and travel</td>\n",
       "      <td>24.77</td>\n",
       "      <td>5</td>\n",
       "      <td>6.1925</td>\n",
       "      <td>3/24/2019</td>\n",
       "      <td>18:27</td>\n",
       "      <td>Cash</td>\n",
       "      <td>123.85</td>\n",
       "      <td>4.761905</td>\n",
       "      <td>6.1925</td>\n",
       "      <td>8.5</td>\n",
       "      <td>130.0425</td>\n",
       "    </tr>\n",
       "    <tr>\n",
       "      <th>162</th>\n",
       "      <td>101-17-6199</td>\n",
       "      <td>A</td>\n",
       "      <td>Normal</td>\n",
       "      <td>Male</td>\n",
       "      <td>Food and beverages</td>\n",
       "      <td>45.79</td>\n",
       "      <td>7</td>\n",
       "      <td>16.0265</td>\n",
       "      <td>3/13/2019</td>\n",
       "      <td>19:44</td>\n",
       "      <td>Credit card</td>\n",
       "      <td>320.53</td>\n",
       "      <td>4.761905</td>\n",
       "      <td>16.0265</td>\n",
       "      <td>7.0</td>\n",
       "      <td>336.5565</td>\n",
       "    </tr>\n",
       "  </tbody>\n",
       "</table>\n",
       "</div>"
      ],
      "text/plain": [
       "      Invoice ID Branch Customer type  Gender        Product line  Unit price  \\\n",
       "216  560-30-5617      B        Normal  Female   Sports and travel       24.77   \n",
       "162  101-17-6199      A        Normal    Male  Food and beverages       45.79   \n",
       "\n",
       "     Quantity      Tax       Date   Time      Payment    cogs  \\\n",
       "216         5   6.1925  3/24/2019  18:27         Cash  123.85   \n",
       "162         7  16.0265  3/13/2019  19:44  Credit card  320.53   \n",
       "\n",
       "     gross margin percentage  gross income  Rating     Total  \n",
       "216                 4.761905        6.1925     8.5  130.0425  \n",
       "162                 4.761905       16.0265     7.0  336.5565  "
      ]
     },
     "execution_count": 7,
     "metadata": {},
     "output_type": "execute_result"
    }
   ],
   "source": [
    "supermarketdf.sample(2)"
   ]
  },
  {
   "cell_type": "code",
   "execution_count": 8,
   "id": "3b856b96",
   "metadata": {
    "scrolled": true
   },
   "outputs": [
    {
     "name": "stdout",
     "output_type": "stream",
     "text": [
      "<class 'pandas.core.frame.DataFrame'>\n",
      "RangeIndex: 1000 entries, 0 to 999\n",
      "Data columns (total 16 columns):\n",
      " #   Column                   Non-Null Count  Dtype  \n",
      "---  ------                   --------------  -----  \n",
      " 0   Invoice ID               1000 non-null   object \n",
      " 1   Branch                   1000 non-null   object \n",
      " 2   Customer type            1000 non-null   object \n",
      " 3   Gender                   1000 non-null   object \n",
      " 4   Product line             1000 non-null   object \n",
      " 5   Unit price               1000 non-null   float64\n",
      " 6   Quantity                 1000 non-null   int64  \n",
      " 7   Tax                      1000 non-null   float64\n",
      " 8   Date                     1000 non-null   object \n",
      " 9   Time                     1000 non-null   object \n",
      " 10  Payment                  1000 non-null   object \n",
      " 11  cogs                     1000 non-null   float64\n",
      " 12  gross margin percentage  1000 non-null   float64\n",
      " 13  gross income             1000 non-null   float64\n",
      " 14  Rating                   1000 non-null   float64\n",
      " 15  Total                    1000 non-null   float64\n",
      "dtypes: float64(7), int64(1), object(8)\n",
      "memory usage: 125.1+ KB\n"
     ]
    }
   ],
   "source": [
    "# Check for the info of our datasets\n",
    "supermarketdf.info()"
   ]
  },
  {
   "cell_type": "markdown",
   "id": "a337538f",
   "metadata": {},
   "source": [
    "1. Invoice ID has a wrong datatype (string instead of int).\n",
    "2. Date and Time are objects are instead of datetime.\n",
    "3. We need to strip off the white spaces."
   ]
  },
  {
   "cell_type": "code",
   "execution_count": 9,
   "id": "d9f618c2",
   "metadata": {},
   "outputs": [
    {
     "data": {
      "text/plain": [
       "Invoice ID                 0\n",
       "Branch                     0\n",
       "Customer type              0\n",
       "Gender                     0\n",
       "Product line               0\n",
       "Unit price                 0\n",
       "Quantity                   0\n",
       "Tax                        0\n",
       "Date                       0\n",
       "Time                       0\n",
       "Payment                    0\n",
       "cogs                       0\n",
       "gross margin percentage    0\n",
       "gross income               0\n",
       "Rating                     0\n",
       "Total                      0\n",
       "dtype: int64"
      ]
     },
     "execution_count": 9,
     "metadata": {},
     "output_type": "execute_result"
    }
   ],
   "source": [
    "# Lets check for misssing values\n",
    "supermarketdf.isna().sum()"
   ]
  },
  {
   "cell_type": "markdown",
   "id": "85e4209a",
   "metadata": {},
   "source": [
    "There were no missing values."
   ]
  },
  {
   "cell_type": "code",
   "execution_count": 10,
   "id": "2901c0a5",
   "metadata": {},
   "outputs": [
    {
     "data": {
      "text/plain": [
       "0"
      ]
     },
     "execution_count": 10,
     "metadata": {},
     "output_type": "execute_result"
    }
   ],
   "source": [
    "# Checking for duplicates\n",
    "supermarketdf.duplicated().sum()"
   ]
  },
  {
   "cell_type": "markdown",
   "id": "5e031ea3",
   "metadata": {},
   "source": [
    "There were no duplicate values."
   ]
  },
  {
   "cell_type": "code",
   "execution_count": 11,
   "id": "ef325057",
   "metadata": {
    "scrolled": true
   },
   "outputs": [
    {
     "name": "stdout",
     "output_type": "stream",
     "text": [
      "Cardinality of the dataset columns : \n",
      "\n",
      "Invoice ID : 1000\n",
      "Branch : 3\n",
      "Customer type : 2\n",
      "Gender : 2\n",
      "Product line : 6\n",
      "Unit price : 943\n",
      "Quantity : 10\n",
      "Tax : 990\n",
      "Date : 89\n",
      "Time : 506\n",
      "Payment : 3\n",
      "cogs : 990\n",
      "gross margin percentage : 1\n",
      "gross income : 990\n",
      "Rating : 61\n",
      "Total : 990\n"
     ]
    }
   ],
   "source": [
    "# Check Cardinality\n",
    "# We will use a for loop function to iterate through the columns \n",
    "# while checking for the number of unique values in each column.\n",
    "\n",
    "# Number of unique values in the obesity dataset\n",
    "\n",
    "def cardinal(data):\n",
    "    print('Cardinality of the dataset columns : \\n')\n",
    "    for i in data.columns:\n",
    "        print(f'{i} : {data[i].nunique()}')\n",
    "\n",
    "        \n",
    "cardinal(supermarketdf)"
   ]
  },
  {
   "cell_type": "markdown",
   "id": "120d31d4",
   "metadata": {},
   "source": [
    "We can decide to drop the column gross margin percentage since the whole dataset has one value.\n",
    "\n",
    "According to an article by [investopedia](#https://www.investopedia.com/terms/g/grossmargin.asp) The gross margin (also referred to as gross profit) represents each dollar of revenue that the company retains after subtracting COGS.\n",
    "\n",
    " This means carrefour company's gross profit margin is 4.761905%."
   ]
  },
  {
   "cell_type": "code",
   "execution_count": 12,
   "id": "e5deff5c",
   "metadata": {
    "scrolled": true
   },
   "outputs": [
    {
     "name": "stdout",
     "output_type": "stream",
     "text": [
      "BRANCH\n",
      "['A' 'C' 'B']\n",
      "----------------------------------------------------\n",
      "CUSTOMER TYPE\n",
      "['Member' 'Normal']\n",
      "----------------------------------------------------\n",
      "GENDER\n",
      "['Female' 'Male']\n",
      "----------------------------------------------------\n",
      "PRODUCT LINE\n",
      "['Health and beauty' 'Electronic accessories' 'Home and lifestyle'\n",
      " 'Sports and travel' 'Food and beverages' 'Fashion accessories']\n",
      "----------------------------------------------------\n",
      "PAYMENT\n",
      "['Ewallet' 'Cash' 'Credit card']\n"
     ]
    }
   ],
   "source": [
    "# categorical = ['Branch','Customer type','Gender','Product line','Payment']\n",
    "\n",
    "print('BRANCH')\n",
    "print(supermarketdf['Branch'].unique())\n",
    "print('----------------------------------------------------')\n",
    "print('CUSTOMER TYPE')\n",
    "print(supermarketdf['Customer type'].unique())\n",
    "print('----------------------------------------------------')\n",
    "print('GENDER')\n",
    "print(supermarketdf['Gender'].unique())\n",
    "print('----------------------------------------------------')\n",
    "print('PRODUCT LINE')\n",
    "print(supermarketdf['Product line'].unique())\n",
    "print('----------------------------------------------------')\n",
    "print('PAYMENT')\n",
    "print(supermarketdf['Payment'].unique())"
   ]
  },
  {
   "cell_type": "code",
   "execution_count": 13,
   "id": "4a55d376",
   "metadata": {
    "scrolled": true
   },
   "outputs": [
    {
     "data": {
      "text/html": [
       "<div>\n",
       "<style scoped>\n",
       "    .dataframe tbody tr th:only-of-type {\n",
       "        vertical-align: middle;\n",
       "    }\n",
       "\n",
       "    .dataframe tbody tr th {\n",
       "        vertical-align: top;\n",
       "    }\n",
       "\n",
       "    .dataframe thead th {\n",
       "        text-align: right;\n",
       "    }\n",
       "</style>\n",
       "<table border=\"1\" class=\"dataframe\">\n",
       "  <thead>\n",
       "    <tr style=\"text-align: right;\">\n",
       "      <th></th>\n",
       "      <th>Invoice ID</th>\n",
       "      <th>Branch</th>\n",
       "      <th>City</th>\n",
       "      <th>Customer type</th>\n",
       "      <th>Gender</th>\n",
       "      <th>Product line</th>\n",
       "      <th>Unit price</th>\n",
       "      <th>Quantity</th>\n",
       "      <th>Tax 5%</th>\n",
       "      <th>Total</th>\n",
       "      <th>Date</th>\n",
       "      <th>Time</th>\n",
       "      <th>Payment</th>\n",
       "      <th>cogs</th>\n",
       "      <th>gross margin percentage</th>\n",
       "      <th>gross income</th>\n",
       "      <th>Rating</th>\n",
       "    </tr>\n",
       "  </thead>\n",
       "  <tbody>\n",
       "    <tr>\n",
       "      <th>981</th>\n",
       "      <td>809-46-1866</td>\n",
       "      <td>A</td>\n",
       "      <td>Yangon</td>\n",
       "      <td>Normal</td>\n",
       "      <td>Male</td>\n",
       "      <td>Health and beauty</td>\n",
       "      <td>58.15</td>\n",
       "      <td>4</td>\n",
       "      <td>11.630</td>\n",
       "      <td>244.230</td>\n",
       "      <td>1/23/2019</td>\n",
       "      <td>17:44</td>\n",
       "      <td>Cash</td>\n",
       "      <td>232.60</td>\n",
       "      <td>4.761905</td>\n",
       "      <td>11.630</td>\n",
       "      <td>8.4</td>\n",
       "    </tr>\n",
       "    <tr>\n",
       "      <th>534</th>\n",
       "      <td>892-05-6689</td>\n",
       "      <td>A</td>\n",
       "      <td>Yangon</td>\n",
       "      <td>Normal</td>\n",
       "      <td>Female</td>\n",
       "      <td>Home and lifestyle</td>\n",
       "      <td>28.32</td>\n",
       "      <td>5</td>\n",
       "      <td>7.080</td>\n",
       "      <td>148.680</td>\n",
       "      <td>3/11/2019</td>\n",
       "      <td>13:28</td>\n",
       "      <td>Ewallet</td>\n",
       "      <td>141.60</td>\n",
       "      <td>4.761905</td>\n",
       "      <td>7.080</td>\n",
       "      <td>6.2</td>\n",
       "    </tr>\n",
       "    <tr>\n",
       "      <th>439</th>\n",
       "      <td>810-60-6344</td>\n",
       "      <td>C</td>\n",
       "      <td>Naypyitaw</td>\n",
       "      <td>Normal</td>\n",
       "      <td>Female</td>\n",
       "      <td>Electronic accessories</td>\n",
       "      <td>40.86</td>\n",
       "      <td>8</td>\n",
       "      <td>16.344</td>\n",
       "      <td>343.224</td>\n",
       "      <td>2/7/2019</td>\n",
       "      <td>14:38</td>\n",
       "      <td>Credit card</td>\n",
       "      <td>326.88</td>\n",
       "      <td>4.761905</td>\n",
       "      <td>16.344</td>\n",
       "      <td>6.5</td>\n",
       "    </tr>\n",
       "  </tbody>\n",
       "</table>\n",
       "</div>"
      ],
      "text/plain": [
       "      Invoice ID Branch       City Customer type  Gender  \\\n",
       "981  809-46-1866      A     Yangon        Normal    Male   \n",
       "534  892-05-6689      A     Yangon        Normal  Female   \n",
       "439  810-60-6344      C  Naypyitaw        Normal  Female   \n",
       "\n",
       "               Product line  Unit price  Quantity  Tax 5%    Total       Date  \\\n",
       "981       Health and beauty       58.15         4  11.630  244.230  1/23/2019   \n",
       "534      Home and lifestyle       28.32         5   7.080  148.680  3/11/2019   \n",
       "439  Electronic accessories       40.86         8  16.344  343.224   2/7/2019   \n",
       "\n",
       "      Time      Payment    cogs  gross margin percentage  gross income  Rating  \n",
       "981  17:44         Cash  232.60                 4.761905        11.630     8.4  \n",
       "534  13:28      Ewallet  141.60                 4.761905         7.080     6.2  \n",
       "439  14:38  Credit card  326.88                 4.761905        16.344     6.5  "
      ]
     },
     "execution_count": 13,
     "metadata": {},
     "output_type": "execute_result"
    }
   ],
   "source": [
    "df1 = read('supermarket_sales.csv')\n",
    "df1.sample(3)"
   ]
  },
  {
   "cell_type": "code",
   "execution_count": 14,
   "id": "f679cb36",
   "metadata": {},
   "outputs": [
    {
     "data": {
      "text/html": [
       "<div>\n",
       "<style scoped>\n",
       "    .dataframe tbody tr th:only-of-type {\n",
       "        vertical-align: middle;\n",
       "    }\n",
       "\n",
       "    .dataframe tbody tr th {\n",
       "        vertical-align: top;\n",
       "    }\n",
       "\n",
       "    .dataframe thead th {\n",
       "        text-align: right;\n",
       "    }\n",
       "</style>\n",
       "<table border=\"1\" class=\"dataframe\">\n",
       "  <thead>\n",
       "    <tr style=\"text-align: right;\">\n",
       "      <th></th>\n",
       "      <th>Unit price</th>\n",
       "      <th>Quantity</th>\n",
       "      <th>Tax 5%</th>\n",
       "      <th>Total</th>\n",
       "      <th>cogs</th>\n",
       "      <th>gross margin percentage</th>\n",
       "      <th>gross income</th>\n",
       "      <th>Rating</th>\n",
       "    </tr>\n",
       "  </thead>\n",
       "  <tbody>\n",
       "    <tr>\n",
       "      <th>count</th>\n",
       "      <td>1000.000000</td>\n",
       "      <td>1000.000000</td>\n",
       "      <td>1000.000000</td>\n",
       "      <td>1000.000000</td>\n",
       "      <td>1000.00000</td>\n",
       "      <td>1.000000e+03</td>\n",
       "      <td>1000.000000</td>\n",
       "      <td>1000.00000</td>\n",
       "    </tr>\n",
       "    <tr>\n",
       "      <th>mean</th>\n",
       "      <td>55.672130</td>\n",
       "      <td>5.510000</td>\n",
       "      <td>15.379369</td>\n",
       "      <td>322.966749</td>\n",
       "      <td>307.58738</td>\n",
       "      <td>4.761905e+00</td>\n",
       "      <td>15.379369</td>\n",
       "      <td>6.97270</td>\n",
       "    </tr>\n",
       "    <tr>\n",
       "      <th>std</th>\n",
       "      <td>26.494628</td>\n",
       "      <td>2.923431</td>\n",
       "      <td>11.708825</td>\n",
       "      <td>245.885335</td>\n",
       "      <td>234.17651</td>\n",
       "      <td>6.131498e-14</td>\n",
       "      <td>11.708825</td>\n",
       "      <td>1.71858</td>\n",
       "    </tr>\n",
       "    <tr>\n",
       "      <th>min</th>\n",
       "      <td>10.080000</td>\n",
       "      <td>1.000000</td>\n",
       "      <td>0.508500</td>\n",
       "      <td>10.678500</td>\n",
       "      <td>10.17000</td>\n",
       "      <td>4.761905e+00</td>\n",
       "      <td>0.508500</td>\n",
       "      <td>4.00000</td>\n",
       "    </tr>\n",
       "    <tr>\n",
       "      <th>25%</th>\n",
       "      <td>32.875000</td>\n",
       "      <td>3.000000</td>\n",
       "      <td>5.924875</td>\n",
       "      <td>124.422375</td>\n",
       "      <td>118.49750</td>\n",
       "      <td>4.761905e+00</td>\n",
       "      <td>5.924875</td>\n",
       "      <td>5.50000</td>\n",
       "    </tr>\n",
       "    <tr>\n",
       "      <th>50%</th>\n",
       "      <td>55.230000</td>\n",
       "      <td>5.000000</td>\n",
       "      <td>12.088000</td>\n",
       "      <td>253.848000</td>\n",
       "      <td>241.76000</td>\n",
       "      <td>4.761905e+00</td>\n",
       "      <td>12.088000</td>\n",
       "      <td>7.00000</td>\n",
       "    </tr>\n",
       "    <tr>\n",
       "      <th>75%</th>\n",
       "      <td>77.935000</td>\n",
       "      <td>8.000000</td>\n",
       "      <td>22.445250</td>\n",
       "      <td>471.350250</td>\n",
       "      <td>448.90500</td>\n",
       "      <td>4.761905e+00</td>\n",
       "      <td>22.445250</td>\n",
       "      <td>8.50000</td>\n",
       "    </tr>\n",
       "    <tr>\n",
       "      <th>max</th>\n",
       "      <td>99.960000</td>\n",
       "      <td>10.000000</td>\n",
       "      <td>49.650000</td>\n",
       "      <td>1042.650000</td>\n",
       "      <td>993.00000</td>\n",
       "      <td>4.761905e+00</td>\n",
       "      <td>49.650000</td>\n",
       "      <td>10.00000</td>\n",
       "    </tr>\n",
       "  </tbody>\n",
       "</table>\n",
       "</div>"
      ],
      "text/plain": [
       "        Unit price     Quantity       Tax 5%        Total        cogs  \\\n",
       "count  1000.000000  1000.000000  1000.000000  1000.000000  1000.00000   \n",
       "mean     55.672130     5.510000    15.379369   322.966749   307.58738   \n",
       "std      26.494628     2.923431    11.708825   245.885335   234.17651   \n",
       "min      10.080000     1.000000     0.508500    10.678500    10.17000   \n",
       "25%      32.875000     3.000000     5.924875   124.422375   118.49750   \n",
       "50%      55.230000     5.000000    12.088000   253.848000   241.76000   \n",
       "75%      77.935000     8.000000    22.445250   471.350250   448.90500   \n",
       "max      99.960000    10.000000    49.650000  1042.650000   993.00000   \n",
       "\n",
       "       gross margin percentage  gross income      Rating  \n",
       "count             1.000000e+03   1000.000000  1000.00000  \n",
       "mean              4.761905e+00     15.379369     6.97270  \n",
       "std               6.131498e-14     11.708825     1.71858  \n",
       "min               4.761905e+00      0.508500     4.00000  \n",
       "25%               4.761905e+00      5.924875     5.50000  \n",
       "50%               4.761905e+00     12.088000     7.00000  \n",
       "75%               4.761905e+00     22.445250     8.50000  \n",
       "max               4.761905e+00     49.650000    10.00000  "
      ]
     },
     "execution_count": 14,
     "metadata": {},
     "output_type": "execute_result"
    }
   ],
   "source": [
    "df1.describe()"
   ]
  },
  {
   "cell_type": "code",
   "execution_count": 15,
   "id": "71cd96f6",
   "metadata": {
    "scrolled": true
   },
   "outputs": [
    {
     "data": {
      "text/html": [
       "<div>\n",
       "<style scoped>\n",
       "    .dataframe tbody tr th:only-of-type {\n",
       "        vertical-align: middle;\n",
       "    }\n",
       "\n",
       "    .dataframe tbody tr th {\n",
       "        vertical-align: top;\n",
       "    }\n",
       "\n",
       "    .dataframe thead th {\n",
       "        text-align: right;\n",
       "    }\n",
       "</style>\n",
       "<table border=\"1\" class=\"dataframe\">\n",
       "  <thead>\n",
       "    <tr style=\"text-align: right;\">\n",
       "      <th></th>\n",
       "      <th>Unit price</th>\n",
       "      <th>Quantity</th>\n",
       "      <th>Tax</th>\n",
       "      <th>cogs</th>\n",
       "      <th>gross margin percentage</th>\n",
       "      <th>gross income</th>\n",
       "      <th>Rating</th>\n",
       "      <th>Total</th>\n",
       "    </tr>\n",
       "  </thead>\n",
       "  <tbody>\n",
       "    <tr>\n",
       "      <th>count</th>\n",
       "      <td>1000.000000</td>\n",
       "      <td>1000.000000</td>\n",
       "      <td>1000.000000</td>\n",
       "      <td>1000.00000</td>\n",
       "      <td>1.000000e+03</td>\n",
       "      <td>1000.000000</td>\n",
       "      <td>1000.00000</td>\n",
       "      <td>1000.000000</td>\n",
       "    </tr>\n",
       "    <tr>\n",
       "      <th>mean</th>\n",
       "      <td>55.672130</td>\n",
       "      <td>5.510000</td>\n",
       "      <td>15.379369</td>\n",
       "      <td>307.58738</td>\n",
       "      <td>4.761905e+00</td>\n",
       "      <td>15.379369</td>\n",
       "      <td>6.97270</td>\n",
       "      <td>322.966749</td>\n",
       "    </tr>\n",
       "    <tr>\n",
       "      <th>std</th>\n",
       "      <td>26.494628</td>\n",
       "      <td>2.923431</td>\n",
       "      <td>11.708825</td>\n",
       "      <td>234.17651</td>\n",
       "      <td>6.131498e-14</td>\n",
       "      <td>11.708825</td>\n",
       "      <td>1.71858</td>\n",
       "      <td>245.885335</td>\n",
       "    </tr>\n",
       "    <tr>\n",
       "      <th>min</th>\n",
       "      <td>10.080000</td>\n",
       "      <td>1.000000</td>\n",
       "      <td>0.508500</td>\n",
       "      <td>10.17000</td>\n",
       "      <td>4.761905e+00</td>\n",
       "      <td>0.508500</td>\n",
       "      <td>4.00000</td>\n",
       "      <td>10.678500</td>\n",
       "    </tr>\n",
       "    <tr>\n",
       "      <th>25%</th>\n",
       "      <td>32.875000</td>\n",
       "      <td>3.000000</td>\n",
       "      <td>5.924875</td>\n",
       "      <td>118.49750</td>\n",
       "      <td>4.761905e+00</td>\n",
       "      <td>5.924875</td>\n",
       "      <td>5.50000</td>\n",
       "      <td>124.422375</td>\n",
       "    </tr>\n",
       "    <tr>\n",
       "      <th>50%</th>\n",
       "      <td>55.230000</td>\n",
       "      <td>5.000000</td>\n",
       "      <td>12.088000</td>\n",
       "      <td>241.76000</td>\n",
       "      <td>4.761905e+00</td>\n",
       "      <td>12.088000</td>\n",
       "      <td>7.00000</td>\n",
       "      <td>253.848000</td>\n",
       "    </tr>\n",
       "    <tr>\n",
       "      <th>75%</th>\n",
       "      <td>77.935000</td>\n",
       "      <td>8.000000</td>\n",
       "      <td>22.445250</td>\n",
       "      <td>448.90500</td>\n",
       "      <td>4.761905e+00</td>\n",
       "      <td>22.445250</td>\n",
       "      <td>8.50000</td>\n",
       "      <td>471.350250</td>\n",
       "    </tr>\n",
       "    <tr>\n",
       "      <th>max</th>\n",
       "      <td>99.960000</td>\n",
       "      <td>10.000000</td>\n",
       "      <td>49.650000</td>\n",
       "      <td>993.00000</td>\n",
       "      <td>4.761905e+00</td>\n",
       "      <td>49.650000</td>\n",
       "      <td>10.00000</td>\n",
       "      <td>1042.650000</td>\n",
       "    </tr>\n",
       "  </tbody>\n",
       "</table>\n",
       "</div>"
      ],
      "text/plain": [
       "        Unit price     Quantity          Tax        cogs  \\\n",
       "count  1000.000000  1000.000000  1000.000000  1000.00000   \n",
       "mean     55.672130     5.510000    15.379369   307.58738   \n",
       "std      26.494628     2.923431    11.708825   234.17651   \n",
       "min      10.080000     1.000000     0.508500    10.17000   \n",
       "25%      32.875000     3.000000     5.924875   118.49750   \n",
       "50%      55.230000     5.000000    12.088000   241.76000   \n",
       "75%      77.935000     8.000000    22.445250   448.90500   \n",
       "max      99.960000    10.000000    49.650000   993.00000   \n",
       "\n",
       "       gross margin percentage  gross income      Rating        Total  \n",
       "count             1.000000e+03   1000.000000  1000.00000  1000.000000  \n",
       "mean              4.761905e+00     15.379369     6.97270   322.966749  \n",
       "std               6.131498e-14     11.708825     1.71858   245.885335  \n",
       "min               4.761905e+00      0.508500     4.00000    10.678500  \n",
       "25%               4.761905e+00      5.924875     5.50000   124.422375  \n",
       "50%               4.761905e+00     12.088000     7.00000   253.848000  \n",
       "75%               4.761905e+00     22.445250     8.50000   471.350250  \n",
       "max               4.761905e+00     49.650000    10.00000  1042.650000  "
      ]
     },
     "execution_count": 15,
     "metadata": {},
     "output_type": "execute_result"
    }
   ],
   "source": [
    "# Lets check the summary statistics of our data\n",
    "\n",
    "supermarketdf.describe()"
   ]
  },
  {
   "cell_type": "code",
   "execution_count": 16,
   "id": "0cb63fd7",
   "metadata": {},
   "outputs": [
    {
     "data": {
      "text/plain": [
       "Invoice ID                  object\n",
       "Branch                      object\n",
       "Customer type               object\n",
       "Gender                      object\n",
       "Product line                object\n",
       "Unit price                 float64\n",
       "Quantity                     int64\n",
       "Tax                        float64\n",
       "Date                        object\n",
       "Time                        object\n",
       "Payment                     object\n",
       "cogs                       float64\n",
       "gross margin percentage    float64\n",
       "gross income               float64\n",
       "Rating                     float64\n",
       "Total                      float64\n",
       "dtype: object"
      ]
     },
     "execution_count": 16,
     "metadata": {},
     "output_type": "execute_result"
    }
   ],
   "source": [
    "# Check or the ``````````AttributeError\n",
    "supermarketdf.dtypes"
   ]
  },
  {
   "cell_type": "code",
   "execution_count": 17,
   "id": "9ff2977f",
   "metadata": {
    "scrolled": true
   },
   "outputs": [
    {
     "data": {
      "image/png": "[encoded data removed]",
      "text/plain": [
       "<Figure size 1440x2160 with 6 Axes>"
      ]
     },
     "metadata": {
      "needs_background": "light"
     },
     "output_type": "display_data"
    }
   ],
   "source": [
    "# checking for outliers\n",
    "# define a function that plots boxplots to visualize outliers\n",
    "\n",
    "def outliers ():\n",
    "    \"making a dictionary for numerical columns\"\n",
    "    columns_dict = {'Unit price': 1, 'Tax': 2, 'cogs': 3, 'gross income': 4, 'Rating': 5, 'Total': 6}\n",
    "    plt.figure(figsize=(20,30))\n",
    "    for variable,i in columns_dict.items():\n",
    "      plt.subplot(3,3,i);\n",
    "      plt.boxplot(supermarketdf[variable]);\n",
    "      plt.title(f\"Boxplot showing {variable}\");\n",
    "    plt.show()\n",
    "outliers()"
   ]
  },
  {
   "cell_type": "markdown",
   "id": "191432d9",
   "metadata": {},
   "source": [
    "(a) Some columns have outliers.\n",
    "\n",
    "(b) We need to assess the outliers."
   ]
  },
  {
   "cell_type": "code",
   "execution_count": 18,
   "id": "f458da71",
   "metadata": {},
   "outputs": [
    {
     "data": {
      "text/html": [
       "<div>\n",
       "<style scoped>\n",
       "    .dataframe tbody tr th:only-of-type {\n",
       "        vertical-align: middle;\n",
       "    }\n",
       "\n",
       "    .dataframe tbody tr th {\n",
       "        vertical-align: top;\n",
       "    }\n",
       "\n",
       "    .dataframe thead th {\n",
       "        text-align: right;\n",
       "    }\n",
       "</style>\n",
       "<table border=\"1\" class=\"dataframe\">\n",
       "  <thead>\n",
       "    <tr style=\"text-align: right;\">\n",
       "      <th></th>\n",
       "      <th>Invoice ID</th>\n",
       "      <th>Branch</th>\n",
       "      <th>Customer type</th>\n",
       "      <th>Gender</th>\n",
       "      <th>Product line</th>\n",
       "      <th>Unit price</th>\n",
       "      <th>Quantity</th>\n",
       "      <th>Tax</th>\n",
       "      <th>Date</th>\n",
       "      <th>Time</th>\n",
       "      <th>Payment</th>\n",
       "      <th>cogs</th>\n",
       "      <th>gross margin percentage</th>\n",
       "      <th>gross income</th>\n",
       "      <th>Rating</th>\n",
       "      <th>Total</th>\n",
       "    </tr>\n",
       "  </thead>\n",
       "  <tbody>\n",
       "    <tr>\n",
       "      <th>141</th>\n",
       "      <td>280-17-4359</td>\n",
       "      <td>C</td>\n",
       "      <td>Member</td>\n",
       "      <td>Male</td>\n",
       "      <td>Health and beauty</td>\n",
       "      <td>90.50</td>\n",
       "      <td>10</td>\n",
       "      <td>45.250</td>\n",
       "      <td>1/25/2019</td>\n",
       "      <td>13:48</td>\n",
       "      <td>Cash</td>\n",
       "      <td>905.0</td>\n",
       "      <td>4.761905</td>\n",
       "      <td>45.250</td>\n",
       "      <td>8.1</td>\n",
       "      <td>950.250</td>\n",
       "    </tr>\n",
       "    <tr>\n",
       "      <th>166</th>\n",
       "      <td>234-65-2137</td>\n",
       "      <td>C</td>\n",
       "      <td>Normal</td>\n",
       "      <td>Male</td>\n",
       "      <td>Home and lifestyle</td>\n",
       "      <td>95.58</td>\n",
       "      <td>10</td>\n",
       "      <td>47.790</td>\n",
       "      <td>1/16/2019</td>\n",
       "      <td>13:32</td>\n",
       "      <td>Cash</td>\n",
       "      <td>955.8</td>\n",
       "      <td>4.761905</td>\n",
       "      <td>47.790</td>\n",
       "      <td>4.8</td>\n",
       "      <td>1003.590</td>\n",
       "    </tr>\n",
       "    <tr>\n",
       "      <th>167</th>\n",
       "      <td>687-47-8271</td>\n",
       "      <td>A</td>\n",
       "      <td>Normal</td>\n",
       "      <td>Male</td>\n",
       "      <td>Fashion accessories</td>\n",
       "      <td>98.98</td>\n",
       "      <td>10</td>\n",
       "      <td>49.490</td>\n",
       "      <td>2/8/2019</td>\n",
       "      <td>16:20</td>\n",
       "      <td>Credit card</td>\n",
       "      <td>989.8</td>\n",
       "      <td>4.761905</td>\n",
       "      <td>49.490</td>\n",
       "      <td>8.7</td>\n",
       "      <td>1039.290</td>\n",
       "    </tr>\n",
       "    <tr>\n",
       "      <th>350</th>\n",
       "      <td>860-79-0874</td>\n",
       "      <td>C</td>\n",
       "      <td>Member</td>\n",
       "      <td>Female</td>\n",
       "      <td>Fashion accessories</td>\n",
       "      <td>99.30</td>\n",
       "      <td>10</td>\n",
       "      <td>49.650</td>\n",
       "      <td>2/15/2019</td>\n",
       "      <td>14:53</td>\n",
       "      <td>Credit card</td>\n",
       "      <td>993.0</td>\n",
       "      <td>4.761905</td>\n",
       "      <td>49.650</td>\n",
       "      <td>6.6</td>\n",
       "      <td>1042.650</td>\n",
       "    </tr>\n",
       "    <tr>\n",
       "      <th>357</th>\n",
       "      <td>554-42-2417</td>\n",
       "      <td>C</td>\n",
       "      <td>Normal</td>\n",
       "      <td>Female</td>\n",
       "      <td>Sports and travel</td>\n",
       "      <td>95.44</td>\n",
       "      <td>10</td>\n",
       "      <td>47.720</td>\n",
       "      <td>1/9/2019</td>\n",
       "      <td>13:45</td>\n",
       "      <td>Cash</td>\n",
       "      <td>954.4</td>\n",
       "      <td>4.761905</td>\n",
       "      <td>47.720</td>\n",
       "      <td>5.2</td>\n",
       "      <td>1002.120</td>\n",
       "    </tr>\n",
       "    <tr>\n",
       "      <th>422</th>\n",
       "      <td>271-88-8734</td>\n",
       "      <td>C</td>\n",
       "      <td>Member</td>\n",
       "      <td>Female</td>\n",
       "      <td>Fashion accessories</td>\n",
       "      <td>97.21</td>\n",
       "      <td>10</td>\n",
       "      <td>48.605</td>\n",
       "      <td>2/8/2019</td>\n",
       "      <td>13:00</td>\n",
       "      <td>Credit card</td>\n",
       "      <td>972.1</td>\n",
       "      <td>4.761905</td>\n",
       "      <td>48.605</td>\n",
       "      <td>8.7</td>\n",
       "      <td>1020.705</td>\n",
       "    </tr>\n",
       "    <tr>\n",
       "      <th>429</th>\n",
       "      <td>325-77-6186</td>\n",
       "      <td>A</td>\n",
       "      <td>Member</td>\n",
       "      <td>Female</td>\n",
       "      <td>Home and lifestyle</td>\n",
       "      <td>90.65</td>\n",
       "      <td>10</td>\n",
       "      <td>45.325</td>\n",
       "      <td>3/8/2019</td>\n",
       "      <td>10:53</td>\n",
       "      <td>Ewallet</td>\n",
       "      <td>906.5</td>\n",
       "      <td>4.761905</td>\n",
       "      <td>45.325</td>\n",
       "      <td>7.3</td>\n",
       "      <td>951.825</td>\n",
       "    </tr>\n",
       "    <tr>\n",
       "      <th>557</th>\n",
       "      <td>283-26-5248</td>\n",
       "      <td>C</td>\n",
       "      <td>Member</td>\n",
       "      <td>Female</td>\n",
       "      <td>Food and beverages</td>\n",
       "      <td>98.52</td>\n",
       "      <td>10</td>\n",
       "      <td>49.260</td>\n",
       "      <td>1/30/2019</td>\n",
       "      <td>20:23</td>\n",
       "      <td>Ewallet</td>\n",
       "      <td>985.2</td>\n",
       "      <td>4.761905</td>\n",
       "      <td>49.260</td>\n",
       "      <td>4.5</td>\n",
       "      <td>1034.460</td>\n",
       "    </tr>\n",
       "    <tr>\n",
       "      <th>699</th>\n",
       "      <td>751-41-9720</td>\n",
       "      <td>C</td>\n",
       "      <td>Normal</td>\n",
       "      <td>Male</td>\n",
       "      <td>Home and lifestyle</td>\n",
       "      <td>97.50</td>\n",
       "      <td>10</td>\n",
       "      <td>48.750</td>\n",
       "      <td>1/12/2019</td>\n",
       "      <td>16:18</td>\n",
       "      <td>Ewallet</td>\n",
       "      <td>975.0</td>\n",
       "      <td>4.761905</td>\n",
       "      <td>48.750</td>\n",
       "      <td>8.0</td>\n",
       "      <td>1023.750</td>\n",
       "    </tr>\n",
       "    <tr>\n",
       "      <th>792</th>\n",
       "      <td>744-16-7898</td>\n",
       "      <td>B</td>\n",
       "      <td>Normal</td>\n",
       "      <td>Female</td>\n",
       "      <td>Home and lifestyle</td>\n",
       "      <td>97.37</td>\n",
       "      <td>10</td>\n",
       "      <td>48.685</td>\n",
       "      <td>1/15/2019</td>\n",
       "      <td>13:48</td>\n",
       "      <td>Credit card</td>\n",
       "      <td>973.7</td>\n",
       "      <td>4.761905</td>\n",
       "      <td>48.685</td>\n",
       "      <td>4.9</td>\n",
       "      <td>1022.385</td>\n",
       "    </tr>\n",
       "    <tr>\n",
       "      <th>996</th>\n",
       "      <td>303-96-2227</td>\n",
       "      <td>B</td>\n",
       "      <td>Normal</td>\n",
       "      <td>Female</td>\n",
       "      <td>Home and lifestyle</td>\n",
       "      <td>97.38</td>\n",
       "      <td>10</td>\n",
       "      <td>48.690</td>\n",
       "      <td>3/2/2019</td>\n",
       "      <td>17:16</td>\n",
       "      <td>Ewallet</td>\n",
       "      <td>973.8</td>\n",
       "      <td>4.761905</td>\n",
       "      <td>48.690</td>\n",
       "      <td>4.4</td>\n",
       "      <td>1022.490</td>\n",
       "    </tr>\n",
       "  </tbody>\n",
       "</table>\n",
       "</div>"
      ],
      "text/plain": [
       "      Invoice ID Branch Customer type  Gender         Product line  \\\n",
       "141  280-17-4359      C        Member    Male    Health and beauty   \n",
       "166  234-65-2137      C        Normal    Male   Home and lifestyle   \n",
       "167  687-47-8271      A        Normal    Male  Fashion accessories   \n",
       "350  860-79-0874      C        Member  Female  Fashion accessories   \n",
       "357  554-42-2417      C        Normal  Female    Sports and travel   \n",
       "422  271-88-8734      C        Member  Female  Fashion accessories   \n",
       "429  325-77-6186      A        Member  Female   Home and lifestyle   \n",
       "557  283-26-5248      C        Member  Female   Food and beverages   \n",
       "699  751-41-9720      C        Normal    Male   Home and lifestyle   \n",
       "792  744-16-7898      B        Normal  Female   Home and lifestyle   \n",
       "996  303-96-2227      B        Normal  Female   Home and lifestyle   \n",
       "\n",
       "     Unit price  Quantity     Tax       Date   Time      Payment   cogs  \\\n",
       "141       90.50        10  45.250  1/25/2019  13:48         Cash  905.0   \n",
       "166       95.58        10  47.790  1/16/2019  13:32         Cash  955.8   \n",
       "167       98.98        10  49.490   2/8/2019  16:20  Credit card  989.8   \n",
       "350       99.30        10  49.650  2/15/2019  14:53  Credit card  993.0   \n",
       "357       95.44        10  47.720   1/9/2019  13:45         Cash  954.4   \n",
       "422       97.21        10  48.605   2/8/2019  13:00  Credit card  972.1   \n",
       "429       90.65        10  45.325   3/8/2019  10:53      Ewallet  906.5   \n",
       "557       98.52        10  49.260  1/30/2019  20:23      Ewallet  985.2   \n",
       "699       97.50        10  48.750  1/12/2019  16:18      Ewallet  975.0   \n",
       "792       97.37        10  48.685  1/15/2019  13:48  Credit card  973.7   \n",
       "996       97.38        10  48.690   3/2/2019  17:16      Ewallet  973.8   \n",
       "\n",
       "     gross margin percentage  gross income  Rating     Total  \n",
       "141                 4.761905        45.250     8.1   950.250  \n",
       "166                 4.761905        47.790     4.8  1003.590  \n",
       "167                 4.761905        49.490     8.7  1039.290  \n",
       "350                 4.761905        49.650     6.6  1042.650  \n",
       "357                 4.761905        47.720     5.2  1002.120  \n",
       "422                 4.761905        48.605     8.7  1020.705  \n",
       "429                 4.761905        45.325     7.3   951.825  \n",
       "557                 4.761905        49.260     4.5  1034.460  \n",
       "699                 4.761905        48.750     8.0  1023.750  \n",
       "792                 4.761905        48.685     4.9  1022.385  \n",
       "996                 4.761905        48.690     4.4  1022.490  "
      ]
     },
     "execution_count": 18,
     "metadata": {},
     "output_type": "execute_result"
    }
   ],
   "source": [
    "# Lets visualize the outliers in the Tax column\n",
    "\n",
    "supermarketdf.query('Tax > 45')"
   ]
  },
  {
   "cell_type": "code",
   "execution_count": 19,
   "id": "31510e3e",
   "metadata": {},
   "outputs": [
    {
     "data": {
      "text/html": [
       "<div>\n",
       "<style scoped>\n",
       "    .dataframe tbody tr th:only-of-type {\n",
       "        vertical-align: middle;\n",
       "    }\n",
       "\n",
       "    .dataframe tbody tr th {\n",
       "        vertical-align: top;\n",
       "    }\n",
       "\n",
       "    .dataframe thead th {\n",
       "        text-align: right;\n",
       "    }\n",
       "</style>\n",
       "<table border=\"1\" class=\"dataframe\">\n",
       "  <thead>\n",
       "    <tr style=\"text-align: right;\">\n",
       "      <th></th>\n",
       "      <th>Invoice ID</th>\n",
       "      <th>Branch</th>\n",
       "      <th>Customer type</th>\n",
       "      <th>Gender</th>\n",
       "      <th>Product line</th>\n",
       "      <th>Unit price</th>\n",
       "      <th>Quantity</th>\n",
       "      <th>Tax</th>\n",
       "      <th>Date</th>\n",
       "      <th>Time</th>\n",
       "      <th>Payment</th>\n",
       "      <th>cogs</th>\n",
       "      <th>gross margin percentage</th>\n",
       "      <th>gross income</th>\n",
       "      <th>Rating</th>\n",
       "      <th>Total</th>\n",
       "    </tr>\n",
       "  </thead>\n",
       "  <tbody>\n",
       "    <tr>\n",
       "      <th>141</th>\n",
       "      <td>280-17-4359</td>\n",
       "      <td>C</td>\n",
       "      <td>Member</td>\n",
       "      <td>Male</td>\n",
       "      <td>Health and beauty</td>\n",
       "      <td>90.50</td>\n",
       "      <td>10</td>\n",
       "      <td>45.250</td>\n",
       "      <td>1/25/2019</td>\n",
       "      <td>13:48</td>\n",
       "      <td>Cash</td>\n",
       "      <td>905.0</td>\n",
       "      <td>4.761905</td>\n",
       "      <td>45.250</td>\n",
       "      <td>8.1</td>\n",
       "      <td>950.250</td>\n",
       "    </tr>\n",
       "    <tr>\n",
       "      <th>166</th>\n",
       "      <td>234-65-2137</td>\n",
       "      <td>C</td>\n",
       "      <td>Normal</td>\n",
       "      <td>Male</td>\n",
       "      <td>Home and lifestyle</td>\n",
       "      <td>95.58</td>\n",
       "      <td>10</td>\n",
       "      <td>47.790</td>\n",
       "      <td>1/16/2019</td>\n",
       "      <td>13:32</td>\n",
       "      <td>Cash</td>\n",
       "      <td>955.8</td>\n",
       "      <td>4.761905</td>\n",
       "      <td>47.790</td>\n",
       "      <td>4.8</td>\n",
       "      <td>1003.590</td>\n",
       "    </tr>\n",
       "    <tr>\n",
       "      <th>167</th>\n",
       "      <td>687-47-8271</td>\n",
       "      <td>A</td>\n",
       "      <td>Normal</td>\n",
       "      <td>Male</td>\n",
       "      <td>Fashion accessories</td>\n",
       "      <td>98.98</td>\n",
       "      <td>10</td>\n",
       "      <td>49.490</td>\n",
       "      <td>2/8/2019</td>\n",
       "      <td>16:20</td>\n",
       "      <td>Credit card</td>\n",
       "      <td>989.8</td>\n",
       "      <td>4.761905</td>\n",
       "      <td>49.490</td>\n",
       "      <td>8.7</td>\n",
       "      <td>1039.290</td>\n",
       "    </tr>\n",
       "    <tr>\n",
       "      <th>350</th>\n",
       "      <td>860-79-0874</td>\n",
       "      <td>C</td>\n",
       "      <td>Member</td>\n",
       "      <td>Female</td>\n",
       "      <td>Fashion accessories</td>\n",
       "      <td>99.30</td>\n",
       "      <td>10</td>\n",
       "      <td>49.650</td>\n",
       "      <td>2/15/2019</td>\n",
       "      <td>14:53</td>\n",
       "      <td>Credit card</td>\n",
       "      <td>993.0</td>\n",
       "      <td>4.761905</td>\n",
       "      <td>49.650</td>\n",
       "      <td>6.6</td>\n",
       "      <td>1042.650</td>\n",
       "    </tr>\n",
       "    <tr>\n",
       "      <th>357</th>\n",
       "      <td>554-42-2417</td>\n",
       "      <td>C</td>\n",
       "      <td>Normal</td>\n",
       "      <td>Female</td>\n",
       "      <td>Sports and travel</td>\n",
       "      <td>95.44</td>\n",
       "      <td>10</td>\n",
       "      <td>47.720</td>\n",
       "      <td>1/9/2019</td>\n",
       "      <td>13:45</td>\n",
       "      <td>Cash</td>\n",
       "      <td>954.4</td>\n",
       "      <td>4.761905</td>\n",
       "      <td>47.720</td>\n",
       "      <td>5.2</td>\n",
       "      <td>1002.120</td>\n",
       "    </tr>\n",
       "    <tr>\n",
       "      <th>422</th>\n",
       "      <td>271-88-8734</td>\n",
       "      <td>C</td>\n",
       "      <td>Member</td>\n",
       "      <td>Female</td>\n",
       "      <td>Fashion accessories</td>\n",
       "      <td>97.21</td>\n",
       "      <td>10</td>\n",
       "      <td>48.605</td>\n",
       "      <td>2/8/2019</td>\n",
       "      <td>13:00</td>\n",
       "      <td>Credit card</td>\n",
       "      <td>972.1</td>\n",
       "      <td>4.761905</td>\n",
       "      <td>48.605</td>\n",
       "      <td>8.7</td>\n",
       "      <td>1020.705</td>\n",
       "    </tr>\n",
       "    <tr>\n",
       "      <th>429</th>\n",
       "      <td>325-77-6186</td>\n",
       "      <td>A</td>\n",
       "      <td>Member</td>\n",
       "      <td>Female</td>\n",
       "      <td>Home and lifestyle</td>\n",
       "      <td>90.65</td>\n",
       "      <td>10</td>\n",
       "      <td>45.325</td>\n",
       "      <td>3/8/2019</td>\n",
       "      <td>10:53</td>\n",
       "      <td>Ewallet</td>\n",
       "      <td>906.5</td>\n",
       "      <td>4.761905</td>\n",
       "      <td>45.325</td>\n",
       "      <td>7.3</td>\n",
       "      <td>951.825</td>\n",
       "    </tr>\n",
       "    <tr>\n",
       "      <th>557</th>\n",
       "      <td>283-26-5248</td>\n",
       "      <td>C</td>\n",
       "      <td>Member</td>\n",
       "      <td>Female</td>\n",
       "      <td>Food and beverages</td>\n",
       "      <td>98.52</td>\n",
       "      <td>10</td>\n",
       "      <td>49.260</td>\n",
       "      <td>1/30/2019</td>\n",
       "      <td>20:23</td>\n",
       "      <td>Ewallet</td>\n",
       "      <td>985.2</td>\n",
       "      <td>4.761905</td>\n",
       "      <td>49.260</td>\n",
       "      <td>4.5</td>\n",
       "      <td>1034.460</td>\n",
       "    </tr>\n",
       "    <tr>\n",
       "      <th>699</th>\n",
       "      <td>751-41-9720</td>\n",
       "      <td>C</td>\n",
       "      <td>Normal</td>\n",
       "      <td>Male</td>\n",
       "      <td>Home and lifestyle</td>\n",
       "      <td>97.50</td>\n",
       "      <td>10</td>\n",
       "      <td>48.750</td>\n",
       "      <td>1/12/2019</td>\n",
       "      <td>16:18</td>\n",
       "      <td>Ewallet</td>\n",
       "      <td>975.0</td>\n",
       "      <td>4.761905</td>\n",
       "      <td>48.750</td>\n",
       "      <td>8.0</td>\n",
       "      <td>1023.750</td>\n",
       "    </tr>\n",
       "    <tr>\n",
       "      <th>792</th>\n",
       "      <td>744-16-7898</td>\n",
       "      <td>B</td>\n",
       "      <td>Normal</td>\n",
       "      <td>Female</td>\n",
       "      <td>Home and lifestyle</td>\n",
       "      <td>97.37</td>\n",
       "      <td>10</td>\n",
       "      <td>48.685</td>\n",
       "      <td>1/15/2019</td>\n",
       "      <td>13:48</td>\n",
       "      <td>Credit card</td>\n",
       "      <td>973.7</td>\n",
       "      <td>4.761905</td>\n",
       "      <td>48.685</td>\n",
       "      <td>4.9</td>\n",
       "      <td>1022.385</td>\n",
       "    </tr>\n",
       "    <tr>\n",
       "      <th>996</th>\n",
       "      <td>303-96-2227</td>\n",
       "      <td>B</td>\n",
       "      <td>Normal</td>\n",
       "      <td>Female</td>\n",
       "      <td>Home and lifestyle</td>\n",
       "      <td>97.38</td>\n",
       "      <td>10</td>\n",
       "      <td>48.690</td>\n",
       "      <td>3/2/2019</td>\n",
       "      <td>17:16</td>\n",
       "      <td>Ewallet</td>\n",
       "      <td>973.8</td>\n",
       "      <td>4.761905</td>\n",
       "      <td>48.690</td>\n",
       "      <td>4.4</td>\n",
       "      <td>1022.490</td>\n",
       "    </tr>\n",
       "  </tbody>\n",
       "</table>\n",
       "</div>"
      ],
      "text/plain": [
       "      Invoice ID Branch Customer type  Gender         Product line  \\\n",
       "141  280-17-4359      C        Member    Male    Health and beauty   \n",
       "166  234-65-2137      C        Normal    Male   Home and lifestyle   \n",
       "167  687-47-8271      A        Normal    Male  Fashion accessories   \n",
       "350  860-79-0874      C        Member  Female  Fashion accessories   \n",
       "357  554-42-2417      C        Normal  Female    Sports and travel   \n",
       "422  271-88-8734      C        Member  Female  Fashion accessories   \n",
       "429  325-77-6186      A        Member  Female   Home and lifestyle   \n",
       "557  283-26-5248      C        Member  Female   Food and beverages   \n",
       "699  751-41-9720      C        Normal    Male   Home and lifestyle   \n",
       "792  744-16-7898      B        Normal  Female   Home and lifestyle   \n",
       "996  303-96-2227      B        Normal  Female   Home and lifestyle   \n",
       "\n",
       "     Unit price  Quantity     Tax       Date   Time      Payment   cogs  \\\n",
       "141       90.50        10  45.250  1/25/2019  13:48         Cash  905.0   \n",
       "166       95.58        10  47.790  1/16/2019  13:32         Cash  955.8   \n",
       "167       98.98        10  49.490   2/8/2019  16:20  Credit card  989.8   \n",
       "350       99.30        10  49.650  2/15/2019  14:53  Credit card  993.0   \n",
       "357       95.44        10  47.720   1/9/2019  13:45         Cash  954.4   \n",
       "422       97.21        10  48.605   2/8/2019  13:00  Credit card  972.1   \n",
       "429       90.65        10  45.325   3/8/2019  10:53      Ewallet  906.5   \n",
       "557       98.52        10  49.260  1/30/2019  20:23      Ewallet  985.2   \n",
       "699       97.50        10  48.750  1/12/2019  16:18      Ewallet  975.0   \n",
       "792       97.37        10  48.685  1/15/2019  13:48  Credit card  973.7   \n",
       "996       97.38        10  48.690   3/2/2019  17:16      Ewallet  973.8   \n",
       "\n",
       "     gross margin percentage  gross income  Rating     Total  \n",
       "141                 4.761905        45.250     8.1   950.250  \n",
       "166                 4.761905        47.790     4.8  1003.590  \n",
       "167                 4.761905        49.490     8.7  1039.290  \n",
       "350                 4.761905        49.650     6.6  1042.650  \n",
       "357                 4.761905        47.720     5.2  1002.120  \n",
       "422                 4.761905        48.605     8.7  1020.705  \n",
       "429                 4.761905        45.325     7.3   951.825  \n",
       "557                 4.761905        49.260     4.5  1034.460  \n",
       "699                 4.761905        48.750     8.0  1023.750  \n",
       "792                 4.761905        48.685     4.9  1022.385  \n",
       "996                 4.761905        48.690     4.4  1022.490  "
      ]
     },
     "execution_count": 19,
     "metadata": {},
     "output_type": "execute_result"
    }
   ],
   "source": [
    "# Lets visualize the outliers in the cogs column\n",
    "supermarketdf.query('cogs > 900')"
   ]
  },
  {
   "cell_type": "code",
   "execution_count": 20,
   "id": "67fe821a",
   "metadata": {},
   "outputs": [
    {
     "data": {
      "text/html": [
       "<div>\n",
       "<style scoped>\n",
       "    .dataframe tbody tr th:only-of-type {\n",
       "        vertical-align: middle;\n",
       "    }\n",
       "\n",
       "    .dataframe tbody tr th {\n",
       "        vertical-align: top;\n",
       "    }\n",
       "\n",
       "    .dataframe thead th {\n",
       "        text-align: right;\n",
       "    }\n",
       "</style>\n",
       "<table border=\"1\" class=\"dataframe\">\n",
       "  <thead>\n",
       "    <tr style=\"text-align: right;\">\n",
       "      <th></th>\n",
       "      <th>Invoice ID</th>\n",
       "      <th>Branch</th>\n",
       "      <th>Customer type</th>\n",
       "      <th>Gender</th>\n",
       "      <th>Product line</th>\n",
       "      <th>Unit price</th>\n",
       "      <th>Quantity</th>\n",
       "      <th>Tax</th>\n",
       "      <th>Date</th>\n",
       "      <th>Time</th>\n",
       "      <th>Payment</th>\n",
       "      <th>cogs</th>\n",
       "      <th>gross margin percentage</th>\n",
       "      <th>gross income</th>\n",
       "      <th>Rating</th>\n",
       "      <th>Total</th>\n",
       "    </tr>\n",
       "  </thead>\n",
       "  <tbody>\n",
       "    <tr>\n",
       "      <th>141</th>\n",
       "      <td>280-17-4359</td>\n",
       "      <td>C</td>\n",
       "      <td>Member</td>\n",
       "      <td>Male</td>\n",
       "      <td>Health and beauty</td>\n",
       "      <td>90.50</td>\n",
       "      <td>10</td>\n",
       "      <td>45.250</td>\n",
       "      <td>1/25/2019</td>\n",
       "      <td>13:48</td>\n",
       "      <td>Cash</td>\n",
       "      <td>905.0</td>\n",
       "      <td>4.761905</td>\n",
       "      <td>45.250</td>\n",
       "      <td>8.1</td>\n",
       "      <td>950.250</td>\n",
       "    </tr>\n",
       "    <tr>\n",
       "      <th>166</th>\n",
       "      <td>234-65-2137</td>\n",
       "      <td>C</td>\n",
       "      <td>Normal</td>\n",
       "      <td>Male</td>\n",
       "      <td>Home and lifestyle</td>\n",
       "      <td>95.58</td>\n",
       "      <td>10</td>\n",
       "      <td>47.790</td>\n",
       "      <td>1/16/2019</td>\n",
       "      <td>13:32</td>\n",
       "      <td>Cash</td>\n",
       "      <td>955.8</td>\n",
       "      <td>4.761905</td>\n",
       "      <td>47.790</td>\n",
       "      <td>4.8</td>\n",
       "      <td>1003.590</td>\n",
       "    </tr>\n",
       "    <tr>\n",
       "      <th>167</th>\n",
       "      <td>687-47-8271</td>\n",
       "      <td>A</td>\n",
       "      <td>Normal</td>\n",
       "      <td>Male</td>\n",
       "      <td>Fashion accessories</td>\n",
       "      <td>98.98</td>\n",
       "      <td>10</td>\n",
       "      <td>49.490</td>\n",
       "      <td>2/8/2019</td>\n",
       "      <td>16:20</td>\n",
       "      <td>Credit card</td>\n",
       "      <td>989.8</td>\n",
       "      <td>4.761905</td>\n",
       "      <td>49.490</td>\n",
       "      <td>8.7</td>\n",
       "      <td>1039.290</td>\n",
       "    </tr>\n",
       "    <tr>\n",
       "      <th>350</th>\n",
       "      <td>860-79-0874</td>\n",
       "      <td>C</td>\n",
       "      <td>Member</td>\n",
       "      <td>Female</td>\n",
       "      <td>Fashion accessories</td>\n",
       "      <td>99.30</td>\n",
       "      <td>10</td>\n",
       "      <td>49.650</td>\n",
       "      <td>2/15/2019</td>\n",
       "      <td>14:53</td>\n",
       "      <td>Credit card</td>\n",
       "      <td>993.0</td>\n",
       "      <td>4.761905</td>\n",
       "      <td>49.650</td>\n",
       "      <td>6.6</td>\n",
       "      <td>1042.650</td>\n",
       "    </tr>\n",
       "    <tr>\n",
       "      <th>357</th>\n",
       "      <td>554-42-2417</td>\n",
       "      <td>C</td>\n",
       "      <td>Normal</td>\n",
       "      <td>Female</td>\n",
       "      <td>Sports and travel</td>\n",
       "      <td>95.44</td>\n",
       "      <td>10</td>\n",
       "      <td>47.720</td>\n",
       "      <td>1/9/2019</td>\n",
       "      <td>13:45</td>\n",
       "      <td>Cash</td>\n",
       "      <td>954.4</td>\n",
       "      <td>4.761905</td>\n",
       "      <td>47.720</td>\n",
       "      <td>5.2</td>\n",
       "      <td>1002.120</td>\n",
       "    </tr>\n",
       "    <tr>\n",
       "      <th>422</th>\n",
       "      <td>271-88-8734</td>\n",
       "      <td>C</td>\n",
       "      <td>Member</td>\n",
       "      <td>Female</td>\n",
       "      <td>Fashion accessories</td>\n",
       "      <td>97.21</td>\n",
       "      <td>10</td>\n",
       "      <td>48.605</td>\n",
       "      <td>2/8/2019</td>\n",
       "      <td>13:00</td>\n",
       "      <td>Credit card</td>\n",
       "      <td>972.1</td>\n",
       "      <td>4.761905</td>\n",
       "      <td>48.605</td>\n",
       "      <td>8.7</td>\n",
       "      <td>1020.705</td>\n",
       "    </tr>\n",
       "    <tr>\n",
       "      <th>429</th>\n",
       "      <td>325-77-6186</td>\n",
       "      <td>A</td>\n",
       "      <td>Member</td>\n",
       "      <td>Female</td>\n",
       "      <td>Home and lifestyle</td>\n",
       "      <td>90.65</td>\n",
       "      <td>10</td>\n",
       "      <td>45.325</td>\n",
       "      <td>3/8/2019</td>\n",
       "      <td>10:53</td>\n",
       "      <td>Ewallet</td>\n",
       "      <td>906.5</td>\n",
       "      <td>4.761905</td>\n",
       "      <td>45.325</td>\n",
       "      <td>7.3</td>\n",
       "      <td>951.825</td>\n",
       "    </tr>\n",
       "    <tr>\n",
       "      <th>557</th>\n",
       "      <td>283-26-5248</td>\n",
       "      <td>C</td>\n",
       "      <td>Member</td>\n",
       "      <td>Female</td>\n",
       "      <td>Food and beverages</td>\n",
       "      <td>98.52</td>\n",
       "      <td>10</td>\n",
       "      <td>49.260</td>\n",
       "      <td>1/30/2019</td>\n",
       "      <td>20:23</td>\n",
       "      <td>Ewallet</td>\n",
       "      <td>985.2</td>\n",
       "      <td>4.761905</td>\n",
       "      <td>49.260</td>\n",
       "      <td>4.5</td>\n",
       "      <td>1034.460</td>\n",
       "    </tr>\n",
       "    <tr>\n",
       "      <th>699</th>\n",
       "      <td>751-41-9720</td>\n",
       "      <td>C</td>\n",
       "      <td>Normal</td>\n",
       "      <td>Male</td>\n",
       "      <td>Home and lifestyle</td>\n",
       "      <td>97.50</td>\n",
       "      <td>10</td>\n",
       "      <td>48.750</td>\n",
       "      <td>1/12/2019</td>\n",
       "      <td>16:18</td>\n",
       "      <td>Ewallet</td>\n",
       "      <td>975.0</td>\n",
       "      <td>4.761905</td>\n",
       "      <td>48.750</td>\n",
       "      <td>8.0</td>\n",
       "      <td>1023.750</td>\n",
       "    </tr>\n",
       "    <tr>\n",
       "      <th>792</th>\n",
       "      <td>744-16-7898</td>\n",
       "      <td>B</td>\n",
       "      <td>Normal</td>\n",
       "      <td>Female</td>\n",
       "      <td>Home and lifestyle</td>\n",
       "      <td>97.37</td>\n",
       "      <td>10</td>\n",
       "      <td>48.685</td>\n",
       "      <td>1/15/2019</td>\n",
       "      <td>13:48</td>\n",
       "      <td>Credit card</td>\n",
       "      <td>973.7</td>\n",
       "      <td>4.761905</td>\n",
       "      <td>48.685</td>\n",
       "      <td>4.9</td>\n",
       "      <td>1022.385</td>\n",
       "    </tr>\n",
       "    <tr>\n",
       "      <th>996</th>\n",
       "      <td>303-96-2227</td>\n",
       "      <td>B</td>\n",
       "      <td>Normal</td>\n",
       "      <td>Female</td>\n",
       "      <td>Home and lifestyle</td>\n",
       "      <td>97.38</td>\n",
       "      <td>10</td>\n",
       "      <td>48.690</td>\n",
       "      <td>3/2/2019</td>\n",
       "      <td>17:16</td>\n",
       "      <td>Ewallet</td>\n",
       "      <td>973.8</td>\n",
       "      <td>4.761905</td>\n",
       "      <td>48.690</td>\n",
       "      <td>4.4</td>\n",
       "      <td>1022.490</td>\n",
       "    </tr>\n",
       "  </tbody>\n",
       "</table>\n",
       "</div>"
      ],
      "text/plain": [
       "      Invoice ID Branch Customer type  Gender         Product line  \\\n",
       "141  280-17-4359      C        Member    Male    Health and beauty   \n",
       "166  234-65-2137      C        Normal    Male   Home and lifestyle   \n",
       "167  687-47-8271      A        Normal    Male  Fashion accessories   \n",
       "350  860-79-0874      C        Member  Female  Fashion accessories   \n",
       "357  554-42-2417      C        Normal  Female    Sports and travel   \n",
       "422  271-88-8734      C        Member  Female  Fashion accessories   \n",
       "429  325-77-6186      A        Member  Female   Home and lifestyle   \n",
       "557  283-26-5248      C        Member  Female   Food and beverages   \n",
       "699  751-41-9720      C        Normal    Male   Home and lifestyle   \n",
       "792  744-16-7898      B        Normal  Female   Home and lifestyle   \n",
       "996  303-96-2227      B        Normal  Female   Home and lifestyle   \n",
       "\n",
       "     Unit price  Quantity     Tax       Date   Time      Payment   cogs  \\\n",
       "141       90.50        10  45.250  1/25/2019  13:48         Cash  905.0   \n",
       "166       95.58        10  47.790  1/16/2019  13:32         Cash  955.8   \n",
       "167       98.98        10  49.490   2/8/2019  16:20  Credit card  989.8   \n",
       "350       99.30        10  49.650  2/15/2019  14:53  Credit card  993.0   \n",
       "357       95.44        10  47.720   1/9/2019  13:45         Cash  954.4   \n",
       "422       97.21        10  48.605   2/8/2019  13:00  Credit card  972.1   \n",
       "429       90.65        10  45.325   3/8/2019  10:53      Ewallet  906.5   \n",
       "557       98.52        10  49.260  1/30/2019  20:23      Ewallet  985.2   \n",
       "699       97.50        10  48.750  1/12/2019  16:18      Ewallet  975.0   \n",
       "792       97.37        10  48.685  1/15/2019  13:48  Credit card  973.7   \n",
       "996       97.38        10  48.690   3/2/2019  17:16      Ewallet  973.8   \n",
       "\n",
       "     gross margin percentage  gross income  Rating     Total  \n",
       "141                 4.761905        45.250     8.1   950.250  \n",
       "166                 4.761905        47.790     4.8  1003.590  \n",
       "167                 4.761905        49.490     8.7  1039.290  \n",
       "350                 4.761905        49.650     6.6  1042.650  \n",
       "357                 4.761905        47.720     5.2  1002.120  \n",
       "422                 4.761905        48.605     8.7  1020.705  \n",
       "429                 4.761905        45.325     7.3   951.825  \n",
       "557                 4.761905        49.260     4.5  1034.460  \n",
       "699                 4.761905        48.750     8.0  1023.750  \n",
       "792                 4.761905        48.685     4.9  1022.385  \n",
       "996                 4.761905        48.690     4.4  1022.490  "
      ]
     },
     "execution_count": 20,
     "metadata": {},
     "output_type": "execute_result"
    }
   ],
   "source": [
    "# Lets visualize the outliers in the Totals column\n",
    "\n",
    "supermarketdf.query('Total > 950')"
   ]
  },
  {
   "cell_type": "markdown",
   "id": "a8d3d9c5",
   "metadata": {},
   "source": [
    "Outliers shall be retained as they contain pertinent and real information."
   ]
  },
  {
   "cell_type": "markdown",
   "id": "b59e81f4",
   "metadata": {},
   "source": [
    "## c) Cleaning"
   ]
  },
  {
   "cell_type": "markdown",
   "id": "9175bf7b",
   "metadata": {},
   "source": [
    "Lets correct the following :\n",
    "1. Invoice ID has a wrong datatype (string instead of int).\n",
    "2. Date and Time are objects are instead of datetime.\n",
    "3. We need to strip off the white spaces and lower the cases of columns for easier computation.\n",
    "4. Drop the gross_margin_percentage column, inplace = True.. :-D"
   ]
  },
  {
   "cell_type": "code",
   "execution_count": 21,
   "id": "0255d63f",
   "metadata": {},
   "outputs": [],
   "source": [
    "# Make a copy of the dataframe\n",
    "# Lets save the dataframe to a csv file \n",
    "cleandf = supermarketdf.copy()"
   ]
  },
  {
   "cell_type": "markdown",
   "id": "8b1195f5",
   "metadata": {},
   "source": [
    "# Issue 1 :\n",
    "\n",
    "1. Lets strip white spaces from the column names and for the row invoice ID for :\n",
    "\n",
    "    (i) Consistency\n",
    "    \n",
    "    (ii) Easier and faster computation.\n",
    "\n"
   ]
  },
  {
   "cell_type": "markdown",
   "id": "3994ac4b",
   "metadata": {},
   "source": [
    "### Code"
   ]
  },
  {
   "cell_type": "code",
   "execution_count": 22,
   "id": "a816df24",
   "metadata": {},
   "outputs": [],
   "source": [
    "# Lets use the lambda funtion to strip off white spaces\n",
    "\n",
    "cleandf.rename(columns = lambda x : x.strip().lower().replace(\" \",\"_\"),inplace =True)"
   ]
  },
  {
   "cell_type": "markdown",
   "id": "cf863e2a",
   "metadata": {},
   "source": [
    "### Test"
   ]
  },
  {
   "cell_type": "code",
   "execution_count": 23,
   "id": "a0106742",
   "metadata": {
    "scrolled": true
   },
   "outputs": [
    {
     "data": {
      "text/plain": [
       "Index(['invoice_id', 'branch', 'customer_type', 'gender', 'product_line',\n",
       "       'unit_price', 'quantity', 'tax', 'date', 'time', 'payment', 'cogs',\n",
       "       'gross_margin_percentage', 'gross_income', 'rating', 'total'],\n",
       "      dtype='object')"
      ]
     },
     "execution_count": 23,
     "metadata": {},
     "output_type": "execute_result"
    }
   ],
   "source": [
    "# Lets preview the columns\n",
    "\n",
    "cleandf.columns"
   ]
  },
  {
   "cell_type": "code",
   "execution_count": 24,
   "id": "c2e239ef",
   "metadata": {},
   "outputs": [
    {
     "data": {
      "text/plain": [
       "invoice_id                  object\n",
       "branch                      object\n",
       "customer_type               object\n",
       "gender                      object\n",
       "product_line                object\n",
       "unit_price                 float64\n",
       "quantity                     int64\n",
       "tax                        float64\n",
       "date                        object\n",
       "time                        object\n",
       "payment                     object\n",
       "cogs                       float64\n",
       "gross_margin_percentage    float64\n",
       "gross_income               float64\n",
       "rating                     float64\n",
       "total                      float64\n",
       "dtype: object"
      ]
     },
     "execution_count": 24,
     "metadata": {},
     "output_type": "execute_result"
    }
   ],
   "source": [
    "cleandf.dtypes"
   ]
  },
  {
   "cell_type": "markdown",
   "id": "5b73b217",
   "metadata": {},
   "source": [
    "# Issue 2 :\n",
    "(i)The columns date and time have incorect datatypes ie object instead of datetime.\n",
    "\n",
    "(ii)Sort the dates so as to identify the trends.\n",
    "\n",
    "(iii) Split time to hours and minutes, Split date to years, months and days."
   ]
  },
  {
   "cell_type": "markdown",
   "id": "a74e7a93",
   "metadata": {},
   "source": [
    "## Code"
   ]
  },
  {
   "cell_type": "markdown",
   "id": "a3102e1f",
   "metadata": {},
   "source": [
    "#### Splitting of the dataset"
   ]
  },
  {
   "cell_type": "code",
   "execution_count": 25,
   "id": "2180cbdd",
   "metadata": {},
   "outputs": [],
   "source": [
    "# Lets split the time to hours and minutes. This is required for the machine to learn trends easier.\n",
    "\n",
    "cleandf['hour'] = cleandf['time'].apply(lambda x :x.split(':')[0])\n",
    "cleandf['min'] = cleandf['time'].apply(lambda x :x.split(':')[1])\n"
   ]
  },
  {
   "cell_type": "code",
   "execution_count": 26,
   "id": "80c66ab3",
   "metadata": {},
   "outputs": [],
   "source": [
    "# Lets split the date to years,months and days. This is required for the machine to learn trends easier.\n",
    "\n",
    "cleandf['day'] = cleandf['date'].apply(lambda x :x.split('/')[0])\n",
    "cleandf['month'] = cleandf['date'].apply(lambda x :x.split('/')[1])\n",
    "cleandf['year'] = cleandf['date'].apply(lambda x :x.split('/')[2])"
   ]
  },
  {
   "cell_type": "markdown",
   "id": "406f5cb1",
   "metadata": {},
   "source": [
    "#### Inspecting the data types"
   ]
  },
  {
   "cell_type": "code",
   "execution_count": 27,
   "id": "7609b18f",
   "metadata": {},
   "outputs": [],
   "source": [
    "# Lets change the datatype of the date column to datetime.\n",
    "\n",
    "cleandf['date'] = pd.to_datetime(cleandf['date'])"
   ]
  },
  {
   "cell_type": "code",
   "execution_count": 84,
   "id": "2aff0ac1",
   "metadata": {},
   "outputs": [],
   "source": [
    "# lets change hours,minutes, year, month and day to integers\n",
    "\n",
    "cleandf[['hour','min','year','month','day']] = cleandf[['hour','min','year','month','day']].astype('int64')"
   ]
  },
  {
   "cell_type": "markdown",
   "id": "c9ffc905",
   "metadata": {},
   "source": [
    "#### Test"
   ]
  },
  {
   "cell_type": "code",
   "execution_count": 85,
   "id": "e21ba853",
   "metadata": {
    "scrolled": true
   },
   "outputs": [
    {
     "data": {
      "text/plain": [
       "branch                   object\n",
       "customer_type            object\n",
       "gender                   object\n",
       "product_line             object\n",
       "unit_price              float64\n",
       "quantity                  int64\n",
       "tax                     float64\n",
       "date             datetime64[ns]\n",
       "time                     object\n",
       "payment                  object\n",
       "cogs                    float64\n",
       "gross_income            float64\n",
       "rating                  float64\n",
       "total                   float64\n",
       "hour                      int64\n",
       "min                       int64\n",
       "day                       int64\n",
       "month                     int64\n",
       "year                      int64\n",
       "dtype: object"
      ]
     },
     "execution_count": 85,
     "metadata": {},
     "output_type": "execute_result"
    }
   ],
   "source": [
    "# Check for the datatypes\n",
    "cleandf.dtypes"
   ]
  },
  {
   "cell_type": "markdown",
   "id": "a97750db",
   "metadata": {},
   "source": [
    "#### Sorting the dates"
   ]
  },
  {
   "cell_type": "code",
   "execution_count": 30,
   "id": "16ee8bb7",
   "metadata": {},
   "outputs": [],
   "source": [
    "# Sorting date and time from the 'oldest' transaction to the most recent one\n",
    "cleandf = cleandf.sort_values(by = ['date','time'])   "
   ]
  },
  {
   "cell_type": "code",
   "execution_count": 31,
   "id": "6aab46c3",
   "metadata": {
    "scrolled": false
   },
   "outputs": [
    {
     "data": {
      "text/html": [
       "<div>\n",
       "<style scoped>\n",
       "    .dataframe tbody tr th:only-of-type {\n",
       "        vertical-align: middle;\n",
       "    }\n",
       "\n",
       "    .dataframe tbody tr th {\n",
       "        vertical-align: top;\n",
       "    }\n",
       "\n",
       "    .dataframe thead th {\n",
       "        text-align: right;\n",
       "    }\n",
       "</style>\n",
       "<table border=\"1\" class=\"dataframe\">\n",
       "  <thead>\n",
       "    <tr style=\"text-align: right;\">\n",
       "      <th></th>\n",
       "      <th>invoice_id</th>\n",
       "      <th>branch</th>\n",
       "      <th>customer_type</th>\n",
       "      <th>gender</th>\n",
       "      <th>product_line</th>\n",
       "      <th>unit_price</th>\n",
       "      <th>quantity</th>\n",
       "      <th>tax</th>\n",
       "      <th>date</th>\n",
       "      <th>time</th>\n",
       "      <th>...</th>\n",
       "      <th>cogs</th>\n",
       "      <th>gross_margin_percentage</th>\n",
       "      <th>gross_income</th>\n",
       "      <th>rating</th>\n",
       "      <th>total</th>\n",
       "      <th>hour</th>\n",
       "      <th>min</th>\n",
       "      <th>day</th>\n",
       "      <th>month</th>\n",
       "      <th>year</th>\n",
       "    </tr>\n",
       "  </thead>\n",
       "  <tbody>\n",
       "    <tr>\n",
       "      <th>17</th>\n",
       "      <td>765-26-6951</td>\n",
       "      <td>A</td>\n",
       "      <td>Normal</td>\n",
       "      <td>Male</td>\n",
       "      <td>Sports and travel</td>\n",
       "      <td>72.61</td>\n",
       "      <td>6</td>\n",
       "      <td>21.783</td>\n",
       "      <td>2019-01-01</td>\n",
       "      <td>10:39</td>\n",
       "      <td>...</td>\n",
       "      <td>435.66</td>\n",
       "      <td>4.761905</td>\n",
       "      <td>21.783</td>\n",
       "      <td>6.9</td>\n",
       "      <td>457.443</td>\n",
       "      <td>10</td>\n",
       "      <td>39</td>\n",
       "      <td>1</td>\n",
       "      <td>1</td>\n",
       "      <td>2019</td>\n",
       "    </tr>\n",
       "    <tr>\n",
       "      <th>970</th>\n",
       "      <td>746-04-1077</td>\n",
       "      <td>B</td>\n",
       "      <td>Member</td>\n",
       "      <td>Female</td>\n",
       "      <td>Food and beverages</td>\n",
       "      <td>84.63</td>\n",
       "      <td>10</td>\n",
       "      <td>42.315</td>\n",
       "      <td>2019-01-01</td>\n",
       "      <td>11:36</td>\n",
       "      <td>...</td>\n",
       "      <td>846.30</td>\n",
       "      <td>4.761905</td>\n",
       "      <td>42.315</td>\n",
       "      <td>9.0</td>\n",
       "      <td>888.615</td>\n",
       "      <td>11</td>\n",
       "      <td>36</td>\n",
       "      <td>1</td>\n",
       "      <td>1</td>\n",
       "      <td>2019</td>\n",
       "    </tr>\n",
       "    <tr>\n",
       "      <th>839</th>\n",
       "      <td>271-77-8740</td>\n",
       "      <td>C</td>\n",
       "      <td>Member</td>\n",
       "      <td>Female</td>\n",
       "      <td>Sports and travel</td>\n",
       "      <td>29.22</td>\n",
       "      <td>6</td>\n",
       "      <td>8.766</td>\n",
       "      <td>2019-01-01</td>\n",
       "      <td>11:40</td>\n",
       "      <td>...</td>\n",
       "      <td>175.32</td>\n",
       "      <td>4.761905</td>\n",
       "      <td>8.766</td>\n",
       "      <td>5.0</td>\n",
       "      <td>184.086</td>\n",
       "      <td>11</td>\n",
       "      <td>40</td>\n",
       "      <td>1</td>\n",
       "      <td>1</td>\n",
       "      <td>2019</td>\n",
       "    </tr>\n",
       "    <tr>\n",
       "      <th>523</th>\n",
       "      <td>133-14-7229</td>\n",
       "      <td>C</td>\n",
       "      <td>Normal</td>\n",
       "      <td>Male</td>\n",
       "      <td>Health and beauty</td>\n",
       "      <td>62.87</td>\n",
       "      <td>2</td>\n",
       "      <td>6.287</td>\n",
       "      <td>2019-01-01</td>\n",
       "      <td>11:43</td>\n",
       "      <td>...</td>\n",
       "      <td>125.74</td>\n",
       "      <td>4.761905</td>\n",
       "      <td>6.287</td>\n",
       "      <td>5.0</td>\n",
       "      <td>132.027</td>\n",
       "      <td>11</td>\n",
       "      <td>43</td>\n",
       "      <td>1</td>\n",
       "      <td>1</td>\n",
       "      <td>2019</td>\n",
       "    </tr>\n",
       "    <tr>\n",
       "      <th>567</th>\n",
       "      <td>651-88-7328</td>\n",
       "      <td>A</td>\n",
       "      <td>Normal</td>\n",
       "      <td>Female</td>\n",
       "      <td>Fashion accessories</td>\n",
       "      <td>65.74</td>\n",
       "      <td>9</td>\n",
       "      <td>29.583</td>\n",
       "      <td>2019-01-01</td>\n",
       "      <td>13:55</td>\n",
       "      <td>...</td>\n",
       "      <td>591.66</td>\n",
       "      <td>4.761905</td>\n",
       "      <td>29.583</td>\n",
       "      <td>7.7</td>\n",
       "      <td>621.243</td>\n",
       "      <td>13</td>\n",
       "      <td>55</td>\n",
       "      <td>1</td>\n",
       "      <td>1</td>\n",
       "      <td>2019</td>\n",
       "    </tr>\n",
       "  </tbody>\n",
       "</table>\n",
       "<p>5 rows × 21 columns</p>\n",
       "</div>"
      ],
      "text/plain": [
       "      invoice_id branch customer_type  gender         product_line  \\\n",
       "17   765-26-6951      A        Normal    Male    Sports and travel   \n",
       "970  746-04-1077      B        Member  Female   Food and beverages   \n",
       "839  271-77-8740      C        Member  Female    Sports and travel   \n",
       "523  133-14-7229      C        Normal    Male    Health and beauty   \n",
       "567  651-88-7328      A        Normal  Female  Fashion accessories   \n",
       "\n",
       "     unit_price  quantity     tax       date   time  ...    cogs  \\\n",
       "17        72.61         6  21.783 2019-01-01  10:39  ...  435.66   \n",
       "970       84.63        10  42.315 2019-01-01  11:36  ...  846.30   \n",
       "839       29.22         6   8.766 2019-01-01  11:40  ...  175.32   \n",
       "523       62.87         2   6.287 2019-01-01  11:43  ...  125.74   \n",
       "567       65.74         9  29.583 2019-01-01  13:55  ...  591.66   \n",
       "\n",
       "     gross_margin_percentage  gross_income  rating    total  hour  min  day  \\\n",
       "17                  4.761905        21.783     6.9  457.443    10   39    1   \n",
       "970                 4.761905        42.315     9.0  888.615    11   36    1   \n",
       "839                 4.761905         8.766     5.0  184.086    11   40    1   \n",
       "523                 4.761905         6.287     5.0  132.027    11   43    1   \n",
       "567                 4.761905        29.583     7.7  621.243    13   55    1   \n",
       "\n",
       "     month  year  \n",
       "17       1  2019  \n",
       "970      1  2019  \n",
       "839      1  2019  \n",
       "523      1  2019  \n",
       "567      1  2019  \n",
       "\n",
       "[5 rows x 21 columns]"
      ]
     },
     "execution_count": 31,
     "metadata": {},
     "output_type": "execute_result"
    }
   ],
   "source": [
    "# Lets display the first five rows to display the order\n",
    "cleandf.head()"
   ]
  },
  {
   "cell_type": "markdown",
   "id": "e4306773",
   "metadata": {},
   "source": [
    "# Issue 3"
   ]
  },
  {
   "cell_type": "code",
   "execution_count": 32,
   "id": "2c1c7c14",
   "metadata": {},
   "outputs": [
    {
     "data": {
      "text/plain": [
       "17     765-26-6951\n",
       "970    746-04-1077\n",
       "839    271-77-8740\n",
       "523    133-14-7229\n",
       "567    651-88-7328\n",
       "          ...     \n",
       "671    642-61-4706\n",
       "474    676-39-6028\n",
       "473    731-59-7531\n",
       "643    131-15-8856\n",
       "963    364-34-2972\n",
       "Name: invoice_id, Length: 1000, dtype: object"
      ]
     },
     "execution_count": 32,
     "metadata": {},
     "output_type": "execute_result"
    }
   ],
   "source": [
    "cleandf['invoice_id'].replace('-','')"
   ]
  },
  {
   "cell_type": "code",
   "execution_count": 33,
   "id": "b934902e",
   "metadata": {
    "scrolled": true
   },
   "outputs": [
    {
     "data": {
      "text/html": [
       "<div>\n",
       "<style scoped>\n",
       "    .dataframe tbody tr th:only-of-type {\n",
       "        vertical-align: middle;\n",
       "    }\n",
       "\n",
       "    .dataframe tbody tr th {\n",
       "        vertical-align: top;\n",
       "    }\n",
       "\n",
       "    .dataframe thead th {\n",
       "        text-align: right;\n",
       "    }\n",
       "</style>\n",
       "<table border=\"1\" class=\"dataframe\">\n",
       "  <thead>\n",
       "    <tr style=\"text-align: right;\">\n",
       "      <th></th>\n",
       "      <th>invoice_id</th>\n",
       "      <th>branch</th>\n",
       "      <th>customer_type</th>\n",
       "      <th>gender</th>\n",
       "      <th>product_line</th>\n",
       "      <th>unit_price</th>\n",
       "      <th>quantity</th>\n",
       "      <th>tax</th>\n",
       "      <th>date</th>\n",
       "      <th>time</th>\n",
       "      <th>...</th>\n",
       "      <th>cogs</th>\n",
       "      <th>gross_margin_percentage</th>\n",
       "      <th>gross_income</th>\n",
       "      <th>rating</th>\n",
       "      <th>total</th>\n",
       "      <th>hour</th>\n",
       "      <th>min</th>\n",
       "      <th>day</th>\n",
       "      <th>month</th>\n",
       "      <th>year</th>\n",
       "    </tr>\n",
       "  </thead>\n",
       "  <tbody>\n",
       "    <tr>\n",
       "      <th>112</th>\n",
       "      <td>227-78-1148</td>\n",
       "      <td>B</td>\n",
       "      <td>Normal</td>\n",
       "      <td>Female</td>\n",
       "      <td>Fashion accessories</td>\n",
       "      <td>72.84</td>\n",
       "      <td>7</td>\n",
       "      <td>25.494</td>\n",
       "      <td>2019-02-15</td>\n",
       "      <td>12:44</td>\n",
       "      <td>...</td>\n",
       "      <td>509.88</td>\n",
       "      <td>4.761905</td>\n",
       "      <td>25.494</td>\n",
       "      <td>8.4</td>\n",
       "      <td>535.374</td>\n",
       "      <td>12</td>\n",
       "      <td>44</td>\n",
       "      <td>2</td>\n",
       "      <td>15</td>\n",
       "      <td>2019</td>\n",
       "    </tr>\n",
       "    <tr>\n",
       "      <th>873</th>\n",
       "      <td>166-19-2553</td>\n",
       "      <td>A</td>\n",
       "      <td>Member</td>\n",
       "      <td>Male</td>\n",
       "      <td>Sports and travel</td>\n",
       "      <td>89.06</td>\n",
       "      <td>6</td>\n",
       "      <td>26.718</td>\n",
       "      <td>2019-01-18</td>\n",
       "      <td>17:26</td>\n",
       "      <td>...</td>\n",
       "      <td>534.36</td>\n",
       "      <td>4.761905</td>\n",
       "      <td>26.718</td>\n",
       "      <td>9.9</td>\n",
       "      <td>561.078</td>\n",
       "      <td>17</td>\n",
       "      <td>26</td>\n",
       "      <td>1</td>\n",
       "      <td>18</td>\n",
       "      <td>2019</td>\n",
       "    </tr>\n",
       "  </tbody>\n",
       "</table>\n",
       "<p>2 rows × 21 columns</p>\n",
       "</div>"
      ],
      "text/plain": [
       "      invoice_id branch customer_type  gender         product_line  \\\n",
       "112  227-78-1148      B        Normal  Female  Fashion accessories   \n",
       "873  166-19-2553      A        Member    Male    Sports and travel   \n",
       "\n",
       "     unit_price  quantity     tax       date   time  ...    cogs  \\\n",
       "112       72.84         7  25.494 2019-02-15  12:44  ...  509.88   \n",
       "873       89.06         6  26.718 2019-01-18  17:26  ...  534.36   \n",
       "\n",
       "     gross_margin_percentage  gross_income  rating    total  hour  min  day  \\\n",
       "112                 4.761905        25.494     8.4  535.374    12   44    2   \n",
       "873                 4.761905        26.718     9.9  561.078    17   26    1   \n",
       "\n",
       "     month  year  \n",
       "112     15  2019  \n",
       "873     18  2019  \n",
       "\n",
       "[2 rows x 21 columns]"
      ]
     },
     "execution_count": 33,
     "metadata": {},
     "output_type": "execute_result"
    }
   ],
   "source": [
    "cleandf.sample(2)"
   ]
  },
  {
   "cell_type": "markdown",
   "id": "298faf6a",
   "metadata": {},
   "source": [
    "# Issue 4 \n",
    "Drop the gross margin percentage permanently from our data"
   ]
  },
  {
   "cell_type": "markdown",
   "id": "384156a1",
   "metadata": {},
   "source": [
    "## Code"
   ]
  },
  {
   "cell_type": "code",
   "execution_count": 34,
   "id": "c5891e36",
   "metadata": {},
   "outputs": [],
   "source": [
    "cleandf.drop(columns = 'gross_margin_percentage',inplace = True)"
   ]
  },
  {
   "cell_type": "code",
   "execution_count": 35,
   "id": "a9319480",
   "metadata": {},
   "outputs": [],
   "source": [
    "cleandf.drop(columns = 'invoice_id',inplace = True)"
   ]
  },
  {
   "cell_type": "code",
   "execution_count": 86,
   "id": "43659054",
   "metadata": {},
   "outputs": [],
   "source": [
    "cleandf.drop(columns = 'time',inplace = True)"
   ]
  },
  {
   "cell_type": "markdown",
   "id": "43664d0f",
   "metadata": {},
   "source": [
    "## Test"
   ]
  },
  {
   "cell_type": "code",
   "execution_count": 36,
   "id": "c62cdb5e",
   "metadata": {
    "scrolled": true
   },
   "outputs": [
    {
     "data": {
      "text/html": [
       "<div>\n",
       "<style scoped>\n",
       "    .dataframe tbody tr th:only-of-type {\n",
       "        vertical-align: middle;\n",
       "    }\n",
       "\n",
       "    .dataframe tbody tr th {\n",
       "        vertical-align: top;\n",
       "    }\n",
       "\n",
       "    .dataframe thead th {\n",
       "        text-align: right;\n",
       "    }\n",
       "</style>\n",
       "<table border=\"1\" class=\"dataframe\">\n",
       "  <thead>\n",
       "    <tr style=\"text-align: right;\">\n",
       "      <th></th>\n",
       "      <th>branch</th>\n",
       "      <th>customer_type</th>\n",
       "      <th>gender</th>\n",
       "      <th>product_line</th>\n",
       "      <th>unit_price</th>\n",
       "      <th>quantity</th>\n",
       "      <th>tax</th>\n",
       "      <th>date</th>\n",
       "      <th>time</th>\n",
       "      <th>payment</th>\n",
       "      <th>cogs</th>\n",
       "      <th>gross_income</th>\n",
       "      <th>rating</th>\n",
       "      <th>total</th>\n",
       "      <th>hour</th>\n",
       "      <th>min</th>\n",
       "      <th>day</th>\n",
       "      <th>month</th>\n",
       "      <th>year</th>\n",
       "    </tr>\n",
       "  </thead>\n",
       "  <tbody>\n",
       "    <tr>\n",
       "      <th>789</th>\n",
       "      <td>A</td>\n",
       "      <td>Normal</td>\n",
       "      <td>Male</td>\n",
       "      <td>Sports and travel</td>\n",
       "      <td>58.91</td>\n",
       "      <td>7</td>\n",
       "      <td>20.6185</td>\n",
       "      <td>2019-01-17</td>\n",
       "      <td>15:15</td>\n",
       "      <td>Ewallet</td>\n",
       "      <td>412.37</td>\n",
       "      <td>20.6185</td>\n",
       "      <td>9.7</td>\n",
       "      <td>432.9885</td>\n",
       "      <td>15</td>\n",
       "      <td>15</td>\n",
       "      <td>1</td>\n",
       "      <td>17</td>\n",
       "      <td>2019</td>\n",
       "    </tr>\n",
       "    <tr>\n",
       "      <th>264</th>\n",
       "      <td>B</td>\n",
       "      <td>Normal</td>\n",
       "      <td>Male</td>\n",
       "      <td>Sports and travel</td>\n",
       "      <td>54.45</td>\n",
       "      <td>1</td>\n",
       "      <td>2.7225</td>\n",
       "      <td>2019-02-26</td>\n",
       "      <td>19:24</td>\n",
       "      <td>Ewallet</td>\n",
       "      <td>54.45</td>\n",
       "      <td>2.7225</td>\n",
       "      <td>7.9</td>\n",
       "      <td>57.1725</td>\n",
       "      <td>19</td>\n",
       "      <td>24</td>\n",
       "      <td>2</td>\n",
       "      <td>26</td>\n",
       "      <td>2019</td>\n",
       "    </tr>\n",
       "  </tbody>\n",
       "</table>\n",
       "</div>"
      ],
      "text/plain": [
       "    branch customer_type gender       product_line  unit_price  quantity  \\\n",
       "789      A        Normal   Male  Sports and travel       58.91         7   \n",
       "264      B        Normal   Male  Sports and travel       54.45         1   \n",
       "\n",
       "         tax       date   time  payment    cogs  gross_income  rating  \\\n",
       "789  20.6185 2019-01-17  15:15  Ewallet  412.37       20.6185     9.7   \n",
       "264   2.7225 2019-02-26  19:24  Ewallet   54.45        2.7225     7.9   \n",
       "\n",
       "        total  hour  min  day  month  year  \n",
       "789  432.9885    15   15    1     17  2019  \n",
       "264   57.1725    19   24    2     26  2019  "
      ]
     },
     "execution_count": 36,
     "metadata": {},
     "output_type": "execute_result"
    }
   ],
   "source": [
    "cleandf.sample(2)"
   ]
  },
  {
   "cell_type": "code",
   "execution_count": 37,
   "id": "e5002629",
   "metadata": {},
   "outputs": [],
   "source": [
    "# Lets save the dataframe to a csv file \n",
    "cleandf.to_csv('clean_df.csv',index=False)"
   ]
  },
  {
   "cell_type": "code",
   "execution_count": 38,
   "id": "32c620ae",
   "metadata": {},
   "outputs": [
    {
     "data": {
      "text/html": [
       "<div>\n",
       "<style scoped>\n",
       "    .dataframe tbody tr th:only-of-type {\n",
       "        vertical-align: middle;\n",
       "    }\n",
       "\n",
       "    .dataframe tbody tr th {\n",
       "        vertical-align: top;\n",
       "    }\n",
       "\n",
       "    .dataframe thead th {\n",
       "        text-align: right;\n",
       "    }\n",
       "</style>\n",
       "<table border=\"1\" class=\"dataframe\">\n",
       "  <thead>\n",
       "    <tr style=\"text-align: right;\">\n",
       "      <th></th>\n",
       "      <th>branch</th>\n",
       "      <th>customer_type</th>\n",
       "      <th>gender</th>\n",
       "      <th>product_line</th>\n",
       "      <th>unit_price</th>\n",
       "      <th>quantity</th>\n",
       "      <th>tax</th>\n",
       "      <th>date</th>\n",
       "      <th>time</th>\n",
       "      <th>payment</th>\n",
       "      <th>cogs</th>\n",
       "      <th>gross_income</th>\n",
       "      <th>rating</th>\n",
       "      <th>total</th>\n",
       "      <th>hour</th>\n",
       "      <th>min</th>\n",
       "      <th>day</th>\n",
       "      <th>month</th>\n",
       "      <th>year</th>\n",
       "    </tr>\n",
       "  </thead>\n",
       "  <tbody>\n",
       "    <tr>\n",
       "      <th>17</th>\n",
       "      <td>A</td>\n",
       "      <td>Normal</td>\n",
       "      <td>Male</td>\n",
       "      <td>Sports and travel</td>\n",
       "      <td>72.61</td>\n",
       "      <td>6</td>\n",
       "      <td>21.783</td>\n",
       "      <td>2019-01-01</td>\n",
       "      <td>10:39</td>\n",
       "      <td>Credit card</td>\n",
       "      <td>435.66</td>\n",
       "      <td>21.783</td>\n",
       "      <td>6.9</td>\n",
       "      <td>457.443</td>\n",
       "      <td>10</td>\n",
       "      <td>39</td>\n",
       "      <td>1</td>\n",
       "      <td>1</td>\n",
       "      <td>2019</td>\n",
       "    </tr>\n",
       "    <tr>\n",
       "      <th>970</th>\n",
       "      <td>B</td>\n",
       "      <td>Member</td>\n",
       "      <td>Female</td>\n",
       "      <td>Food and beverages</td>\n",
       "      <td>84.63</td>\n",
       "      <td>10</td>\n",
       "      <td>42.315</td>\n",
       "      <td>2019-01-01</td>\n",
       "      <td>11:36</td>\n",
       "      <td>Credit card</td>\n",
       "      <td>846.30</td>\n",
       "      <td>42.315</td>\n",
       "      <td>9.0</td>\n",
       "      <td>888.615</td>\n",
       "      <td>11</td>\n",
       "      <td>36</td>\n",
       "      <td>1</td>\n",
       "      <td>1</td>\n",
       "      <td>2019</td>\n",
       "    </tr>\n",
       "    <tr>\n",
       "      <th>839</th>\n",
       "      <td>C</td>\n",
       "      <td>Member</td>\n",
       "      <td>Female</td>\n",
       "      <td>Sports and travel</td>\n",
       "      <td>29.22</td>\n",
       "      <td>6</td>\n",
       "      <td>8.766</td>\n",
       "      <td>2019-01-01</td>\n",
       "      <td>11:40</td>\n",
       "      <td>Ewallet</td>\n",
       "      <td>175.32</td>\n",
       "      <td>8.766</td>\n",
       "      <td>5.0</td>\n",
       "      <td>184.086</td>\n",
       "      <td>11</td>\n",
       "      <td>40</td>\n",
       "      <td>1</td>\n",
       "      <td>1</td>\n",
       "      <td>2019</td>\n",
       "    </tr>\n",
       "    <tr>\n",
       "      <th>523</th>\n",
       "      <td>C</td>\n",
       "      <td>Normal</td>\n",
       "      <td>Male</td>\n",
       "      <td>Health and beauty</td>\n",
       "      <td>62.87</td>\n",
       "      <td>2</td>\n",
       "      <td>6.287</td>\n",
       "      <td>2019-01-01</td>\n",
       "      <td>11:43</td>\n",
       "      <td>Cash</td>\n",
       "      <td>125.74</td>\n",
       "      <td>6.287</td>\n",
       "      <td>5.0</td>\n",
       "      <td>132.027</td>\n",
       "      <td>11</td>\n",
       "      <td>43</td>\n",
       "      <td>1</td>\n",
       "      <td>1</td>\n",
       "      <td>2019</td>\n",
       "    </tr>\n",
       "    <tr>\n",
       "      <th>567</th>\n",
       "      <td>A</td>\n",
       "      <td>Normal</td>\n",
       "      <td>Female</td>\n",
       "      <td>Fashion accessories</td>\n",
       "      <td>65.74</td>\n",
       "      <td>9</td>\n",
       "      <td>29.583</td>\n",
       "      <td>2019-01-01</td>\n",
       "      <td>13:55</td>\n",
       "      <td>Cash</td>\n",
       "      <td>591.66</td>\n",
       "      <td>29.583</td>\n",
       "      <td>7.7</td>\n",
       "      <td>621.243</td>\n",
       "      <td>13</td>\n",
       "      <td>55</td>\n",
       "      <td>1</td>\n",
       "      <td>1</td>\n",
       "      <td>2019</td>\n",
       "    </tr>\n",
       "  </tbody>\n",
       "</table>\n",
       "</div>"
      ],
      "text/plain": [
       "    branch customer_type  gender         product_line  unit_price  quantity  \\\n",
       "17       A        Normal    Male    Sports and travel       72.61         6   \n",
       "970      B        Member  Female   Food and beverages       84.63        10   \n",
       "839      C        Member  Female    Sports and travel       29.22         6   \n",
       "523      C        Normal    Male    Health and beauty       62.87         2   \n",
       "567      A        Normal  Female  Fashion accessories       65.74         9   \n",
       "\n",
       "        tax       date   time      payment    cogs  gross_income  rating  \\\n",
       "17   21.783 2019-01-01  10:39  Credit card  435.66        21.783     6.9   \n",
       "970  42.315 2019-01-01  11:36  Credit card  846.30        42.315     9.0   \n",
       "839   8.766 2019-01-01  11:40      Ewallet  175.32         8.766     5.0   \n",
       "523   6.287 2019-01-01  11:43         Cash  125.74         6.287     5.0   \n",
       "567  29.583 2019-01-01  13:55         Cash  591.66        29.583     7.7   \n",
       "\n",
       "       total  hour  min  day  month  year  \n",
       "17   457.443    10   39    1      1  2019  \n",
       "970  888.615    11   36    1      1  2019  \n",
       "839  184.086    11   40    1      1  2019  \n",
       "523  132.027    11   43    1      1  2019  \n",
       "567  621.243    13   55    1      1  2019  "
      ]
     },
     "execution_count": 38,
     "metadata": {},
     "output_type": "execute_result"
    }
   ],
   "source": [
    "cleandf.head()"
   ]
  },
  {
   "cell_type": "markdown",
   "id": "36cf742f",
   "metadata": {},
   "source": [
    "# 4. Exploratory Data Analysis"
   ]
  },
  {
   "cell_type": "markdown",
   "id": "76fef7a4",
   "metadata": {},
   "source": [
    "## (a) Univariate Analysis"
   ]
  },
  {
   "cell_type": "code",
   "execution_count": 158,
   "id": "e2fa0ae7",
   "metadata": {
    "scrolled": false
   },
   "outputs": [
    {
     "data": {
      "text/plain": [
       "<Figure size 1000x300 with 0 Axes>"
      ]
     },
     "metadata": {},
     "output_type": "display_data"
    },
    {
     "data": {
      "image/png": "[encoded data removed]",
      "text/plain": [
       "<Figure size 360x360 with 1 Axes>"
      ]
     },
     "metadata": {
      "needs_background": "light"
     },
     "output_type": "display_data"
    },
    {
     "data": {
      "text/plain": [
       "<Figure size 1000x300 with 0 Axes>"
      ]
     },
     "metadata": {},
     "output_type": "display_data"
    },
    {
     "data": {
      "image/png": "[encoded data removed]",
      "text/plain": [
       "<Figure size 360x360 with 1 Axes>"
      ]
     },
     "metadata": {
      "needs_background": "light"
     },
     "output_type": "display_data"
    },
    {
     "data": {
      "text/plain": [
       "<Figure size 1000x300 with 0 Axes>"
      ]
     },
     "metadata": {},
     "output_type": "display_data"
    },
    {
     "data": {
      "image/png": "[encoded data removed]",
      "text/plain": [
       "<Figure size 360x360 with 1 Axes>"
      ]
     },
     "metadata": {
      "needs_background": "light"
     },
     "output_type": "display_data"
    },
    {
     "data": {
      "text/plain": [
       "<Figure size 1000x300 with 0 Axes>"
      ]
     },
     "metadata": {},
     "output_type": "display_data"
    },
    {
     "data": {
      "image/png": "[encoded data removed]",
      "text/plain": [
       "<Figure size 360x360 with 1 Axes>"
      ]
     },
     "metadata": {
      "needs_background": "light"
     },
     "output_type": "display_data"
    },
    {
     "data": {
      "text/plain": [
       "<Figure size 1000x300 with 0 Axes>"
      ]
     },
     "metadata": {},
     "output_type": "display_data"
    },
    {
     "data": {
      "image/png": "[encoded data removed]",
      "text/plain": [
       "<Figure size 360x360 with 1 Axes>"
      ]
     },
     "metadata": {
      "needs_background": "light"
     },
     "output_type": "display_data"
    }
   ],
   "source": [
    "#Plotting histrograms for categorical values\n",
    "# columns_dict = ['unit_price','tax','cogs','gross_income','total']\n",
    "\n",
    "def histogram (v):\n",
    "    columns_dict = ['unit_price','tax','cogs','gross_income','total']\n",
    "    for i in columns_dict:\n",
    "      plt.figure(figsize = (10,3), dpi=100)\n",
    "      sns.displot(v[i], kde = True, color = 'brown')\n",
    "      plt.title(f\"Histogram showing {i} distribution\", color = 'Black')\n",
    "      plt.show()\n",
    "\n",
    "histogram (cleandf);"
   ]
  },
  {
   "cell_type": "code",
   "execution_count": 40,
   "id": "f3101bda",
   "metadata": {
    "scrolled": true
   },
   "outputs": [
    {
     "data": {
      "text/html": [
       "<div>\n",
       "<style scoped>\n",
       "    .dataframe tbody tr th:only-of-type {\n",
       "        vertical-align: middle;\n",
       "    }\n",
       "\n",
       "    .dataframe tbody tr th {\n",
       "        vertical-align: top;\n",
       "    }\n",
       "\n",
       "    .dataframe thead th {\n",
       "        text-align: right;\n",
       "    }\n",
       "</style>\n",
       "<table border=\"1\" class=\"dataframe\">\n",
       "  <thead>\n",
       "    <tr style=\"text-align: right;\">\n",
       "      <th></th>\n",
       "      <th>branch</th>\n",
       "      <th>customer_type</th>\n",
       "      <th>gender</th>\n",
       "      <th>product_line</th>\n",
       "      <th>unit_price</th>\n",
       "      <th>quantity</th>\n",
       "      <th>tax</th>\n",
       "      <th>date</th>\n",
       "      <th>time</th>\n",
       "      <th>payment</th>\n",
       "      <th>cogs</th>\n",
       "      <th>gross_income</th>\n",
       "      <th>rating</th>\n",
       "      <th>total</th>\n",
       "      <th>hour</th>\n",
       "      <th>min</th>\n",
       "      <th>day</th>\n",
       "      <th>month</th>\n",
       "      <th>year</th>\n",
       "    </tr>\n",
       "  </thead>\n",
       "  <tbody>\n",
       "    <tr>\n",
       "      <th>822</th>\n",
       "      <td>C</td>\n",
       "      <td>Member</td>\n",
       "      <td>Male</td>\n",
       "      <td>Sports and travel</td>\n",
       "      <td>10.17</td>\n",
       "      <td>1</td>\n",
       "      <td>0.5085</td>\n",
       "      <td>2019-02-07</td>\n",
       "      <td>14:15</td>\n",
       "      <td>Cash</td>\n",
       "      <td>10.17</td>\n",
       "      <td>0.5085</td>\n",
       "      <td>5.9</td>\n",
       "      <td>10.6785</td>\n",
       "      <td>14</td>\n",
       "      <td>15</td>\n",
       "      <td>2</td>\n",
       "      <td>7</td>\n",
       "      <td>2019</td>\n",
       "    </tr>\n",
       "    <tr>\n",
       "      <th>719</th>\n",
       "      <td>B</td>\n",
       "      <td>Member</td>\n",
       "      <td>Female</td>\n",
       "      <td>Fashion accessories</td>\n",
       "      <td>17.48</td>\n",
       "      <td>6</td>\n",
       "      <td>5.2440</td>\n",
       "      <td>2019-01-18</td>\n",
       "      <td>15:04</td>\n",
       "      <td>Credit card</td>\n",
       "      <td>104.88</td>\n",
       "      <td>5.2440</td>\n",
       "      <td>6.1</td>\n",
       "      <td>110.1240</td>\n",
       "      <td>15</td>\n",
       "      <td>4</td>\n",
       "      <td>1</td>\n",
       "      <td>18</td>\n",
       "      <td>2019</td>\n",
       "    </tr>\n",
       "    <tr>\n",
       "      <th>161</th>\n",
       "      <td>A</td>\n",
       "      <td>Normal</td>\n",
       "      <td>Male</td>\n",
       "      <td>Sports and travel</td>\n",
       "      <td>63.69</td>\n",
       "      <td>1</td>\n",
       "      <td>3.1845</td>\n",
       "      <td>2019-02-25</td>\n",
       "      <td>16:21</td>\n",
       "      <td>Cash</td>\n",
       "      <td>63.69</td>\n",
       "      <td>3.1845</td>\n",
       "      <td>6.0</td>\n",
       "      <td>66.8745</td>\n",
       "      <td>16</td>\n",
       "      <td>21</td>\n",
       "      <td>2</td>\n",
       "      <td>25</td>\n",
       "      <td>2019</td>\n",
       "    </tr>\n",
       "  </tbody>\n",
       "</table>\n",
       "</div>"
      ],
      "text/plain": [
       "    branch customer_type  gender         product_line  unit_price  quantity  \\\n",
       "822      C        Member    Male    Sports and travel       10.17         1   \n",
       "719      B        Member  Female  Fashion accessories       17.48         6   \n",
       "161      A        Normal    Male    Sports and travel       63.69         1   \n",
       "\n",
       "        tax       date   time      payment    cogs  gross_income  rating  \\\n",
       "822  0.5085 2019-02-07  14:15         Cash   10.17        0.5085     5.9   \n",
       "719  5.2440 2019-01-18  15:04  Credit card  104.88        5.2440     6.1   \n",
       "161  3.1845 2019-02-25  16:21         Cash   63.69        3.1845     6.0   \n",
       "\n",
       "        total  hour  min  day  month  year  \n",
       "822   10.6785    14   15    2      7  2019  \n",
       "719  110.1240    15    4    1     18  2019  \n",
       "161   66.8745    16   21    2     25  2019  "
      ]
     },
     "execution_count": 40,
     "metadata": {},
     "output_type": "execute_result"
    }
   ],
   "source": [
    "cleandf.sample(3)"
   ]
  },
  {
   "cell_type": "code",
   "execution_count": 41,
   "id": "a53a531d",
   "metadata": {},
   "outputs": [
    {
     "data": {
      "text/plain": [
       "14:42    7\n",
       "19:48    7\n",
       "17:38    6\n",
       "17:16    5\n",
       "19:39    5\n",
       "        ..\n",
       "14:27    1\n",
       "18:48    1\n",
       "10:58    1\n",
       "13:03    1\n",
       "14:58    1\n",
       "Name: time, Length: 506, dtype: int64"
      ]
     },
     "execution_count": 41,
     "metadata": {},
     "output_type": "execute_result"
    }
   ],
   "source": [
    "cleandf['time'].value_counts()"
   ]
  },
  {
   "cell_type": "code",
   "execution_count": 42,
   "id": "aa9eb43f",
   "metadata": {
    "scrolled": true
   },
   "outputs": [
    {
     "data": {
      "text/html": [
       "<div>\n",
       "<style scoped>\n",
       "    .dataframe tbody tr th:only-of-type {\n",
       "        vertical-align: middle;\n",
       "    }\n",
       "\n",
       "    .dataframe tbody tr th {\n",
       "        vertical-align: top;\n",
       "    }\n",
       "\n",
       "    .dataframe thead th {\n",
       "        text-align: right;\n",
       "    }\n",
       "</style>\n",
       "<table border=\"1\" class=\"dataframe\">\n",
       "  <thead>\n",
       "    <tr style=\"text-align: right;\">\n",
       "      <th></th>\n",
       "      <th>total</th>\n",
       "    </tr>\n",
       "    <tr>\n",
       "      <th>product_line</th>\n",
       "      <th></th>\n",
       "    </tr>\n",
       "  </thead>\n",
       "  <tbody>\n",
       "    <tr>\n",
       "      <th>Electronic accessories</th>\n",
       "      <td>54337.5315</td>\n",
       "    </tr>\n",
       "    <tr>\n",
       "      <th>Fashion accessories</th>\n",
       "      <td>54305.8950</td>\n",
       "    </tr>\n",
       "    <tr>\n",
       "      <th>Food and beverages</th>\n",
       "      <td>56144.8440</td>\n",
       "    </tr>\n",
       "    <tr>\n",
       "      <th>Health and beauty</th>\n",
       "      <td>49193.7390</td>\n",
       "    </tr>\n",
       "    <tr>\n",
       "      <th>Home and lifestyle</th>\n",
       "      <td>53861.9130</td>\n",
       "    </tr>\n",
       "    <tr>\n",
       "      <th>Sports and travel</th>\n",
       "      <td>55122.8265</td>\n",
       "    </tr>\n",
       "  </tbody>\n",
       "</table>\n",
       "</div>"
      ],
      "text/plain": [
       "                             total\n",
       "product_line                      \n",
       "Electronic accessories  54337.5315\n",
       "Fashion accessories     54305.8950\n",
       "Food and beverages      56144.8440\n",
       "Health and beauty       49193.7390\n",
       "Home and lifestyle      53861.9130\n",
       "Sports and travel       55122.8265"
      ]
     },
     "execution_count": 42,
     "metadata": {},
     "output_type": "execute_result"
    }
   ],
   "source": [
    "# \n",
    "cleandf[['product_line','total']].groupby('product_line').sum('total')"
   ]
  },
  {
   "cell_type": "code",
   "execution_count": 48,
   "id": "8453e1c6",
   "metadata": {},
   "outputs": [
    {
     "data": {
      "text/html": [
       "<div>\n",
       "<style scoped>\n",
       "    .dataframe tbody tr th:only-of-type {\n",
       "        vertical-align: middle;\n",
       "    }\n",
       "\n",
       "    .dataframe tbody tr th {\n",
       "        vertical-align: top;\n",
       "    }\n",
       "\n",
       "    .dataframe thead th {\n",
       "        text-align: right;\n",
       "    }\n",
       "</style>\n",
       "<table border=\"1\" class=\"dataframe\">\n",
       "  <thead>\n",
       "    <tr style=\"text-align: right;\">\n",
       "      <th></th>\n",
       "      <th>tax</th>\n",
       "    </tr>\n",
       "    <tr>\n",
       "      <th>product_line</th>\n",
       "      <th></th>\n",
       "    </tr>\n",
       "  </thead>\n",
       "  <tbody>\n",
       "    <tr>\n",
       "      <th>Electronic accessories</th>\n",
       "      <td>2587.5015</td>\n",
       "    </tr>\n",
       "    <tr>\n",
       "      <th>Fashion accessories</th>\n",
       "      <td>2585.9950</td>\n",
       "    </tr>\n",
       "    <tr>\n",
       "      <th>Food and beverages</th>\n",
       "      <td>2673.5640</td>\n",
       "    </tr>\n",
       "    <tr>\n",
       "      <th>Health and beauty</th>\n",
       "      <td>2342.5590</td>\n",
       "    </tr>\n",
       "    <tr>\n",
       "      <th>Home and lifestyle</th>\n",
       "      <td>2564.8530</td>\n",
       "    </tr>\n",
       "    <tr>\n",
       "      <th>Sports and travel</th>\n",
       "      <td>2624.8965</td>\n",
       "    </tr>\n",
       "  </tbody>\n",
       "</table>\n",
       "</div>"
      ],
      "text/plain": [
       "                              tax\n",
       "product_line                     \n",
       "Electronic accessories  2587.5015\n",
       "Fashion accessories     2585.9950\n",
       "Food and beverages      2673.5640\n",
       "Health and beauty       2342.5590\n",
       "Home and lifestyle      2564.8530\n",
       "Sports and travel       2624.8965"
      ]
     },
     "execution_count": 48,
     "metadata": {},
     "output_type": "execute_result"
    }
   ],
   "source": [
    "# \n",
    "cleandf[['product_line','tax']].groupby('product_line').sum('tax')\n"
   ]
  },
  {
   "cell_type": "code",
   "execution_count": 49,
   "id": "dca59bf2",
   "metadata": {},
   "outputs": [
    {
     "data": {
      "image/png": "[encoded data removed]",
      "text/plain": [
       "<Figure size 720x432 with 1 Axes>"
      ]
     },
     "metadata": {
      "needs_background": "light"
     },
     "output_type": "display_data"
    }
   ],
   "source": [
    "# Lets plot the distribution of patients by age groups\n",
    "base_color = sns.color_palette()[0]\n",
    "plt.figure(figsize=(10,6))\n",
    "sns.countplot(x=cleandf['product_line'],color = base_color)\n",
    "plt.xticks(rotation=60);\n",
    "plt.title('Distribution of different products in the data set');\n",
    "\n",
    "# code to arrange them in descending order"
   ]
  },
  {
   "cell_type": "code",
   "execution_count": 50,
   "id": "aeb42bbd",
   "metadata": {},
   "outputs": [
    {
     "data": {
      "image/png": "[encoded data removed]",
      "text/plain": [
       "<Figure size 432x288 with 1 Axes>"
      ]
     },
     "metadata": {},
     "output_type": "display_data"
    }
   ],
   "source": [
    "branch_count = cleandf['branch'].value_counts()\n",
    "\n",
    "plt.pie(branch_count,labels=[\"A\", \"B\",\"C\"], autopct='%1.1f%%', textprops={'fontsize': 18},\n",
    "        explode = (0.2, 0,0))\n",
    "\n",
    "plt.rcParams['font.size'] = 12\n",
    "plt.title(\"Percentage of branches\",fontsize=15)\n",
    "# plt.legend(loc ='right')\n",
    "plt.show()"
   ]
  },
  {
   "cell_type": "markdown",
   "id": "2af252ef",
   "metadata": {},
   "source": [
    "Branch A had slightly higher sales than other branches"
   ]
  },
  {
   "cell_type": "code",
   "execution_count": 51,
   "id": "db4c6aa9",
   "metadata": {
    "scrolled": true
   },
   "outputs": [
    {
     "data": {
      "image/png": "[encoded data removed]",
      "text/plain": [
       "<Figure size 432x288 with 1 Axes>"
      ]
     },
     "metadata": {},
     "output_type": "display_data"
    }
   ],
   "source": [
    "gender_count =cleandf.gender.value_counts()\n",
    "\n",
    "plt.pie(gender_count,labels = ['F','M'],autopct = '%1.1f%%',textprops ={'fontsize' : 20},\n",
    "       explode = (0.2,0),startangle = 75)\n",
    "plt.rcParams['font.size'] = 14\n",
    "plt.title('Pie plot to show gender distribution',fontsize = 20)\n",
    "plt.show()"
   ]
  },
  {
   "cell_type": "code",
   "execution_count": 52,
   "id": "62a1bdc6",
   "metadata": {
    "scrolled": true
   },
   "outputs": [
    {
     "data": {
      "text/plain": [
       "Female    501\n",
       "Male      499\n",
       "Name: gender, dtype: int64"
      ]
     },
     "execution_count": 52,
     "metadata": {},
     "output_type": "execute_result"
    }
   ],
   "source": [
    "gender_count"
   ]
  },
  {
   "cell_type": "markdown",
   "id": "d8e2db9d",
   "metadata": {},
   "source": [
    "The gender distribution is almost equal."
   ]
  },
  {
   "cell_type": "code",
   "execution_count": 54,
   "id": "5d003dd5",
   "metadata": {
    "scrolled": true
   },
   "outputs": [
    {
     "data": {
      "text/plain": [
       "Fashion accessories       178\n",
       "Food and beverages        174\n",
       "Electronic accessories    170\n",
       "Sports and travel         166\n",
       "Home and lifestyle        160\n",
       "Health and beauty         152\n",
       "Name: product_line, dtype: int64"
      ]
     },
     "execution_count": 54,
     "metadata": {},
     "output_type": "execute_result"
    }
   ],
   "source": [
    "product_count = cleandf.product_line.value_counts()\n",
    "product_count"
   ]
  },
  {
   "cell_type": "code",
   "execution_count": 70,
   "id": "15f60568",
   "metadata": {},
   "outputs": [
    {
     "ename": "KeyError",
     "evalue": "'product_line'",
     "output_type": "error",
     "traceback": [
      "\u001b[1;31m---------------------------------------------------------------------------\u001b[0m",
      "\u001b[1;31mKeyError\u001b[0m                                  Traceback (most recent call last)",
      "File \u001b[1;32m~\\anaconda4\\lib\\site-packages\\pandas\\core\\indexes\\base.py:3621\u001b[0m, in \u001b[0;36mIndex.get_loc\u001b[1;34m(self, key, method, tolerance)\u001b[0m\n\u001b[0;32m   3620\u001b[0m \u001b[38;5;28;01mtry\u001b[39;00m:\n\u001b[1;32m-> 3621\u001b[0m     \u001b[38;5;28;01mreturn\u001b[39;00m \u001b[38;5;28;43mself\u001b[39;49m\u001b[38;5;241;43m.\u001b[39;49m\u001b[43m_engine\u001b[49m\u001b[38;5;241;43m.\u001b[39;49m\u001b[43mget_loc\u001b[49m\u001b[43m(\u001b[49m\u001b[43mcasted_key\u001b[49m\u001b[43m)\u001b[49m\n\u001b[0;32m   3622\u001b[0m \u001b[38;5;28;01mexcept\u001b[39;00m \u001b[38;5;167;01mKeyError\u001b[39;00m \u001b[38;5;28;01mas\u001b[39;00m err:\n",
      "File \u001b[1;32m~\\anaconda4\\lib\\site-packages\\pandas\\_libs\\index.pyx:136\u001b[0m, in \u001b[0;36mpandas._libs.index.IndexEngine.get_loc\u001b[1;34m()\u001b[0m\n",
      "File \u001b[1;32m~\\anaconda4\\lib\\site-packages\\pandas\\_libs\\index.pyx:163\u001b[0m, in \u001b[0;36mpandas._libs.index.IndexEngine.get_loc\u001b[1;34m()\u001b[0m\n",
      "File \u001b[1;32mpandas\\_libs\\hashtable_class_helper.pxi:5198\u001b[0m, in \u001b[0;36mpandas._libs.hashtable.PyObjectHashTable.get_item\u001b[1;34m()\u001b[0m\n",
      "File \u001b[1;32mpandas\\_libs\\hashtable_class_helper.pxi:5206\u001b[0m, in \u001b[0;36mpandas._libs.hashtable.PyObjectHashTable.get_item\u001b[1;34m()\u001b[0m\n",
      "\u001b[1;31mKeyError\u001b[0m: 'product_line'",
      "\nThe above exception was the direct cause of the following exception:\n",
      "\u001b[1;31mKeyError\u001b[0m                                  Traceback (most recent call last)",
      "Input \u001b[1;32mIn [70]\u001b[0m, in \u001b[0;36m<cell line: 4>\u001b[1;34m()\u001b[0m\n\u001b[0;32m      1\u001b[0m color \u001b[38;5;241m=\u001b[39m sns\u001b[38;5;241m.\u001b[39mcolor_palette()[\u001b[38;5;241m0\u001b[39m]\n\u001b[0;32m      3\u001b[0m plt\u001b[38;5;241m.\u001b[39mfigure(figsize \u001b[38;5;241m=\u001b[39m (\u001b[38;5;241m10\u001b[39m,\u001b[38;5;241m10\u001b[39m))\n\u001b[1;32m----> 4\u001b[0m sns\u001b[38;5;241m.\u001b[39mcountplot(x \u001b[38;5;241m=\u001b[39m \u001b[43mproduct_count\u001b[49m\u001b[43m[\u001b[49m\u001b[38;5;124;43m'\u001b[39;49m\u001b[38;5;124;43mproduct_line\u001b[39;49m\u001b[38;5;124;43m'\u001b[39;49m\u001b[43m]\u001b[49m,color \u001b[38;5;241m=\u001b[39m color)\n\u001b[0;32m      5\u001b[0m plt\u001b[38;5;241m.\u001b[39mxlabel(\u001b[38;5;124m'\u001b[39m\u001b[38;5;124mProducts\u001b[39m\u001b[38;5;124m'\u001b[39m)\n\u001b[0;32m      6\u001b[0m plt\u001b[38;5;241m.\u001b[39mtitle(\u001b[38;5;124m'\u001b[39m\u001b[38;5;124mHistogram showing distibution of products\u001b[39m\u001b[38;5;124m'\u001b[39m)\n",
      "File \u001b[1;32m~\\anaconda4\\lib\\site-packages\\pandas\\core\\series.py:958\u001b[0m, in \u001b[0;36mSeries.__getitem__\u001b[1;34m(self, key)\u001b[0m\n\u001b[0;32m    955\u001b[0m     \u001b[38;5;28;01mreturn\u001b[39;00m \u001b[38;5;28mself\u001b[39m\u001b[38;5;241m.\u001b[39m_values[key]\n\u001b[0;32m    957\u001b[0m \u001b[38;5;28;01melif\u001b[39;00m key_is_scalar:\n\u001b[1;32m--> 958\u001b[0m     \u001b[38;5;28;01mreturn\u001b[39;00m \u001b[38;5;28;43mself\u001b[39;49m\u001b[38;5;241;43m.\u001b[39;49m\u001b[43m_get_value\u001b[49m\u001b[43m(\u001b[49m\u001b[43mkey\u001b[49m\u001b[43m)\u001b[49m\n\u001b[0;32m    960\u001b[0m \u001b[38;5;28;01mif\u001b[39;00m is_hashable(key):\n\u001b[0;32m    961\u001b[0m     \u001b[38;5;66;03m# Otherwise index.get_value will raise InvalidIndexError\u001b[39;00m\n\u001b[0;32m    962\u001b[0m     \u001b[38;5;28;01mtry\u001b[39;00m:\n\u001b[0;32m    963\u001b[0m         \u001b[38;5;66;03m# For labels that don't resolve as scalars like tuples and frozensets\u001b[39;00m\n",
      "File \u001b[1;32m~\\anaconda4\\lib\\site-packages\\pandas\\core\\series.py:1069\u001b[0m, in \u001b[0;36mSeries._get_value\u001b[1;34m(self, label, takeable)\u001b[0m\n\u001b[0;32m   1066\u001b[0m     \u001b[38;5;28;01mreturn\u001b[39;00m \u001b[38;5;28mself\u001b[39m\u001b[38;5;241m.\u001b[39m_values[label]\n\u001b[0;32m   1068\u001b[0m \u001b[38;5;66;03m# Similar to Index.get_value, but we do not fall back to positional\u001b[39;00m\n\u001b[1;32m-> 1069\u001b[0m loc \u001b[38;5;241m=\u001b[39m \u001b[38;5;28;43mself\u001b[39;49m\u001b[38;5;241;43m.\u001b[39;49m\u001b[43mindex\u001b[49m\u001b[38;5;241;43m.\u001b[39;49m\u001b[43mget_loc\u001b[49m\u001b[43m(\u001b[49m\u001b[43mlabel\u001b[49m\u001b[43m)\u001b[49m\n\u001b[0;32m   1070\u001b[0m \u001b[38;5;28;01mreturn\u001b[39;00m \u001b[38;5;28mself\u001b[39m\u001b[38;5;241m.\u001b[39mindex\u001b[38;5;241m.\u001b[39m_get_values_for_loc(\u001b[38;5;28mself\u001b[39m, loc, label)\n",
      "File \u001b[1;32m~\\anaconda4\\lib\\site-packages\\pandas\\core\\indexes\\base.py:3623\u001b[0m, in \u001b[0;36mIndex.get_loc\u001b[1;34m(self, key, method, tolerance)\u001b[0m\n\u001b[0;32m   3621\u001b[0m     \u001b[38;5;28;01mreturn\u001b[39;00m \u001b[38;5;28mself\u001b[39m\u001b[38;5;241m.\u001b[39m_engine\u001b[38;5;241m.\u001b[39mget_loc(casted_key)\n\u001b[0;32m   3622\u001b[0m \u001b[38;5;28;01mexcept\u001b[39;00m \u001b[38;5;167;01mKeyError\u001b[39;00m \u001b[38;5;28;01mas\u001b[39;00m err:\n\u001b[1;32m-> 3623\u001b[0m     \u001b[38;5;28;01mraise\u001b[39;00m \u001b[38;5;167;01mKeyError\u001b[39;00m(key) \u001b[38;5;28;01mfrom\u001b[39;00m \u001b[38;5;21;01merr\u001b[39;00m\n\u001b[0;32m   3624\u001b[0m \u001b[38;5;28;01mexcept\u001b[39;00m \u001b[38;5;167;01mTypeError\u001b[39;00m:\n\u001b[0;32m   3625\u001b[0m     \u001b[38;5;66;03m# If we have a listlike key, _check_indexing_error will raise\u001b[39;00m\n\u001b[0;32m   3626\u001b[0m     \u001b[38;5;66;03m#  InvalidIndexError. Otherwise we fall through and re-raise\u001b[39;00m\n\u001b[0;32m   3627\u001b[0m     \u001b[38;5;66;03m#  the TypeError.\u001b[39;00m\n\u001b[0;32m   3628\u001b[0m     \u001b[38;5;28mself\u001b[39m\u001b[38;5;241m.\u001b[39m_check_indexing_error(key)\n",
      "\u001b[1;31mKeyError\u001b[0m: 'product_line'"
     ]
    },
    {
     "data": {
      "text/plain": [
       "<Figure size 720x720 with 0 Axes>"
      ]
     },
     "metadata": {},
     "output_type": "display_data"
    }
   ],
   "source": [
    "color = sns.color_palette()[0]\n",
    "\n",
    "plt.figure(figsize = (10,10))\n",
    "sns.countplot(x = product_count['product_line'],color = color)\n",
    "plt.xlabel('Products')\n",
    "plt.title('Histogram showing distibution of products')\n",
    "plt.show();"
   ]
  },
  {
   "cell_type": "code",
   "execution_count": 80,
   "id": "abeeb21f",
   "metadata": {
    "scrolled": true
   },
   "outputs": [
    {
     "data": {
      "image/png": "[encoded data removed]",
      "text/plain": [
       "<Figure size 432x288 with 1 Axes>"
      ]
     },
     "metadata": {},
     "output_type": "display_data"
    }
   ],
   "source": [
    "plt.pie(product_count,labels = ['Fashion','Food & Beverages','Electronics','Sports','Lifetyle','Health & Beauty'],\n",
    "       explode = (0.28,0.25,0.23,0.21,0.2,0.18),startangle=85,autopct ='%1.1f%%')\n",
    "plt.rcParams['font.size'] = 14\n",
    "plt.title('Pie plot showing distibution of products',fontsize = 15);"
   ]
  },
  {
   "cell_type": "code",
   "execution_count": 71,
   "id": "8b5465fe",
   "metadata": {},
   "outputs": [
    {
     "data": {
      "text/plain": [
       "Ewallet        345\n",
       "Cash           344\n",
       "Credit card    311\n",
       "Name: payment, dtype: int64"
      ]
     },
     "execution_count": 71,
     "metadata": {},
     "output_type": "execute_result"
    }
   ],
   "source": [
    "payment_count =cleandf.payment.value_counts()\n",
    "payment_count"
   ]
  },
  {
   "cell_type": "code",
   "execution_count": 72,
   "id": "0ff99599",
   "metadata": {
    "scrolled": true
   },
   "outputs": [
    {
     "data": {
      "image/png": "[encoded data removed]",
      "text/plain": [
       "<Figure size 432x288 with 1 Axes>"
      ]
     },
     "metadata": {},
     "output_type": "display_data"
    }
   ],
   "source": [
    "payment_count =cleandf.payment.value_counts()\n",
    "\n",
    "plt.pie(payment_count,labels = ['Ewallet','Cash','Credit Card'],autopct = '%1.1f%%',textprops ={'fontsize' : 20},\n",
    "       explode = (0.2,0,0),startangle = 75)\n",
    "plt.rcParams['font.size'] = 14\n",
    "plt.title('Pie plot to show payment distribution',fontsize = 20,color ='violet')\n",
    "plt.show()"
   ]
  },
  {
   "cell_type": "markdown",
   "id": "170b9cf0",
   "metadata": {},
   "source": [
    "# (b) Bivariate Analysis"
   ]
  },
  {
   "cell_type": "code",
   "execution_count": 73,
   "id": "21c88ca8",
   "metadata": {
    "scrolled": true
   },
   "outputs": [
    {
     "data": {
      "image/png": "[encoded data removed]",
      "text/plain": [
       "<Figure size 1080x720 with 2 Axes>"
      ]
     },
     "metadata": {
      "needs_background": "light"
     },
     "output_type": "display_data"
    }
   ],
   "source": [
    "## Plotting a correlation matrix\n",
    "\n",
    "def Cormatrix (h):\n",
    "      plt.subplots(figsize=(15,10))\n",
    "      mask = np.triu(np.ones_like(h.corr()))\n",
    "      colormap = sns.color_palette(\"Greens\")\n",
    "      dataplot = sns.heatmap(h.corr(), cmap=colormap, annot=True, mask=mask)\n",
    "      dataplot.set_title(\"Correlation matrix of the dataset\")\n",
    "      plt.show()\n",
    "\n",
    "Cormatrix (cleandf)"
   ]
  },
  {
   "cell_type": "code",
   "execution_count": 84,
   "id": "085be27f",
   "metadata": {},
   "outputs": [
    {
     "data": {
      "image/png": "[encoded data removed]",
      "text/plain": [
       "<Figure size 432x288 with 1 Axes>"
      ]
     },
     "metadata": {
      "needs_background": "light"
     },
     "output_type": "display_data"
    }
   ],
   "source": [
    "# Import Library\n",
    "\n",
    "import matplotlib.pyplot as plt\n",
    "\n",
    "# Plot\n",
    "\n",
    "plt.plot(cleandf[\"total\"], marker='o')\n",
    "\n",
    "# Labelling \n",
    "\n",
    "plt.xlabel(\"Date\")\n",
    "plt.ylabel(\"Temp in Faherenheit\")\n",
    "plt.title(\"Pandas Time Series Plot\")\n",
    "\n",
    "# Display\n",
    "\n",
    "plt.show()"
   ]
  },
  {
   "cell_type": "code",
   "execution_count": 74,
   "id": "4a988f7c",
   "metadata": {},
   "outputs": [
    {
     "data": {
      "image/png": "[encoded data removed]",
      "text/plain": [
       "<Figure size 1728x576 with 1 Axes>"
      ]
     },
     "metadata": {
      "needs_background": "light"
     },
     "output_type": "display_data"
    }
   ],
   "source": [
    "fig = plt.figure(figsize=(24, 8))\n",
    "plt.plot(cleandf.date, cleandf.total, label='blogs_read', \n",
    "         linewidth=3);"
   ]
  },
  {
   "cell_type": "markdown",
   "id": "40924445",
   "metadata": {},
   "source": [
    "# (c) Multivariate Analysis"
   ]
  },
  {
   "cell_type": "code",
   "execution_count": 75,
   "id": "182bf1fe",
   "metadata": {
    "scrolled": true
   },
   "outputs": [
    {
     "data": {
      "text/html": [
       "<div>\n",
       "<style scoped>\n",
       "    .dataframe tbody tr th:only-of-type {\n",
       "        vertical-align: middle;\n",
       "    }\n",
       "\n",
       "    .dataframe tbody tr th {\n",
       "        vertical-align: top;\n",
       "    }\n",
       "\n",
       "    .dataframe thead th {\n",
       "        text-align: right;\n",
       "    }\n",
       "</style>\n",
       "<table border=\"1\" class=\"dataframe\">\n",
       "  <thead>\n",
       "    <tr style=\"text-align: right;\">\n",
       "      <th></th>\n",
       "      <th>branch</th>\n",
       "      <th>customer_type</th>\n",
       "      <th>gender</th>\n",
       "      <th>product_line</th>\n",
       "      <th>unit_price</th>\n",
       "      <th>quantity</th>\n",
       "      <th>tax</th>\n",
       "      <th>date</th>\n",
       "      <th>time</th>\n",
       "      <th>payment</th>\n",
       "      <th>cogs</th>\n",
       "      <th>gross_income</th>\n",
       "      <th>rating</th>\n",
       "      <th>total</th>\n",
       "      <th>hour</th>\n",
       "      <th>min</th>\n",
       "      <th>day</th>\n",
       "      <th>month</th>\n",
       "      <th>year</th>\n",
       "    </tr>\n",
       "  </thead>\n",
       "  <tbody>\n",
       "    <tr>\n",
       "      <th>766</th>\n",
       "      <td>C</td>\n",
       "      <td>Normal</td>\n",
       "      <td>Female</td>\n",
       "      <td>Fashion accessories</td>\n",
       "      <td>76.06</td>\n",
       "      <td>3</td>\n",
       "      <td>11.409</td>\n",
       "      <td>2019-01-05</td>\n",
       "      <td>20:30</td>\n",
       "      <td>Credit card</td>\n",
       "      <td>228.18</td>\n",
       "      <td>11.409</td>\n",
       "      <td>9.8</td>\n",
       "      <td>239.589</td>\n",
       "      <td>20</td>\n",
       "      <td>30</td>\n",
       "      <td>1</td>\n",
       "      <td>5</td>\n",
       "      <td>2019</td>\n",
       "    </tr>\n",
       "    <tr>\n",
       "      <th>687</th>\n",
       "      <td>A</td>\n",
       "      <td>Member</td>\n",
       "      <td>Male</td>\n",
       "      <td>Home and lifestyle</td>\n",
       "      <td>63.56</td>\n",
       "      <td>10</td>\n",
       "      <td>31.780</td>\n",
       "      <td>2019-01-16</td>\n",
       "      <td>17:59</td>\n",
       "      <td>Cash</td>\n",
       "      <td>635.60</td>\n",
       "      <td>31.780</td>\n",
       "      <td>4.3</td>\n",
       "      <td>667.380</td>\n",
       "      <td>17</td>\n",
       "      <td>59</td>\n",
       "      <td>1</td>\n",
       "      <td>16</td>\n",
       "      <td>2019</td>\n",
       "    </tr>\n",
       "  </tbody>\n",
       "</table>\n",
       "</div>"
      ],
      "text/plain": [
       "    branch customer_type  gender         product_line  unit_price  quantity  \\\n",
       "766      C        Normal  Female  Fashion accessories       76.06         3   \n",
       "687      A        Member    Male   Home and lifestyle       63.56        10   \n",
       "\n",
       "        tax       date   time      payment    cogs  gross_income  rating  \\\n",
       "766  11.409 2019-01-05  20:30  Credit card  228.18        11.409     9.8   \n",
       "687  31.780 2019-01-16  17:59         Cash  635.60        31.780     4.3   \n",
       "\n",
       "       total  hour  min  day  month  year  \n",
       "766  239.589    20   30    1      5  2019  \n",
       "687  667.380    17   59    1     16  2019  "
      ]
     },
     "execution_count": 75,
     "metadata": {},
     "output_type": "execute_result"
    }
   ],
   "source": [
    "cleandf.sample(2)"
   ]
  },
  {
   "cell_type": "code",
   "execution_count": 76,
   "id": "8e1b0372",
   "metadata": {
    "scrolled": false
   },
   "outputs": [
    {
     "data": {
      "text/plain": [
       "branch                   object\n",
       "customer_type            object\n",
       "gender                   object\n",
       "product_line             object\n",
       "unit_price              float64\n",
       "quantity                  int64\n",
       "tax                     float64\n",
       "date             datetime64[ns]\n",
       "time                     object\n",
       "payment                  object\n",
       "cogs                    float64\n",
       "gross_income            float64\n",
       "rating                  float64\n",
       "total                   float64\n",
       "hour                      int64\n",
       "min                       int64\n",
       "day                       int64\n",
       "month                     int64\n",
       "year                      int64\n",
       "dtype: object"
      ]
     },
     "execution_count": 76,
     "metadata": {},
     "output_type": "execute_result"
    }
   ],
   "source": [
    "cleandf.dtypes"
   ]
  },
  {
   "cell_type": "markdown",
   "id": "2bd87b8c",
   "metadata": {},
   "source": [
    "## Feature Engineering"
   ]
  },
  {
   "cell_type": "code",
   "execution_count": 80,
   "id": "cf470919",
   "metadata": {},
   "outputs": [
    {
     "data": {
      "text/plain": [
       "branch                   object\n",
       "customer_type            object\n",
       "gender                   object\n",
       "product_line             object\n",
       "unit_price              float64\n",
       "quantity                  int64\n",
       "tax                     float64\n",
       "date             datetime64[ns]\n",
       "time                     object\n",
       "payment                  object\n",
       "cogs                    float64\n",
       "gross_income            float64\n",
       "rating                  float64\n",
       "total                   float64\n",
       "hour                      int64\n",
       "min                       int64\n",
       "day                       int64\n",
       "month                     int64\n",
       "year                      int64\n",
       "dtype: object"
      ]
     },
     "execution_count": 80,
     "metadata": {},
     "output_type": "execute_result"
    }
   ],
   "source": [
    "cleandf.dtypes"
   ]
  },
  {
   "cell_type": "markdown",
   "id": "cba18f95",
   "metadata": {},
   "source": [
    "### Label Encoding"
   ]
  },
  {
   "cell_type": "code",
   "execution_count": 87,
   "id": "0b03225e",
   "metadata": {},
   "outputs": [
    {
     "data": {
      "text/plain": [
       "['branch', 'customer_type', 'gender', 'product_line', 'payment']"
      ]
     },
     "execution_count": 87,
     "metadata": {},
     "output_type": "execute_result"
    }
   ],
   "source": [
    "# Lets label encode\n",
    "# Make a copy of the df\n",
    "cleandf_01 = cleandf.copy()\n",
    "\n",
    "\n",
    "from sklearn.preprocessing import LabelEncoder\n",
    "le = LabelEncoder()\n",
    "\n",
    "objects = [col for col in cleandf.columns if cleandf[col].dtype == 'object']\n",
    "objects"
   ]
  },
  {
   "cell_type": "code",
   "execution_count": 88,
   "id": "959b50ac",
   "metadata": {},
   "outputs": [],
   "source": [
    "for col in objects :\n",
    "    cleandf[col] = le.fit_transform(cleandf[col])"
   ]
  },
  {
   "cell_type": "code",
   "execution_count": 89,
   "id": "903ecb55",
   "metadata": {
    "scrolled": false
   },
   "outputs": [
    {
     "data": {
      "text/html": [
       "<div>\n",
       "<style scoped>\n",
       "    .dataframe tbody tr th:only-of-type {\n",
       "        vertical-align: middle;\n",
       "    }\n",
       "\n",
       "    .dataframe tbody tr th {\n",
       "        vertical-align: top;\n",
       "    }\n",
       "\n",
       "    .dataframe thead th {\n",
       "        text-align: right;\n",
       "    }\n",
       "</style>\n",
       "<table border=\"1\" class=\"dataframe\">\n",
       "  <thead>\n",
       "    <tr style=\"text-align: right;\">\n",
       "      <th></th>\n",
       "      <th>branch</th>\n",
       "      <th>customer_type</th>\n",
       "      <th>gender</th>\n",
       "      <th>product_line</th>\n",
       "      <th>unit_price</th>\n",
       "      <th>quantity</th>\n",
       "      <th>tax</th>\n",
       "      <th>date</th>\n",
       "      <th>payment</th>\n",
       "      <th>cogs</th>\n",
       "      <th>gross_income</th>\n",
       "      <th>rating</th>\n",
       "      <th>total</th>\n",
       "      <th>hour</th>\n",
       "      <th>min</th>\n",
       "      <th>day</th>\n",
       "      <th>month</th>\n",
       "      <th>year</th>\n",
       "    </tr>\n",
       "  </thead>\n",
       "  <tbody>\n",
       "    <tr>\n",
       "      <th>939</th>\n",
       "      <td>2</td>\n",
       "      <td>1</td>\n",
       "      <td>0</td>\n",
       "      <td>2</td>\n",
       "      <td>57.29</td>\n",
       "      <td>6</td>\n",
       "      <td>17.1870</td>\n",
       "      <td>2019-03-21</td>\n",
       "      <td>2</td>\n",
       "      <td>343.74</td>\n",
       "      <td>17.1870</td>\n",
       "      <td>5.9</td>\n",
       "      <td>360.9270</td>\n",
       "      <td>17</td>\n",
       "      <td>4</td>\n",
       "      <td>3</td>\n",
       "      <td>21</td>\n",
       "      <td>2019</td>\n",
       "    </tr>\n",
       "    <tr>\n",
       "      <th>659</th>\n",
       "      <td>0</td>\n",
       "      <td>0</td>\n",
       "      <td>1</td>\n",
       "      <td>1</td>\n",
       "      <td>55.45</td>\n",
       "      <td>1</td>\n",
       "      <td>2.7725</td>\n",
       "      <td>2019-02-26</td>\n",
       "      <td>1</td>\n",
       "      <td>55.45</td>\n",
       "      <td>2.7725</td>\n",
       "      <td>4.9</td>\n",
       "      <td>58.2225</td>\n",
       "      <td>17</td>\n",
       "      <td>46</td>\n",
       "      <td>2</td>\n",
       "      <td>26</td>\n",
       "      <td>2019</td>\n",
       "    </tr>\n",
       "    <tr>\n",
       "      <th>379</th>\n",
       "      <td>1</td>\n",
       "      <td>1</td>\n",
       "      <td>0</td>\n",
       "      <td>0</td>\n",
       "      <td>23.65</td>\n",
       "      <td>4</td>\n",
       "      <td>4.7300</td>\n",
       "      <td>2019-01-30</td>\n",
       "      <td>1</td>\n",
       "      <td>94.60</td>\n",
       "      <td>4.7300</td>\n",
       "      <td>4.0</td>\n",
       "      <td>99.3300</td>\n",
       "      <td>13</td>\n",
       "      <td>32</td>\n",
       "      <td>1</td>\n",
       "      <td>30</td>\n",
       "      <td>2019</td>\n",
       "    </tr>\n",
       "  </tbody>\n",
       "</table>\n",
       "</div>"
      ],
      "text/plain": [
       "     branch  customer_type  gender  product_line  unit_price  quantity  \\\n",
       "939       2              1       0             2       57.29         6   \n",
       "659       0              0       1             1       55.45         1   \n",
       "379       1              1       0             0       23.65         4   \n",
       "\n",
       "         tax       date  payment    cogs  gross_income  rating     total  \\\n",
       "939  17.1870 2019-03-21        2  343.74       17.1870     5.9  360.9270   \n",
       "659   2.7725 2019-02-26        1   55.45        2.7725     4.9   58.2225   \n",
       "379   4.7300 2019-01-30        1   94.60        4.7300     4.0   99.3300   \n",
       "\n",
       "     hour  min  day  month  year  \n",
       "939    17    4    3     21  2019  \n",
       "659    17   46    2     26  2019  \n",
       "379    13   32    1     30  2019  "
      ]
     },
     "execution_count": 89,
     "metadata": {},
     "output_type": "execute_result"
    }
   ],
   "source": [
    "cleandf.sample(3)"
   ]
  },
  {
   "cell_type": "markdown",
   "id": "c415bc7a",
   "metadata": {},
   "source": [
    "## Generating cyclical time features\n"
   ]
  },
  {
   "cell_type": "code",
   "execution_count": 95,
   "id": "bfa5cc50",
   "metadata": {},
   "outputs": [],
   "source": [
    "# Lets convert hours to cos and sin\n",
    "# This will help the machine learn easier since our time is in 24 hrs. \n",
    "# This is because theres no way youll convince the machine 0 hrs comes immediately after 23hrs\n",
    "\n",
    "def generate_cyclical_features(df, col_name, period, start_num=0):\n",
    "    kwargs = {\n",
    "        f'sin_{col_name}' : lambda x: np.sin(2*np.pi*(cleandf['hour']-start_num)/period),\n",
    "        f'cos_{col_name}' : lambda x: np.cos(2*np.pi*(cleandf['hour']-start_num)/period)    \n",
    "             }\n",
    "    return df.assign(**kwargs).drop(columns=[col_name])\n",
    "\n",
    "cleandf = generate_cyclical_features(cleandf, 'hour', 24, 0)\n",
    "\n"
   ]
  },
  {
   "cell_type": "code",
   "execution_count": 97,
   "id": "c154fe87",
   "metadata": {},
   "outputs": [
    {
     "data": {
      "text/html": [
       "<div>\n",
       "<style scoped>\n",
       "    .dataframe tbody tr th:only-of-type {\n",
       "        vertical-align: middle;\n",
       "    }\n",
       "\n",
       "    .dataframe tbody tr th {\n",
       "        vertical-align: top;\n",
       "    }\n",
       "\n",
       "    .dataframe thead th {\n",
       "        text-align: right;\n",
       "    }\n",
       "</style>\n",
       "<table border=\"1\" class=\"dataframe\">\n",
       "  <thead>\n",
       "    <tr style=\"text-align: right;\">\n",
       "      <th></th>\n",
       "      <th>branch</th>\n",
       "      <th>customer_type</th>\n",
       "      <th>gender</th>\n",
       "      <th>product_line</th>\n",
       "      <th>unit_price</th>\n",
       "      <th>quantity</th>\n",
       "      <th>tax</th>\n",
       "      <th>date</th>\n",
       "      <th>time</th>\n",
       "      <th>payment</th>\n",
       "      <th>cogs</th>\n",
       "      <th>gross_income</th>\n",
       "      <th>rating</th>\n",
       "      <th>total</th>\n",
       "      <th>min</th>\n",
       "      <th>day</th>\n",
       "      <th>month</th>\n",
       "      <th>year</th>\n",
       "      <th>sin_hour</th>\n",
       "      <th>cos_hour</th>\n",
       "    </tr>\n",
       "  </thead>\n",
       "  <tbody>\n",
       "    <tr>\n",
       "      <th>17</th>\n",
       "      <td>0</td>\n",
       "      <td>1</td>\n",
       "      <td>1</td>\n",
       "      <td>5</td>\n",
       "      <td>72.61</td>\n",
       "      <td>6</td>\n",
       "      <td>21.783</td>\n",
       "      <td>2019-01-01</td>\n",
       "      <td>31</td>\n",
       "      <td>1</td>\n",
       "      <td>435.66</td>\n",
       "      <td>21.783</td>\n",
       "      <td>6.9</td>\n",
       "      <td>457.443</td>\n",
       "      <td>39</td>\n",
       "      <td>1</td>\n",
       "      <td>1</td>\n",
       "      <td>2019</td>\n",
       "      <td>0.500000</td>\n",
       "      <td>-0.866025</td>\n",
       "    </tr>\n",
       "    <tr>\n",
       "      <th>970</th>\n",
       "      <td>1</td>\n",
       "      <td>0</td>\n",
       "      <td>0</td>\n",
       "      <td>2</td>\n",
       "      <td>84.63</td>\n",
       "      <td>10</td>\n",
       "      <td>42.315</td>\n",
       "      <td>2019-01-01</td>\n",
       "      <td>76</td>\n",
       "      <td>1</td>\n",
       "      <td>846.30</td>\n",
       "      <td>42.315</td>\n",
       "      <td>9.0</td>\n",
       "      <td>888.615</td>\n",
       "      <td>36</td>\n",
       "      <td>1</td>\n",
       "      <td>1</td>\n",
       "      <td>2019</td>\n",
       "      <td>0.258819</td>\n",
       "      <td>-0.965926</td>\n",
       "    </tr>\n",
       "    <tr>\n",
       "      <th>839</th>\n",
       "      <td>2</td>\n",
       "      <td>0</td>\n",
       "      <td>0</td>\n",
       "      <td>5</td>\n",
       "      <td>29.22</td>\n",
       "      <td>6</td>\n",
       "      <td>8.766</td>\n",
       "      <td>2019-01-01</td>\n",
       "      <td>79</td>\n",
       "      <td>2</td>\n",
       "      <td>175.32</td>\n",
       "      <td>8.766</td>\n",
       "      <td>5.0</td>\n",
       "      <td>184.086</td>\n",
       "      <td>40</td>\n",
       "      <td>1</td>\n",
       "      <td>1</td>\n",
       "      <td>2019</td>\n",
       "      <td>0.258819</td>\n",
       "      <td>-0.965926</td>\n",
       "    </tr>\n",
       "    <tr>\n",
       "      <th>523</th>\n",
       "      <td>2</td>\n",
       "      <td>1</td>\n",
       "      <td>1</td>\n",
       "      <td>3</td>\n",
       "      <td>62.87</td>\n",
       "      <td>2</td>\n",
       "      <td>6.287</td>\n",
       "      <td>2019-01-01</td>\n",
       "      <td>81</td>\n",
       "      <td>0</td>\n",
       "      <td>125.74</td>\n",
       "      <td>6.287</td>\n",
       "      <td>5.0</td>\n",
       "      <td>132.027</td>\n",
       "      <td>43</td>\n",
       "      <td>1</td>\n",
       "      <td>1</td>\n",
       "      <td>2019</td>\n",
       "      <td>0.258819</td>\n",
       "      <td>-0.965926</td>\n",
       "    </tr>\n",
       "    <tr>\n",
       "      <th>567</th>\n",
       "      <td>0</td>\n",
       "      <td>1</td>\n",
       "      <td>0</td>\n",
       "      <td>1</td>\n",
       "      <td>65.74</td>\n",
       "      <td>9</td>\n",
       "      <td>29.583</td>\n",
       "      <td>2019-01-01</td>\n",
       "      <td>183</td>\n",
       "      <td>0</td>\n",
       "      <td>591.66</td>\n",
       "      <td>29.583</td>\n",
       "      <td>7.7</td>\n",
       "      <td>621.243</td>\n",
       "      <td>55</td>\n",
       "      <td>1</td>\n",
       "      <td>1</td>\n",
       "      <td>2019</td>\n",
       "      <td>-0.258819</td>\n",
       "      <td>-0.965926</td>\n",
       "    </tr>\n",
       "  </tbody>\n",
       "</table>\n",
       "</div>"
      ],
      "text/plain": [
       "     branch  customer_type  gender  product_line  unit_price  quantity  \\\n",
       "17        0              1       1             5       72.61         6   \n",
       "970       1              0       0             2       84.63        10   \n",
       "839       2              0       0             5       29.22         6   \n",
       "523       2              1       1             3       62.87         2   \n",
       "567       0              1       0             1       65.74         9   \n",
       "\n",
       "        tax       date  time  payment    cogs  gross_income  rating    total  \\\n",
       "17   21.783 2019-01-01    31        1  435.66        21.783     6.9  457.443   \n",
       "970  42.315 2019-01-01    76        1  846.30        42.315     9.0  888.615   \n",
       "839   8.766 2019-01-01    79        2  175.32         8.766     5.0  184.086   \n",
       "523   6.287 2019-01-01    81        0  125.74         6.287     5.0  132.027   \n",
       "567  29.583 2019-01-01   183        0  591.66        29.583     7.7  621.243   \n",
       "\n",
       "     min  day  month  year  sin_hour  cos_hour  \n",
       "17    39    1      1  2019  0.500000 -0.866025  \n",
       "970   36    1      1  2019  0.258819 -0.965926  \n",
       "839   40    1      1  2019  0.258819 -0.965926  \n",
       "523   43    1      1  2019  0.258819 -0.965926  \n",
       "567   55    1      1  2019 -0.258819 -0.965926  "
      ]
     },
     "execution_count": 97,
     "metadata": {},
     "output_type": "execute_result"
    }
   ],
   "source": [
    "cleandf.head()"
   ]
  },
  {
   "cell_type": "markdown",
   "id": "7db1573c",
   "metadata": {},
   "source": [
    "## Principal Component Analysis"
   ]
  },
  {
   "cell_type": "code",
   "execution_count": 98,
   "id": "a7720a04",
   "metadata": {},
   "outputs": [],
   "source": [
    "cleandf_01.to_csv('cleaned.csv',index = False)"
   ]
  },
  {
   "cell_type": "code",
   "execution_count": 100,
   "id": "8838596e",
   "metadata": {
    "scrolled": true
   },
   "outputs": [
    {
     "data": {
      "text/plain": [
       "Index(['branch', 'customer_type', 'gender', 'product_line', 'unit_price',\n",
       "       'quantity', 'tax', 'date', 'time', 'payment', 'cogs', 'gross_income',\n",
       "       'rating', 'total', 'min', 'day', 'month', 'year', 'sin_hour',\n",
       "       'cos_hour'],\n",
       "      dtype='object')"
      ]
     },
     "execution_count": 100,
     "metadata": {},
     "output_type": "execute_result"
    }
   ],
   "source": [
    "cleandf.columns"
   ]
  },
  {
   "cell_type": "code",
   "execution_count": 91,
   "id": "9e31a829",
   "metadata": {},
   "outputs": [
    {
     "data": {
      "text/html": [
       "<div>\n",
       "<style scoped>\n",
       "    .dataframe tbody tr th:only-of-type {\n",
       "        vertical-align: middle;\n",
       "    }\n",
       "\n",
       "    .dataframe tbody tr th {\n",
       "        vertical-align: top;\n",
       "    }\n",
       "\n",
       "    .dataframe thead th {\n",
       "        text-align: right;\n",
       "    }\n",
       "</style>\n",
       "<table border=\"1\" class=\"dataframe\">\n",
       "  <thead>\n",
       "    <tr style=\"text-align: right;\">\n",
       "      <th></th>\n",
       "      <th>branch</th>\n",
       "      <th>customer_type</th>\n",
       "      <th>gender</th>\n",
       "      <th>product_line</th>\n",
       "      <th>unit_price</th>\n",
       "      <th>quantity</th>\n",
       "      <th>tax</th>\n",
       "      <th>date</th>\n",
       "      <th>payment</th>\n",
       "      <th>cogs</th>\n",
       "      <th>gross_income</th>\n",
       "      <th>rating</th>\n",
       "      <th>total</th>\n",
       "      <th>hour</th>\n",
       "      <th>min</th>\n",
       "      <th>day</th>\n",
       "      <th>month</th>\n",
       "      <th>year</th>\n",
       "    </tr>\n",
       "  </thead>\n",
       "  <tbody>\n",
       "    <tr>\n",
       "      <th>17</th>\n",
       "      <td>0</td>\n",
       "      <td>1</td>\n",
       "      <td>1</td>\n",
       "      <td>5</td>\n",
       "      <td>72.61</td>\n",
       "      <td>6</td>\n",
       "      <td>21.783</td>\n",
       "      <td>2019-01-01</td>\n",
       "      <td>1</td>\n",
       "      <td>435.66</td>\n",
       "      <td>21.783</td>\n",
       "      <td>6.9</td>\n",
       "      <td>457.443</td>\n",
       "      <td>10</td>\n",
       "      <td>39</td>\n",
       "      <td>1</td>\n",
       "      <td>1</td>\n",
       "      <td>2019</td>\n",
       "    </tr>\n",
       "    <tr>\n",
       "      <th>970</th>\n",
       "      <td>1</td>\n",
       "      <td>0</td>\n",
       "      <td>0</td>\n",
       "      <td>2</td>\n",
       "      <td>84.63</td>\n",
       "      <td>10</td>\n",
       "      <td>42.315</td>\n",
       "      <td>2019-01-01</td>\n",
       "      <td>1</td>\n",
       "      <td>846.30</td>\n",
       "      <td>42.315</td>\n",
       "      <td>9.0</td>\n",
       "      <td>888.615</td>\n",
       "      <td>11</td>\n",
       "      <td>36</td>\n",
       "      <td>1</td>\n",
       "      <td>1</td>\n",
       "      <td>2019</td>\n",
       "    </tr>\n",
       "    <tr>\n",
       "      <th>839</th>\n",
       "      <td>2</td>\n",
       "      <td>0</td>\n",
       "      <td>0</td>\n",
       "      <td>5</td>\n",
       "      <td>29.22</td>\n",
       "      <td>6</td>\n",
       "      <td>8.766</td>\n",
       "      <td>2019-01-01</td>\n",
       "      <td>2</td>\n",
       "      <td>175.32</td>\n",
       "      <td>8.766</td>\n",
       "      <td>5.0</td>\n",
       "      <td>184.086</td>\n",
       "      <td>11</td>\n",
       "      <td>40</td>\n",
       "      <td>1</td>\n",
       "      <td>1</td>\n",
       "      <td>2019</td>\n",
       "    </tr>\n",
       "    <tr>\n",
       "      <th>523</th>\n",
       "      <td>2</td>\n",
       "      <td>1</td>\n",
       "      <td>1</td>\n",
       "      <td>3</td>\n",
       "      <td>62.87</td>\n",
       "      <td>2</td>\n",
       "      <td>6.287</td>\n",
       "      <td>2019-01-01</td>\n",
       "      <td>0</td>\n",
       "      <td>125.74</td>\n",
       "      <td>6.287</td>\n",
       "      <td>5.0</td>\n",
       "      <td>132.027</td>\n",
       "      <td>11</td>\n",
       "      <td>43</td>\n",
       "      <td>1</td>\n",
       "      <td>1</td>\n",
       "      <td>2019</td>\n",
       "    </tr>\n",
       "    <tr>\n",
       "      <th>567</th>\n",
       "      <td>0</td>\n",
       "      <td>1</td>\n",
       "      <td>0</td>\n",
       "      <td>1</td>\n",
       "      <td>65.74</td>\n",
       "      <td>9</td>\n",
       "      <td>29.583</td>\n",
       "      <td>2019-01-01</td>\n",
       "      <td>0</td>\n",
       "      <td>591.66</td>\n",
       "      <td>29.583</td>\n",
       "      <td>7.7</td>\n",
       "      <td>621.243</td>\n",
       "      <td>13</td>\n",
       "      <td>55</td>\n",
       "      <td>1</td>\n",
       "      <td>1</td>\n",
       "      <td>2019</td>\n",
       "    </tr>\n",
       "  </tbody>\n",
       "</table>\n",
       "</div>"
      ],
      "text/plain": [
       "     branch  customer_type  gender  product_line  unit_price  quantity  \\\n",
       "17        0              1       1             5       72.61         6   \n",
       "970       1              0       0             2       84.63        10   \n",
       "839       2              0       0             5       29.22         6   \n",
       "523       2              1       1             3       62.87         2   \n",
       "567       0              1       0             1       65.74         9   \n",
       "\n",
       "        tax       date  payment    cogs  gross_income  rating    total  hour  \\\n",
       "17   21.783 2019-01-01        1  435.66        21.783     6.9  457.443    10   \n",
       "970  42.315 2019-01-01        1  846.30        42.315     9.0  888.615    11   \n",
       "839   8.766 2019-01-01        2  175.32         8.766     5.0  184.086    11   \n",
       "523   6.287 2019-01-01        0  125.74         6.287     5.0  132.027    11   \n",
       "567  29.583 2019-01-01        0  591.66        29.583     7.7  621.243    13   \n",
       "\n",
       "     min  day  month  year  \n",
       "17    39    1      1  2019  \n",
       "970   36    1      1  2019  \n",
       "839   40    1      1  2019  \n",
       "523   43    1      1  2019  \n",
       "567   55    1      1  2019  "
      ]
     },
     "execution_count": 91,
     "metadata": {},
     "output_type": "execute_result"
    }
   ],
   "source": [
    "cleandf.head(5)"
   ]
  },
  {
   "cell_type": "code",
   "execution_count": 96,
   "id": "bb1698bb",
   "metadata": {},
   "outputs": [],
   "source": [
    "# Preprocessing data\n",
    "\n",
    "X = cleandf.drop(['total','date','rating'],1)\n",
    "y = cleandf['total']"
   ]
  },
  {
   "cell_type": "code",
   "execution_count": 97,
   "id": "1aba3c9e",
   "metadata": {},
   "outputs": [],
   "source": [
    "# Splitting into train and test data\n",
    "\n",
    "from sklearn.model_selection import train_test_split\n",
    "X_train,X_test,y_train,y_test = train_test_split(X,y,test_size = 0.3,shuffle = False)"
   ]
  },
  {
   "cell_type": "code",
   "execution_count": 98,
   "id": "925ce604",
   "metadata": {},
   "outputs": [],
   "source": [
    "# Normalization\n",
    "from sklearn.preprocessing import StandardScaler\n",
    "\n",
    "sc = StandardScaler()\n",
    "X_train = sc.fit_transform(X_train)\n",
    "X_test = sc.transform(X_test)"
   ]
  },
  {
   "cell_type": "code",
   "execution_count": 100,
   "id": "eb7a9c4e",
   "metadata": {},
   "outputs": [],
   "source": [
    "# Applying PCA\n",
    "from sklearn.decomposition import PCA\n",
    "\n",
    "pca = PCA()\n",
    "X_train = pca.fit_transform(X_train)\n",
    "X_test = pca.transform(X_test)"
   ]
  },
  {
   "cell_type": "code",
   "execution_count": 101,
   "id": "080f6960",
   "metadata": {
    "scrolled": true
   },
   "outputs": [
    {
     "data": {
      "text/plain": [
       "array([2.81344356e-01, 1.00177651e-01, 8.52042684e-02, 7.77998350e-02,\n",
       "       7.62131316e-02, 7.05766171e-02, 6.81393705e-02, 6.62516069e-02,\n",
       "       6.55373290e-02, 5.92860461e-02, 4.35538424e-02, 5.91594611e-03,\n",
       "       7.35973895e-33, 1.51547826e-33, 0.00000000e+00])"
      ]
     },
     "execution_count": 101,
     "metadata": {},
     "output_type": "execute_result"
    }
   ],
   "source": [
    "explained_variance = pca.explained_variance_ratio_\n",
    "explained_variance"
   ]
  },
  {
   "cell_type": "code",
   "execution_count": 102,
   "id": "3272bf48",
   "metadata": {},
   "outputs": [
    {
     "data": {
      "text/plain": [
       "Index(['branch', 'customer_type', 'gender', 'product_line', 'unit_price',\n",
       "       'quantity', 'tax', 'date', 'payment', 'cogs', 'gross_income', 'rating',\n",
       "       'total', 'hour', 'min', 'day', 'month', 'year'],\n",
       "      dtype='object')"
      ]
     },
     "execution_count": 102,
     "metadata": {},
     "output_type": "execute_result"
    }
   ],
   "source": [
    "cleandf.columns"
   ]
  },
  {
   "cell_type": "code",
   "execution_count": 103,
   "id": "1c2fde31",
   "metadata": {},
   "outputs": [
    {
     "data": {
      "image/png": "[encoded data removed]",
      "text/plain": [
       "<Figure size 432x288 with 1 Axes>"
      ]
     },
     "metadata": {
      "needs_background": "light"
     },
     "output_type": "display_data"
    }
   ],
   "source": [
    "plt.plot(np.cumsum(pca.explained_variance_ratio_));"
   ]
  },
  {
   "cell_type": "code",
   "execution_count": 107,
   "id": "5ff2b5fc",
   "metadata": {},
   "outputs": [],
   "source": [
    "from sklearn.decomposition import PCA\n",
    "\n",
    "pca = PCA(n_components=11)\n",
    "X_train = pca.fit_transform(X_train)\n",
    "X_test = pca.transform(X_test)"
   ]
  },
  {
   "cell_type": "code",
   "execution_count": 108,
   "id": "5f3ec0bb",
   "metadata": {},
   "outputs": [],
   "source": [
    "from sklearn.ensemble import RandomForestRegressor\n",
    "\n",
    "classifier = RandomForestRegressor(max_depth=2, random_state=0)\n",
    "classifier.fit(X_train, y_train)\n",
    "\n",
    "# Predicting the Test set results\n",
    "y_pred = classifier.predict(X_test)"
   ]
  },
  {
   "cell_type": "code",
   "execution_count": 109,
   "id": "ac33026c",
   "metadata": {},
   "outputs": [
    {
     "name": "stdout",
     "output_type": "stream",
     "text": [
      "RSME is :  55.541401316045985\n",
      "MSE is :  3084.847260150075\n"
     ]
    }
   ],
   "source": [
    "from sklearn.metrics import mean_squared_error\n",
    "\n",
    "def root_mean_squared_error(actual, predictions):\n",
    "    return np.sqrt(mean_squared_error(actual, predictions))\n",
    "\n",
    "# Evaluating the model using RMSE Evaluation Metric\n",
    "print('RSME is : ',root_mean_squared_error(y_test, y_pred))\n",
    "\n",
    "print('MSE is : ', mean_squared_error(y_test,y_pred))"
   ]
  },
  {
   "cell_type": "markdown",
   "id": "feebae6d",
   "metadata": {},
   "source": [
    "# Implementing the Solution"
   ]
  },
  {
   "cell_type": "markdown",
   "id": "e490998c",
   "metadata": {},
   "source": [
    "# XG Boost"
   ]
  },
  {
   "cell_type": "code",
   "execution_count": 137,
   "id": "35d45fe9",
   "metadata": {
    "scrolled": true
   },
   "outputs": [
    {
     "data": {
      "text/plain": [
       "Index(['branch', 'customer_type', 'gender', 'product_line', 'unit_price',\n",
       "       'quantity', 'tax', 'date', 'payment', 'cogs', 'gross_income', 'rating',\n",
       "       'total', 'hour', 'min', 'day', 'month', 'year'],\n",
       "      dtype='object')"
      ]
     },
     "execution_count": 137,
     "metadata": {},
     "output_type": "execute_result"
    }
   ],
   "source": [
    "cleandf.columns"
   ]
  },
  {
   "cell_type": "code",
   "execution_count": 136,
   "id": "321ca2ab",
   "metadata": {},
   "outputs": [
    {
     "data": {
      "text/html": [
       "<div>\n",
       "<style scoped>\n",
       "    .dataframe tbody tr th:only-of-type {\n",
       "        vertical-align: middle;\n",
       "    }\n",
       "\n",
       "    .dataframe tbody tr th {\n",
       "        vertical-align: top;\n",
       "    }\n",
       "\n",
       "    .dataframe thead th {\n",
       "        text-align: right;\n",
       "    }\n",
       "</style>\n",
       "<table border=\"1\" class=\"dataframe\">\n",
       "  <thead>\n",
       "    <tr style=\"text-align: right;\">\n",
       "      <th></th>\n",
       "      <th>branch</th>\n",
       "      <th>customer_type</th>\n",
       "      <th>gender</th>\n",
       "      <th>product_line</th>\n",
       "      <th>unit_price</th>\n",
       "      <th>quantity</th>\n",
       "      <th>tax</th>\n",
       "      <th>date</th>\n",
       "      <th>payment</th>\n",
       "      <th>cogs</th>\n",
       "      <th>gross_income</th>\n",
       "      <th>rating</th>\n",
       "      <th>total</th>\n",
       "      <th>hour</th>\n",
       "      <th>min</th>\n",
       "      <th>day</th>\n",
       "      <th>month</th>\n",
       "      <th>year</th>\n",
       "    </tr>\n",
       "  </thead>\n",
       "  <tbody>\n",
       "    <tr>\n",
       "      <th>17</th>\n",
       "      <td>0</td>\n",
       "      <td>1</td>\n",
       "      <td>1</td>\n",
       "      <td>5</td>\n",
       "      <td>72.61</td>\n",
       "      <td>6</td>\n",
       "      <td>21.783</td>\n",
       "      <td>2019-01-01</td>\n",
       "      <td>1</td>\n",
       "      <td>435.66</td>\n",
       "      <td>21.783</td>\n",
       "      <td>6.9</td>\n",
       "      <td>457.443</td>\n",
       "      <td>10</td>\n",
       "      <td>39</td>\n",
       "      <td>1</td>\n",
       "      <td>1</td>\n",
       "      <td>2019</td>\n",
       "    </tr>\n",
       "    <tr>\n",
       "      <th>970</th>\n",
       "      <td>1</td>\n",
       "      <td>0</td>\n",
       "      <td>0</td>\n",
       "      <td>2</td>\n",
       "      <td>84.63</td>\n",
       "      <td>10</td>\n",
       "      <td>42.315</td>\n",
       "      <td>2019-01-01</td>\n",
       "      <td>1</td>\n",
       "      <td>846.30</td>\n",
       "      <td>42.315</td>\n",
       "      <td>9.0</td>\n",
       "      <td>888.615</td>\n",
       "      <td>11</td>\n",
       "      <td>36</td>\n",
       "      <td>1</td>\n",
       "      <td>1</td>\n",
       "      <td>2019</td>\n",
       "    </tr>\n",
       "    <tr>\n",
       "      <th>839</th>\n",
       "      <td>2</td>\n",
       "      <td>0</td>\n",
       "      <td>0</td>\n",
       "      <td>5</td>\n",
       "      <td>29.22</td>\n",
       "      <td>6</td>\n",
       "      <td>8.766</td>\n",
       "      <td>2019-01-01</td>\n",
       "      <td>2</td>\n",
       "      <td>175.32</td>\n",
       "      <td>8.766</td>\n",
       "      <td>5.0</td>\n",
       "      <td>184.086</td>\n",
       "      <td>11</td>\n",
       "      <td>40</td>\n",
       "      <td>1</td>\n",
       "      <td>1</td>\n",
       "      <td>2019</td>\n",
       "    </tr>\n",
       "    <tr>\n",
       "      <th>523</th>\n",
       "      <td>2</td>\n",
       "      <td>1</td>\n",
       "      <td>1</td>\n",
       "      <td>3</td>\n",
       "      <td>62.87</td>\n",
       "      <td>2</td>\n",
       "      <td>6.287</td>\n",
       "      <td>2019-01-01</td>\n",
       "      <td>0</td>\n",
       "      <td>125.74</td>\n",
       "      <td>6.287</td>\n",
       "      <td>5.0</td>\n",
       "      <td>132.027</td>\n",
       "      <td>11</td>\n",
       "      <td>43</td>\n",
       "      <td>1</td>\n",
       "      <td>1</td>\n",
       "      <td>2019</td>\n",
       "    </tr>\n",
       "    <tr>\n",
       "      <th>567</th>\n",
       "      <td>0</td>\n",
       "      <td>1</td>\n",
       "      <td>0</td>\n",
       "      <td>1</td>\n",
       "      <td>65.74</td>\n",
       "      <td>9</td>\n",
       "      <td>29.583</td>\n",
       "      <td>2019-01-01</td>\n",
       "      <td>0</td>\n",
       "      <td>591.66</td>\n",
       "      <td>29.583</td>\n",
       "      <td>7.7</td>\n",
       "      <td>621.243</td>\n",
       "      <td>13</td>\n",
       "      <td>55</td>\n",
       "      <td>1</td>\n",
       "      <td>1</td>\n",
       "      <td>2019</td>\n",
       "    </tr>\n",
       "  </tbody>\n",
       "</table>\n",
       "</div>"
      ],
      "text/plain": [
       "     branch  customer_type  gender  product_line  unit_price  quantity  \\\n",
       "17        0              1       1             5       72.61         6   \n",
       "970       1              0       0             2       84.63        10   \n",
       "839       2              0       0             5       29.22         6   \n",
       "523       2              1       1             3       62.87         2   \n",
       "567       0              1       0             1       65.74         9   \n",
       "\n",
       "        tax       date  payment    cogs  gross_income  rating    total  hour  \\\n",
       "17   21.783 2019-01-01        1  435.66        21.783     6.9  457.443    10   \n",
       "970  42.315 2019-01-01        1  846.30        42.315     9.0  888.615    11   \n",
       "839   8.766 2019-01-01        2  175.32         8.766     5.0  184.086    11   \n",
       "523   6.287 2019-01-01        0  125.74         6.287     5.0  132.027    11   \n",
       "567  29.583 2019-01-01        0  591.66        29.583     7.7  621.243    13   \n",
       "\n",
       "     min  day  month  year  \n",
       "17    39    1      1  2019  \n",
       "970   36    1      1  2019  \n",
       "839   40    1      1  2019  \n",
       "523   43    1      1  2019  \n",
       "567   55    1      1  2019  "
      ]
     },
     "execution_count": 136,
     "metadata": {},
     "output_type": "execute_result"
    }
   ],
   "source": [
    "cleandf.head()"
   ]
  },
  {
   "cell_type": "code",
   "execution_count": 138,
   "id": "43ed5fae",
   "metadata": {},
   "outputs": [],
   "source": [
    "# Linear regression\n",
    "X = cleandf.drop(['total','date','rating'],1)\n",
    "y = cleandf['total']"
   ]
  },
  {
   "cell_type": "code",
   "execution_count": 139,
   "id": "f39ba302",
   "metadata": {},
   "outputs": [],
   "source": [
    "X_train, X_test, y_train, y_test = train_test_split(X, y, test_size=0.3, shuffle = False)"
   ]
  },
  {
   "cell_type": "code",
   "execution_count": 140,
   "id": "f11f3467",
   "metadata": {},
   "outputs": [],
   "source": [
    "import xgboost as xg"
   ]
  },
  {
   "cell_type": "code",
   "execution_count": 141,
   "id": "5959473a",
   "metadata": {},
   "outputs": [],
   "source": [
    "# model without hyperparameters\n",
    "from sklearn.linear_model import LinearRegression\n",
    "\n",
    "\n",
    "xgb_r = xg.XGBRegressor()\n",
    "  \n",
    "# Fitting the model\n",
    "xgb_r.fit(X_train, y_train)\n",
    "  \n",
    "# Predict the model\n",
    "y_pred = xgb_r.predict(X_test)"
   ]
  },
  {
   "cell_type": "code",
   "execution_count": 145,
   "id": "6fb196bf",
   "metadata": {},
   "outputs": [
    {
     "data": {
      "text/html": [
       "<div>\n",
       "<style scoped>\n",
       "    .dataframe tbody tr th:only-of-type {\n",
       "        vertical-align: middle;\n",
       "    }\n",
       "\n",
       "    .dataframe tbody tr th {\n",
       "        vertical-align: top;\n",
       "    }\n",
       "\n",
       "    .dataframe thead th {\n",
       "        text-align: right;\n",
       "    }\n",
       "</style>\n",
       "<table border=\"1\" class=\"dataframe\">\n",
       "  <thead>\n",
       "    <tr style=\"text-align: right;\">\n",
       "      <th></th>\n",
       "      <th>Actual</th>\n",
       "      <th>Predicted</th>\n",
       "    </tr>\n",
       "  </thead>\n",
       "  <tbody>\n",
       "    <tr>\n",
       "      <th>201</th>\n",
       "      <td>241.458</td>\n",
       "      <td>243.504257</td>\n",
       "    </tr>\n",
       "    <tr>\n",
       "      <th>881</th>\n",
       "      <td>85.512</td>\n",
       "      <td>85.376015</td>\n",
       "    </tr>\n",
       "  </tbody>\n",
       "</table>\n",
       "</div>"
      ],
      "text/plain": [
       "      Actual   Predicted\n",
       "201  241.458  243.504257\n",
       "881   85.512   85.376015"
      ]
     },
     "execution_count": 145,
     "metadata": {},
     "output_type": "execute_result"
    }
   ],
   "source": [
    "df = pd.DataFrame({'Actual': y_test, 'Predicted': y_pred})\n",
    "df.sample(2)"
   ]
  },
  {
   "cell_type": "code",
   "execution_count": 146,
   "id": "f337f67e",
   "metadata": {},
   "outputs": [
    {
     "data": {
      "text/html": [
       "<div>\n",
       "<style scoped>\n",
       "    .dataframe tbody tr th:only-of-type {\n",
       "        vertical-align: middle;\n",
       "    }\n",
       "\n",
       "    .dataframe tbody tr th {\n",
       "        vertical-align: top;\n",
       "    }\n",
       "\n",
       "    .dataframe thead th {\n",
       "        text-align: right;\n",
       "    }\n",
       "</style>\n",
       "<table border=\"1\" class=\"dataframe\">\n",
       "  <thead>\n",
       "    <tr style=\"text-align: right;\">\n",
       "      <th></th>\n",
       "      <th>Actual</th>\n",
       "      <th>Predicted</th>\n",
       "    </tr>\n",
       "  </thead>\n",
       "  <tbody>\n",
       "    <tr>\n",
       "      <th>count</th>\n",
       "      <td>300.000000</td>\n",
       "      <td>300.000000</td>\n",
       "    </tr>\n",
       "    <tr>\n",
       "      <th>mean</th>\n",
       "      <td>315.956515</td>\n",
       "      <td>315.603607</td>\n",
       "    </tr>\n",
       "    <tr>\n",
       "      <th>std</th>\n",
       "      <td>240.994547</td>\n",
       "      <td>241.017883</td>\n",
       "    </tr>\n",
       "    <tr>\n",
       "      <th>min</th>\n",
       "      <td>16.275000</td>\n",
       "      <td>16.231886</td>\n",
       "    </tr>\n",
       "    <tr>\n",
       "      <th>25%</th>\n",
       "      <td>126.824250</td>\n",
       "      <td>126.061110</td>\n",
       "    </tr>\n",
       "    <tr>\n",
       "      <th>50%</th>\n",
       "      <td>234.218250</td>\n",
       "      <td>232.554054</td>\n",
       "    </tr>\n",
       "    <tr>\n",
       "      <th>75%</th>\n",
       "      <td>461.377875</td>\n",
       "      <td>456.651939</td>\n",
       "    </tr>\n",
       "    <tr>\n",
       "      <th>max</th>\n",
       "      <td>951.825000</td>\n",
       "      <td>965.877625</td>\n",
       "    </tr>\n",
       "  </tbody>\n",
       "</table>\n",
       "</div>"
      ],
      "text/plain": [
       "           Actual   Predicted\n",
       "count  300.000000  300.000000\n",
       "mean   315.956515  315.603607\n",
       "std    240.994547  241.017883\n",
       "min     16.275000   16.231886\n",
       "25%    126.824250  126.061110\n",
       "50%    234.218250  232.554054\n",
       "75%    461.377875  456.651939\n",
       "max    951.825000  965.877625"
      ]
     },
     "execution_count": 146,
     "metadata": {},
     "output_type": "execute_result"
    }
   ],
   "source": [
    "df.describe()"
   ]
  },
  {
   "cell_type": "code",
   "execution_count": null,
   "id": "5071c260",
   "metadata": {},
   "outputs": [],
   "source": []
  },
  {
   "cell_type": "code",
   "execution_count": null,
   "id": "fdda6213",
   "metadata": {},
   "outputs": [],
   "source": []
  },
  {
   "cell_type": "code",
   "execution_count": 155,
   "id": "156788bc",
   "metadata": {},
   "outputs": [
    {
     "name": "stdout",
     "output_type": "stream",
     "text": [
      "[12:47:55] WARNING: C:/Users/administrator/workspace/xgboost-win64_release_1.6.0/src/objective/regression_obj.cu:203: reg:linear is now deprecated in favor of reg:squarederror.\n"
     ]
    }
   ],
   "source": [
    "from sklearn.linear_model import LinearRegression\n",
    "\n",
    "\n",
    "xgb_r = xg.XGBRegressor(objective ='reg:linear',\n",
    "                  n_estimators = 10)\n",
    "  \n",
    "# Fitting the model\n",
    "model = xgb_r.fit(X_train, y_train)\n",
    "  \n",
    "# Predict the model\n",
    "y_pred = xgb_r.predict(X_test)"
   ]
  },
  {
   "cell_type": "code",
   "execution_count": 148,
   "id": "2ea6fd10",
   "metadata": {
    "scrolled": true
   },
   "outputs": [
    {
     "data": {
      "text/html": [
       "<div>\n",
       "<style scoped>\n",
       "    .dataframe tbody tr th:only-of-type {\n",
       "        vertical-align: middle;\n",
       "    }\n",
       "\n",
       "    .dataframe tbody tr th {\n",
       "        vertical-align: top;\n",
       "    }\n",
       "\n",
       "    .dataframe thead th {\n",
       "        text-align: right;\n",
       "    }\n",
       "</style>\n",
       "<table border=\"1\" class=\"dataframe\">\n",
       "  <thead>\n",
       "    <tr style=\"text-align: right;\">\n",
       "      <th></th>\n",
       "      <th>Actual</th>\n",
       "      <th>Predicted</th>\n",
       "    </tr>\n",
       "  </thead>\n",
       "  <tbody>\n",
       "    <tr>\n",
       "      <th>803</th>\n",
       "      <td>462.672</td>\n",
       "      <td>441.052673</td>\n",
       "    </tr>\n",
       "    <tr>\n",
       "      <th>589</th>\n",
       "      <td>76.755</td>\n",
       "      <td>75.374405</td>\n",
       "    </tr>\n",
       "    <tr>\n",
       "      <th>692</th>\n",
       "      <td>510.615</td>\n",
       "      <td>482.477539</td>\n",
       "    </tr>\n",
       "    <tr>\n",
       "      <th>283</th>\n",
       "      <td>628.929</td>\n",
       "      <td>610.347168</td>\n",
       "    </tr>\n",
       "    <tr>\n",
       "      <th>966</th>\n",
       "      <td>314.685</td>\n",
       "      <td>302.708160</td>\n",
       "    </tr>\n",
       "    <tr>\n",
       "      <th>...</th>\n",
       "      <td>...</td>\n",
       "      <td>...</td>\n",
       "    </tr>\n",
       "    <tr>\n",
       "      <th>671</th>\n",
       "      <td>196.140</td>\n",
       "      <td>189.207291</td>\n",
       "    </tr>\n",
       "    <tr>\n",
       "      <th>474</th>\n",
       "      <td>338.310</td>\n",
       "      <td>329.245270</td>\n",
       "    </tr>\n",
       "    <tr>\n",
       "      <th>473</th>\n",
       "      <td>609.588</td>\n",
       "      <td>579.570862</td>\n",
       "    </tr>\n",
       "    <tr>\n",
       "      <th>643</th>\n",
       "      <td>609.168</td>\n",
       "      <td>579.570862</td>\n",
       "    </tr>\n",
       "    <tr>\n",
       "      <th>963</th>\n",
       "      <td>304.983</td>\n",
       "      <td>299.950867</td>\n",
       "    </tr>\n",
       "  </tbody>\n",
       "</table>\n",
       "<p>300 rows × 2 columns</p>\n",
       "</div>"
      ],
      "text/plain": [
       "      Actual   Predicted\n",
       "803  462.672  441.052673\n",
       "589   76.755   75.374405\n",
       "692  510.615  482.477539\n",
       "283  628.929  610.347168\n",
       "966  314.685  302.708160\n",
       "..       ...         ...\n",
       "671  196.140  189.207291\n",
       "474  338.310  329.245270\n",
       "473  609.588  579.570862\n",
       "643  609.168  579.570862\n",
       "963  304.983  299.950867\n",
       "\n",
       "[300 rows x 2 columns]"
      ]
     },
     "execution_count": 148,
     "metadata": {},
     "output_type": "execute_result"
    }
   ],
   "source": [
    "df = pd.DataFrame({'Actual': y_test, 'Predicted': y_pred})\n",
    "df"
   ]
  },
  {
   "cell_type": "code",
   "execution_count": 149,
   "id": "7fe87f2b",
   "metadata": {},
   "outputs": [
    {
     "name": "stdout",
     "output_type": "stream",
     "text": [
      "RMSE :  14.043740\n"
     ]
    }
   ],
   "source": [
    "from sklearn.metrics import mean_squared_error\n",
    "\n",
    "rmse = np.sqrt(mean_squared_error(y_test, y_pred))\n",
    "print(\"RMSE : % f\" %(rmse))"
   ]
  },
  {
   "cell_type": "code",
   "execution_count": 150,
   "id": "a16ed576",
   "metadata": {
    "scrolled": false
   },
   "outputs": [
    {
     "data": {
      "text/html": [
       "<div>\n",
       "<style scoped>\n",
       "    .dataframe tbody tr th:only-of-type {\n",
       "        vertical-align: middle;\n",
       "    }\n",
       "\n",
       "    .dataframe tbody tr th {\n",
       "        vertical-align: top;\n",
       "    }\n",
       "\n",
       "    .dataframe thead th {\n",
       "        text-align: right;\n",
       "    }\n",
       "</style>\n",
       "<table border=\"1\" class=\"dataframe\">\n",
       "  <thead>\n",
       "    <tr style=\"text-align: right;\">\n",
       "      <th></th>\n",
       "      <th>Actual</th>\n",
       "      <th>Predicted</th>\n",
       "    </tr>\n",
       "  </thead>\n",
       "  <tbody>\n",
       "    <tr>\n",
       "      <th>count</th>\n",
       "      <td>300.000000</td>\n",
       "      <td>300.000000</td>\n",
       "    </tr>\n",
       "    <tr>\n",
       "      <th>mean</th>\n",
       "      <td>315.956515</td>\n",
       "      <td>305.876862</td>\n",
       "    </tr>\n",
       "    <tr>\n",
       "      <th>std</th>\n",
       "      <td>240.994547</td>\n",
       "      <td>233.422867</td>\n",
       "    </tr>\n",
       "    <tr>\n",
       "      <th>min</th>\n",
       "      <td>16.275000</td>\n",
       "      <td>15.852458</td>\n",
       "    </tr>\n",
       "    <tr>\n",
       "      <th>25%</th>\n",
       "      <td>126.824250</td>\n",
       "      <td>122.482849</td>\n",
       "    </tr>\n",
       "    <tr>\n",
       "      <th>50%</th>\n",
       "      <td>234.218250</td>\n",
       "      <td>222.075623</td>\n",
       "    </tr>\n",
       "    <tr>\n",
       "      <th>75%</th>\n",
       "      <td>461.377875</td>\n",
       "      <td>441.052673</td>\n",
       "    </tr>\n",
       "    <tr>\n",
       "      <th>max</th>\n",
       "      <td>951.825000</td>\n",
       "      <td>930.425293</td>\n",
       "    </tr>\n",
       "  </tbody>\n",
       "</table>\n",
       "</div>"
      ],
      "text/plain": [
       "           Actual   Predicted\n",
       "count  300.000000  300.000000\n",
       "mean   315.956515  305.876862\n",
       "std    240.994547  233.422867\n",
       "min     16.275000   15.852458\n",
       "25%    126.824250  122.482849\n",
       "50%    234.218250  222.075623\n",
       "75%    461.377875  441.052673\n",
       "max    951.825000  930.425293"
      ]
     },
     "execution_count": 150,
     "metadata": {},
     "output_type": "execute_result"
    }
   ],
   "source": [
    "df.describe()"
   ]
  },
  {
   "cell_type": "code",
   "execution_count": 151,
   "id": "53ebc182",
   "metadata": {
    "scrolled": true
   },
   "outputs": [
    {
     "name": "stdout",
     "output_type": "stream",
     "text": [
      "Mean Absolute Error: 10.185947810872397\n",
      "Mean Squared Error: 197.22662700789883\n",
      "Root Mean Squared Error: 14.04373977998378\n"
     ]
    }
   ],
   "source": [
    "from sklearn.metrics import mean_absolute_error\n",
    "# And now we assess the errors\n",
    "print('Mean Absolute Error:', metrics.mean_absolute_error(y_test, y_pred))  \n",
    "print('Mean Squared Error:', metrics.mean_squared_error(y_test, y_pred))  \n",
    "print('Root Mean Squared Error:', np.sqrt(metrics.mean_squared_error(y_test, y_pred)))"
   ]
  },
  {
   "cell_type": "code",
   "execution_count": 156,
   "id": "44d60582",
   "metadata": {
    "scrolled": true
   },
   "outputs": [],
   "source": [
    "import pickle\n",
    "pickle.dump(model, open('model.pkl', 'wb'))"
   ]
  },
  {
   "cell_type": "code",
   "execution_count": 152,
   "id": "8eda23a3",
   "metadata": {},
   "outputs": [
    {
     "name": "stdout",
     "output_type": "stream",
     "text": [
      "Mean Absolute Error: 10.185947810872397\n",
      "Mean Squared Error: 197.22662700789883\n",
      "Root Mean Squared Error: 14.04373977998378\n"
     ]
    }
   ],
   "source": [
    "from sklearn import metrics\n",
    "\n",
    "# And now we assess the errors\n",
    "print('Mean Absolute Error:', metrics.mean_absolute_error(y_test, y_pred))  \n",
    "print('Mean Squared Error:', metrics.mean_squared_error(y_test, y_pred))  \n",
    "print('Root Mean Squared Error:', np.sqrt(metrics.mean_squared_error(y_test, y_pred)))"
   ]
  },
  {
   "cell_type": "markdown",
   "id": "aecff6ef",
   "metadata": {},
   "source": [
    "# Challenging the solution"
   ]
  },
  {
   "cell_type": "markdown",
   "id": "d65b3709",
   "metadata": {},
   "source": [
    "## Random Forest Regressor"
   ]
  },
  {
   "cell_type": "code",
   "execution_count": 122,
   "id": "b1fb44b7",
   "metadata": {},
   "outputs": [
    {
     "data": {
      "text/html": [
       "<div>\n",
       "<style scoped>\n",
       "    .dataframe tbody tr th:only-of-type {\n",
       "        vertical-align: middle;\n",
       "    }\n",
       "\n",
       "    .dataframe tbody tr th {\n",
       "        vertical-align: top;\n",
       "    }\n",
       "\n",
       "    .dataframe thead th {\n",
       "        text-align: right;\n",
       "    }\n",
       "</style>\n",
       "<table border=\"1\" class=\"dataframe\">\n",
       "  <thead>\n",
       "    <tr style=\"text-align: right;\">\n",
       "      <th></th>\n",
       "      <th>branch</th>\n",
       "      <th>customer_type</th>\n",
       "      <th>gender</th>\n",
       "      <th>product_line</th>\n",
       "      <th>unit_price</th>\n",
       "      <th>quantity</th>\n",
       "      <th>tax</th>\n",
       "      <th>date</th>\n",
       "      <th>payment</th>\n",
       "      <th>cogs</th>\n",
       "      <th>gross_income</th>\n",
       "      <th>rating</th>\n",
       "      <th>total</th>\n",
       "      <th>hour</th>\n",
       "      <th>min</th>\n",
       "      <th>day</th>\n",
       "      <th>month</th>\n",
       "      <th>year</th>\n",
       "    </tr>\n",
       "  </thead>\n",
       "  <tbody>\n",
       "    <tr>\n",
       "      <th>467</th>\n",
       "      <td>1</td>\n",
       "      <td>1</td>\n",
       "      <td>1</td>\n",
       "      <td>5</td>\n",
       "      <td>37.02</td>\n",
       "      <td>6</td>\n",
       "      <td>11.106</td>\n",
       "      <td>2019-03-22</td>\n",
       "      <td>0</td>\n",
       "      <td>222.12</td>\n",
       "      <td>11.106</td>\n",
       "      <td>4.5</td>\n",
       "      <td>233.226</td>\n",
       "      <td>18</td>\n",
       "      <td>33</td>\n",
       "      <td>3</td>\n",
       "      <td>22</td>\n",
       "      <td>2019</td>\n",
       "    </tr>\n",
       "    <tr>\n",
       "      <th>45</th>\n",
       "      <td>1</td>\n",
       "      <td>0</td>\n",
       "      <td>0</td>\n",
       "      <td>0</td>\n",
       "      <td>93.96</td>\n",
       "      <td>4</td>\n",
       "      <td>18.792</td>\n",
       "      <td>2019-03-09</td>\n",
       "      <td>0</td>\n",
       "      <td>375.84</td>\n",
       "      <td>18.792</td>\n",
       "      <td>9.5</td>\n",
       "      <td>394.632</td>\n",
       "      <td>18</td>\n",
       "      <td>0</td>\n",
       "      <td>3</td>\n",
       "      <td>9</td>\n",
       "      <td>2019</td>\n",
       "    </tr>\n",
       "  </tbody>\n",
       "</table>\n",
       "</div>"
      ],
      "text/plain": [
       "     branch  customer_type  gender  product_line  unit_price  quantity  \\\n",
       "467       1              1       1             5       37.02         6   \n",
       "45        1              0       0             0       93.96         4   \n",
       "\n",
       "        tax       date  payment    cogs  gross_income  rating    total  hour  \\\n",
       "467  11.106 2019-03-22        0  222.12        11.106     4.5  233.226    18   \n",
       "45   18.792 2019-03-09        0  375.84        18.792     9.5  394.632    18   \n",
       "\n",
       "     min  day  month  year  \n",
       "467   33    3     22  2019  \n",
       "45     0    3      9  2019  "
      ]
     },
     "execution_count": 122,
     "metadata": {},
     "output_type": "execute_result"
    }
   ],
   "source": [
    "cleandf.sample(2)"
   ]
  },
  {
   "cell_type": "code",
   "execution_count": 123,
   "id": "dfd78855",
   "metadata": {},
   "outputs": [],
   "source": [
    "X = cleandf.drop(['total','date','rating'],1)\n",
    "y = cleandf['total']"
   ]
  },
  {
   "cell_type": "code",
   "execution_count": 124,
   "id": "82abbcee",
   "metadata": {},
   "outputs": [],
   "source": [
    "X_train, X_test, y_train, y_test = train_test_split(X, y, test_size=0.3, shuffle = False)"
   ]
  },
  {
   "cell_type": "code",
   "execution_count": 126,
   "id": "572bbd09",
   "metadata": {
    "scrolled": true
   },
   "outputs": [
    {
     "data": {
      "text/html": [
       "<div>\n",
       "<style scoped>\n",
       "    .dataframe tbody tr th:only-of-type {\n",
       "        vertical-align: middle;\n",
       "    }\n",
       "\n",
       "    .dataframe tbody tr th {\n",
       "        vertical-align: top;\n",
       "    }\n",
       "\n",
       "    .dataframe thead th {\n",
       "        text-align: right;\n",
       "    }\n",
       "</style>\n",
       "<table border=\"1\" class=\"dataframe\">\n",
       "  <thead>\n",
       "    <tr style=\"text-align: right;\">\n",
       "      <th></th>\n",
       "      <th>Actual</th>\n",
       "      <th>Predicted</th>\n",
       "    </tr>\n",
       "  </thead>\n",
       "  <tbody>\n",
       "    <tr>\n",
       "      <th>803</th>\n",
       "      <td>462.672</td>\n",
       "      <td>462.104790</td>\n",
       "    </tr>\n",
       "    <tr>\n",
       "      <th>589</th>\n",
       "      <td>76.755</td>\n",
       "      <td>76.587105</td>\n",
       "    </tr>\n",
       "    <tr>\n",
       "      <th>692</th>\n",
       "      <td>510.615</td>\n",
       "      <td>511.716030</td>\n",
       "    </tr>\n",
       "    <tr>\n",
       "      <th>283</th>\n",
       "      <td>628.929</td>\n",
       "      <td>629.962515</td>\n",
       "    </tr>\n",
       "    <tr>\n",
       "      <th>966</th>\n",
       "      <td>314.685</td>\n",
       "      <td>314.252610</td>\n",
       "    </tr>\n",
       "  </tbody>\n",
       "</table>\n",
       "</div>"
      ],
      "text/plain": [
       "      Actual   Predicted\n",
       "803  462.672  462.104790\n",
       "589   76.755   76.587105\n",
       "692  510.615  511.716030\n",
       "283  628.929  629.962515\n",
       "966  314.685  314.252610"
      ]
     },
     "execution_count": 126,
     "metadata": {},
     "output_type": "execute_result"
    }
   ],
   "source": [
    "from sklearn.ensemble import RandomForestRegressor\n",
    "forest = RandomForestRegressor()\n",
    "forest = forest.fit(X_train, y_train)\n",
    "\n",
    "# Predict based on the model we've trained\n",
    "y_pred = forest.predict(X_test)\n",
    "\n",
    "\n",
    "comparison_frame = pd.DataFrame({'Actual': y_test, 'Predicted': y_pred})\n",
    "comparison_frame.head(5)\n"
   ]
  },
  {
   "cell_type": "code",
   "execution_count": 127,
   "id": "37b633e8",
   "metadata": {},
   "outputs": [
    {
     "data": {
      "text/html": [
       "<div>\n",
       "<style scoped>\n",
       "    .dataframe tbody tr th:only-of-type {\n",
       "        vertical-align: middle;\n",
       "    }\n",
       "\n",
       "    .dataframe tbody tr th {\n",
       "        vertical-align: top;\n",
       "    }\n",
       "\n",
       "    .dataframe thead th {\n",
       "        text-align: right;\n",
       "    }\n",
       "</style>\n",
       "<table border=\"1\" class=\"dataframe\">\n",
       "  <thead>\n",
       "    <tr style=\"text-align: right;\">\n",
       "      <th></th>\n",
       "      <th>Actual</th>\n",
       "      <th>Predicted</th>\n",
       "    </tr>\n",
       "  </thead>\n",
       "  <tbody>\n",
       "    <tr>\n",
       "      <th>count</th>\n",
       "      <td>300.000000</td>\n",
       "      <td>300.000000</td>\n",
       "    </tr>\n",
       "    <tr>\n",
       "      <th>mean</th>\n",
       "      <td>315.956515</td>\n",
       "      <td>315.839508</td>\n",
       "    </tr>\n",
       "    <tr>\n",
       "      <th>std</th>\n",
       "      <td>240.994547</td>\n",
       "      <td>240.971816</td>\n",
       "    </tr>\n",
       "    <tr>\n",
       "      <th>min</th>\n",
       "      <td>16.275000</td>\n",
       "      <td>15.696135</td>\n",
       "    </tr>\n",
       "    <tr>\n",
       "      <th>25%</th>\n",
       "      <td>126.824250</td>\n",
       "      <td>126.798105</td>\n",
       "    </tr>\n",
       "    <tr>\n",
       "      <th>50%</th>\n",
       "      <td>234.218250</td>\n",
       "      <td>234.611317</td>\n",
       "    </tr>\n",
       "    <tr>\n",
       "      <th>75%</th>\n",
       "      <td>461.377875</td>\n",
       "      <td>460.713015</td>\n",
       "    </tr>\n",
       "    <tr>\n",
       "      <th>max</th>\n",
       "      <td>951.825000</td>\n",
       "      <td>943.597725</td>\n",
       "    </tr>\n",
       "  </tbody>\n",
       "</table>\n",
       "</div>"
      ],
      "text/plain": [
       "           Actual   Predicted\n",
       "count  300.000000  300.000000\n",
       "mean   315.956515  315.839508\n",
       "std    240.994547  240.971816\n",
       "min     16.275000   15.696135\n",
       "25%    126.824250  126.798105\n",
       "50%    234.218250  234.611317\n",
       "75%    461.377875  460.713015\n",
       "max    951.825000  943.597725"
      ]
     },
     "execution_count": 127,
     "metadata": {},
     "output_type": "execute_result"
    }
   ],
   "source": [
    "comparison_frame.describe()"
   ]
  },
  {
   "cell_type": "markdown",
   "id": "78646909",
   "metadata": {},
   "source": [
    "There is overfitting."
   ]
  },
  {
   "cell_type": "markdown",
   "id": "530a3cda",
   "metadata": {},
   "source": [
    "Hyperameter tuning"
   ]
  },
  {
   "cell_type": "code",
   "execution_count": 128,
   "id": "833f49b8",
   "metadata": {},
   "outputs": [
    {
     "name": "stdout",
     "output_type": "stream",
     "text": [
      "Mean Absolute Error: 0.7318608500000208\n",
      "Mean Squared Error: 1.4646900580254787\n",
      "Root Mean Squared Error: 1.2102438010688088\n"
     ]
    }
   ],
   "source": [
    "from sklearn import metrics\n",
    "\n",
    "# And now we assess the errors\n",
    "print('Mean Absolute Error:', metrics.mean_absolute_error(y_test, y_pred))  \n",
    "print('Mean Squared Error:', metrics.mean_squared_error(y_test, y_pred))  \n",
    "print('Root Mean Squared Error:', np.sqrt(metrics.mean_squared_error(y_test, y_pred)))"
   ]
  },
  {
   "cell_type": "code",
   "execution_count": 129,
   "id": "f691747e",
   "metadata": {},
   "outputs": [
    {
     "data": {
      "text/html": [
       "<div>\n",
       "<style scoped>\n",
       "    .dataframe tbody tr th:only-of-type {\n",
       "        vertical-align: middle;\n",
       "    }\n",
       "\n",
       "    .dataframe tbody tr th {\n",
       "        vertical-align: top;\n",
       "    }\n",
       "\n",
       "    .dataframe thead th {\n",
       "        text-align: right;\n",
       "    }\n",
       "</style>\n",
       "<table border=\"1\" class=\"dataframe\">\n",
       "  <thead>\n",
       "    <tr style=\"text-align: right;\">\n",
       "      <th></th>\n",
       "      <th>Actual</th>\n",
       "      <th>Predicted</th>\n",
       "    </tr>\n",
       "  </thead>\n",
       "  <tbody>\n",
       "    <tr>\n",
       "      <th>803</th>\n",
       "      <td>462.672</td>\n",
       "      <td>458.111532</td>\n",
       "    </tr>\n",
       "    <tr>\n",
       "      <th>589</th>\n",
       "      <td>76.755</td>\n",
       "      <td>75.120705</td>\n",
       "    </tr>\n",
       "    <tr>\n",
       "      <th>692</th>\n",
       "      <td>510.615</td>\n",
       "      <td>511.274459</td>\n",
       "    </tr>\n",
       "    <tr>\n",
       "      <th>283</th>\n",
       "      <td>628.929</td>\n",
       "      <td>627.013260</td>\n",
       "    </tr>\n",
       "    <tr>\n",
       "      <th>966</th>\n",
       "      <td>314.685</td>\n",
       "      <td>312.015875</td>\n",
       "    </tr>\n",
       "  </tbody>\n",
       "</table>\n",
       "</div>"
      ],
      "text/plain": [
       "      Actual   Predicted\n",
       "803  462.672  458.111532\n",
       "589   76.755   75.120705\n",
       "692  510.615  511.274459\n",
       "283  628.929  627.013260\n",
       "966  314.685  312.015875"
      ]
     },
     "execution_count": 129,
     "metadata": {},
     "output_type": "execute_result"
    }
   ],
   "source": [
    "# Import the model\n",
    "from sklearn.ensemble import RandomForestRegressor\n",
    "\n",
    "# The random_state variable is here to guarantee that we all see the same numbers.\n",
    "# Note that we can provide the same parameters as in the decision tree, such as \n",
    "# min_samples_split or max_depth\n",
    "forest = RandomForestRegressor(n_estimators = 100, random_state=42, min_samples_split = 20, max_depth=5)\n",
    "forest = forest.fit(X_train, y_train)\n",
    "\n",
    "# Predict based on the model we've trained\n",
    "y_pred = forest.predict(X_test)\n",
    "\n",
    "\n",
    "comparison_frame = pd.DataFrame({'Actual': y_test, 'Predicted': y_pred})\n",
    "comparison_frame.head(5)\n"
   ]
  },
  {
   "cell_type": "code",
   "execution_count": 130,
   "id": "742c3916",
   "metadata": {
    "scrolled": true
   },
   "outputs": [
    {
     "data": {
      "text/html": [
       "<div>\n",
       "<style scoped>\n",
       "    .dataframe tbody tr th:only-of-type {\n",
       "        vertical-align: middle;\n",
       "    }\n",
       "\n",
       "    .dataframe tbody tr th {\n",
       "        vertical-align: top;\n",
       "    }\n",
       "\n",
       "    .dataframe thead th {\n",
       "        text-align: right;\n",
       "    }\n",
       "</style>\n",
       "<table border=\"1\" class=\"dataframe\">\n",
       "  <thead>\n",
       "    <tr style=\"text-align: right;\">\n",
       "      <th></th>\n",
       "      <th>Actual</th>\n",
       "      <th>Predicted</th>\n",
       "    </tr>\n",
       "  </thead>\n",
       "  <tbody>\n",
       "    <tr>\n",
       "      <th>count</th>\n",
       "      <td>300.000000</td>\n",
       "      <td>300.000000</td>\n",
       "    </tr>\n",
       "    <tr>\n",
       "      <th>mean</th>\n",
       "      <td>315.956515</td>\n",
       "      <td>316.674573</td>\n",
       "    </tr>\n",
       "    <tr>\n",
       "      <th>std</th>\n",
       "      <td>240.994547</td>\n",
       "      <td>243.675577</td>\n",
       "    </tr>\n",
       "    <tr>\n",
       "      <th>min</th>\n",
       "      <td>16.275000</td>\n",
       "      <td>25.044750</td>\n",
       "    </tr>\n",
       "    <tr>\n",
       "      <th>25%</th>\n",
       "      <td>126.824250</td>\n",
       "      <td>126.023149</td>\n",
       "    </tr>\n",
       "    <tr>\n",
       "      <th>50%</th>\n",
       "      <td>234.218250</td>\n",
       "      <td>234.950918</td>\n",
       "    </tr>\n",
       "    <tr>\n",
       "      <th>75%</th>\n",
       "      <td>461.377875</td>\n",
       "      <td>457.200062</td>\n",
       "    </tr>\n",
       "    <tr>\n",
       "      <th>max</th>\n",
       "      <td>951.825000</td>\n",
       "      <td>960.217107</td>\n",
       "    </tr>\n",
       "  </tbody>\n",
       "</table>\n",
       "</div>"
      ],
      "text/plain": [
       "           Actual   Predicted\n",
       "count  300.000000  300.000000\n",
       "mean   315.956515  316.674573\n",
       "std    240.994547  243.675577\n",
       "min     16.275000   25.044750\n",
       "25%    126.824250  126.023149\n",
       "50%    234.218250  234.950918\n",
       "75%    461.377875  457.200062\n",
       "max    951.825000  960.217107"
      ]
     },
     "execution_count": 130,
     "metadata": {},
     "output_type": "execute_result"
    }
   ],
   "source": [
    "comparison_frame.describe()"
   ]
  },
  {
   "cell_type": "code",
   "execution_count": 129,
   "id": "1e8bd5eb",
   "metadata": {
    "scrolled": false
   },
   "outputs": [
    {
     "name": "stdout",
     "output_type": "stream",
     "text": [
      "Mean Absolute Error: 3.6337216683283553\n",
      "Mean Squared Error: 36.42094660280336\n",
      "Root Mean Squared Error: 6.034976934736649\n"
     ]
    }
   ],
   "source": [
    "from sklearn import metrics\n",
    "\n",
    "# And now we assess the errors\n",
    "print('Mean Absolute Error:', metrics.mean_absolute_error(y_test, y_pred))  \n",
    "print('Mean Squared Error:', metrics.mean_squared_error(y_test, y_pred))  \n",
    "print('Root Mean Squared Error:', np.sqrt(metrics.mean_squared_error(y_test, y_pred)))"
   ]
  },
  {
   "cell_type": "markdown",
   "id": "c3c9f07f",
   "metadata": {},
   "source": [
    "# Conclusion"
   ]
  },
  {
   "cell_type": "markdown",
   "id": "9a2595bc",
   "metadata": {},
   "source": [
    "1. Store A has the highest number of sales \n",
    "2. Gender is almost equal in proportion\n",
    "3. Many people pay via ewallet\n",
    "4. Most of the numerical variables are not normally distributed.\n",
    "5. Correlation\n",
    "6. ML prediction with an accuracy of.\n"
   ]
  }
 ],
 "metadata": {
  "kernelspec": {
   "display_name": "Python 3 (ipykernel)",
   "language": "python",
   "name": "python3"
  },
  "language_info": {
   "codemirror_mode": {
    "name": "ipython",
    "version": 3
   },
   "file_extension": ".py",
   "mimetype": "text/x-python",
   "name": "python",
   "nbconvert_exporter": "python",
   "pygments_lexer": "ipython3",
   "version": "3.9.12"
  }
 },
 "nbformat": 4,
 "nbformat_minor": 5
}
