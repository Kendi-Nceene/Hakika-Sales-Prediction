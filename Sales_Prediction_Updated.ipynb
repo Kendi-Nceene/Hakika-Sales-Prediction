{
  "cells": [
    {
      "cell_type": "markdown",
      "metadata": {
        "id": "view-in-github",
        "colab_type": "text"
      },
      "source": [
        "<a href=\"https://colab.research.google.com/github/Kendi-Nceene/Sales-Prediction/blob/main/Sales_Prediction_Updated.ipynb\" target=\"_parent\"><img src=\"https://colab.research.google.com/assets/colab-badge.svg\" alt=\"Open In Colab\"/></a>"
      ]
    },
    {
      "cell_type": "markdown",
      "id": "8dca5c71",
      "metadata": {
        "id": "8dca5c71"
      },
      "source": [
        "# Supermarket Sales Prediction\n"
      ]
    },
    {
      "cell_type": "markdown",
      "id": "954fea75",
      "metadata": {
        "id": "954fea75"
      },
      "source": [
        "# 1. Defining the Question"
      ]
    },
    {
      "cell_type": "markdown",
      "id": "c3a1cea4",
      "metadata": {
        "id": "c3a1cea4"
      },
      "source": [
        "# a) Specifying the Question\n",
        "\n",
        "> Building a supervised machine learning algorithm to predict sales."
      ]
    },
    {
      "cell_type": "markdown",
      "id": "cb70529f",
      "metadata": {
        "id": "cb70529f"
      },
      "source": [
        "# b) Defining the Metrics for Success¶\n",
        "\n",
        "> Building a machine learning algorithm with the lowest RMSE."
      ]
    },
    {
      "cell_type": "markdown",
      "id": "5043c90b",
      "metadata": {
        "id": "5043c90b"
      },
      "source": [
        "# c) Understanding the context"
      ]
    },
    {
      "cell_type": "markdown",
      "id": "cf9eea05",
      "metadata": {
        "id": "cf9eea05"
      },
      "source": [
        "# d) Recording the Experimental Design\n",
        "\n",
        "> 1. Problem Definition\n",
        "\n",
        "> 2. Data Sourcing\n",
        "\n",
        "> 3. Check the Data\n",
        "\n",
        "> 4. Perform Data Cleaning\n",
        "\n",
        "> 5. Perform Exploratory Data Analysis (Univariate, Bivariate & Multivariate)\n",
        "\n",
        "> 6. Implement the Solution\n",
        "\n",
        "> 7. Challenge the Solution\n",
        "\n",
        "> 8. Follow up Questions\n",
        "\n",
        "> 9. Conclusions\n",
        "\n",
        "> 10. Recommendations"
      ]
    },
    {
      "cell_type": "markdown",
      "id": "487a92e8",
      "metadata": {
        "id": "487a92e8"
      },
      "source": [
        "# 2. Importing Libraries"
      ]
    },
    {
      "cell_type": "code",
      "execution_count": 281,
      "id": "c486934c",
      "metadata": {
        "id": "c486934c"
      },
      "outputs": [],
      "source": [
        "# Lets import relevant libraries\n",
        "import pandas as pd\n",
        "import numpy as np\n",
        "\n",
        "\n",
        "import matplotlib.pyplot as plt\n",
        "%matplotlib inline\n",
        "import seaborn as sns\n",
        "\n",
        "from sklearn.preprocessing import LabelEncoder\n",
        "from sklearn.preprocessing import StandardScaler\n",
        "\n",
        "import warnings\n",
        "warnings.simplefilter(action='ignore', category=FutureWarning)"
      ]
    },
    {
      "cell_type": "markdown",
      "id": "54e59cca",
      "metadata": {
        "id": "54e59cca"
      },
      "source": [
        "# 3. Data Wrangling\n",
        "## a) Gathering Data"
      ]
    },
    {
      "cell_type": "code",
      "execution_count": 282,
      "id": "c3657d9b",
      "metadata": {
        "id": "c3657d9b"
      },
      "outputs": [],
      "source": [
        "# Lets create a function that reads data\n",
        "\n",
        "def read(data):\n",
        "    return pd.read_csv(data)"
      ]
    },
    {
      "cell_type": "code",
      "execution_count": 283,
      "id": "aba42bd6",
      "metadata": {
        "colab": {
          "base_uri": "https://localhost:8080/",
          "height": 357
        },
        "id": "aba42bd6",
        "outputId": "83f1e63d-c71e-45b0-f62b-abbc56694ee5"
      },
      "outputs": [
        {
          "output_type": "execute_result",
          "data": {
            "text/plain": [
              "     Item_Identifier  Item_Weight Item_Fat_Content  Item_Visibility  \\\n",
              "3327           FDQ46        7.510          Low Fat         0.104024   \n",
              "1381           DRN59       15.000          Low Fat         0.064241   \n",
              "7626           NCD54          NaN          Low Fat         0.050791   \n",
              "6215           NCW54        7.500          low fat         0.096413   \n",
              "983            FDC26       10.195          Low Fat         0.126898   \n",
              "\n",
              "        Item_Type  Item_MRP Outlet_Identifier  Outlet_Establishment_Year  \\\n",
              "3327  Snack Foods  112.4544            OUT045                       2002   \n",
              "1381  Hard Drinks   45.2060            OUT049                       1999   \n",
              "7626    Household  142.7786            OUT019                       1985   \n",
              "6215    Household   55.3588            OUT046                       1997   \n",
              "983        Canned  110.6886            OUT018                       2009   \n",
              "\n",
              "     Outlet_Size Outlet_Location_Type        Outlet_Type  Item_Outlet_Sales  \n",
              "3327         NaN               Tier 2  Supermarket Type1          2013.3792  \n",
              "1381      Medium               Tier 1  Supermarket Type1           792.3020  \n",
              "7626       Small               Tier 1      Grocery Store           144.4786  \n",
              "6215       Small               Tier 1  Supermarket Type1          1030.6584  \n",
              "983       Medium               Tier 3  Supermarket Type2          1223.0746  "
            ],
            "text/html": [
              "\n",
              "  <div id=\"df-de3cfa7b-5041-490a-a82f-ee696b363823\">\n",
              "    <div class=\"colab-df-container\">\n",
              "      <div>\n",
              "<style scoped>\n",
              "    .dataframe tbody tr th:only-of-type {\n",
              "        vertical-align: middle;\n",
              "    }\n",
              "\n",
              "    .dataframe tbody tr th {\n",
              "        vertical-align: top;\n",
              "    }\n",
              "\n",
              "    .dataframe thead th {\n",
              "        text-align: right;\n",
              "    }\n",
              "</style>\n",
              "<table border=\"1\" class=\"dataframe\">\n",
              "  <thead>\n",
              "    <tr style=\"text-align: right;\">\n",
              "      <th></th>\n",
              "      <th>Item_Identifier</th>\n",
              "      <th>Item_Weight</th>\n",
              "      <th>Item_Fat_Content</th>\n",
              "      <th>Item_Visibility</th>\n",
              "      <th>Item_Type</th>\n",
              "      <th>Item_MRP</th>\n",
              "      <th>Outlet_Identifier</th>\n",
              "      <th>Outlet_Establishment_Year</th>\n",
              "      <th>Outlet_Size</th>\n",
              "      <th>Outlet_Location_Type</th>\n",
              "      <th>Outlet_Type</th>\n",
              "      <th>Item_Outlet_Sales</th>\n",
              "    </tr>\n",
              "  </thead>\n",
              "  <tbody>\n",
              "    <tr>\n",
              "      <th>3327</th>\n",
              "      <td>FDQ46</td>\n",
              "      <td>7.510</td>\n",
              "      <td>Low Fat</td>\n",
              "      <td>0.104024</td>\n",
              "      <td>Snack Foods</td>\n",
              "      <td>112.4544</td>\n",
              "      <td>OUT045</td>\n",
              "      <td>2002</td>\n",
              "      <td>NaN</td>\n",
              "      <td>Tier 2</td>\n",
              "      <td>Supermarket Type1</td>\n",
              "      <td>2013.3792</td>\n",
              "    </tr>\n",
              "    <tr>\n",
              "      <th>1381</th>\n",
              "      <td>DRN59</td>\n",
              "      <td>15.000</td>\n",
              "      <td>Low Fat</td>\n",
              "      <td>0.064241</td>\n",
              "      <td>Hard Drinks</td>\n",
              "      <td>45.2060</td>\n",
              "      <td>OUT049</td>\n",
              "      <td>1999</td>\n",
              "      <td>Medium</td>\n",
              "      <td>Tier 1</td>\n",
              "      <td>Supermarket Type1</td>\n",
              "      <td>792.3020</td>\n",
              "    </tr>\n",
              "    <tr>\n",
              "      <th>7626</th>\n",
              "      <td>NCD54</td>\n",
              "      <td>NaN</td>\n",
              "      <td>Low Fat</td>\n",
              "      <td>0.050791</td>\n",
              "      <td>Household</td>\n",
              "      <td>142.7786</td>\n",
              "      <td>OUT019</td>\n",
              "      <td>1985</td>\n",
              "      <td>Small</td>\n",
              "      <td>Tier 1</td>\n",
              "      <td>Grocery Store</td>\n",
              "      <td>144.4786</td>\n",
              "    </tr>\n",
              "    <tr>\n",
              "      <th>6215</th>\n",
              "      <td>NCW54</td>\n",
              "      <td>7.500</td>\n",
              "      <td>low fat</td>\n",
              "      <td>0.096413</td>\n",
              "      <td>Household</td>\n",
              "      <td>55.3588</td>\n",
              "      <td>OUT046</td>\n",
              "      <td>1997</td>\n",
              "      <td>Small</td>\n",
              "      <td>Tier 1</td>\n",
              "      <td>Supermarket Type1</td>\n",
              "      <td>1030.6584</td>\n",
              "    </tr>\n",
              "    <tr>\n",
              "      <th>983</th>\n",
              "      <td>FDC26</td>\n",
              "      <td>10.195</td>\n",
              "      <td>Low Fat</td>\n",
              "      <td>0.126898</td>\n",
              "      <td>Canned</td>\n",
              "      <td>110.6886</td>\n",
              "      <td>OUT018</td>\n",
              "      <td>2009</td>\n",
              "      <td>Medium</td>\n",
              "      <td>Tier 3</td>\n",
              "      <td>Supermarket Type2</td>\n",
              "      <td>1223.0746</td>\n",
              "    </tr>\n",
              "  </tbody>\n",
              "</table>\n",
              "</div>\n",
              "      <button class=\"colab-df-convert\" onclick=\"convertToInteractive('df-de3cfa7b-5041-490a-a82f-ee696b363823')\"\n",
              "              title=\"Convert this dataframe to an interactive table.\"\n",
              "              style=\"display:none;\">\n",
              "        \n",
              "  <svg xmlns=\"http://www.w3.org/2000/svg\" height=\"24px\"viewBox=\"0 0 24 24\"\n",
              "       width=\"24px\">\n",
              "    <path d=\"M0 0h24v24H0V0z\" fill=\"none\"/>\n",
              "    <path d=\"M18.56 5.44l.94 2.06.94-2.06 2.06-.94-2.06-.94-.94-2.06-.94 2.06-2.06.94zm-11 1L8.5 8.5l.94-2.06 2.06-.94-2.06-.94L8.5 2.5l-.94 2.06-2.06.94zm10 10l.94 2.06.94-2.06 2.06-.94-2.06-.94-.94-2.06-.94 2.06-2.06.94z\"/><path d=\"M17.41 7.96l-1.37-1.37c-.4-.4-.92-.59-1.43-.59-.52 0-1.04.2-1.43.59L10.3 9.45l-7.72 7.72c-.78.78-.78 2.05 0 2.83L4 21.41c.39.39.9.59 1.41.59.51 0 1.02-.2 1.41-.59l7.78-7.78 2.81-2.81c.8-.78.8-2.07 0-2.86zM5.41 20L4 18.59l7.72-7.72 1.47 1.35L5.41 20z\"/>\n",
              "  </svg>\n",
              "      </button>\n",
              "      \n",
              "  <style>\n",
              "    .colab-df-container {\n",
              "      display:flex;\n",
              "      flex-wrap:wrap;\n",
              "      gap: 12px;\n",
              "    }\n",
              "\n",
              "    .colab-df-convert {\n",
              "      background-color: #E8F0FE;\n",
              "      border: none;\n",
              "      border-radius: 50%;\n",
              "      cursor: pointer;\n",
              "      display: none;\n",
              "      fill: #1967D2;\n",
              "      height: 32px;\n",
              "      padding: 0 0 0 0;\n",
              "      width: 32px;\n",
              "    }\n",
              "\n",
              "    .colab-df-convert:hover {\n",
              "      background-color: #E2EBFA;\n",
              "      box-shadow: 0px 1px 2px rgba(60, 64, 67, 0.3), 0px 1px 3px 1px rgba(60, 64, 67, 0.15);\n",
              "      fill: #174EA6;\n",
              "    }\n",
              "\n",
              "    [theme=dark] .colab-df-convert {\n",
              "      background-color: #3B4455;\n",
              "      fill: #D2E3FC;\n",
              "    }\n",
              "\n",
              "    [theme=dark] .colab-df-convert:hover {\n",
              "      background-color: #434B5C;\n",
              "      box-shadow: 0px 1px 3px 1px rgba(0, 0, 0, 0.15);\n",
              "      filter: drop-shadow(0px 1px 2px rgba(0, 0, 0, 0.3));\n",
              "      fill: #FFFFFF;\n",
              "    }\n",
              "  </style>\n",
              "\n",
              "      <script>\n",
              "        const buttonEl =\n",
              "          document.querySelector('#df-de3cfa7b-5041-490a-a82f-ee696b363823 button.colab-df-convert');\n",
              "        buttonEl.style.display =\n",
              "          google.colab.kernel.accessAllowed ? 'block' : 'none';\n",
              "\n",
              "        async function convertToInteractive(key) {\n",
              "          const element = document.querySelector('#df-de3cfa7b-5041-490a-a82f-ee696b363823');\n",
              "          const dataTable =\n",
              "            await google.colab.kernel.invokeFunction('convertToInteractive',\n",
              "                                                     [key], {});\n",
              "          if (!dataTable) return;\n",
              "\n",
              "          const docLinkHtml = 'Like what you see? Visit the ' +\n",
              "            '<a target=\"_blank\" href=https://colab.research.google.com/notebooks/data_table.ipynb>data table notebook</a>'\n",
              "            + ' to learn more about interactive tables.';\n",
              "          element.innerHTML = '';\n",
              "          dataTable['output_type'] = 'display_data';\n",
              "          await google.colab.output.renderOutput(dataTable, element);\n",
              "          const docLink = document.createElement('div');\n",
              "          docLink.innerHTML = docLinkHtml;\n",
              "          element.appendChild(docLink);\n",
              "        }\n",
              "      </script>\n",
              "    </div>\n",
              "  </div>\n",
              "  "
            ]
          },
          "metadata": {},
          "execution_count": 283
        }
      ],
      "source": [
        "# Lets read the  train dataset\n",
        "\n",
        "sales_traindf = read('train.csv')\n",
        "sales_traindf.sample(5)"
      ]
    },
    {
      "cell_type": "code",
      "execution_count": 284,
      "id": "71317c6b",
      "metadata": {
        "scrolled": true,
        "id": "71317c6b",
        "colab": {
          "base_uri": "https://localhost:8080/",
          "height": 357
        },
        "outputId": "febc33bd-de5d-40c0-bb64-f69df99b539a"
      },
      "outputs": [
        {
          "output_type": "execute_result",
          "data": {
            "text/plain": [
              "     Item_Identifier  Item_Weight Item_Fat_Content  Item_Visibility  \\\n",
              "1254           FDY03        17.60          Regular         0.076107   \n",
              "416            FDG45         8.10          Low Fat         0.000000   \n",
              "5126           FDN25          NaN          Regular         0.060879   \n",
              "4057           FDN22          NaN          Regular         0.000000   \n",
              "760            FDY56        16.35          Regular         0.062538   \n",
              "\n",
              "                  Item_Type  Item_MRP Outlet_Identifier  \\\n",
              "1254                   Meat  113.0202            OUT035   \n",
              "416   Fruits and Vegetables  213.2902            OUT049   \n",
              "5126              Breakfast   56.1588            OUT027   \n",
              "4057            Snack Foods  252.6724            OUT027   \n",
              "760   Fruits and Vegetables  226.5062            OUT045   \n",
              "\n",
              "      Outlet_Establishment_Year Outlet_Size Outlet_Location_Type  \\\n",
              "1254                       2004       Small               Tier 2   \n",
              "416                        1999      Medium               Tier 1   \n",
              "5126                       1985      Medium               Tier 3   \n",
              "4057                       1985      Medium               Tier 3   \n",
              "760                        2002         NaN               Tier 2   \n",
              "\n",
              "            Outlet_Type  \n",
              "1254  Supermarket Type1  \n",
              "416   Supermarket Type1  \n",
              "5126  Supermarket Type3  \n",
              "4057  Supermarket Type3  \n",
              "760   Supermarket Type1  "
            ],
            "text/html": [
              "\n",
              "  <div id=\"df-be552d18-3b9c-4610-b16f-0b70fcecd781\">\n",
              "    <div class=\"colab-df-container\">\n",
              "      <div>\n",
              "<style scoped>\n",
              "    .dataframe tbody tr th:only-of-type {\n",
              "        vertical-align: middle;\n",
              "    }\n",
              "\n",
              "    .dataframe tbody tr th {\n",
              "        vertical-align: top;\n",
              "    }\n",
              "\n",
              "    .dataframe thead th {\n",
              "        text-align: right;\n",
              "    }\n",
              "</style>\n",
              "<table border=\"1\" class=\"dataframe\">\n",
              "  <thead>\n",
              "    <tr style=\"text-align: right;\">\n",
              "      <th></th>\n",
              "      <th>Item_Identifier</th>\n",
              "      <th>Item_Weight</th>\n",
              "      <th>Item_Fat_Content</th>\n",
              "      <th>Item_Visibility</th>\n",
              "      <th>Item_Type</th>\n",
              "      <th>Item_MRP</th>\n",
              "      <th>Outlet_Identifier</th>\n",
              "      <th>Outlet_Establishment_Year</th>\n",
              "      <th>Outlet_Size</th>\n",
              "      <th>Outlet_Location_Type</th>\n",
              "      <th>Outlet_Type</th>\n",
              "    </tr>\n",
              "  </thead>\n",
              "  <tbody>\n",
              "    <tr>\n",
              "      <th>1254</th>\n",
              "      <td>FDY03</td>\n",
              "      <td>17.60</td>\n",
              "      <td>Regular</td>\n",
              "      <td>0.076107</td>\n",
              "      <td>Meat</td>\n",
              "      <td>113.0202</td>\n",
              "      <td>OUT035</td>\n",
              "      <td>2004</td>\n",
              "      <td>Small</td>\n",
              "      <td>Tier 2</td>\n",
              "      <td>Supermarket Type1</td>\n",
              "    </tr>\n",
              "    <tr>\n",
              "      <th>416</th>\n",
              "      <td>FDG45</td>\n",
              "      <td>8.10</td>\n",
              "      <td>Low Fat</td>\n",
              "      <td>0.000000</td>\n",
              "      <td>Fruits and Vegetables</td>\n",
              "      <td>213.2902</td>\n",
              "      <td>OUT049</td>\n",
              "      <td>1999</td>\n",
              "      <td>Medium</td>\n",
              "      <td>Tier 1</td>\n",
              "      <td>Supermarket Type1</td>\n",
              "    </tr>\n",
              "    <tr>\n",
              "      <th>5126</th>\n",
              "      <td>FDN25</td>\n",
              "      <td>NaN</td>\n",
              "      <td>Regular</td>\n",
              "      <td>0.060879</td>\n",
              "      <td>Breakfast</td>\n",
              "      <td>56.1588</td>\n",
              "      <td>OUT027</td>\n",
              "      <td>1985</td>\n",
              "      <td>Medium</td>\n",
              "      <td>Tier 3</td>\n",
              "      <td>Supermarket Type3</td>\n",
              "    </tr>\n",
              "    <tr>\n",
              "      <th>4057</th>\n",
              "      <td>FDN22</td>\n",
              "      <td>NaN</td>\n",
              "      <td>Regular</td>\n",
              "      <td>0.000000</td>\n",
              "      <td>Snack Foods</td>\n",
              "      <td>252.6724</td>\n",
              "      <td>OUT027</td>\n",
              "      <td>1985</td>\n",
              "      <td>Medium</td>\n",
              "      <td>Tier 3</td>\n",
              "      <td>Supermarket Type3</td>\n",
              "    </tr>\n",
              "    <tr>\n",
              "      <th>760</th>\n",
              "      <td>FDY56</td>\n",
              "      <td>16.35</td>\n",
              "      <td>Regular</td>\n",
              "      <td>0.062538</td>\n",
              "      <td>Fruits and Vegetables</td>\n",
              "      <td>226.5062</td>\n",
              "      <td>OUT045</td>\n",
              "      <td>2002</td>\n",
              "      <td>NaN</td>\n",
              "      <td>Tier 2</td>\n",
              "      <td>Supermarket Type1</td>\n",
              "    </tr>\n",
              "  </tbody>\n",
              "</table>\n",
              "</div>\n",
              "      <button class=\"colab-df-convert\" onclick=\"convertToInteractive('df-be552d18-3b9c-4610-b16f-0b70fcecd781')\"\n",
              "              title=\"Convert this dataframe to an interactive table.\"\n",
              "              style=\"display:none;\">\n",
              "        \n",
              "  <svg xmlns=\"http://www.w3.org/2000/svg\" height=\"24px\"viewBox=\"0 0 24 24\"\n",
              "       width=\"24px\">\n",
              "    <path d=\"M0 0h24v24H0V0z\" fill=\"none\"/>\n",
              "    <path d=\"M18.56 5.44l.94 2.06.94-2.06 2.06-.94-2.06-.94-.94-2.06-.94 2.06-2.06.94zm-11 1L8.5 8.5l.94-2.06 2.06-.94-2.06-.94L8.5 2.5l-.94 2.06-2.06.94zm10 10l.94 2.06.94-2.06 2.06-.94-2.06-.94-.94-2.06-.94 2.06-2.06.94z\"/><path d=\"M17.41 7.96l-1.37-1.37c-.4-.4-.92-.59-1.43-.59-.52 0-1.04.2-1.43.59L10.3 9.45l-7.72 7.72c-.78.78-.78 2.05 0 2.83L4 21.41c.39.39.9.59 1.41.59.51 0 1.02-.2 1.41-.59l7.78-7.78 2.81-2.81c.8-.78.8-2.07 0-2.86zM5.41 20L4 18.59l7.72-7.72 1.47 1.35L5.41 20z\"/>\n",
              "  </svg>\n",
              "      </button>\n",
              "      \n",
              "  <style>\n",
              "    .colab-df-container {\n",
              "      display:flex;\n",
              "      flex-wrap:wrap;\n",
              "      gap: 12px;\n",
              "    }\n",
              "\n",
              "    .colab-df-convert {\n",
              "      background-color: #E8F0FE;\n",
              "      border: none;\n",
              "      border-radius: 50%;\n",
              "      cursor: pointer;\n",
              "      display: none;\n",
              "      fill: #1967D2;\n",
              "      height: 32px;\n",
              "      padding: 0 0 0 0;\n",
              "      width: 32px;\n",
              "    }\n",
              "\n",
              "    .colab-df-convert:hover {\n",
              "      background-color: #E2EBFA;\n",
              "      box-shadow: 0px 1px 2px rgba(60, 64, 67, 0.3), 0px 1px 3px 1px rgba(60, 64, 67, 0.15);\n",
              "      fill: #174EA6;\n",
              "    }\n",
              "\n",
              "    [theme=dark] .colab-df-convert {\n",
              "      background-color: #3B4455;\n",
              "      fill: #D2E3FC;\n",
              "    }\n",
              "\n",
              "    [theme=dark] .colab-df-convert:hover {\n",
              "      background-color: #434B5C;\n",
              "      box-shadow: 0px 1px 3px 1px rgba(0, 0, 0, 0.15);\n",
              "      filter: drop-shadow(0px 1px 2px rgba(0, 0, 0, 0.3));\n",
              "      fill: #FFFFFF;\n",
              "    }\n",
              "  </style>\n",
              "\n",
              "      <script>\n",
              "        const buttonEl =\n",
              "          document.querySelector('#df-be552d18-3b9c-4610-b16f-0b70fcecd781 button.colab-df-convert');\n",
              "        buttonEl.style.display =\n",
              "          google.colab.kernel.accessAllowed ? 'block' : 'none';\n",
              "\n",
              "        async function convertToInteractive(key) {\n",
              "          const element = document.querySelector('#df-be552d18-3b9c-4610-b16f-0b70fcecd781');\n",
              "          const dataTable =\n",
              "            await google.colab.kernel.invokeFunction('convertToInteractive',\n",
              "                                                     [key], {});\n",
              "          if (!dataTable) return;\n",
              "\n",
              "          const docLinkHtml = 'Like what you see? Visit the ' +\n",
              "            '<a target=\"_blank\" href=https://colab.research.google.com/notebooks/data_table.ipynb>data table notebook</a>'\n",
              "            + ' to learn more about interactive tables.';\n",
              "          element.innerHTML = '';\n",
              "          dataTable['output_type'] = 'display_data';\n",
              "          await google.colab.output.renderOutput(dataTable, element);\n",
              "          const docLink = document.createElement('div');\n",
              "          docLink.innerHTML = docLinkHtml;\n",
              "          element.appendChild(docLink);\n",
              "        }\n",
              "      </script>\n",
              "    </div>\n",
              "  </div>\n",
              "  "
            ]
          },
          "metadata": {},
          "execution_count": 284
        }
      ],
      "source": [
        "# Lets preview a sample of the dataset\n",
        "sales_testdf = read('test.csv')\n",
        "sales_testdf.sample(5)\n"
      ]
    },
    {
      "cell_type": "markdown",
      "id": "de11531e",
      "metadata": {
        "id": "de11531e"
      },
      "source": [
        "## b) Assessing Data"
      ]
    },
    {
      "cell_type": "code",
      "execution_count": 285,
      "id": "c68d1c91",
      "metadata": {
        "id": "c68d1c91",
        "colab": {
          "base_uri": "https://localhost:8080/"
        },
        "outputId": "69726289-6b06-460f-ac50-cc53d502844e"
      },
      "outputs": [
        {
          "output_type": "stream",
          "name": "stdout",
          "text": [
            "The train dataset had (8523, 12) rows and columns respectively\n",
            "The test dataset had (5681, 11) rows and columns respectively\n"
          ]
        }
      ],
      "source": [
        "# Lets preview the shape of the datasets\n",
        "print('The train dataset had',sales_traindf.shape,'rows and columns respectively')\n",
        "print('The test dataset had',sales_testdf.shape,'rows and columns respectively')"
      ]
    },
    {
      "cell_type": "code",
      "execution_count": 286,
      "id": "5fdfd046",
      "metadata": {
        "id": "5fdfd046",
        "colab": {
          "base_uri": "https://localhost:8080/"
        },
        "outputId": "38433c16-82c3-401a-fe21-55e01e091960"
      },
      "outputs": [
        {
          "output_type": "stream",
          "name": "stdout",
          "text": [
            "<class 'pandas.core.frame.DataFrame'>\n",
            "RangeIndex: 8523 entries, 0 to 8522\n",
            "Data columns (total 12 columns):\n",
            " #   Column                     Non-Null Count  Dtype  \n",
            "---  ------                     --------------  -----  \n",
            " 0   Item_Identifier            8523 non-null   object \n",
            " 1   Item_Weight                7060 non-null   float64\n",
            " 2   Item_Fat_Content           8523 non-null   object \n",
            " 3   Item_Visibility            8523 non-null   float64\n",
            " 4   Item_Type                  8523 non-null   object \n",
            " 5   Item_MRP                   8523 non-null   float64\n",
            " 6   Outlet_Identifier          8523 non-null   object \n",
            " 7   Outlet_Establishment_Year  8523 non-null   int64  \n",
            " 8   Outlet_Size                6113 non-null   object \n",
            " 9   Outlet_Location_Type       8523 non-null   object \n",
            " 10  Outlet_Type                8523 non-null   object \n",
            " 11  Item_Outlet_Sales          8523 non-null   float64\n",
            "dtypes: float64(4), int64(1), object(7)\n",
            "memory usage: 799.2+ KB\n",
            "None\n",
            "....................................................................................................\n",
            "<class 'pandas.core.frame.DataFrame'>\n",
            "RangeIndex: 5681 entries, 0 to 5680\n",
            "Data columns (total 11 columns):\n",
            " #   Column                     Non-Null Count  Dtype  \n",
            "---  ------                     --------------  -----  \n",
            " 0   Item_Identifier            5681 non-null   object \n",
            " 1   Item_Weight                4705 non-null   float64\n",
            " 2   Item_Fat_Content           5681 non-null   object \n",
            " 3   Item_Visibility            5681 non-null   float64\n",
            " 4   Item_Type                  5681 non-null   object \n",
            " 5   Item_MRP                   5681 non-null   float64\n",
            " 6   Outlet_Identifier          5681 non-null   object \n",
            " 7   Outlet_Establishment_Year  5681 non-null   int64  \n",
            " 8   Outlet_Size                4075 non-null   object \n",
            " 9   Outlet_Location_Type       5681 non-null   object \n",
            " 10  Outlet_Type                5681 non-null   object \n",
            "dtypes: float64(3), int64(1), object(7)\n",
            "memory usage: 488.3+ KB\n",
            "None\n"
          ]
        }
      ],
      "source": [
        "# Lets preview the columns of each dataset since the test dataset seems to have one column less\n",
        "print(sales_traindf.info())\n",
        "print('..'*50)\n",
        "print(sales_testdf.info())"
      ]
    },
    {
      "cell_type": "markdown",
      "id": "68f31b96",
      "metadata": {
        "id": "68f31b96"
      },
      "source": [
        "> The missing column is our target variable which is sales which the machine needs to predict.\n",
        "\n",
        "> All the columns have correct datatpes"
      ]
    },
    {
      "cell_type": "code",
      "execution_count": 287,
      "id": "61e8830b",
      "metadata": {
        "id": "61e8830b",
        "colab": {
          "base_uri": "https://localhost:8080/"
        },
        "outputId": "2c05c217-09de-488c-b60f-e526ea5933a0"
      },
      "outputs": [
        {
          "output_type": "stream",
          "name": "stdout",
          "text": [
            "The percentage of missing values in the train data were: \n",
            "Item_Identifier               0.000000\n",
            "Item_Weight                  17.165317\n",
            "Item_Fat_Content              0.000000\n",
            "Item_Visibility               0.000000\n",
            "Item_Type                     0.000000\n",
            "Item_MRP                      0.000000\n",
            "Outlet_Identifier             0.000000\n",
            "Outlet_Establishment_Year     0.000000\n",
            "Outlet_Size                  28.276428\n",
            "Outlet_Location_Type          0.000000\n",
            "Outlet_Type                   0.000000\n",
            "Item_Outlet_Sales             0.000000\n",
            "dtype: float64\n",
            "....................................................................................................\n",
            "The percentage of missing values in the train data were \n",
            "Item_Identifier               0.000000\n",
            "Item_Weight                  11.451367\n",
            "Item_Fat_Content              0.000000\n",
            "Item_Visibility               0.000000\n",
            "Item_Type                     0.000000\n",
            "Item_MRP                      0.000000\n",
            "Outlet_Identifier             0.000000\n",
            "Outlet_Establishment_Year     0.000000\n",
            "Outlet_Size                  18.843130\n",
            "Outlet_Location_Type          0.000000\n",
            "Outlet_Type                   0.000000\n",
            "dtype: float64\n"
          ]
        }
      ],
      "source": [
        "# Lets check for missing values in both the datasets\n",
        "print('The percentage of missing values in the train data were: ')\n",
        "print(sales_traindf.isna().sum()/len(sales_traindf)*100)\n",
        "print('..'*50)\n",
        "print('The percentage of missing values in the train data were ')\n",
        "print(sales_testdf.isna().sum()/len(sales_traindf)*100)"
      ]
    },
    {
      "cell_type": "markdown",
      "id": "865794c4",
      "metadata": {
        "id": "865794c4"
      },
      "source": [
        "> Two columns in each dataset had missing values. We'll perform some cleaning procedures"
      ]
    },
    {
      "cell_type": "code",
      "execution_count": 288,
      "id": "d1430939",
      "metadata": {
        "id": "d1430939",
        "colab": {
          "base_uri": "https://localhost:8080/"
        },
        "outputId": "2f0f19ce-cd6b-4f71-9533-d2ed5072fcab"
      },
      "outputs": [
        {
          "output_type": "stream",
          "name": "stdout",
          "text": [
            "The percentage of duplicate values in the train data was: \n",
            "0.0\n",
            "....................................................................................................\n",
            "The percentage of duplicate values in the train data was \n",
            "0.0\n"
          ]
        }
      ],
      "source": [
        "print('The percentage of duplicate values in the train data was: ')\n",
        "print(sales_traindf.duplicated().sum()/len(sales_traindf)*100)\n",
        "print('..'*50)\n",
        "print('The percentage of duplicate values in the train data was ')\n",
        "print(sales_testdf.duplicated().sum()/len(sales_traindf)*100)"
      ]
    },
    {
      "cell_type": "code",
      "execution_count": 289,
      "id": "a6ac9f1f",
      "metadata": {
        "id": "a6ac9f1f",
        "colab": {
          "base_uri": "https://localhost:8080/"
        },
        "outputId": "3482be07-3688-451f-b88e-651fa377393d"
      },
      "outputs": [
        {
          "output_type": "stream",
          "name": "stdout",
          "text": [
            "Train Dataset\n",
            "Cardinality of the dataset columns : \n",
            "\n",
            "Item_Identifier : 1559\n",
            "Item_Weight : 415\n",
            "Item_Fat_Content : 5\n",
            "Item_Visibility : 7880\n",
            "Item_Type : 16\n",
            "Item_MRP : 5938\n",
            "Outlet_Identifier : 10\n",
            "Outlet_Establishment_Year : 9\n",
            "Outlet_Size : 3\n",
            "Outlet_Location_Type : 3\n",
            "Outlet_Type : 4\n",
            "Item_Outlet_Sales : 3493\n",
            "....................................................................................................\n",
            "Test Dataset\n",
            "Cardinality of the dataset columns : \n",
            "\n",
            "Item_Identifier : 1543\n",
            "Item_Weight : 410\n",
            "Item_Fat_Content : 5\n",
            "Item_Visibility : 5277\n",
            "Item_Type : 16\n",
            "Item_MRP : 4402\n",
            "Outlet_Identifier : 10\n",
            "Outlet_Establishment_Year : 9\n",
            "Outlet_Size : 3\n",
            "Outlet_Location_Type : 3\n",
            "Outlet_Type : 4\n"
          ]
        }
      ],
      "source": [
        "# Check Cardinality\n",
        "# We will use a for loop function to iterate through the columns \n",
        "# while checking for the number of unique values in each column.\n",
        "\n",
        "# Number of unique values in the obesity dataset\n",
        "\n",
        "def cardinal(data):\n",
        "    print('Cardinality of the dataset columns : \\n')\n",
        "    for i in data.columns:\n",
        "        print(f'{i} : {data[i].nunique()}')\n",
        "\n",
        "print('Train Dataset')\n",
        "cardinal(sales_traindf)\n",
        "print('..'*50)\n",
        "print('Test Dataset')\n",
        "cardinal(sales_testdf)\n"
      ]
    },
    {
      "cell_type": "code",
      "execution_count": 290,
      "id": "31657cd9",
      "metadata": {
        "id": "31657cd9",
        "colab": {
          "base_uri": "https://localhost:8080/"
        },
        "outputId": "3dc5bdf5-479d-438a-a191-a907b551cdb6"
      },
      "outputs": [
        {
          "output_type": "stream",
          "name": "stdout",
          "text": [
            "Fat Content\n",
            "['Low Fat' 'Regular' 'low fat' 'LF' 'reg']\n",
            "----------------------------------------------------\n",
            "Item Type\n",
            "['Dairy' 'Soft Drinks' 'Meat' 'Fruits and Vegetables' 'Household'\n",
            " 'Baking Goods' 'Snack Foods' 'Frozen Foods' 'Breakfast'\n",
            " 'Health and Hygiene' 'Hard Drinks' 'Canned' 'Breads' 'Starchy Foods'\n",
            " 'Others' 'Seafood']\n",
            "----------------------------------------------------\n",
            "Outlet Size\n",
            "['Medium' nan 'High' 'Small']\n",
            "----------------------------------------------------\n",
            "Outlet location Type\n",
            "['Tier 1' 'Tier 3' 'Tier 2']\n"
          ]
        }
      ],
      "source": [
        "print('Fat Content')\n",
        "print(sales_traindf['Item_Fat_Content'].unique())\n",
        "print('----------------------------------------------------')\n",
        "print('Item Type')\n",
        "print(sales_traindf['Item_Type'].unique())\n",
        "print('----------------------------------------------------')\n",
        "print('Outlet Size')\n",
        "print(sales_traindf['Outlet_Size'].unique())\n",
        "print('----------------------------------------------------')\n",
        "print('Outlet location Type')\n",
        "print(sales_traindf['Outlet_Location_Type'].unique())\n"
      ]
    },
    {
      "cell_type": "markdown",
      "id": "39ebfa38",
      "metadata": {
        "id": "39ebfa38"
      },
      "source": [
        "> We realize that the fat content column has some inconsistencies. reg and regular, lowfat and lf\n",
        "\n",
        "> The same column has some words in caps while others are in lowwer cases."
      ]
    },
    {
      "cell_type": "code",
      "execution_count": 291,
      "id": "4a356cdd",
      "metadata": {
        "scrolled": true,
        "id": "4a356cdd",
        "colab": {
          "base_uri": "https://localhost:8080/"
        },
        "outputId": "56cb0c74-7a86-4fe1-cd5b-de30681802d1"
      },
      "outputs": [
        {
          "output_type": "stream",
          "name": "stdout",
          "text": [
            "Train Dataset\n",
            "       Item_Weight  Item_Visibility     Item_MRP  Outlet_Establishment_Year  \\\n",
            "count  7060.000000      8523.000000  8523.000000                8523.000000   \n",
            "mean     12.857645         0.066132   140.992782                1997.831867   \n",
            "std       4.643456         0.051598    62.275067                   8.371760   \n",
            "min       4.555000         0.000000    31.290000                1985.000000   \n",
            "25%       8.773750         0.026989    93.826500                1987.000000   \n",
            "50%      12.600000         0.053931   143.012800                1999.000000   \n",
            "75%      16.850000         0.094585   185.643700                2004.000000   \n",
            "max      21.350000         0.328391   266.888400                2009.000000   \n",
            "\n",
            "       Item_Outlet_Sales  \n",
            "count        8523.000000  \n",
            "mean         2181.288914  \n",
            "std          1706.499616  \n",
            "min            33.290000  \n",
            "25%           834.247400  \n",
            "50%          1794.331000  \n",
            "75%          3101.296400  \n",
            "max         13086.964800  \n",
            "Test Dataset\n",
            "       Item_Weight  Item_Visibility     Item_MRP  Outlet_Establishment_Year\n",
            "count  4705.000000      5681.000000  5681.000000                5681.000000\n",
            "mean     12.695633         0.065684   141.023273                1997.828903\n",
            "std       4.664849         0.051252    61.809091                   8.372256\n",
            "min       4.555000         0.000000    31.990000                1985.000000\n",
            "25%       8.645000         0.027047    94.412000                1987.000000\n",
            "50%      12.500000         0.054154   141.415400                1999.000000\n",
            "75%      16.700000         0.093463   186.026600                2004.000000\n",
            "max      21.350000         0.323637   266.588400                2009.000000\n"
          ]
        }
      ],
      "source": [
        "# Lets check for the summary statistics\n",
        "print('Train Dataset')\n",
        "print(sales_traindf.describe())\n",
        "print('Test Dataset')\n",
        "print(sales_testdf.describe())"
      ]
    },
    {
      "cell_type": "code",
      "execution_count": 292,
      "id": "3a112841",
      "metadata": {
        "id": "3a112841",
        "colab": {
          "base_uri": "https://localhost:8080/",
          "height": 357
        },
        "outputId": "2a5b1121-4d4c-40a2-896b-6b8864b9b1aa"
      },
      "outputs": [
        {
          "output_type": "execute_result",
          "data": {
            "text/plain": [
              "  Item_Identifier  Item_Weight Item_Fat_Content  Item_Visibility  \\\n",
              "0           FDA15         9.30          Low Fat         0.016047   \n",
              "1           DRC01         5.92          Regular         0.019278   \n",
              "2           FDN15        17.50          Low Fat         0.016760   \n",
              "3           FDX07        19.20          Regular         0.000000   \n",
              "4           NCD19         8.93          Low Fat         0.000000   \n",
              "\n",
              "               Item_Type  Item_MRP Outlet_Identifier  \\\n",
              "0                  Dairy  249.8092            OUT049   \n",
              "1            Soft Drinks   48.2692            OUT018   \n",
              "2                   Meat  141.6180            OUT049   \n",
              "3  Fruits and Vegetables  182.0950            OUT010   \n",
              "4              Household   53.8614            OUT013   \n",
              "\n",
              "   Outlet_Establishment_Year Outlet_Size Outlet_Location_Type  \\\n",
              "0                       1999      Medium               Tier 1   \n",
              "1                       2009      Medium               Tier 3   \n",
              "2                       1999      Medium               Tier 1   \n",
              "3                       1998         NaN               Tier 3   \n",
              "4                       1987        High               Tier 3   \n",
              "\n",
              "         Outlet_Type  Item_Outlet_Sales  \n",
              "0  Supermarket Type1          3735.1380  \n",
              "1  Supermarket Type2           443.4228  \n",
              "2  Supermarket Type1          2097.2700  \n",
              "3      Grocery Store           732.3800  \n",
              "4  Supermarket Type1           994.7052  "
            ],
            "text/html": [
              "\n",
              "  <div id=\"df-0f6b2485-2dc7-4aa4-9806-730f193c59ef\">\n",
              "    <div class=\"colab-df-container\">\n",
              "      <div>\n",
              "<style scoped>\n",
              "    .dataframe tbody tr th:only-of-type {\n",
              "        vertical-align: middle;\n",
              "    }\n",
              "\n",
              "    .dataframe tbody tr th {\n",
              "        vertical-align: top;\n",
              "    }\n",
              "\n",
              "    .dataframe thead th {\n",
              "        text-align: right;\n",
              "    }\n",
              "</style>\n",
              "<table border=\"1\" class=\"dataframe\">\n",
              "  <thead>\n",
              "    <tr style=\"text-align: right;\">\n",
              "      <th></th>\n",
              "      <th>Item_Identifier</th>\n",
              "      <th>Item_Weight</th>\n",
              "      <th>Item_Fat_Content</th>\n",
              "      <th>Item_Visibility</th>\n",
              "      <th>Item_Type</th>\n",
              "      <th>Item_MRP</th>\n",
              "      <th>Outlet_Identifier</th>\n",
              "      <th>Outlet_Establishment_Year</th>\n",
              "      <th>Outlet_Size</th>\n",
              "      <th>Outlet_Location_Type</th>\n",
              "      <th>Outlet_Type</th>\n",
              "      <th>Item_Outlet_Sales</th>\n",
              "    </tr>\n",
              "  </thead>\n",
              "  <tbody>\n",
              "    <tr>\n",
              "      <th>0</th>\n",
              "      <td>FDA15</td>\n",
              "      <td>9.30</td>\n",
              "      <td>Low Fat</td>\n",
              "      <td>0.016047</td>\n",
              "      <td>Dairy</td>\n",
              "      <td>249.8092</td>\n",
              "      <td>OUT049</td>\n",
              "      <td>1999</td>\n",
              "      <td>Medium</td>\n",
              "      <td>Tier 1</td>\n",
              "      <td>Supermarket Type1</td>\n",
              "      <td>3735.1380</td>\n",
              "    </tr>\n",
              "    <tr>\n",
              "      <th>1</th>\n",
              "      <td>DRC01</td>\n",
              "      <td>5.92</td>\n",
              "      <td>Regular</td>\n",
              "      <td>0.019278</td>\n",
              "      <td>Soft Drinks</td>\n",
              "      <td>48.2692</td>\n",
              "      <td>OUT018</td>\n",
              "      <td>2009</td>\n",
              "      <td>Medium</td>\n",
              "      <td>Tier 3</td>\n",
              "      <td>Supermarket Type2</td>\n",
              "      <td>443.4228</td>\n",
              "    </tr>\n",
              "    <tr>\n",
              "      <th>2</th>\n",
              "      <td>FDN15</td>\n",
              "      <td>17.50</td>\n",
              "      <td>Low Fat</td>\n",
              "      <td>0.016760</td>\n",
              "      <td>Meat</td>\n",
              "      <td>141.6180</td>\n",
              "      <td>OUT049</td>\n",
              "      <td>1999</td>\n",
              "      <td>Medium</td>\n",
              "      <td>Tier 1</td>\n",
              "      <td>Supermarket Type1</td>\n",
              "      <td>2097.2700</td>\n",
              "    </tr>\n",
              "    <tr>\n",
              "      <th>3</th>\n",
              "      <td>FDX07</td>\n",
              "      <td>19.20</td>\n",
              "      <td>Regular</td>\n",
              "      <td>0.000000</td>\n",
              "      <td>Fruits and Vegetables</td>\n",
              "      <td>182.0950</td>\n",
              "      <td>OUT010</td>\n",
              "      <td>1998</td>\n",
              "      <td>NaN</td>\n",
              "      <td>Tier 3</td>\n",
              "      <td>Grocery Store</td>\n",
              "      <td>732.3800</td>\n",
              "    </tr>\n",
              "    <tr>\n",
              "      <th>4</th>\n",
              "      <td>NCD19</td>\n",
              "      <td>8.93</td>\n",
              "      <td>Low Fat</td>\n",
              "      <td>0.000000</td>\n",
              "      <td>Household</td>\n",
              "      <td>53.8614</td>\n",
              "      <td>OUT013</td>\n",
              "      <td>1987</td>\n",
              "      <td>High</td>\n",
              "      <td>Tier 3</td>\n",
              "      <td>Supermarket Type1</td>\n",
              "      <td>994.7052</td>\n",
              "    </tr>\n",
              "  </tbody>\n",
              "</table>\n",
              "</div>\n",
              "      <button class=\"colab-df-convert\" onclick=\"convertToInteractive('df-0f6b2485-2dc7-4aa4-9806-730f193c59ef')\"\n",
              "              title=\"Convert this dataframe to an interactive table.\"\n",
              "              style=\"display:none;\">\n",
              "        \n",
              "  <svg xmlns=\"http://www.w3.org/2000/svg\" height=\"24px\"viewBox=\"0 0 24 24\"\n",
              "       width=\"24px\">\n",
              "    <path d=\"M0 0h24v24H0V0z\" fill=\"none\"/>\n",
              "    <path d=\"M18.56 5.44l.94 2.06.94-2.06 2.06-.94-2.06-.94-.94-2.06-.94 2.06-2.06.94zm-11 1L8.5 8.5l.94-2.06 2.06-.94-2.06-.94L8.5 2.5l-.94 2.06-2.06.94zm10 10l.94 2.06.94-2.06 2.06-.94-2.06-.94-.94-2.06-.94 2.06-2.06.94z\"/><path d=\"M17.41 7.96l-1.37-1.37c-.4-.4-.92-.59-1.43-.59-.52 0-1.04.2-1.43.59L10.3 9.45l-7.72 7.72c-.78.78-.78 2.05 0 2.83L4 21.41c.39.39.9.59 1.41.59.51 0 1.02-.2 1.41-.59l7.78-7.78 2.81-2.81c.8-.78.8-2.07 0-2.86zM5.41 20L4 18.59l7.72-7.72 1.47 1.35L5.41 20z\"/>\n",
              "  </svg>\n",
              "      </button>\n",
              "      \n",
              "  <style>\n",
              "    .colab-df-container {\n",
              "      display:flex;\n",
              "      flex-wrap:wrap;\n",
              "      gap: 12px;\n",
              "    }\n",
              "\n",
              "    .colab-df-convert {\n",
              "      background-color: #E8F0FE;\n",
              "      border: none;\n",
              "      border-radius: 50%;\n",
              "      cursor: pointer;\n",
              "      display: none;\n",
              "      fill: #1967D2;\n",
              "      height: 32px;\n",
              "      padding: 0 0 0 0;\n",
              "      width: 32px;\n",
              "    }\n",
              "\n",
              "    .colab-df-convert:hover {\n",
              "      background-color: #E2EBFA;\n",
              "      box-shadow: 0px 1px 2px rgba(60, 64, 67, 0.3), 0px 1px 3px 1px rgba(60, 64, 67, 0.15);\n",
              "      fill: #174EA6;\n",
              "    }\n",
              "\n",
              "    [theme=dark] .colab-df-convert {\n",
              "      background-color: #3B4455;\n",
              "      fill: #D2E3FC;\n",
              "    }\n",
              "\n",
              "    [theme=dark] .colab-df-convert:hover {\n",
              "      background-color: #434B5C;\n",
              "      box-shadow: 0px 1px 3px 1px rgba(0, 0, 0, 0.15);\n",
              "      filter: drop-shadow(0px 1px 2px rgba(0, 0, 0, 0.3));\n",
              "      fill: #FFFFFF;\n",
              "    }\n",
              "  </style>\n",
              "\n",
              "      <script>\n",
              "        const buttonEl =\n",
              "          document.querySelector('#df-0f6b2485-2dc7-4aa4-9806-730f193c59ef button.colab-df-convert');\n",
              "        buttonEl.style.display =\n",
              "          google.colab.kernel.accessAllowed ? 'block' : 'none';\n",
              "\n",
              "        async function convertToInteractive(key) {\n",
              "          const element = document.querySelector('#df-0f6b2485-2dc7-4aa4-9806-730f193c59ef');\n",
              "          const dataTable =\n",
              "            await google.colab.kernel.invokeFunction('convertToInteractive',\n",
              "                                                     [key], {});\n",
              "          if (!dataTable) return;\n",
              "\n",
              "          const docLinkHtml = 'Like what you see? Visit the ' +\n",
              "            '<a target=\"_blank\" href=https://colab.research.google.com/notebooks/data_table.ipynb>data table notebook</a>'\n",
              "            + ' to learn more about interactive tables.';\n",
              "          element.innerHTML = '';\n",
              "          dataTable['output_type'] = 'display_data';\n",
              "          await google.colab.output.renderOutput(dataTable, element);\n",
              "          const docLink = document.createElement('div');\n",
              "          docLink.innerHTML = docLinkHtml;\n",
              "          element.appendChild(docLink);\n",
              "        }\n",
              "      </script>\n",
              "    </div>\n",
              "  </div>\n",
              "  "
            ]
          },
          "metadata": {},
          "execution_count": 292
        }
      ],
      "source": [
        "sales_traindf.head()"
      ]
    },
    {
      "cell_type": "code",
      "execution_count": 293,
      "id": "aa5adea7",
      "metadata": {
        "scrolled": true,
        "id": "aa5adea7",
        "colab": {
          "base_uri": "https://localhost:8080/",
          "height": 544
        },
        "outputId": "4b323844-db94-467a-b15a-411b46bfe2f8"
      },
      "outputs": [
        {
          "output_type": "display_data",
          "data": {
            "text/plain": [
              "<Figure size 1440x2160 with 3 Axes>"
            ],
            "image/png": "[encoded data removed]"
          },
          "metadata": {
            "needs_background": "light"
          }
        }
      ],
      "source": [
        "# checking for outliers\n",
        "# define a function that plots boxplots to visualize outliers\n",
        "\n",
        "def outliers ():\n",
        "    \"making a dictionary for numerical columns\"\n",
        "    columns_dict = {'Item_Visibility': 1, 'Item_MRP': 2, 'Item_Outlet_Sales': 3}\n",
        "    plt.figure(figsize=(20,30))\n",
        "    for variable,i in columns_dict.items():\n",
        "      plt.subplot(3,3,i);\n",
        "      plt.boxplot(sales_traindf[variable]);\n",
        "      plt.title(f\"Boxplot showing {variable}\");\n",
        "    plt.show()\n",
        "outliers()"
      ]
    },
    {
      "cell_type": "markdown",
      "id": "d8f6ef59",
      "metadata": {
        "id": "d8f6ef59"
      },
      "source": [
        "(a) Some columns have outliers.\n",
        "\n",
        "(b) We need to assess the outliers."
      ]
    },
    {
      "cell_type": "code",
      "execution_count": 294,
      "id": "346c42bf",
      "metadata": {
        "id": "346c42bf",
        "colab": {
          "base_uri": "https://localhost:8080/",
          "height": 661
        },
        "outputId": "251c8147-b405-40b2-835c-eea620793c1c"
      },
      "outputs": [
        {
          "output_type": "execute_result",
          "data": {
            "text/plain": [
              "     Item_Identifier  Item_Weight Item_Fat_Content  Item_Visibility  \\\n",
              "43             FDC02        21.35          Low Fat         0.069103   \n",
              "130            FDY25          NaN          Low Fat         0.033810   \n",
              "132            NCR53          NaN          Low Fat         0.144338   \n",
              "145            FDP16        18.60          Low Fat         0.039356   \n",
              "203            FDI24          NaN          Low Fat         0.078362   \n",
              "...              ...          ...              ...              ...   \n",
              "8245           FDU55        16.20          Low Fat         0.035967   \n",
              "8329           NCQ06          NaN          Low Fat         0.041622   \n",
              "8350           NCE18        10.00          Low Fat         0.021421   \n",
              "8447           FDS26        20.35          Low Fat         0.089975   \n",
              "8510           FDN58        13.80          Regular         0.056862   \n",
              "\n",
              "                  Item_Type  Item_MRP Outlet_Identifier  \\\n",
              "43                   Canned  259.9278            OUT018   \n",
              "130                  Canned  180.5976            OUT027   \n",
              "132      Health and Hygiene  224.4404            OUT027   \n",
              "145            Frozen Foods  246.3802            OUT049   \n",
              "203            Baking Goods  177.9370            OUT027   \n",
              "...                     ...       ...               ...   \n",
              "8245  Fruits and Vegetables  260.3278            OUT049   \n",
              "8329              Household  253.6014            OUT027   \n",
              "8350              Household  248.3750            OUT035   \n",
              "8447                  Dairy  261.6594            OUT017   \n",
              "8510            Snack Foods  231.5984            OUT035   \n",
              "\n",
              "      Outlet_Establishment_Year Outlet_Size Outlet_Location_Type  \\\n",
              "43                         2009      Medium               Tier 3   \n",
              "130                        1985      Medium               Tier 3   \n",
              "132                        1985      Medium               Tier 3   \n",
              "145                        1999      Medium               Tier 1   \n",
              "203                        1985      Medium               Tier 3   \n",
              "...                         ...         ...                  ...   \n",
              "8245                       1999      Medium               Tier 1   \n",
              "8329                       1985      Medium               Tier 3   \n",
              "8350                       2004       Small               Tier 2   \n",
              "8447                       2007         NaN               Tier 2   \n",
              "8510                       2004       Small               Tier 2   \n",
              "\n",
              "            Outlet_Type  Item_Outlet_Sales  \n",
              "43    Supermarket Type2          6768.5228  \n",
              "130   Supermarket Type3          7968.2944  \n",
              "132   Supermarket Type3          6976.2524  \n",
              "145   Supermarket Type1          7370.4060  \n",
              "203   Supermarket Type3          6704.6060  \n",
              "...                 ...                ...  \n",
              "8245  Supermarket Type1          7549.5062  \n",
              "8329  Supermarket Type3          6630.0364  \n",
              "8350  Supermarket Type1          7240.5750  \n",
              "8447  Supermarket Type1          7588.1226  \n",
              "8510  Supermarket Type1          7182.6504  \n",
              "\n",
              "[186 rows x 12 columns]"
            ],
            "text/html": [
              "\n",
              "  <div id=\"df-264ce28b-3061-4cf2-9171-3fb111503b3b\">\n",
              "    <div class=\"colab-df-container\">\n",
              "      <div>\n",
              "<style scoped>\n",
              "    .dataframe tbody tr th:only-of-type {\n",
              "        vertical-align: middle;\n",
              "    }\n",
              "\n",
              "    .dataframe tbody tr th {\n",
              "        vertical-align: top;\n",
              "    }\n",
              "\n",
              "    .dataframe thead th {\n",
              "        text-align: right;\n",
              "    }\n",
              "</style>\n",
              "<table border=\"1\" class=\"dataframe\">\n",
              "  <thead>\n",
              "    <tr style=\"text-align: right;\">\n",
              "      <th></th>\n",
              "      <th>Item_Identifier</th>\n",
              "      <th>Item_Weight</th>\n",
              "      <th>Item_Fat_Content</th>\n",
              "      <th>Item_Visibility</th>\n",
              "      <th>Item_Type</th>\n",
              "      <th>Item_MRP</th>\n",
              "      <th>Outlet_Identifier</th>\n",
              "      <th>Outlet_Establishment_Year</th>\n",
              "      <th>Outlet_Size</th>\n",
              "      <th>Outlet_Location_Type</th>\n",
              "      <th>Outlet_Type</th>\n",
              "      <th>Item_Outlet_Sales</th>\n",
              "    </tr>\n",
              "  </thead>\n",
              "  <tbody>\n",
              "    <tr>\n",
              "      <th>43</th>\n",
              "      <td>FDC02</td>\n",
              "      <td>21.35</td>\n",
              "      <td>Low Fat</td>\n",
              "      <td>0.069103</td>\n",
              "      <td>Canned</td>\n",
              "      <td>259.9278</td>\n",
              "      <td>OUT018</td>\n",
              "      <td>2009</td>\n",
              "      <td>Medium</td>\n",
              "      <td>Tier 3</td>\n",
              "      <td>Supermarket Type2</td>\n",
              "      <td>6768.5228</td>\n",
              "    </tr>\n",
              "    <tr>\n",
              "      <th>130</th>\n",
              "      <td>FDY25</td>\n",
              "      <td>NaN</td>\n",
              "      <td>Low Fat</td>\n",
              "      <td>0.033810</td>\n",
              "      <td>Canned</td>\n",
              "      <td>180.5976</td>\n",
              "      <td>OUT027</td>\n",
              "      <td>1985</td>\n",
              "      <td>Medium</td>\n",
              "      <td>Tier 3</td>\n",
              "      <td>Supermarket Type3</td>\n",
              "      <td>7968.2944</td>\n",
              "    </tr>\n",
              "    <tr>\n",
              "      <th>132</th>\n",
              "      <td>NCR53</td>\n",
              "      <td>NaN</td>\n",
              "      <td>Low Fat</td>\n",
              "      <td>0.144338</td>\n",
              "      <td>Health and Hygiene</td>\n",
              "      <td>224.4404</td>\n",
              "      <td>OUT027</td>\n",
              "      <td>1985</td>\n",
              "      <td>Medium</td>\n",
              "      <td>Tier 3</td>\n",
              "      <td>Supermarket Type3</td>\n",
              "      <td>6976.2524</td>\n",
              "    </tr>\n",
              "    <tr>\n",
              "      <th>145</th>\n",
              "      <td>FDP16</td>\n",
              "      <td>18.60</td>\n",
              "      <td>Low Fat</td>\n",
              "      <td>0.039356</td>\n",
              "      <td>Frozen Foods</td>\n",
              "      <td>246.3802</td>\n",
              "      <td>OUT049</td>\n",
              "      <td>1999</td>\n",
              "      <td>Medium</td>\n",
              "      <td>Tier 1</td>\n",
              "      <td>Supermarket Type1</td>\n",
              "      <td>7370.4060</td>\n",
              "    </tr>\n",
              "    <tr>\n",
              "      <th>203</th>\n",
              "      <td>FDI24</td>\n",
              "      <td>NaN</td>\n",
              "      <td>Low Fat</td>\n",
              "      <td>0.078362</td>\n",
              "      <td>Baking Goods</td>\n",
              "      <td>177.9370</td>\n",
              "      <td>OUT027</td>\n",
              "      <td>1985</td>\n",
              "      <td>Medium</td>\n",
              "      <td>Tier 3</td>\n",
              "      <td>Supermarket Type3</td>\n",
              "      <td>6704.6060</td>\n",
              "    </tr>\n",
              "    <tr>\n",
              "      <th>...</th>\n",
              "      <td>...</td>\n",
              "      <td>...</td>\n",
              "      <td>...</td>\n",
              "      <td>...</td>\n",
              "      <td>...</td>\n",
              "      <td>...</td>\n",
              "      <td>...</td>\n",
              "      <td>...</td>\n",
              "      <td>...</td>\n",
              "      <td>...</td>\n",
              "      <td>...</td>\n",
              "      <td>...</td>\n",
              "    </tr>\n",
              "    <tr>\n",
              "      <th>8245</th>\n",
              "      <td>FDU55</td>\n",
              "      <td>16.20</td>\n",
              "      <td>Low Fat</td>\n",
              "      <td>0.035967</td>\n",
              "      <td>Fruits and Vegetables</td>\n",
              "      <td>260.3278</td>\n",
              "      <td>OUT049</td>\n",
              "      <td>1999</td>\n",
              "      <td>Medium</td>\n",
              "      <td>Tier 1</td>\n",
              "      <td>Supermarket Type1</td>\n",
              "      <td>7549.5062</td>\n",
              "    </tr>\n",
              "    <tr>\n",
              "      <th>8329</th>\n",
              "      <td>NCQ06</td>\n",
              "      <td>NaN</td>\n",
              "      <td>Low Fat</td>\n",
              "      <td>0.041622</td>\n",
              "      <td>Household</td>\n",
              "      <td>253.6014</td>\n",
              "      <td>OUT027</td>\n",
              "      <td>1985</td>\n",
              "      <td>Medium</td>\n",
              "      <td>Tier 3</td>\n",
              "      <td>Supermarket Type3</td>\n",
              "      <td>6630.0364</td>\n",
              "    </tr>\n",
              "    <tr>\n",
              "      <th>8350</th>\n",
              "      <td>NCE18</td>\n",
              "      <td>10.00</td>\n",
              "      <td>Low Fat</td>\n",
              "      <td>0.021421</td>\n",
              "      <td>Household</td>\n",
              "      <td>248.3750</td>\n",
              "      <td>OUT035</td>\n",
              "      <td>2004</td>\n",
              "      <td>Small</td>\n",
              "      <td>Tier 2</td>\n",
              "      <td>Supermarket Type1</td>\n",
              "      <td>7240.5750</td>\n",
              "    </tr>\n",
              "    <tr>\n",
              "      <th>8447</th>\n",
              "      <td>FDS26</td>\n",
              "      <td>20.35</td>\n",
              "      <td>Low Fat</td>\n",
              "      <td>0.089975</td>\n",
              "      <td>Dairy</td>\n",
              "      <td>261.6594</td>\n",
              "      <td>OUT017</td>\n",
              "      <td>2007</td>\n",
              "      <td>NaN</td>\n",
              "      <td>Tier 2</td>\n",
              "      <td>Supermarket Type1</td>\n",
              "      <td>7588.1226</td>\n",
              "    </tr>\n",
              "    <tr>\n",
              "      <th>8510</th>\n",
              "      <td>FDN58</td>\n",
              "      <td>13.80</td>\n",
              "      <td>Regular</td>\n",
              "      <td>0.056862</td>\n",
              "      <td>Snack Foods</td>\n",
              "      <td>231.5984</td>\n",
              "      <td>OUT035</td>\n",
              "      <td>2004</td>\n",
              "      <td>Small</td>\n",
              "      <td>Tier 2</td>\n",
              "      <td>Supermarket Type1</td>\n",
              "      <td>7182.6504</td>\n",
              "    </tr>\n",
              "  </tbody>\n",
              "</table>\n",
              "<p>186 rows × 12 columns</p>\n",
              "</div>\n",
              "      <button class=\"colab-df-convert\" onclick=\"convertToInteractive('df-264ce28b-3061-4cf2-9171-3fb111503b3b')\"\n",
              "              title=\"Convert this dataframe to an interactive table.\"\n",
              "              style=\"display:none;\">\n",
              "        \n",
              "  <svg xmlns=\"http://www.w3.org/2000/svg\" height=\"24px\"viewBox=\"0 0 24 24\"\n",
              "       width=\"24px\">\n",
              "    <path d=\"M0 0h24v24H0V0z\" fill=\"none\"/>\n",
              "    <path d=\"M18.56 5.44l.94 2.06.94-2.06 2.06-.94-2.06-.94-.94-2.06-.94 2.06-2.06.94zm-11 1L8.5 8.5l.94-2.06 2.06-.94-2.06-.94L8.5 2.5l-.94 2.06-2.06.94zm10 10l.94 2.06.94-2.06 2.06-.94-2.06-.94-.94-2.06-.94 2.06-2.06.94z\"/><path d=\"M17.41 7.96l-1.37-1.37c-.4-.4-.92-.59-1.43-.59-.52 0-1.04.2-1.43.59L10.3 9.45l-7.72 7.72c-.78.78-.78 2.05 0 2.83L4 21.41c.39.39.9.59 1.41.59.51 0 1.02-.2 1.41-.59l7.78-7.78 2.81-2.81c.8-.78.8-2.07 0-2.86zM5.41 20L4 18.59l7.72-7.72 1.47 1.35L5.41 20z\"/>\n",
              "  </svg>\n",
              "      </button>\n",
              "      \n",
              "  <style>\n",
              "    .colab-df-container {\n",
              "      display:flex;\n",
              "      flex-wrap:wrap;\n",
              "      gap: 12px;\n",
              "    }\n",
              "\n",
              "    .colab-df-convert {\n",
              "      background-color: #E8F0FE;\n",
              "      border: none;\n",
              "      border-radius: 50%;\n",
              "      cursor: pointer;\n",
              "      display: none;\n",
              "      fill: #1967D2;\n",
              "      height: 32px;\n",
              "      padding: 0 0 0 0;\n",
              "      width: 32px;\n",
              "    }\n",
              "\n",
              "    .colab-df-convert:hover {\n",
              "      background-color: #E2EBFA;\n",
              "      box-shadow: 0px 1px 2px rgba(60, 64, 67, 0.3), 0px 1px 3px 1px rgba(60, 64, 67, 0.15);\n",
              "      fill: #174EA6;\n",
              "    }\n",
              "\n",
              "    [theme=dark] .colab-df-convert {\n",
              "      background-color: #3B4455;\n",
              "      fill: #D2E3FC;\n",
              "    }\n",
              "\n",
              "    [theme=dark] .colab-df-convert:hover {\n",
              "      background-color: #434B5C;\n",
              "      box-shadow: 0px 1px 3px 1px rgba(0, 0, 0, 0.15);\n",
              "      filter: drop-shadow(0px 1px 2px rgba(0, 0, 0, 0.3));\n",
              "      fill: #FFFFFF;\n",
              "    }\n",
              "  </style>\n",
              "\n",
              "      <script>\n",
              "        const buttonEl =\n",
              "          document.querySelector('#df-264ce28b-3061-4cf2-9171-3fb111503b3b button.colab-df-convert');\n",
              "        buttonEl.style.display =\n",
              "          google.colab.kernel.accessAllowed ? 'block' : 'none';\n",
              "\n",
              "        async function convertToInteractive(key) {\n",
              "          const element = document.querySelector('#df-264ce28b-3061-4cf2-9171-3fb111503b3b');\n",
              "          const dataTable =\n",
              "            await google.colab.kernel.invokeFunction('convertToInteractive',\n",
              "                                                     [key], {});\n",
              "          if (!dataTable) return;\n",
              "\n",
              "          const docLinkHtml = 'Like what you see? Visit the ' +\n",
              "            '<a target=\"_blank\" href=https://colab.research.google.com/notebooks/data_table.ipynb>data table notebook</a>'\n",
              "            + ' to learn more about interactive tables.';\n",
              "          element.innerHTML = '';\n",
              "          dataTable['output_type'] = 'display_data';\n",
              "          await google.colab.output.renderOutput(dataTable, element);\n",
              "          const docLink = document.createElement('div');\n",
              "          docLink.innerHTML = docLinkHtml;\n",
              "          element.appendChild(docLink);\n",
              "        }\n",
              "      </script>\n",
              "    </div>\n",
              "  </div>\n",
              "  "
            ]
          },
          "metadata": {},
          "execution_count": 294
        }
      ],
      "source": [
        "# Lets preview the outliers of the sales column\n",
        "sales_traindf.query('Item_Outlet_Sales > 6500')"
      ]
    },
    {
      "cell_type": "markdown",
      "id": "cc127c58",
      "metadata": {
        "id": "cc127c58"
      },
      "source": [
        "> Outliers shall be retained as they contain pertinent and real information."
      ]
    },
    {
      "cell_type": "markdown",
      "id": "fdd7ca65",
      "metadata": {
        "id": "fdd7ca65"
      },
      "source": [
        "## c) Cleaning\n",
        "\n",
        "> 1. Some columns have missing values. We will need to deal with the missing values.\n",
        "\n",
        "> 2. The item fat content column had some inconsistencies.\n",
        "\n",
        "> 3. Lets lower the cases of all columns for easier computation. \n",
        "\n",
        "> 4. Lets convertthe datatype of the year column from integer to datetime."
      ]
    },
    {
      "cell_type": "markdown",
      "id": "b6adc51f",
      "metadata": {
        "id": "b6adc51f"
      },
      "source": [
        "# Issue 1 : \n",
        "\n",
        "## Define:\n",
        "\n",
        "> Remove the missing values since they were a small percentage.\n",
        "\n",
        "# Code"
      ]
    },
    {
      "cell_type": "code",
      "execution_count": 295,
      "id": "b17a5574",
      "metadata": {
        "id": "b17a5574"
      },
      "outputs": [],
      "source": [
        "# Lets drop rows with missing values in each column\n",
        "sales_traindf.dropna(inplace = True)\n",
        "sales_testdf.dropna(inplace = True)"
      ]
    },
    {
      "cell_type": "markdown",
      "id": "03553df0",
      "metadata": {
        "id": "03553df0"
      },
      "source": [
        "# Test"
      ]
    },
    {
      "cell_type": "code",
      "execution_count": 296,
      "id": "bd24aa65",
      "metadata": {
        "id": "bd24aa65",
        "colab": {
          "base_uri": "https://localhost:8080/"
        },
        "outputId": "41a45340-e88a-4005-95df-6f4946effa73"
      },
      "outputs": [
        {
          "output_type": "stream",
          "name": "stdout",
          "text": [
            "The percentage of missing values in the train data were: \n",
            "Item_Identifier              0.0\n",
            "Item_Weight                  0.0\n",
            "Item_Fat_Content             0.0\n",
            "Item_Visibility              0.0\n",
            "Item_Type                    0.0\n",
            "Item_MRP                     0.0\n",
            "Outlet_Identifier            0.0\n",
            "Outlet_Establishment_Year    0.0\n",
            "Outlet_Size                  0.0\n",
            "Outlet_Location_Type         0.0\n",
            "Outlet_Type                  0.0\n",
            "Item_Outlet_Sales            0.0\n",
            "dtype: float64\n",
            "....................................................................................................\n",
            "The percentage of missing values in the train data were \n",
            "Item_Identifier              0.0\n",
            "Item_Weight                  0.0\n",
            "Item_Fat_Content             0.0\n",
            "Item_Visibility              0.0\n",
            "Item_Type                    0.0\n",
            "Item_MRP                     0.0\n",
            "Outlet_Identifier            0.0\n",
            "Outlet_Establishment_Year    0.0\n",
            "Outlet_Size                  0.0\n",
            "Outlet_Location_Type         0.0\n",
            "Outlet_Type                  0.0\n",
            "dtype: float64\n"
          ]
        }
      ],
      "source": [
        "# Lets check for missing values in both the datasets\n",
        "print('The percentage of missing values in the train data were: ')\n",
        "print(sales_traindf.isna().sum()/len(sales_traindf)*100)\n",
        "print('..'*50)\n",
        "print('The percentage of missing values in the train data were ')\n",
        "print(sales_testdf.isna().sum()/len(sales_traindf)*100)"
      ]
    },
    {
      "cell_type": "markdown",
      "id": "51adc843",
      "metadata": {
        "id": "51adc843"
      },
      "source": [
        "# Issue 2 :\n",
        "\n",
        "> Lets deal with incosistencies in the fat content column.\n",
        "\n",
        "# Code"
      ]
    },
    {
      "cell_type": "code",
      "execution_count": 297,
      "id": "51d46247",
      "metadata": {
        "id": "51d46247",
        "colab": {
          "base_uri": "https://localhost:8080/"
        },
        "outputId": "1bb37e13-9197-4efc-f0c8-4c4d135963b4"
      },
      "outputs": [
        {
          "output_type": "execute_result",
          "data": {
            "text/plain": [
              "array(['Low Fat', 'Regular', 'low fat', 'reg', 'LF'], dtype=object)"
            ]
          },
          "metadata": {},
          "execution_count": 297
        }
      ],
      "source": [
        "# Lets preview an array of the unique features in te column\n",
        "sales_traindf.Item_Fat_Content.unique()"
      ]
    },
    {
      "cell_type": "code",
      "execution_count": 298,
      "id": "aad2aad9",
      "metadata": {
        "id": "aad2aad9",
        "colab": {
          "base_uri": "https://localhost:8080/"
        },
        "outputId": "eaebe223-4087-475a-ec04-835f0583b5bd"
      },
      "outputs": [
        {
          "output_type": "execute_result",
          "data": {
            "text/plain": [
              "array(['Low Fat', 'Regular', 'LF', 'reg', 'low fat'], dtype=object)"
            ]
          },
          "metadata": {},
          "execution_count": 298
        }
      ],
      "source": [
        "# Lets preview an array of the unique features in te column\n",
        "sales_testdf.Item_Fat_Content.unique()"
      ]
    },
    {
      "cell_type": "code",
      "execution_count": 299,
      "id": "8c724296",
      "metadata": {
        "id": "8c724296"
      },
      "outputs": [],
      "source": [
        "# The train dataset\n",
        "sales_traindf.Item_Fat_Content.replace({'Low Fat': 'low fat','Regular':'regular','reg':'regular','LF':'low fat'},inplace = True)"
      ]
    },
    {
      "cell_type": "code",
      "execution_count": 300,
      "id": "0fc781de",
      "metadata": {
        "id": "0fc781de"
      },
      "outputs": [],
      "source": [
        "# # The test dataset\n",
        "sales_testdf.Item_Fat_Content.replace({'Low Fat': 'low fat','Regular':'regular','reg':'regular','LF':'low fat'},inplace = True)"
      ]
    },
    {
      "cell_type": "markdown",
      "id": "26d72651",
      "metadata": {
        "id": "26d72651"
      },
      "source": [
        "# Test"
      ]
    },
    {
      "cell_type": "code",
      "execution_count": 301,
      "id": "69998e57",
      "metadata": {
        "id": "69998e57",
        "colab": {
          "base_uri": "https://localhost:8080/"
        },
        "outputId": "f39728f0-c979-40e7-a580-dc1d79dcc6ba"
      },
      "outputs": [
        {
          "output_type": "stream",
          "name": "stdout",
          "text": [
            "['low fat' 'regular']\n",
            "........................................\n",
            "['low fat' 'regular']\n"
          ]
        }
      ],
      "source": [
        "# Lets preview the rows again\n",
        "print(sales_traindf.Item_Fat_Content.unique())\n",
        "print('..'*20)\n",
        "print(sales_testdf.Item_Fat_Content.unique())"
      ]
    },
    {
      "cell_type": "markdown",
      "id": "75048217",
      "metadata": {
        "id": "75048217"
      },
      "source": [
        "# Issue 3 :\n",
        "\n",
        "> Lets lower the cases of all columns for easier computation.\n",
        "\n",
        "# Code"
      ]
    },
    {
      "cell_type": "code",
      "execution_count": 302,
      "id": "bae83380",
      "metadata": {
        "id": "bae83380",
        "colab": {
          "base_uri": "https://localhost:8080/"
        },
        "outputId": "08974723-3d7f-4f18-ab55-6fe33bcfc937"
      },
      "outputs": [
        {
          "output_type": "execute_result",
          "data": {
            "text/plain": [
              "Index(['Item_Identifier', 'Item_Weight', 'Item_Fat_Content', 'Item_Visibility',\n",
              "       'Item_Type', 'Item_MRP', 'Outlet_Identifier',\n",
              "       'Outlet_Establishment_Year', 'Outlet_Size', 'Outlet_Location_Type',\n",
              "       'Outlet_Type', 'Item_Outlet_Sales'],\n",
              "      dtype='object')"
            ]
          },
          "metadata": {},
          "execution_count": 302
        }
      ],
      "source": [
        "# lets preview the columns\n",
        "sales_traindf.columns"
      ]
    },
    {
      "cell_type": "code",
      "execution_count": 303,
      "id": "6ae0cc4f",
      "metadata": {
        "id": "6ae0cc4f"
      },
      "outputs": [],
      "source": [
        "# Lets rename the columns of all rows\n",
        "# We'll use the lambda funtion to strip off white spaces\n",
        "\n",
        "sales_traindf.rename(columns = lambda x : x.lower(),inplace =True)\n",
        "\n",
        "sales_testdf.rename(columns = lambda x : x.lower(),inplace =True)\n",
        "\n"
      ]
    },
    {
      "cell_type": "markdown",
      "id": "5f496228",
      "metadata": {
        "id": "5f496228"
      },
      "source": [
        "# Test"
      ]
    },
    {
      "cell_type": "code",
      "execution_count": 304,
      "id": "b7228917",
      "metadata": {
        "id": "b7228917",
        "colab": {
          "base_uri": "https://localhost:8080/"
        },
        "outputId": "f178eddc-4851-4992-caf8-849759d222e9"
      },
      "outputs": [
        {
          "output_type": "execute_result",
          "data": {
            "text/plain": [
              "Index(['item_identifier', 'item_weight', 'item_fat_content', 'item_visibility',\n",
              "       'item_type', 'item_mrp', 'outlet_identifier',\n",
              "       'outlet_establishment_year', 'outlet_size', 'outlet_location_type',\n",
              "       'outlet_type', 'item_outlet_sales'],\n",
              "      dtype='object')"
            ]
          },
          "metadata": {},
          "execution_count": 304
        }
      ],
      "source": [
        "# Lets preview the columns\n",
        "sales_traindf.columns"
      ]
    },
    {
      "cell_type": "code",
      "execution_count": 305,
      "id": "c36b0129",
      "metadata": {
        "scrolled": false,
        "id": "c36b0129",
        "colab": {
          "base_uri": "https://localhost:8080/"
        },
        "outputId": "905f2044-396d-4daa-dd0d-619eec767c40"
      },
      "outputs": [
        {
          "output_type": "execute_result",
          "data": {
            "text/plain": [
              "Index(['item_identifier', 'item_weight', 'item_fat_content', 'item_visibility',\n",
              "       'item_type', 'item_mrp', 'outlet_identifier',\n",
              "       'outlet_establishment_year', 'outlet_size', 'outlet_location_type',\n",
              "       'outlet_type'],\n",
              "      dtype='object')"
            ]
          },
          "metadata": {},
          "execution_count": 305
        }
      ],
      "source": [
        "sales_testdf.columns"
      ]
    },
    {
      "cell_type": "markdown",
      "id": "71af1b28",
      "metadata": {
        "id": "71af1b28"
      },
      "source": [
        "# Issue 4:\n",
        "\n",
        "> Lets convert the datatype of the year column from integer to datetime.\n",
        "\n",
        "# Code"
      ]
    },
    {
      "cell_type": "code",
      "execution_count": 306,
      "id": "5df90bd2",
      "metadata": {
        "id": "5df90bd2"
      },
      "outputs": [],
      "source": [
        "# Lets convert the data type \n",
        "sales_traindf['outlet_establishment_year']= pd.to_datetime(sales_traindf['outlet_establishment_year'])\n",
        "sales_testdf['outlet_establishment_year']= pd.to_datetime(sales_testdf['outlet_establishment_year'])"
      ]
    },
    {
      "cell_type": "markdown",
      "id": "a85ca0a3",
      "metadata": {
        "id": "a85ca0a3"
      },
      "source": [
        "# Test"
      ]
    },
    {
      "cell_type": "code",
      "execution_count": 307,
      "id": "337d69c3",
      "metadata": {
        "id": "337d69c3",
        "colab": {
          "base_uri": "https://localhost:8080/"
        },
        "outputId": "4639aa5e-b9ec-49dd-be35-a0086e5b790d"
      },
      "outputs": [
        {
          "output_type": "stream",
          "name": "stdout",
          "text": [
            "item_identifier                      object\n",
            "item_weight                         float64\n",
            "item_fat_content                     object\n",
            "item_visibility                     float64\n",
            "item_type                            object\n",
            "item_mrp                            float64\n",
            "outlet_identifier                    object\n",
            "outlet_establishment_year    datetime64[ns]\n",
            "outlet_size                          object\n",
            "outlet_location_type                 object\n",
            "outlet_type                          object\n",
            "item_outlet_sales                   float64\n",
            "dtype: object\n",
            "................................................................................\n",
            "item_identifier                      object\n",
            "item_weight                         float64\n",
            "item_fat_content                     object\n",
            "item_visibility                     float64\n",
            "item_type                            object\n",
            "item_mrp                            float64\n",
            "outlet_identifier                    object\n",
            "outlet_establishment_year    datetime64[ns]\n",
            "outlet_size                          object\n",
            "outlet_location_type                 object\n",
            "outlet_type                          object\n",
            "dtype: object\n"
          ]
        }
      ],
      "source": [
        "print(sales_traindf.dtypes)\n",
        "print('..'*40)\n",
        "print(sales_testdf.dtypes)"
      ]
    },
    {
      "cell_type": "markdown",
      "id": "1818e5d3",
      "metadata": {
        "id": "1818e5d3"
      },
      "source": [
        "# 4. Exploratory Data Analysis\n",
        "\n",
        "## (a) Univariate Analysis"
      ]
    },
    {
      "cell_type": "code",
      "source": [],
      "metadata": {
        "id": "j1we3Phd74BI"
      },
      "id": "j1we3Phd74BI",
      "execution_count": 307,
      "outputs": []
    },
    {
      "cell_type": "code",
      "execution_count": 308,
      "id": "c8d44c30",
      "metadata": {
        "id": "c8d44c30",
        "colab": {
          "base_uri": "https://localhost:8080/",
          "height": 357
        },
        "outputId": "227a0169-67a8-45c1-9ca8-2a224767fe0b"
      },
      "outputs": [
        {
          "output_type": "execute_result",
          "data": {
            "text/plain": [
              "  item_identifier  item_weight item_fat_content  item_visibility  \\\n",
              "0           FDA15        9.300          low fat         0.016047   \n",
              "1           DRC01        5.920          regular         0.019278   \n",
              "2           FDN15       17.500          low fat         0.016760   \n",
              "4           NCD19        8.930          low fat         0.000000   \n",
              "5           FDP36       10.395          regular         0.000000   \n",
              "\n",
              "      item_type  item_mrp outlet_identifier     outlet_establishment_year  \\\n",
              "0         Dairy  249.8092            OUT049 1970-01-01 00:00:00.000001999   \n",
              "1   Soft Drinks   48.2692            OUT018 1970-01-01 00:00:00.000002009   \n",
              "2          Meat  141.6180            OUT049 1970-01-01 00:00:00.000001999   \n",
              "4     Household   53.8614            OUT013 1970-01-01 00:00:00.000001987   \n",
              "5  Baking Goods   51.4008            OUT018 1970-01-01 00:00:00.000002009   \n",
              "\n",
              "  outlet_size outlet_location_type        outlet_type  item_outlet_sales  \n",
              "0      Medium               Tier 1  Supermarket Type1          3735.1380  \n",
              "1      Medium               Tier 3  Supermarket Type2           443.4228  \n",
              "2      Medium               Tier 1  Supermarket Type1          2097.2700  \n",
              "4        High               Tier 3  Supermarket Type1           994.7052  \n",
              "5      Medium               Tier 3  Supermarket Type2           556.6088  "
            ],
            "text/html": [
              "\n",
              "  <div id=\"df-fcd848d0-05b5-4f52-a468-4b8aad7d133f\">\n",
              "    <div class=\"colab-df-container\">\n",
              "      <div>\n",
              "<style scoped>\n",
              "    .dataframe tbody tr th:only-of-type {\n",
              "        vertical-align: middle;\n",
              "    }\n",
              "\n",
              "    .dataframe tbody tr th {\n",
              "        vertical-align: top;\n",
              "    }\n",
              "\n",
              "    .dataframe thead th {\n",
              "        text-align: right;\n",
              "    }\n",
              "</style>\n",
              "<table border=\"1\" class=\"dataframe\">\n",
              "  <thead>\n",
              "    <tr style=\"text-align: right;\">\n",
              "      <th></th>\n",
              "      <th>item_identifier</th>\n",
              "      <th>item_weight</th>\n",
              "      <th>item_fat_content</th>\n",
              "      <th>item_visibility</th>\n",
              "      <th>item_type</th>\n",
              "      <th>item_mrp</th>\n",
              "      <th>outlet_identifier</th>\n",
              "      <th>outlet_establishment_year</th>\n",
              "      <th>outlet_size</th>\n",
              "      <th>outlet_location_type</th>\n",
              "      <th>outlet_type</th>\n",
              "      <th>item_outlet_sales</th>\n",
              "    </tr>\n",
              "  </thead>\n",
              "  <tbody>\n",
              "    <tr>\n",
              "      <th>0</th>\n",
              "      <td>FDA15</td>\n",
              "      <td>9.300</td>\n",
              "      <td>low fat</td>\n",
              "      <td>0.016047</td>\n",
              "      <td>Dairy</td>\n",
              "      <td>249.8092</td>\n",
              "      <td>OUT049</td>\n",
              "      <td>1970-01-01 00:00:00.000001999</td>\n",
              "      <td>Medium</td>\n",
              "      <td>Tier 1</td>\n",
              "      <td>Supermarket Type1</td>\n",
              "      <td>3735.1380</td>\n",
              "    </tr>\n",
              "    <tr>\n",
              "      <th>1</th>\n",
              "      <td>DRC01</td>\n",
              "      <td>5.920</td>\n",
              "      <td>regular</td>\n",
              "      <td>0.019278</td>\n",
              "      <td>Soft Drinks</td>\n",
              "      <td>48.2692</td>\n",
              "      <td>OUT018</td>\n",
              "      <td>1970-01-01 00:00:00.000002009</td>\n",
              "      <td>Medium</td>\n",
              "      <td>Tier 3</td>\n",
              "      <td>Supermarket Type2</td>\n",
              "      <td>443.4228</td>\n",
              "    </tr>\n",
              "    <tr>\n",
              "      <th>2</th>\n",
              "      <td>FDN15</td>\n",
              "      <td>17.500</td>\n",
              "      <td>low fat</td>\n",
              "      <td>0.016760</td>\n",
              "      <td>Meat</td>\n",
              "      <td>141.6180</td>\n",
              "      <td>OUT049</td>\n",
              "      <td>1970-01-01 00:00:00.000001999</td>\n",
              "      <td>Medium</td>\n",
              "      <td>Tier 1</td>\n",
              "      <td>Supermarket Type1</td>\n",
              "      <td>2097.2700</td>\n",
              "    </tr>\n",
              "    <tr>\n",
              "      <th>4</th>\n",
              "      <td>NCD19</td>\n",
              "      <td>8.930</td>\n",
              "      <td>low fat</td>\n",
              "      <td>0.000000</td>\n",
              "      <td>Household</td>\n",
              "      <td>53.8614</td>\n",
              "      <td>OUT013</td>\n",
              "      <td>1970-01-01 00:00:00.000001987</td>\n",
              "      <td>High</td>\n",
              "      <td>Tier 3</td>\n",
              "      <td>Supermarket Type1</td>\n",
              "      <td>994.7052</td>\n",
              "    </tr>\n",
              "    <tr>\n",
              "      <th>5</th>\n",
              "      <td>FDP36</td>\n",
              "      <td>10.395</td>\n",
              "      <td>regular</td>\n",
              "      <td>0.000000</td>\n",
              "      <td>Baking Goods</td>\n",
              "      <td>51.4008</td>\n",
              "      <td>OUT018</td>\n",
              "      <td>1970-01-01 00:00:00.000002009</td>\n",
              "      <td>Medium</td>\n",
              "      <td>Tier 3</td>\n",
              "      <td>Supermarket Type2</td>\n",
              "      <td>556.6088</td>\n",
              "    </tr>\n",
              "  </tbody>\n",
              "</table>\n",
              "</div>\n",
              "      <button class=\"colab-df-convert\" onclick=\"convertToInteractive('df-fcd848d0-05b5-4f52-a468-4b8aad7d133f')\"\n",
              "              title=\"Convert this dataframe to an interactive table.\"\n",
              "              style=\"display:none;\">\n",
              "        \n",
              "  <svg xmlns=\"http://www.w3.org/2000/svg\" height=\"24px\"viewBox=\"0 0 24 24\"\n",
              "       width=\"24px\">\n",
              "    <path d=\"M0 0h24v24H0V0z\" fill=\"none\"/>\n",
              "    <path d=\"M18.56 5.44l.94 2.06.94-2.06 2.06-.94-2.06-.94-.94-2.06-.94 2.06-2.06.94zm-11 1L8.5 8.5l.94-2.06 2.06-.94-2.06-.94L8.5 2.5l-.94 2.06-2.06.94zm10 10l.94 2.06.94-2.06 2.06-.94-2.06-.94-.94-2.06-.94 2.06-2.06.94z\"/><path d=\"M17.41 7.96l-1.37-1.37c-.4-.4-.92-.59-1.43-.59-.52 0-1.04.2-1.43.59L10.3 9.45l-7.72 7.72c-.78.78-.78 2.05 0 2.83L4 21.41c.39.39.9.59 1.41.59.51 0 1.02-.2 1.41-.59l7.78-7.78 2.81-2.81c.8-.78.8-2.07 0-2.86zM5.41 20L4 18.59l7.72-7.72 1.47 1.35L5.41 20z\"/>\n",
              "  </svg>\n",
              "      </button>\n",
              "      \n",
              "  <style>\n",
              "    .colab-df-container {\n",
              "      display:flex;\n",
              "      flex-wrap:wrap;\n",
              "      gap: 12px;\n",
              "    }\n",
              "\n",
              "    .colab-df-convert {\n",
              "      background-color: #E8F0FE;\n",
              "      border: none;\n",
              "      border-radius: 50%;\n",
              "      cursor: pointer;\n",
              "      display: none;\n",
              "      fill: #1967D2;\n",
              "      height: 32px;\n",
              "      padding: 0 0 0 0;\n",
              "      width: 32px;\n",
              "    }\n",
              "\n",
              "    .colab-df-convert:hover {\n",
              "      background-color: #E2EBFA;\n",
              "      box-shadow: 0px 1px 2px rgba(60, 64, 67, 0.3), 0px 1px 3px 1px rgba(60, 64, 67, 0.15);\n",
              "      fill: #174EA6;\n",
              "    }\n",
              "\n",
              "    [theme=dark] .colab-df-convert {\n",
              "      background-color: #3B4455;\n",
              "      fill: #D2E3FC;\n",
              "    }\n",
              "\n",
              "    [theme=dark] .colab-df-convert:hover {\n",
              "      background-color: #434B5C;\n",
              "      box-shadow: 0px 1px 3px 1px rgba(0, 0, 0, 0.15);\n",
              "      filter: drop-shadow(0px 1px 2px rgba(0, 0, 0, 0.3));\n",
              "      fill: #FFFFFF;\n",
              "    }\n",
              "  </style>\n",
              "\n",
              "      <script>\n",
              "        const buttonEl =\n",
              "          document.querySelector('#df-fcd848d0-05b5-4f52-a468-4b8aad7d133f button.colab-df-convert');\n",
              "        buttonEl.style.display =\n",
              "          google.colab.kernel.accessAllowed ? 'block' : 'none';\n",
              "\n",
              "        async function convertToInteractive(key) {\n",
              "          const element = document.querySelector('#df-fcd848d0-05b5-4f52-a468-4b8aad7d133f');\n",
              "          const dataTable =\n",
              "            await google.colab.kernel.invokeFunction('convertToInteractive',\n",
              "                                                     [key], {});\n",
              "          if (!dataTable) return;\n",
              "\n",
              "          const docLinkHtml = 'Like what you see? Visit the ' +\n",
              "            '<a target=\"_blank\" href=https://colab.research.google.com/notebooks/data_table.ipynb>data table notebook</a>'\n",
              "            + ' to learn more about interactive tables.';\n",
              "          element.innerHTML = '';\n",
              "          dataTable['output_type'] = 'display_data';\n",
              "          await google.colab.output.renderOutput(dataTable, element);\n",
              "          const docLink = document.createElement('div');\n",
              "          docLink.innerHTML = docLinkHtml;\n",
              "          element.appendChild(docLink);\n",
              "        }\n",
              "      </script>\n",
              "    </div>\n",
              "  </div>\n",
              "  "
            ]
          },
          "metadata": {},
          "execution_count": 308
        }
      ],
      "source": [
        "sales_traindf.head()"
      ]
    },
    {
      "cell_type": "code",
      "execution_count": 309,
      "id": "c2efe96f",
      "metadata": {
        "id": "c2efe96f",
        "colab": {
          "base_uri": "https://localhost:8080/",
          "height": 1000
        },
        "outputId": "aada99cc-b1a1-4de5-e036-b722b916bb92"
      },
      "outputs": [
        {
          "output_type": "display_data",
          "data": {
            "text/plain": [
              "<Figure size 1000x300 with 0 Axes>"
            ]
          },
          "metadata": {}
        },
        {
          "output_type": "display_data",
          "data": {
            "text/plain": [
              "<Figure size 360x360 with 1 Axes>"
            ],
            "image/png": "[encoded data removed]"
          },
          "metadata": {
            "needs_background": "light"
          }
        },
        {
          "output_type": "display_data",
          "data": {
            "text/plain": [
              "<Figure size 1000x300 with 0 Axes>"
            ]
          },
          "metadata": {}
        },
        {
          "output_type": "display_data",
          "data": {
            "text/plain": [
              "<Figure size 360x360 with 1 Axes>"
            ],
            "image/png": "[encoded data removed]"
          },
          "metadata": {
            "needs_background": "light"
          }
        },
        {
          "output_type": "display_data",
          "data": {
            "text/plain": [
              "<Figure size 1000x300 with 0 Axes>"
            ]
          },
          "metadata": {}
        },
        {
          "output_type": "display_data",
          "data": {
            "text/plain": [
              "<Figure size 360x360 with 1 Axes>"
            ],
            "image/png": "[encoded data removed]"
          },
          "metadata": {
            "needs_background": "light"
          }
        },
        {
          "output_type": "display_data",
          "data": {
            "text/plain": [
              "<Figure size 1000x300 with 0 Axes>"
            ]
          },
          "metadata": {}
        },
        {
          "output_type": "display_data",
          "data": {
            "text/plain": [
              "<Figure size 360x360 with 1 Axes>"
            ],
            "image/png": "[encoded data removed]"
          },
          "metadata": {
            "needs_background": "light"
          }
        }
      ],
      "source": [
        "#Plotting histrograms for categorical values\n",
        "# columns_dict = ['unit_price','tax','cogs','gross_income','total']\n",
        "\n",
        "def histogram (v):\n",
        "    columns_dict = ['item_weight','item_visibility','item_mrp','item_outlet_sales']\n",
        "    for i in columns_dict:\n",
        "      plt.figure(figsize = (10,3), dpi=100)\n",
        "      sns.displot(v[i], kde = True, color = 'brown')\n",
        "      plt.title(f\"Histogram showing {i} distribution\", color = 'Black')\n",
        "      plt.show()\n",
        "\n",
        "histogram (sales_traindf);"
      ]
    },
    {
      "cell_type": "code",
      "execution_count": 310,
      "id": "9ba573b0",
      "metadata": {
        "id": "9ba573b0",
        "colab": {
          "base_uri": "https://localhost:8080/"
        },
        "outputId": "ea1ad532-0832-4eee-ee1d-8131df18a41a"
      },
      "outputs": [
        {
          "output_type": "execute_result",
          "data": {
            "text/plain": [
              "Small     1860\n",
              "Medium    1858\n",
              "High       932\n",
              "Name: outlet_size, dtype: int64"
            ]
          },
          "metadata": {},
          "execution_count": 310
        }
      ],
      "source": [
        "# Lets check for the value counts of the outlet_size\n",
        "sales_traindf['outlet_size'].value_counts()"
      ]
    },
    {
      "cell_type": "code",
      "execution_count": 311,
      "id": "11653d2e",
      "metadata": {
        "id": "11653d2e",
        "colab": {
          "base_uri": "https://localhost:8080/",
          "height": 435
        },
        "outputId": "136a3b27-0db3-4aa7-cd8a-3d7a28d610df"
      },
      "outputs": [
        {
          "output_type": "display_data",
          "data": {
            "text/plain": [
              "<Figure size 720x432 with 1 Axes>"
            ],
            "image/png": "[encoded data removed]"
          },
          "metadata": {
            "needs_background": "light"
          }
        }
      ],
      "source": [
        "# Lets plot a countplot for the column\n",
        "\n",
        "base_color = sns.color_palette()[0]\n",
        "plt.figure(figsize=(10,6))\n",
        "sns.countplot(x = sales_traindf['outlet_size'],color = base_color)\n",
        "plt.xticks(rotation=60);\n",
        "plt.title('Distribution of outlet_size in the data set');"
      ]
    },
    {
      "cell_type": "code",
      "execution_count": 312,
      "id": "ee6f375a",
      "metadata": {
        "id": "ee6f375a",
        "colab": {
          "base_uri": "https://localhost:8080/",
          "height": 431
        },
        "outputId": "d374c053-2e7c-44b2-d0da-01027d41fdbf"
      },
      "outputs": [
        {
          "output_type": "display_data",
          "data": {
            "text/plain": [
              "<Figure size 720x432 with 1 Axes>"
            ],
            "image/png": "[encoded data removed]"
          },
          "metadata": {
            "needs_background": "light"
          }
        }
      ],
      "source": [
        "# Lets plot a countplot for the column\n",
        "\n",
        "base_color = sns.color_palette()[0]\n",
        "plt.figure(figsize=(10,6))\n",
        "sns.countplot(x = sales_traindf['item_fat_content'],color = base_color)\n",
        "plt.xticks(rotation=60);\n",
        "plt.title('Distribution of fat content in the data set');"
      ]
    },
    {
      "cell_type": "code",
      "execution_count": 313,
      "id": "194664d9",
      "metadata": {
        "id": "194664d9",
        "colab": {
          "base_uri": "https://localhost:8080/"
        },
        "outputId": "fba0312e-ec21-4f84-e343-92068285ec99"
      },
      "outputs": [
        {
          "output_type": "execute_result",
          "data": {
            "text/plain": [
              "Supermarket Type1    3722\n",
              "Supermarket Type2     928\n",
              "Name: outlet_type, dtype: int64"
            ]
          },
          "metadata": {},
          "execution_count": 313
        }
      ],
      "source": [
        "sales_traindf.outlet_type.value_counts()"
      ]
    },
    {
      "cell_type": "code",
      "execution_count": 314,
      "id": "ee01cf38",
      "metadata": {
        "id": "ee01cf38",
        "colab": {
          "base_uri": "https://localhost:8080/",
          "height": 484
        },
        "outputId": "e1719558-2ed7-4829-b491-9ab18145fb12"
      },
      "outputs": [
        {
          "output_type": "display_data",
          "data": {
            "text/plain": [
              "<Figure size 720x432 with 1 Axes>"
            ],
            "image/png": "[encoded data removed]"
          },
          "metadata": {
            "needs_background": "light"
          }
        }
      ],
      "source": [
        "# Lets plot a countplot for the column\n",
        "\n",
        "base_color = sns.color_palette()[0]\n",
        "plt.figure(figsize=(10,6))\n",
        "sns.countplot(x = sales_traindf['outlet_type'],color = base_color)\n",
        "plt.xticks(rotation=60);\n",
        "plt.title('Distribution of fat content in the data set');"
      ]
    },
    {
      "cell_type": "markdown",
      "id": "a8b168b1",
      "metadata": {
        "id": "a8b168b1"
      },
      "source": [
        "## Bivariate Analysis"
      ]
    },
    {
      "cell_type": "code",
      "execution_count": 315,
      "id": "3ccfff43",
      "metadata": {
        "id": "3ccfff43",
        "colab": {
          "base_uri": "https://localhost:8080/",
          "height": 608
        },
        "outputId": "277e5bc6-7da4-4dac-f17d-df8ba2b429a2"
      },
      "outputs": [
        {
          "output_type": "display_data",
          "data": {
            "text/plain": [
              "<Figure size 1080x720 with 2 Axes>"
            ],
            "image/png": "[encoded data removed]"
          },
          "metadata": {
            "needs_background": "light"
          }
        }
      ],
      "source": [
        "## Plotting a correlation matrix\n",
        "\n",
        "def Cormatrix (h):\n",
        "      plt.subplots(figsize=(15,10))\n",
        "      mask = np.triu(np.ones_like(h.corr()))\n",
        "      colormap = sns.color_palette(\"Greens\")\n",
        "      dataplot = sns.heatmap(h.corr(), cmap=colormap, annot=True, mask=mask)\n",
        "      dataplot.set_title(\"Correlation matrix of the dataset\")\n",
        "      plt.show()\n",
        "\n",
        "Cormatrix (sales_traindf)"
      ]
    },
    {
      "cell_type": "code",
      "execution_count": 316,
      "id": "530f4a7f",
      "metadata": {
        "scrolled": true,
        "id": "530f4a7f",
        "colab": {
          "base_uri": "https://localhost:8080/",
          "height": 280
        },
        "outputId": "8f4afa26-2747-465e-822b-8e5b03df48b3"
      },
      "outputs": [
        {
          "output_type": "display_data",
          "data": {
            "text/plain": [
              "<Figure size 432x288 with 1 Axes>"
            ],
            "image/png": "[encoded data removed]"
          },
          "metadata": {
            "needs_background": "light"
          }
        }
      ],
      "source": [
        "# Lets plot scatter plots of the highly correlated features \n",
        "\n",
        "ax = sales_traindf.plot.scatter(x=\"item_mrp\", y=\"item_outlet_sales\")"
      ]
    },
    {
      "cell_type": "code",
      "execution_count": 317,
      "id": "508ae21c",
      "metadata": {
        "id": "508ae21c",
        "colab": {
          "base_uri": "https://localhost:8080/",
          "height": 259
        },
        "outputId": "bc61962d-d312-4c9a-90ae-82cb898d3207"
      },
      "outputs": [
        {
          "output_type": "execute_result",
          "data": {
            "text/plain": [
              "  item_identifier  item_weight item_fat_content  item_visibility    item_type  \\\n",
              "0           FDA15         9.30          low fat         0.016047        Dairy   \n",
              "1           DRC01         5.92          regular         0.019278  Soft Drinks   \n",
              "2           FDN15        17.50          low fat         0.016760         Meat   \n",
              "\n",
              "   item_mrp outlet_identifier     outlet_establishment_year outlet_size  \\\n",
              "0  249.8092            OUT049 1970-01-01 00:00:00.000001999      Medium   \n",
              "1   48.2692            OUT018 1970-01-01 00:00:00.000002009      Medium   \n",
              "2  141.6180            OUT049 1970-01-01 00:00:00.000001999      Medium   \n",
              "\n",
              "  outlet_location_type        outlet_type  item_outlet_sales  \n",
              "0               Tier 1  Supermarket Type1          3735.1380  \n",
              "1               Tier 3  Supermarket Type2           443.4228  \n",
              "2               Tier 1  Supermarket Type1          2097.2700  "
            ],
            "text/html": [
              "\n",
              "  <div id=\"df-e0b3d8ae-3c2f-477e-a90a-1e53a8f8c013\">\n",
              "    <div class=\"colab-df-container\">\n",
              "      <div>\n",
              "<style scoped>\n",
              "    .dataframe tbody tr th:only-of-type {\n",
              "        vertical-align: middle;\n",
              "    }\n",
              "\n",
              "    .dataframe tbody tr th {\n",
              "        vertical-align: top;\n",
              "    }\n",
              "\n",
              "    .dataframe thead th {\n",
              "        text-align: right;\n",
              "    }\n",
              "</style>\n",
              "<table border=\"1\" class=\"dataframe\">\n",
              "  <thead>\n",
              "    <tr style=\"text-align: right;\">\n",
              "      <th></th>\n",
              "      <th>item_identifier</th>\n",
              "      <th>item_weight</th>\n",
              "      <th>item_fat_content</th>\n",
              "      <th>item_visibility</th>\n",
              "      <th>item_type</th>\n",
              "      <th>item_mrp</th>\n",
              "      <th>outlet_identifier</th>\n",
              "      <th>outlet_establishment_year</th>\n",
              "      <th>outlet_size</th>\n",
              "      <th>outlet_location_type</th>\n",
              "      <th>outlet_type</th>\n",
              "      <th>item_outlet_sales</th>\n",
              "    </tr>\n",
              "  </thead>\n",
              "  <tbody>\n",
              "    <tr>\n",
              "      <th>0</th>\n",
              "      <td>FDA15</td>\n",
              "      <td>9.30</td>\n",
              "      <td>low fat</td>\n",
              "      <td>0.016047</td>\n",
              "      <td>Dairy</td>\n",
              "      <td>249.8092</td>\n",
              "      <td>OUT049</td>\n",
              "      <td>1970-01-01 00:00:00.000001999</td>\n",
              "      <td>Medium</td>\n",
              "      <td>Tier 1</td>\n",
              "      <td>Supermarket Type1</td>\n",
              "      <td>3735.1380</td>\n",
              "    </tr>\n",
              "    <tr>\n",
              "      <th>1</th>\n",
              "      <td>DRC01</td>\n",
              "      <td>5.92</td>\n",
              "      <td>regular</td>\n",
              "      <td>0.019278</td>\n",
              "      <td>Soft Drinks</td>\n",
              "      <td>48.2692</td>\n",
              "      <td>OUT018</td>\n",
              "      <td>1970-01-01 00:00:00.000002009</td>\n",
              "      <td>Medium</td>\n",
              "      <td>Tier 3</td>\n",
              "      <td>Supermarket Type2</td>\n",
              "      <td>443.4228</td>\n",
              "    </tr>\n",
              "    <tr>\n",
              "      <th>2</th>\n",
              "      <td>FDN15</td>\n",
              "      <td>17.50</td>\n",
              "      <td>low fat</td>\n",
              "      <td>0.016760</td>\n",
              "      <td>Meat</td>\n",
              "      <td>141.6180</td>\n",
              "      <td>OUT049</td>\n",
              "      <td>1970-01-01 00:00:00.000001999</td>\n",
              "      <td>Medium</td>\n",
              "      <td>Tier 1</td>\n",
              "      <td>Supermarket Type1</td>\n",
              "      <td>2097.2700</td>\n",
              "    </tr>\n",
              "  </tbody>\n",
              "</table>\n",
              "</div>\n",
              "      <button class=\"colab-df-convert\" onclick=\"convertToInteractive('df-e0b3d8ae-3c2f-477e-a90a-1e53a8f8c013')\"\n",
              "              title=\"Convert this dataframe to an interactive table.\"\n",
              "              style=\"display:none;\">\n",
              "        \n",
              "  <svg xmlns=\"http://www.w3.org/2000/svg\" height=\"24px\"viewBox=\"0 0 24 24\"\n",
              "       width=\"24px\">\n",
              "    <path d=\"M0 0h24v24H0V0z\" fill=\"none\"/>\n",
              "    <path d=\"M18.56 5.44l.94 2.06.94-2.06 2.06-.94-2.06-.94-.94-2.06-.94 2.06-2.06.94zm-11 1L8.5 8.5l.94-2.06 2.06-.94-2.06-.94L8.5 2.5l-.94 2.06-2.06.94zm10 10l.94 2.06.94-2.06 2.06-.94-2.06-.94-.94-2.06-.94 2.06-2.06.94z\"/><path d=\"M17.41 7.96l-1.37-1.37c-.4-.4-.92-.59-1.43-.59-.52 0-1.04.2-1.43.59L10.3 9.45l-7.72 7.72c-.78.78-.78 2.05 0 2.83L4 21.41c.39.39.9.59 1.41.59.51 0 1.02-.2 1.41-.59l7.78-7.78 2.81-2.81c.8-.78.8-2.07 0-2.86zM5.41 20L4 18.59l7.72-7.72 1.47 1.35L5.41 20z\"/>\n",
              "  </svg>\n",
              "      </button>\n",
              "      \n",
              "  <style>\n",
              "    .colab-df-container {\n",
              "      display:flex;\n",
              "      flex-wrap:wrap;\n",
              "      gap: 12px;\n",
              "    }\n",
              "\n",
              "    .colab-df-convert {\n",
              "      background-color: #E8F0FE;\n",
              "      border: none;\n",
              "      border-radius: 50%;\n",
              "      cursor: pointer;\n",
              "      display: none;\n",
              "      fill: #1967D2;\n",
              "      height: 32px;\n",
              "      padding: 0 0 0 0;\n",
              "      width: 32px;\n",
              "    }\n",
              "\n",
              "    .colab-df-convert:hover {\n",
              "      background-color: #E2EBFA;\n",
              "      box-shadow: 0px 1px 2px rgba(60, 64, 67, 0.3), 0px 1px 3px 1px rgba(60, 64, 67, 0.15);\n",
              "      fill: #174EA6;\n",
              "    }\n",
              "\n",
              "    [theme=dark] .colab-df-convert {\n",
              "      background-color: #3B4455;\n",
              "      fill: #D2E3FC;\n",
              "    }\n",
              "\n",
              "    [theme=dark] .colab-df-convert:hover {\n",
              "      background-color: #434B5C;\n",
              "      box-shadow: 0px 1px 3px 1px rgba(0, 0, 0, 0.15);\n",
              "      filter: drop-shadow(0px 1px 2px rgba(0, 0, 0, 0.3));\n",
              "      fill: #FFFFFF;\n",
              "    }\n",
              "  </style>\n",
              "\n",
              "      <script>\n",
              "        const buttonEl =\n",
              "          document.querySelector('#df-e0b3d8ae-3c2f-477e-a90a-1e53a8f8c013 button.colab-df-convert');\n",
              "        buttonEl.style.display =\n",
              "          google.colab.kernel.accessAllowed ? 'block' : 'none';\n",
              "\n",
              "        async function convertToInteractive(key) {\n",
              "          const element = document.querySelector('#df-e0b3d8ae-3c2f-477e-a90a-1e53a8f8c013');\n",
              "          const dataTable =\n",
              "            await google.colab.kernel.invokeFunction('convertToInteractive',\n",
              "                                                     [key], {});\n",
              "          if (!dataTable) return;\n",
              "\n",
              "          const docLinkHtml = 'Like what you see? Visit the ' +\n",
              "            '<a target=\"_blank\" href=https://colab.research.google.com/notebooks/data_table.ipynb>data table notebook</a>'\n",
              "            + ' to learn more about interactive tables.';\n",
              "          element.innerHTML = '';\n",
              "          dataTable['output_type'] = 'display_data';\n",
              "          await google.colab.output.renderOutput(dataTable, element);\n",
              "          const docLink = document.createElement('div');\n",
              "          docLink.innerHTML = docLinkHtml;\n",
              "          element.appendChild(docLink);\n",
              "        }\n",
              "      </script>\n",
              "    </div>\n",
              "  </div>\n",
              "  "
            ]
          },
          "metadata": {},
          "execution_count": 317
        }
      ],
      "source": [
        "sales_traindf.head(3)"
      ]
    },
    {
      "cell_type": "markdown",
      "id": "eb839d7e",
      "metadata": {
        "id": "eb839d7e"
      },
      "source": [
        "# Pre-processing\n",
        "\n",
        "## (a) Label Encoding"
      ]
    },
    {
      "cell_type": "code",
      "execution_count": 318,
      "id": "af81493b",
      "metadata": {
        "id": "af81493b",
        "colab": {
          "base_uri": "https://localhost:8080/",
          "height": 211
        },
        "outputId": "de5f0963-8f91-42a7-ade2-1ae306995af3"
      },
      "outputs": [
        {
          "output_type": "execute_result",
          "data": {
            "text/plain": [
              "     item_identifier  item_weight item_fat_content  item_visibility  \\\n",
              "674            NCB18         19.6          low fat         0.041459   \n",
              "6457           FDW50         13.1          low fat         0.075886   \n",
              "\n",
              "      item_type  item_mrp outlet_identifier     outlet_establishment_year  \\\n",
              "674   Household   89.6514            OUT018 1970-01-01 00:00:00.000002009   \n",
              "6457      Dairy  165.1158            OUT018 1970-01-01 00:00:00.000002009   \n",
              "\n",
              "     outlet_size outlet_location_type        outlet_type  item_outlet_sales  \n",
              "674       Medium               Tier 3  Supermarket Type2          1239.7196  \n",
              "6457      Medium               Tier 3  Supermarket Type2          1504.0422  "
            ],
            "text/html": [
              "\n",
              "  <div id=\"df-3e1ec70e-308a-4384-b785-fea785479531\">\n",
              "    <div class=\"colab-df-container\">\n",
              "      <div>\n",
              "<style scoped>\n",
              "    .dataframe tbody tr th:only-of-type {\n",
              "        vertical-align: middle;\n",
              "    }\n",
              "\n",
              "    .dataframe tbody tr th {\n",
              "        vertical-align: top;\n",
              "    }\n",
              "\n",
              "    .dataframe thead th {\n",
              "        text-align: right;\n",
              "    }\n",
              "</style>\n",
              "<table border=\"1\" class=\"dataframe\">\n",
              "  <thead>\n",
              "    <tr style=\"text-align: right;\">\n",
              "      <th></th>\n",
              "      <th>item_identifier</th>\n",
              "      <th>item_weight</th>\n",
              "      <th>item_fat_content</th>\n",
              "      <th>item_visibility</th>\n",
              "      <th>item_type</th>\n",
              "      <th>item_mrp</th>\n",
              "      <th>outlet_identifier</th>\n",
              "      <th>outlet_establishment_year</th>\n",
              "      <th>outlet_size</th>\n",
              "      <th>outlet_location_type</th>\n",
              "      <th>outlet_type</th>\n",
              "      <th>item_outlet_sales</th>\n",
              "    </tr>\n",
              "  </thead>\n",
              "  <tbody>\n",
              "    <tr>\n",
              "      <th>674</th>\n",
              "      <td>NCB18</td>\n",
              "      <td>19.6</td>\n",
              "      <td>low fat</td>\n",
              "      <td>0.041459</td>\n",
              "      <td>Household</td>\n",
              "      <td>89.6514</td>\n",
              "      <td>OUT018</td>\n",
              "      <td>1970-01-01 00:00:00.000002009</td>\n",
              "      <td>Medium</td>\n",
              "      <td>Tier 3</td>\n",
              "      <td>Supermarket Type2</td>\n",
              "      <td>1239.7196</td>\n",
              "    </tr>\n",
              "    <tr>\n",
              "      <th>6457</th>\n",
              "      <td>FDW50</td>\n",
              "      <td>13.1</td>\n",
              "      <td>low fat</td>\n",
              "      <td>0.075886</td>\n",
              "      <td>Dairy</td>\n",
              "      <td>165.1158</td>\n",
              "      <td>OUT018</td>\n",
              "      <td>1970-01-01 00:00:00.000002009</td>\n",
              "      <td>Medium</td>\n",
              "      <td>Tier 3</td>\n",
              "      <td>Supermarket Type2</td>\n",
              "      <td>1504.0422</td>\n",
              "    </tr>\n",
              "  </tbody>\n",
              "</table>\n",
              "</div>\n",
              "      <button class=\"colab-df-convert\" onclick=\"convertToInteractive('df-3e1ec70e-308a-4384-b785-fea785479531')\"\n",
              "              title=\"Convert this dataframe to an interactive table.\"\n",
              "              style=\"display:none;\">\n",
              "        \n",
              "  <svg xmlns=\"http://www.w3.org/2000/svg\" height=\"24px\"viewBox=\"0 0 24 24\"\n",
              "       width=\"24px\">\n",
              "    <path d=\"M0 0h24v24H0V0z\" fill=\"none\"/>\n",
              "    <path d=\"M18.56 5.44l.94 2.06.94-2.06 2.06-.94-2.06-.94-.94-2.06-.94 2.06-2.06.94zm-11 1L8.5 8.5l.94-2.06 2.06-.94-2.06-.94L8.5 2.5l-.94 2.06-2.06.94zm10 10l.94 2.06.94-2.06 2.06-.94-2.06-.94-.94-2.06-.94 2.06-2.06.94z\"/><path d=\"M17.41 7.96l-1.37-1.37c-.4-.4-.92-.59-1.43-.59-.52 0-1.04.2-1.43.59L10.3 9.45l-7.72 7.72c-.78.78-.78 2.05 0 2.83L4 21.41c.39.39.9.59 1.41.59.51 0 1.02-.2 1.41-.59l7.78-7.78 2.81-2.81c.8-.78.8-2.07 0-2.86zM5.41 20L4 18.59l7.72-7.72 1.47 1.35L5.41 20z\"/>\n",
              "  </svg>\n",
              "      </button>\n",
              "      \n",
              "  <style>\n",
              "    .colab-df-container {\n",
              "      display:flex;\n",
              "      flex-wrap:wrap;\n",
              "      gap: 12px;\n",
              "    }\n",
              "\n",
              "    .colab-df-convert {\n",
              "      background-color: #E8F0FE;\n",
              "      border: none;\n",
              "      border-radius: 50%;\n",
              "      cursor: pointer;\n",
              "      display: none;\n",
              "      fill: #1967D2;\n",
              "      height: 32px;\n",
              "      padding: 0 0 0 0;\n",
              "      width: 32px;\n",
              "    }\n",
              "\n",
              "    .colab-df-convert:hover {\n",
              "      background-color: #E2EBFA;\n",
              "      box-shadow: 0px 1px 2px rgba(60, 64, 67, 0.3), 0px 1px 3px 1px rgba(60, 64, 67, 0.15);\n",
              "      fill: #174EA6;\n",
              "    }\n",
              "\n",
              "    [theme=dark] .colab-df-convert {\n",
              "      background-color: #3B4455;\n",
              "      fill: #D2E3FC;\n",
              "    }\n",
              "\n",
              "    [theme=dark] .colab-df-convert:hover {\n",
              "      background-color: #434B5C;\n",
              "      box-shadow: 0px 1px 3px 1px rgba(0, 0, 0, 0.15);\n",
              "      filter: drop-shadow(0px 1px 2px rgba(0, 0, 0, 0.3));\n",
              "      fill: #FFFFFF;\n",
              "    }\n",
              "  </style>\n",
              "\n",
              "      <script>\n",
              "        const buttonEl =\n",
              "          document.querySelector('#df-3e1ec70e-308a-4384-b785-fea785479531 button.colab-df-convert');\n",
              "        buttonEl.style.display =\n",
              "          google.colab.kernel.accessAllowed ? 'block' : 'none';\n",
              "\n",
              "        async function convertToInteractive(key) {\n",
              "          const element = document.querySelector('#df-3e1ec70e-308a-4384-b785-fea785479531');\n",
              "          const dataTable =\n",
              "            await google.colab.kernel.invokeFunction('convertToInteractive',\n",
              "                                                     [key], {});\n",
              "          if (!dataTable) return;\n",
              "\n",
              "          const docLinkHtml = 'Like what you see? Visit the ' +\n",
              "            '<a target=\"_blank\" href=https://colab.research.google.com/notebooks/data_table.ipynb>data table notebook</a>'\n",
              "            + ' to learn more about interactive tables.';\n",
              "          element.innerHTML = '';\n",
              "          dataTable['output_type'] = 'display_data';\n",
              "          await google.colab.output.renderOutput(dataTable, element);\n",
              "          const docLink = document.createElement('div');\n",
              "          docLink.innerHTML = docLinkHtml;\n",
              "          element.appendChild(docLink);\n",
              "        }\n",
              "      </script>\n",
              "    </div>\n",
              "  </div>\n",
              "  "
            ]
          },
          "metadata": {},
          "execution_count": 318
        }
      ],
      "source": [
        "# Preview a sample\n",
        "sales_traindf.sample(2)"
      ]
    },
    {
      "cell_type": "code",
      "execution_count": 319,
      "id": "cd6c35fc",
      "metadata": {
        "id": "cd6c35fc",
        "colab": {
          "base_uri": "https://localhost:8080/"
        },
        "outputId": "82a39b93-7524-46a6-b41b-8f9a3609d1f9"
      },
      "outputs": [
        {
          "output_type": "execute_result",
          "data": {
            "text/plain": [
              "['item_identifier',\n",
              " 'item_fat_content',\n",
              " 'item_type',\n",
              " 'outlet_identifier',\n",
              " 'outlet_size',\n",
              " 'outlet_location_type',\n",
              " 'outlet_type']"
            ]
          },
          "metadata": {},
          "execution_count": 319
        }
      ],
      "source": [
        "# Lets label encode\n",
        "le = LabelEncoder()\n",
        "\n",
        "objects = [col for col in sales_traindf.columns if sales_traindf[col].dtype == 'object']\n",
        "objects"
      ]
    },
    {
      "cell_type": "code",
      "execution_count": 320,
      "id": "a0a57826",
      "metadata": {
        "id": "a0a57826"
      },
      "outputs": [],
      "source": [
        "# Lets label encode categorical varibles\n",
        "categorical = ['item_fat_content','item_type','outlet_size','outlet_location_type','outlet_type']\n",
        "\n",
        "for col in categorical :\n",
        "    sales_traindf[col] = le.fit_transform(sales_traindf[col])"
      ]
    },
    {
      "cell_type": "code",
      "execution_count": 321,
      "id": "800db206",
      "metadata": {
        "scrolled": true,
        "id": "800db206",
        "colab": {
          "base_uri": "https://localhost:8080/",
          "height": 259
        },
        "outputId": "3c7294c6-e7a1-4c1e-bc43-725721f4a75f"
      },
      "outputs": [
        {
          "output_type": "execute_result",
          "data": {
            "text/plain": [
              "  item_identifier  item_weight  item_fat_content  item_visibility  item_type  \\\n",
              "0           FDA15         9.30                 0         0.016047          4   \n",
              "1           DRC01         5.92                 1         0.019278         14   \n",
              "2           FDN15        17.50                 0         0.016760         10   \n",
              "\n",
              "   item_mrp outlet_identifier     outlet_establishment_year  outlet_size  \\\n",
              "0  249.8092            OUT049 1970-01-01 00:00:00.000001999            1   \n",
              "1   48.2692            OUT018 1970-01-01 00:00:00.000002009            1   \n",
              "2  141.6180            OUT049 1970-01-01 00:00:00.000001999            1   \n",
              "\n",
              "   outlet_location_type  outlet_type  item_outlet_sales  \n",
              "0                     0            0          3735.1380  \n",
              "1                     2            1           443.4228  \n",
              "2                     0            0          2097.2700  "
            ],
            "text/html": [
              "\n",
              "  <div id=\"df-67f75dd3-82b2-4253-88bf-71a91a0594e7\">\n",
              "    <div class=\"colab-df-container\">\n",
              "      <div>\n",
              "<style scoped>\n",
              "    .dataframe tbody tr th:only-of-type {\n",
              "        vertical-align: middle;\n",
              "    }\n",
              "\n",
              "    .dataframe tbody tr th {\n",
              "        vertical-align: top;\n",
              "    }\n",
              "\n",
              "    .dataframe thead th {\n",
              "        text-align: right;\n",
              "    }\n",
              "</style>\n",
              "<table border=\"1\" class=\"dataframe\">\n",
              "  <thead>\n",
              "    <tr style=\"text-align: right;\">\n",
              "      <th></th>\n",
              "      <th>item_identifier</th>\n",
              "      <th>item_weight</th>\n",
              "      <th>item_fat_content</th>\n",
              "      <th>item_visibility</th>\n",
              "      <th>item_type</th>\n",
              "      <th>item_mrp</th>\n",
              "      <th>outlet_identifier</th>\n",
              "      <th>outlet_establishment_year</th>\n",
              "      <th>outlet_size</th>\n",
              "      <th>outlet_location_type</th>\n",
              "      <th>outlet_type</th>\n",
              "      <th>item_outlet_sales</th>\n",
              "    </tr>\n",
              "  </thead>\n",
              "  <tbody>\n",
              "    <tr>\n",
              "      <th>0</th>\n",
              "      <td>FDA15</td>\n",
              "      <td>9.30</td>\n",
              "      <td>0</td>\n",
              "      <td>0.016047</td>\n",
              "      <td>4</td>\n",
              "      <td>249.8092</td>\n",
              "      <td>OUT049</td>\n",
              "      <td>1970-01-01 00:00:00.000001999</td>\n",
              "      <td>1</td>\n",
              "      <td>0</td>\n",
              "      <td>0</td>\n",
              "      <td>3735.1380</td>\n",
              "    </tr>\n",
              "    <tr>\n",
              "      <th>1</th>\n",
              "      <td>DRC01</td>\n",
              "      <td>5.92</td>\n",
              "      <td>1</td>\n",
              "      <td>0.019278</td>\n",
              "      <td>14</td>\n",
              "      <td>48.2692</td>\n",
              "      <td>OUT018</td>\n",
              "      <td>1970-01-01 00:00:00.000002009</td>\n",
              "      <td>1</td>\n",
              "      <td>2</td>\n",
              "      <td>1</td>\n",
              "      <td>443.4228</td>\n",
              "    </tr>\n",
              "    <tr>\n",
              "      <th>2</th>\n",
              "      <td>FDN15</td>\n",
              "      <td>17.50</td>\n",
              "      <td>0</td>\n",
              "      <td>0.016760</td>\n",
              "      <td>10</td>\n",
              "      <td>141.6180</td>\n",
              "      <td>OUT049</td>\n",
              "      <td>1970-01-01 00:00:00.000001999</td>\n",
              "      <td>1</td>\n",
              "      <td>0</td>\n",
              "      <td>0</td>\n",
              "      <td>2097.2700</td>\n",
              "    </tr>\n",
              "  </tbody>\n",
              "</table>\n",
              "</div>\n",
              "      <button class=\"colab-df-convert\" onclick=\"convertToInteractive('df-67f75dd3-82b2-4253-88bf-71a91a0594e7')\"\n",
              "              title=\"Convert this dataframe to an interactive table.\"\n",
              "              style=\"display:none;\">\n",
              "        \n",
              "  <svg xmlns=\"http://www.w3.org/2000/svg\" height=\"24px\"viewBox=\"0 0 24 24\"\n",
              "       width=\"24px\">\n",
              "    <path d=\"M0 0h24v24H0V0z\" fill=\"none\"/>\n",
              "    <path d=\"M18.56 5.44l.94 2.06.94-2.06 2.06-.94-2.06-.94-.94-2.06-.94 2.06-2.06.94zm-11 1L8.5 8.5l.94-2.06 2.06-.94-2.06-.94L8.5 2.5l-.94 2.06-2.06.94zm10 10l.94 2.06.94-2.06 2.06-.94-2.06-.94-.94-2.06-.94 2.06-2.06.94z\"/><path d=\"M17.41 7.96l-1.37-1.37c-.4-.4-.92-.59-1.43-.59-.52 0-1.04.2-1.43.59L10.3 9.45l-7.72 7.72c-.78.78-.78 2.05 0 2.83L4 21.41c.39.39.9.59 1.41.59.51 0 1.02-.2 1.41-.59l7.78-7.78 2.81-2.81c.8-.78.8-2.07 0-2.86zM5.41 20L4 18.59l7.72-7.72 1.47 1.35L5.41 20z\"/>\n",
              "  </svg>\n",
              "      </button>\n",
              "      \n",
              "  <style>\n",
              "    .colab-df-container {\n",
              "      display:flex;\n",
              "      flex-wrap:wrap;\n",
              "      gap: 12px;\n",
              "    }\n",
              "\n",
              "    .colab-df-convert {\n",
              "      background-color: #E8F0FE;\n",
              "      border: none;\n",
              "      border-radius: 50%;\n",
              "      cursor: pointer;\n",
              "      display: none;\n",
              "      fill: #1967D2;\n",
              "      height: 32px;\n",
              "      padding: 0 0 0 0;\n",
              "      width: 32px;\n",
              "    }\n",
              "\n",
              "    .colab-df-convert:hover {\n",
              "      background-color: #E2EBFA;\n",
              "      box-shadow: 0px 1px 2px rgba(60, 64, 67, 0.3), 0px 1px 3px 1px rgba(60, 64, 67, 0.15);\n",
              "      fill: #174EA6;\n",
              "    }\n",
              "\n",
              "    [theme=dark] .colab-df-convert {\n",
              "      background-color: #3B4455;\n",
              "      fill: #D2E3FC;\n",
              "    }\n",
              "\n",
              "    [theme=dark] .colab-df-convert:hover {\n",
              "      background-color: #434B5C;\n",
              "      box-shadow: 0px 1px 3px 1px rgba(0, 0, 0, 0.15);\n",
              "      filter: drop-shadow(0px 1px 2px rgba(0, 0, 0, 0.3));\n",
              "      fill: #FFFFFF;\n",
              "    }\n",
              "  </style>\n",
              "\n",
              "      <script>\n",
              "        const buttonEl =\n",
              "          document.querySelector('#df-67f75dd3-82b2-4253-88bf-71a91a0594e7 button.colab-df-convert');\n",
              "        buttonEl.style.display =\n",
              "          google.colab.kernel.accessAllowed ? 'block' : 'none';\n",
              "\n",
              "        async function convertToInteractive(key) {\n",
              "          const element = document.querySelector('#df-67f75dd3-82b2-4253-88bf-71a91a0594e7');\n",
              "          const dataTable =\n",
              "            await google.colab.kernel.invokeFunction('convertToInteractive',\n",
              "                                                     [key], {});\n",
              "          if (!dataTable) return;\n",
              "\n",
              "          const docLinkHtml = 'Like what you see? Visit the ' +\n",
              "            '<a target=\"_blank\" href=https://colab.research.google.com/notebooks/data_table.ipynb>data table notebook</a>'\n",
              "            + ' to learn more about interactive tables.';\n",
              "          element.innerHTML = '';\n",
              "          dataTable['output_type'] = 'display_data';\n",
              "          await google.colab.output.renderOutput(dataTable, element);\n",
              "          const docLink = document.createElement('div');\n",
              "          docLink.innerHTML = docLinkHtml;\n",
              "          element.appendChild(docLink);\n",
              "        }\n",
              "      </script>\n",
              "    </div>\n",
              "  </div>\n",
              "  "
            ]
          },
          "metadata": {},
          "execution_count": 321
        }
      ],
      "source": [
        "# Preview a sample\n",
        "sales_traindf.head(3)"
      ]
    },
    {
      "cell_type": "markdown",
      "id": "c356f598",
      "metadata": {
        "id": "c356f598"
      },
      "source": [
        "## Splitting the dataset\n"
      ]
    },
    {
      "cell_type": "code",
      "execution_count": 322,
      "id": "c430a2ce",
      "metadata": {
        "id": "c430a2ce"
      },
      "outputs": [],
      "source": [
        "# Linear regression\n",
        "X = sales_traindf.drop(['item_identifier','outlet_identifier','item_outlet_sales','outlet_establishment_year'],1)\n",
        "y = sales_traindf['item_outlet_sales']"
      ]
    },
    {
      "cell_type": "code",
      "execution_count": 323,
      "id": "561bb559",
      "metadata": {
        "id": "561bb559"
      },
      "outputs": [],
      "source": [
        "# Crafting of the dataset\n",
        "from sklearn.model_selection import train_test_split\n",
        "\n",
        "X_train, X_test, y_train, y_test = train_test_split(X,y, random_state=101, test_size=0.2)"
      ]
    },
    {
      "cell_type": "markdown",
      "id": "4b4c3f63",
      "metadata": {
        "id": "4b4c3f63"
      },
      "source": [
        "## Standardization"
      ]
    },
    {
      "cell_type": "code",
      "execution_count": 324,
      "id": "f5d7aeaf",
      "metadata": {
        "scrolled": true,
        "id": "f5d7aeaf",
        "colab": {
          "base_uri": "https://localhost:8080/"
        },
        "outputId": "0794cffd-be3f-47d9-d0ca-524c55a7218e"
      },
      "outputs": [
        {
          "output_type": "execute_result",
          "data": {
            "text/plain": [
              "array([[ 0.5756752 , -0.73900924,  1.84835355, ..., -0.26809708,\n",
              "         1.1249453 ,  2.00843957],\n",
              "       [ 1.03357788,  1.35316305,  2.14114477, ...,  1.07058899,\n",
              "        -1.10635116, -0.49789897],\n",
              "       [ 0.09647473, -0.73900924, -0.63465873, ..., -0.26809708,\n",
              "        -1.10635116, -0.49789897],\n",
              "       ...,\n",
              "       [ 1.42758715, -0.73900924, -0.59626072, ..., -0.26809708,\n",
              "        -1.10635116, -0.49789897],\n",
              "       [ 0.92708888,  1.35316305,  1.43648482, ...,  1.07058899,\n",
              "         0.00929707, -0.49789897],\n",
              "       [ 0.94838668, -0.73900924, -0.89465211, ...,  1.07058899,\n",
              "        -1.10635116, -0.49789897]])"
            ]
          },
          "metadata": {},
          "execution_count": 324
        }
      ],
      "source": [
        "# Lets use standardization \n",
        "sc= StandardScaler()\n",
        "\n",
        "sc.fit_transform(X_train)\n",
        "sc.transform(X_test)"
      ]
    },
    {
      "cell_type": "markdown",
      "id": "00fa357b",
      "metadata": {
        "id": "00fa357b"
      },
      "source": [
        "# Modeling\n",
        "\n",
        "## Base Model :\n",
        "\n",
        "### Decision Tree Regressor"
      ]
    },
    {
      "cell_type": "code",
      "execution_count": 325,
      "id": "6236aadd",
      "metadata": {
        "id": "6236aadd"
      },
      "outputs": [],
      "source": [
        "# Decision Tree \n",
        "from sklearn.model_selection import train_test_split\n",
        "X_train, X_test, y_train, y_test = train_test_split(X, y, test_size = 0.3, random_state=25)"
      ]
    },
    {
      "cell_type": "code",
      "execution_count": 326,
      "id": "b2426f50",
      "metadata": {
        "id": "b2426f50",
        "colab": {
          "base_uri": "https://localhost:8080/"
        },
        "outputId": "bfc4256e-9d8a-42d6-f703-c22eb5d4459c"
      },
      "outputs": [
        {
          "output_type": "execute_result",
          "data": {
            "text/plain": [
              "DecisionTreeRegressor(random_state=10)"
            ]
          },
          "metadata": {},
          "execution_count": 326
        }
      ],
      "source": [
        "# Building the model\n",
        "\n",
        "from sklearn.tree import DecisionTreeRegressor\n",
        "model = DecisionTreeRegressor(random_state = 10,min_samples_split = 2)\n",
        "\n",
        "# Fitting the model\n",
        "\n",
        "model.fit(X_train, y_train)"
      ]
    },
    {
      "cell_type": "code",
      "execution_count": 327,
      "id": "c97e0b09",
      "metadata": {
        "id": "c97e0b09",
        "colab": {
          "base_uri": "https://localhost:8080/",
          "height": 206
        },
        "outputId": "0b423d9c-85df-4e77-87b1-99d0a0524a62"
      },
      "outputs": [
        {
          "output_type": "execute_result",
          "data": {
            "text/plain": [
              "         Actual    Predicted\n",
              "5785  1584.6040  1822.823888\n",
              "3415  1566.6274  2077.749842\n",
              "1793   194.4136   703.809001\n",
              "2701  2465.4574  1748.782222\n",
              "7118  7190.6400  4221.353824"
            ],
            "text/html": [
              "\n",
              "  <div id=\"df-2c94ec00-cf9f-47d7-a999-abfc80d7d22f\">\n",
              "    <div class=\"colab-df-container\">\n",
              "      <div>\n",
              "<style scoped>\n",
              "    .dataframe tbody tr th:only-of-type {\n",
              "        vertical-align: middle;\n",
              "    }\n",
              "\n",
              "    .dataframe tbody tr th {\n",
              "        vertical-align: top;\n",
              "    }\n",
              "\n",
              "    .dataframe thead th {\n",
              "        text-align: right;\n",
              "    }\n",
              "</style>\n",
              "<table border=\"1\" class=\"dataframe\">\n",
              "  <thead>\n",
              "    <tr style=\"text-align: right;\">\n",
              "      <th></th>\n",
              "      <th>Actual</th>\n",
              "      <th>Predicted</th>\n",
              "    </tr>\n",
              "  </thead>\n",
              "  <tbody>\n",
              "    <tr>\n",
              "      <th>5785</th>\n",
              "      <td>1584.6040</td>\n",
              "      <td>1822.823888</td>\n",
              "    </tr>\n",
              "    <tr>\n",
              "      <th>3415</th>\n",
              "      <td>1566.6274</td>\n",
              "      <td>2077.749842</td>\n",
              "    </tr>\n",
              "    <tr>\n",
              "      <th>1793</th>\n",
              "      <td>194.4136</td>\n",
              "      <td>703.809001</td>\n",
              "    </tr>\n",
              "    <tr>\n",
              "      <th>2701</th>\n",
              "      <td>2465.4574</td>\n",
              "      <td>1748.782222</td>\n",
              "    </tr>\n",
              "    <tr>\n",
              "      <th>7118</th>\n",
              "      <td>7190.6400</td>\n",
              "      <td>4221.353824</td>\n",
              "    </tr>\n",
              "  </tbody>\n",
              "</table>\n",
              "</div>\n",
              "      <button class=\"colab-df-convert\" onclick=\"convertToInteractive('df-2c94ec00-cf9f-47d7-a999-abfc80d7d22f')\"\n",
              "              title=\"Convert this dataframe to an interactive table.\"\n",
              "              style=\"display:none;\">\n",
              "        \n",
              "  <svg xmlns=\"http://www.w3.org/2000/svg\" height=\"24px\"viewBox=\"0 0 24 24\"\n",
              "       width=\"24px\">\n",
              "    <path d=\"M0 0h24v24H0V0z\" fill=\"none\"/>\n",
              "    <path d=\"M18.56 5.44l.94 2.06.94-2.06 2.06-.94-2.06-.94-.94-2.06-.94 2.06-2.06.94zm-11 1L8.5 8.5l.94-2.06 2.06-.94-2.06-.94L8.5 2.5l-.94 2.06-2.06.94zm10 10l.94 2.06.94-2.06 2.06-.94-2.06-.94-.94-2.06-.94 2.06-2.06.94z\"/><path d=\"M17.41 7.96l-1.37-1.37c-.4-.4-.92-.59-1.43-.59-.52 0-1.04.2-1.43.59L10.3 9.45l-7.72 7.72c-.78.78-.78 2.05 0 2.83L4 21.41c.39.39.9.59 1.41.59.51 0 1.02-.2 1.41-.59l7.78-7.78 2.81-2.81c.8-.78.8-2.07 0-2.86zM5.41 20L4 18.59l7.72-7.72 1.47 1.35L5.41 20z\"/>\n",
              "  </svg>\n",
              "      </button>\n",
              "      \n",
              "  <style>\n",
              "    .colab-df-container {\n",
              "      display:flex;\n",
              "      flex-wrap:wrap;\n",
              "      gap: 12px;\n",
              "    }\n",
              "\n",
              "    .colab-df-convert {\n",
              "      background-color: #E8F0FE;\n",
              "      border: none;\n",
              "      border-radius: 50%;\n",
              "      cursor: pointer;\n",
              "      display: none;\n",
              "      fill: #1967D2;\n",
              "      height: 32px;\n",
              "      padding: 0 0 0 0;\n",
              "      width: 32px;\n",
              "    }\n",
              "\n",
              "    .colab-df-convert:hover {\n",
              "      background-color: #E2EBFA;\n",
              "      box-shadow: 0px 1px 2px rgba(60, 64, 67, 0.3), 0px 1px 3px 1px rgba(60, 64, 67, 0.15);\n",
              "      fill: #174EA6;\n",
              "    }\n",
              "\n",
              "    [theme=dark] .colab-df-convert {\n",
              "      background-color: #3B4455;\n",
              "      fill: #D2E3FC;\n",
              "    }\n",
              "\n",
              "    [theme=dark] .colab-df-convert:hover {\n",
              "      background-color: #434B5C;\n",
              "      box-shadow: 0px 1px 3px 1px rgba(0, 0, 0, 0.15);\n",
              "      filter: drop-shadow(0px 1px 2px rgba(0, 0, 0, 0.3));\n",
              "      fill: #FFFFFF;\n",
              "    }\n",
              "  </style>\n",
              "\n",
              "      <script>\n",
              "        const buttonEl =\n",
              "          document.querySelector('#df-2c94ec00-cf9f-47d7-a999-abfc80d7d22f button.colab-df-convert');\n",
              "        buttonEl.style.display =\n",
              "          google.colab.kernel.accessAllowed ? 'block' : 'none';\n",
              "\n",
              "        async function convertToInteractive(key) {\n",
              "          const element = document.querySelector('#df-2c94ec00-cf9f-47d7-a999-abfc80d7d22f');\n",
              "          const dataTable =\n",
              "            await google.colab.kernel.invokeFunction('convertToInteractive',\n",
              "                                                     [key], {});\n",
              "          if (!dataTable) return;\n",
              "\n",
              "          const docLinkHtml = 'Like what you see? Visit the ' +\n",
              "            '<a target=\"_blank\" href=https://colab.research.google.com/notebooks/data_table.ipynb>data table notebook</a>'\n",
              "            + ' to learn more about interactive tables.';\n",
              "          element.innerHTML = '';\n",
              "          dataTable['output_type'] = 'display_data';\n",
              "          await google.colab.output.renderOutput(dataTable, element);\n",
              "          const docLink = document.createElement('div');\n",
              "          docLink.innerHTML = docLinkHtml;\n",
              "          element.appendChild(docLink);\n",
              "        }\n",
              "      </script>\n",
              "    </div>\n",
              "  </div>\n",
              "  "
            ]
          },
          "metadata": {},
          "execution_count": 327
        }
      ],
      "source": [
        "# Predict based on the model we've trained\n",
        "y_preddt = forest.predict(X_test)\n",
        "\n",
        "# creating a dataframe of the predicted and actuals\n",
        "comparison_framedt = pd.DataFrame({'Actual': y_test, 'Predicted': y_preddt})\n",
        "comparison_framedt.head(5)"
      ]
    },
    {
      "cell_type": "code",
      "execution_count": 328,
      "id": "98177b6e",
      "metadata": {
        "id": "98177b6e",
        "colab": {
          "base_uri": "https://localhost:8080/",
          "height": 300
        },
        "outputId": "1beb0764-662d-4009-dee4-f0308f2804a4"
      },
      "outputs": [
        {
          "output_type": "execute_result",
          "data": {
            "text/plain": [
              "            Actual    Predicted\n",
              "count  1395.000000  1395.000000\n",
              "mean   2234.214321  2269.212507\n",
              "std    1489.723391  1048.141043\n",
              "min      69.243200   364.670818\n",
              "25%    1100.567400  1429.972058\n",
              "50%    1895.532600  2226.979148\n",
              "75%    3103.959600  3050.112463\n",
              "max    9069.527600  5271.953558"
            ],
            "text/html": [
              "\n",
              "  <div id=\"df-e5f4159a-d9c3-420b-9145-facdb06803a1\">\n",
              "    <div class=\"colab-df-container\">\n",
              "      <div>\n",
              "<style scoped>\n",
              "    .dataframe tbody tr th:only-of-type {\n",
              "        vertical-align: middle;\n",
              "    }\n",
              "\n",
              "    .dataframe tbody tr th {\n",
              "        vertical-align: top;\n",
              "    }\n",
              "\n",
              "    .dataframe thead th {\n",
              "        text-align: right;\n",
              "    }\n",
              "</style>\n",
              "<table border=\"1\" class=\"dataframe\">\n",
              "  <thead>\n",
              "    <tr style=\"text-align: right;\">\n",
              "      <th></th>\n",
              "      <th>Actual</th>\n",
              "      <th>Predicted</th>\n",
              "    </tr>\n",
              "  </thead>\n",
              "  <tbody>\n",
              "    <tr>\n",
              "      <th>count</th>\n",
              "      <td>1395.000000</td>\n",
              "      <td>1395.000000</td>\n",
              "    </tr>\n",
              "    <tr>\n",
              "      <th>mean</th>\n",
              "      <td>2234.214321</td>\n",
              "      <td>2269.212507</td>\n",
              "    </tr>\n",
              "    <tr>\n",
              "      <th>std</th>\n",
              "      <td>1489.723391</td>\n",
              "      <td>1048.141043</td>\n",
              "    </tr>\n",
              "    <tr>\n",
              "      <th>min</th>\n",
              "      <td>69.243200</td>\n",
              "      <td>364.670818</td>\n",
              "    </tr>\n",
              "    <tr>\n",
              "      <th>25%</th>\n",
              "      <td>1100.567400</td>\n",
              "      <td>1429.972058</td>\n",
              "    </tr>\n",
              "    <tr>\n",
              "      <th>50%</th>\n",
              "      <td>1895.532600</td>\n",
              "      <td>2226.979148</td>\n",
              "    </tr>\n",
              "    <tr>\n",
              "      <th>75%</th>\n",
              "      <td>3103.959600</td>\n",
              "      <td>3050.112463</td>\n",
              "    </tr>\n",
              "    <tr>\n",
              "      <th>max</th>\n",
              "      <td>9069.527600</td>\n",
              "      <td>5271.953558</td>\n",
              "    </tr>\n",
              "  </tbody>\n",
              "</table>\n",
              "</div>\n",
              "      <button class=\"colab-df-convert\" onclick=\"convertToInteractive('df-e5f4159a-d9c3-420b-9145-facdb06803a1')\"\n",
              "              title=\"Convert this dataframe to an interactive table.\"\n",
              "              style=\"display:none;\">\n",
              "        \n",
              "  <svg xmlns=\"http://www.w3.org/2000/svg\" height=\"24px\"viewBox=\"0 0 24 24\"\n",
              "       width=\"24px\">\n",
              "    <path d=\"M0 0h24v24H0V0z\" fill=\"none\"/>\n",
              "    <path d=\"M18.56 5.44l.94 2.06.94-2.06 2.06-.94-2.06-.94-.94-2.06-.94 2.06-2.06.94zm-11 1L8.5 8.5l.94-2.06 2.06-.94-2.06-.94L8.5 2.5l-.94 2.06-2.06.94zm10 10l.94 2.06.94-2.06 2.06-.94-2.06-.94-.94-2.06-.94 2.06-2.06.94z\"/><path d=\"M17.41 7.96l-1.37-1.37c-.4-.4-.92-.59-1.43-.59-.52 0-1.04.2-1.43.59L10.3 9.45l-7.72 7.72c-.78.78-.78 2.05 0 2.83L4 21.41c.39.39.9.59 1.41.59.51 0 1.02-.2 1.41-.59l7.78-7.78 2.81-2.81c.8-.78.8-2.07 0-2.86zM5.41 20L4 18.59l7.72-7.72 1.47 1.35L5.41 20z\"/>\n",
              "  </svg>\n",
              "      </button>\n",
              "      \n",
              "  <style>\n",
              "    .colab-df-container {\n",
              "      display:flex;\n",
              "      flex-wrap:wrap;\n",
              "      gap: 12px;\n",
              "    }\n",
              "\n",
              "    .colab-df-convert {\n",
              "      background-color: #E8F0FE;\n",
              "      border: none;\n",
              "      border-radius: 50%;\n",
              "      cursor: pointer;\n",
              "      display: none;\n",
              "      fill: #1967D2;\n",
              "      height: 32px;\n",
              "      padding: 0 0 0 0;\n",
              "      width: 32px;\n",
              "    }\n",
              "\n",
              "    .colab-df-convert:hover {\n",
              "      background-color: #E2EBFA;\n",
              "      box-shadow: 0px 1px 2px rgba(60, 64, 67, 0.3), 0px 1px 3px 1px rgba(60, 64, 67, 0.15);\n",
              "      fill: #174EA6;\n",
              "    }\n",
              "\n",
              "    [theme=dark] .colab-df-convert {\n",
              "      background-color: #3B4455;\n",
              "      fill: #D2E3FC;\n",
              "    }\n",
              "\n",
              "    [theme=dark] .colab-df-convert:hover {\n",
              "      background-color: #434B5C;\n",
              "      box-shadow: 0px 1px 3px 1px rgba(0, 0, 0, 0.15);\n",
              "      filter: drop-shadow(0px 1px 2px rgba(0, 0, 0, 0.3));\n",
              "      fill: #FFFFFF;\n",
              "    }\n",
              "  </style>\n",
              "\n",
              "      <script>\n",
              "        const buttonEl =\n",
              "          document.querySelector('#df-e5f4159a-d9c3-420b-9145-facdb06803a1 button.colab-df-convert');\n",
              "        buttonEl.style.display =\n",
              "          google.colab.kernel.accessAllowed ? 'block' : 'none';\n",
              "\n",
              "        async function convertToInteractive(key) {\n",
              "          const element = document.querySelector('#df-e5f4159a-d9c3-420b-9145-facdb06803a1');\n",
              "          const dataTable =\n",
              "            await google.colab.kernel.invokeFunction('convertToInteractive',\n",
              "                                                     [key], {});\n",
              "          if (!dataTable) return;\n",
              "\n",
              "          const docLinkHtml = 'Like what you see? Visit the ' +\n",
              "            '<a target=\"_blank\" href=https://colab.research.google.com/notebooks/data_table.ipynb>data table notebook</a>'\n",
              "            + ' to learn more about interactive tables.';\n",
              "          element.innerHTML = '';\n",
              "          dataTable['output_type'] = 'display_data';\n",
              "          await google.colab.output.renderOutput(dataTable, element);\n",
              "          const docLink = document.createElement('div');\n",
              "          docLink.innerHTML = docLinkHtml;\n",
              "          element.appendChild(docLink);\n",
              "        }\n",
              "      </script>\n",
              "    </div>\n",
              "  </div>\n",
              "  "
            ]
          },
          "metadata": {},
          "execution_count": 328
        }
      ],
      "source": [
        "# Summary statistics of the dataframe\n",
        "comparison_framedt.describe()"
      ]
    },
    {
      "cell_type": "code",
      "execution_count": 329,
      "id": "ac15ed3a",
      "metadata": {
        "id": "ac15ed3a",
        "colab": {
          "base_uri": "https://localhost:8080/"
        },
        "outputId": "0ec477f8-f628-40d9-91e5-e113990118a2"
      },
      "outputs": [
        {
          "output_type": "execute_result",
          "data": {
            "text/plain": [
              "-0.15789480992778415"
            ]
          },
          "metadata": {},
          "execution_count": 329
        }
      ],
      "source": [
        "# Lets now evaluate our model\n",
        "model.score(X_test, y_test)"
      ]
    },
    {
      "cell_type": "code",
      "execution_count": 330,
      "id": "81ac3a0a",
      "metadata": {
        "id": "81ac3a0a",
        "colab": {
          "base_uri": "https://localhost:8080/"
        },
        "outputId": "0115fe2c-1cbb-4d4c-b1ed-367874fc79f8"
      },
      "outputs": [
        {
          "output_type": "stream",
          "name": "stdout",
          "text": [
            "Mean Absolute Error: 813.8319783123357\n",
            "Mean Squared Error: 1231152.7026874973\n",
            "Root Mean Squared Error: 1109.5732074484754\n"
          ]
        }
      ],
      "source": [
        "from sklearn import metrics\n",
        "\n",
        "# And now we assess the errors\n",
        "print('Mean Absolute Error:', metrics.mean_absolute_error(y_test, y_preddt))  \n",
        "print('Mean Squared Error:', metrics.mean_squared_error(y_test, y_preddt))  \n",
        "print('Root Mean Squared Error:', np.sqrt(metrics.mean_squared_error(y_test, y_preddt)))"
      ]
    },
    {
      "cell_type": "markdown",
      "id": "40b160a7",
      "metadata": {
        "id": "40b160a7"
      },
      "source": [
        "# Challenging the Base Model.\n",
        "\n",
        "## Random Forest Regressor"
      ]
    },
    {
      "cell_type": "code",
      "execution_count": 331,
      "id": "ceb247b7",
      "metadata": {
        "id": "ceb247b7",
        "colab": {
          "base_uri": "https://localhost:8080/",
          "height": 206
        },
        "outputId": "12588551-3d60-4234-8390-158168064745"
      },
      "outputs": [
        {
          "output_type": "execute_result",
          "data": {
            "text/plain": [
              "         Actual    Predicted\n",
              "5785  1584.6040  2093.574810\n",
              "3415  1566.6274  2230.663030\n",
              "1793   194.4136   766.202640\n",
              "2701  2465.4574  1797.413654\n",
              "7118  7190.6400  4573.446780"
            ],
            "text/html": [
              "\n",
              "  <div id=\"df-4b769774-2551-4b0b-b03c-9ddae442e095\">\n",
              "    <div class=\"colab-df-container\">\n",
              "      <div>\n",
              "<style scoped>\n",
              "    .dataframe tbody tr th:only-of-type {\n",
              "        vertical-align: middle;\n",
              "    }\n",
              "\n",
              "    .dataframe tbody tr th {\n",
              "        vertical-align: top;\n",
              "    }\n",
              "\n",
              "    .dataframe thead th {\n",
              "        text-align: right;\n",
              "    }\n",
              "</style>\n",
              "<table border=\"1\" class=\"dataframe\">\n",
              "  <thead>\n",
              "    <tr style=\"text-align: right;\">\n",
              "      <th></th>\n",
              "      <th>Actual</th>\n",
              "      <th>Predicted</th>\n",
              "    </tr>\n",
              "  </thead>\n",
              "  <tbody>\n",
              "    <tr>\n",
              "      <th>5785</th>\n",
              "      <td>1584.6040</td>\n",
              "      <td>2093.574810</td>\n",
              "    </tr>\n",
              "    <tr>\n",
              "      <th>3415</th>\n",
              "      <td>1566.6274</td>\n",
              "      <td>2230.663030</td>\n",
              "    </tr>\n",
              "    <tr>\n",
              "      <th>1793</th>\n",
              "      <td>194.4136</td>\n",
              "      <td>766.202640</td>\n",
              "    </tr>\n",
              "    <tr>\n",
              "      <th>2701</th>\n",
              "      <td>2465.4574</td>\n",
              "      <td>1797.413654</td>\n",
              "    </tr>\n",
              "    <tr>\n",
              "      <th>7118</th>\n",
              "      <td>7190.6400</td>\n",
              "      <td>4573.446780</td>\n",
              "    </tr>\n",
              "  </tbody>\n",
              "</table>\n",
              "</div>\n",
              "      <button class=\"colab-df-convert\" onclick=\"convertToInteractive('df-4b769774-2551-4b0b-b03c-9ddae442e095')\"\n",
              "              title=\"Convert this dataframe to an interactive table.\"\n",
              "              style=\"display:none;\">\n",
              "        \n",
              "  <svg xmlns=\"http://www.w3.org/2000/svg\" height=\"24px\"viewBox=\"0 0 24 24\"\n",
              "       width=\"24px\">\n",
              "    <path d=\"M0 0h24v24H0V0z\" fill=\"none\"/>\n",
              "    <path d=\"M18.56 5.44l.94 2.06.94-2.06 2.06-.94-2.06-.94-.94-2.06-.94 2.06-2.06.94zm-11 1L8.5 8.5l.94-2.06 2.06-.94-2.06-.94L8.5 2.5l-.94 2.06-2.06.94zm10 10l.94 2.06.94-2.06 2.06-.94-2.06-.94-.94-2.06-.94 2.06-2.06.94z\"/><path d=\"M17.41 7.96l-1.37-1.37c-.4-.4-.92-.59-1.43-.59-.52 0-1.04.2-1.43.59L10.3 9.45l-7.72 7.72c-.78.78-.78 2.05 0 2.83L4 21.41c.39.39.9.59 1.41.59.51 0 1.02-.2 1.41-.59l7.78-7.78 2.81-2.81c.8-.78.8-2.07 0-2.86zM5.41 20L4 18.59l7.72-7.72 1.47 1.35L5.41 20z\"/>\n",
              "  </svg>\n",
              "      </button>\n",
              "      \n",
              "  <style>\n",
              "    .colab-df-container {\n",
              "      display:flex;\n",
              "      flex-wrap:wrap;\n",
              "      gap: 12px;\n",
              "    }\n",
              "\n",
              "    .colab-df-convert {\n",
              "      background-color: #E8F0FE;\n",
              "      border: none;\n",
              "      border-radius: 50%;\n",
              "      cursor: pointer;\n",
              "      display: none;\n",
              "      fill: #1967D2;\n",
              "      height: 32px;\n",
              "      padding: 0 0 0 0;\n",
              "      width: 32px;\n",
              "    }\n",
              "\n",
              "    .colab-df-convert:hover {\n",
              "      background-color: #E2EBFA;\n",
              "      box-shadow: 0px 1px 2px rgba(60, 64, 67, 0.3), 0px 1px 3px 1px rgba(60, 64, 67, 0.15);\n",
              "      fill: #174EA6;\n",
              "    }\n",
              "\n",
              "    [theme=dark] .colab-df-convert {\n",
              "      background-color: #3B4455;\n",
              "      fill: #D2E3FC;\n",
              "    }\n",
              "\n",
              "    [theme=dark] .colab-df-convert:hover {\n",
              "      background-color: #434B5C;\n",
              "      box-shadow: 0px 1px 3px 1px rgba(0, 0, 0, 0.15);\n",
              "      filter: drop-shadow(0px 1px 2px rgba(0, 0, 0, 0.3));\n",
              "      fill: #FFFFFF;\n",
              "    }\n",
              "  </style>\n",
              "\n",
              "      <script>\n",
              "        const buttonEl =\n",
              "          document.querySelector('#df-4b769774-2551-4b0b-b03c-9ddae442e095 button.colab-df-convert');\n",
              "        buttonEl.style.display =\n",
              "          google.colab.kernel.accessAllowed ? 'block' : 'none';\n",
              "\n",
              "        async function convertToInteractive(key) {\n",
              "          const element = document.querySelector('#df-4b769774-2551-4b0b-b03c-9ddae442e095');\n",
              "          const dataTable =\n",
              "            await google.colab.kernel.invokeFunction('convertToInteractive',\n",
              "                                                     [key], {});\n",
              "          if (!dataTable) return;\n",
              "\n",
              "          const docLinkHtml = 'Like what you see? Visit the ' +\n",
              "            '<a target=\"_blank\" href=https://colab.research.google.com/notebooks/data_table.ipynb>data table notebook</a>'\n",
              "            + ' to learn more about interactive tables.';\n",
              "          element.innerHTML = '';\n",
              "          dataTable['output_type'] = 'display_data';\n",
              "          await google.colab.output.renderOutput(dataTable, element);\n",
              "          const docLink = document.createElement('div');\n",
              "          docLink.innerHTML = docLinkHtml;\n",
              "          element.appendChild(docLink);\n",
              "        }\n",
              "      </script>\n",
              "    </div>\n",
              "  </div>\n",
              "  "
            ]
          },
          "metadata": {},
          "execution_count": 331
        }
      ],
      "source": [
        "from sklearn.ensemble import RandomForestRegressor\n",
        "\n",
        "# Building the model\n",
        "forest = RandomForestRegressor()\n",
        "\n",
        "# Lets fit the model to our dataset\n",
        "forest = forest.fit(X_train, y_train)\n",
        "\n",
        "# Predict based on the model we've trained\n",
        "y_pred = forest.predict(X_test)\n",
        "\n",
        "# Creating a dataframe of the actuals and predicted\n",
        "comparison_frame = pd.DataFrame({'Actual': y_test, 'Predicted': y_pred})\n",
        "comparison_frame.head(5)"
      ]
    },
    {
      "cell_type": "code",
      "execution_count": 332,
      "id": "ce0d4e44",
      "metadata": {
        "id": "ce0d4e44",
        "colab": {
          "base_uri": "https://localhost:8080/",
          "height": 300
        },
        "outputId": "10c61b7a-9511-444f-bad4-a77dc8a8ea15"
      },
      "outputs": [
        {
          "output_type": "execute_result",
          "data": {
            "text/plain": [
              "            Actual    Predicted\n",
              "count  1395.000000  1395.000000\n",
              "mean   2234.214321  2266.451680\n",
              "std    1489.723391  1097.249150\n",
              "min      69.243200   257.751154\n",
              "25%    1100.567400  1386.977915\n",
              "50%    1895.532600  2176.626702\n",
              "75%    3103.959600  3044.540279\n",
              "max    9069.527600  6266.556206"
            ],
            "text/html": [
              "\n",
              "  <div id=\"df-cda6ba6c-4b8b-4dd1-b950-375bf4250bcf\">\n",
              "    <div class=\"colab-df-container\">\n",
              "      <div>\n",
              "<style scoped>\n",
              "    .dataframe tbody tr th:only-of-type {\n",
              "        vertical-align: middle;\n",
              "    }\n",
              "\n",
              "    .dataframe tbody tr th {\n",
              "        vertical-align: top;\n",
              "    }\n",
              "\n",
              "    .dataframe thead th {\n",
              "        text-align: right;\n",
              "    }\n",
              "</style>\n",
              "<table border=\"1\" class=\"dataframe\">\n",
              "  <thead>\n",
              "    <tr style=\"text-align: right;\">\n",
              "      <th></th>\n",
              "      <th>Actual</th>\n",
              "      <th>Predicted</th>\n",
              "    </tr>\n",
              "  </thead>\n",
              "  <tbody>\n",
              "    <tr>\n",
              "      <th>count</th>\n",
              "      <td>1395.000000</td>\n",
              "      <td>1395.000000</td>\n",
              "    </tr>\n",
              "    <tr>\n",
              "      <th>mean</th>\n",
              "      <td>2234.214321</td>\n",
              "      <td>2266.451680</td>\n",
              "    </tr>\n",
              "    <tr>\n",
              "      <th>std</th>\n",
              "      <td>1489.723391</td>\n",
              "      <td>1097.249150</td>\n",
              "    </tr>\n",
              "    <tr>\n",
              "      <th>min</th>\n",
              "      <td>69.243200</td>\n",
              "      <td>257.751154</td>\n",
              "    </tr>\n",
              "    <tr>\n",
              "      <th>25%</th>\n",
              "      <td>1100.567400</td>\n",
              "      <td>1386.977915</td>\n",
              "    </tr>\n",
              "    <tr>\n",
              "      <th>50%</th>\n",
              "      <td>1895.532600</td>\n",
              "      <td>2176.626702</td>\n",
              "    </tr>\n",
              "    <tr>\n",
              "      <th>75%</th>\n",
              "      <td>3103.959600</td>\n",
              "      <td>3044.540279</td>\n",
              "    </tr>\n",
              "    <tr>\n",
              "      <th>max</th>\n",
              "      <td>9069.527600</td>\n",
              "      <td>6266.556206</td>\n",
              "    </tr>\n",
              "  </tbody>\n",
              "</table>\n",
              "</div>\n",
              "      <button class=\"colab-df-convert\" onclick=\"convertToInteractive('df-cda6ba6c-4b8b-4dd1-b950-375bf4250bcf')\"\n",
              "              title=\"Convert this dataframe to an interactive table.\"\n",
              "              style=\"display:none;\">\n",
              "        \n",
              "  <svg xmlns=\"http://www.w3.org/2000/svg\" height=\"24px\"viewBox=\"0 0 24 24\"\n",
              "       width=\"24px\">\n",
              "    <path d=\"M0 0h24v24H0V0z\" fill=\"none\"/>\n",
              "    <path d=\"M18.56 5.44l.94 2.06.94-2.06 2.06-.94-2.06-.94-.94-2.06-.94 2.06-2.06.94zm-11 1L8.5 8.5l.94-2.06 2.06-.94-2.06-.94L8.5 2.5l-.94 2.06-2.06.94zm10 10l.94 2.06.94-2.06 2.06-.94-2.06-.94-.94-2.06-.94 2.06-2.06.94z\"/><path d=\"M17.41 7.96l-1.37-1.37c-.4-.4-.92-.59-1.43-.59-.52 0-1.04.2-1.43.59L10.3 9.45l-7.72 7.72c-.78.78-.78 2.05 0 2.83L4 21.41c.39.39.9.59 1.41.59.51 0 1.02-.2 1.41-.59l7.78-7.78 2.81-2.81c.8-.78.8-2.07 0-2.86zM5.41 20L4 18.59l7.72-7.72 1.47 1.35L5.41 20z\"/>\n",
              "  </svg>\n",
              "      </button>\n",
              "      \n",
              "  <style>\n",
              "    .colab-df-container {\n",
              "      display:flex;\n",
              "      flex-wrap:wrap;\n",
              "      gap: 12px;\n",
              "    }\n",
              "\n",
              "    .colab-df-convert {\n",
              "      background-color: #E8F0FE;\n",
              "      border: none;\n",
              "      border-radius: 50%;\n",
              "      cursor: pointer;\n",
              "      display: none;\n",
              "      fill: #1967D2;\n",
              "      height: 32px;\n",
              "      padding: 0 0 0 0;\n",
              "      width: 32px;\n",
              "    }\n",
              "\n",
              "    .colab-df-convert:hover {\n",
              "      background-color: #E2EBFA;\n",
              "      box-shadow: 0px 1px 2px rgba(60, 64, 67, 0.3), 0px 1px 3px 1px rgba(60, 64, 67, 0.15);\n",
              "      fill: #174EA6;\n",
              "    }\n",
              "\n",
              "    [theme=dark] .colab-df-convert {\n",
              "      background-color: #3B4455;\n",
              "      fill: #D2E3FC;\n",
              "    }\n",
              "\n",
              "    [theme=dark] .colab-df-convert:hover {\n",
              "      background-color: #434B5C;\n",
              "      box-shadow: 0px 1px 3px 1px rgba(0, 0, 0, 0.15);\n",
              "      filter: drop-shadow(0px 1px 2px rgba(0, 0, 0, 0.3));\n",
              "      fill: #FFFFFF;\n",
              "    }\n",
              "  </style>\n",
              "\n",
              "      <script>\n",
              "        const buttonEl =\n",
              "          document.querySelector('#df-cda6ba6c-4b8b-4dd1-b950-375bf4250bcf button.colab-df-convert');\n",
              "        buttonEl.style.display =\n",
              "          google.colab.kernel.accessAllowed ? 'block' : 'none';\n",
              "\n",
              "        async function convertToInteractive(key) {\n",
              "          const element = document.querySelector('#df-cda6ba6c-4b8b-4dd1-b950-375bf4250bcf');\n",
              "          const dataTable =\n",
              "            await google.colab.kernel.invokeFunction('convertToInteractive',\n",
              "                                                     [key], {});\n",
              "          if (!dataTable) return;\n",
              "\n",
              "          const docLinkHtml = 'Like what you see? Visit the ' +\n",
              "            '<a target=\"_blank\" href=https://colab.research.google.com/notebooks/data_table.ipynb>data table notebook</a>'\n",
              "            + ' to learn more about interactive tables.';\n",
              "          element.innerHTML = '';\n",
              "          dataTable['output_type'] = 'display_data';\n",
              "          await google.colab.output.renderOutput(dataTable, element);\n",
              "          const docLink = document.createElement('div');\n",
              "          docLink.innerHTML = docLinkHtml;\n",
              "          element.appendChild(docLink);\n",
              "        }\n",
              "      </script>\n",
              "    </div>\n",
              "  </div>\n",
              "  "
            ]
          },
          "metadata": {},
          "execution_count": 332
        }
      ],
      "source": [
        "# lets investigate the summary statistics of the df\n",
        "comparison_frame.describe()"
      ]
    },
    {
      "cell_type": "code",
      "execution_count": 333,
      "id": "e23b7ab9",
      "metadata": {
        "scrolled": true,
        "id": "e23b7ab9",
        "colab": {
          "base_uri": "https://localhost:8080/"
        },
        "outputId": "050213b3-783e-4369-add6-a946d70a15ec"
      },
      "outputs": [
        {
          "output_type": "stream",
          "name": "stdout",
          "text": [
            "Mean Absolute Error: 844.7569312946237\n",
            "Mean Squared Error: 1338342.7645235143\n",
            "Root Mean Squared Error: 1156.8676521208095\n"
          ]
        }
      ],
      "source": [
        "# Lets evaluate the model\n",
        "from sklearn import metrics\n",
        "\n",
        "# And now we assess the errors\n",
        "print('Mean Absolute Error:', metrics.mean_absolute_error(y_test, y_pred))  \n",
        "print('Mean Squared Error:', metrics.mean_squared_error(y_test, y_pred))  \n",
        "print('Root Mean Squared Error:', np.sqrt(metrics.mean_squared_error(y_test, y_pred)))"
      ]
    },
    {
      "cell_type": "markdown",
      "id": "1e820aca",
      "metadata": {
        "id": "1e820aca"
      },
      "source": [
        "## Hyperparameter Tuning"
      ]
    },
    {
      "cell_type": "code",
      "execution_count": 334,
      "id": "56bddd81",
      "metadata": {
        "id": "56bddd81",
        "colab": {
          "base_uri": "https://localhost:8080/",
          "height": 206
        },
        "outputId": "4c8c6074-50b5-48f6-8b2d-1704e96dc689"
      },
      "outputs": [
        {
          "output_type": "execute_result",
          "data": {
            "text/plain": [
              "         Actual    Predicted\n",
              "5785  1584.6040  1822.823888\n",
              "3415  1566.6274  2077.749842\n",
              "1793   194.4136   703.809001\n",
              "2701  2465.4574  1748.782222\n",
              "7118  7190.6400  4221.353824"
            ],
            "text/html": [
              "\n",
              "  <div id=\"df-5cf7a123-566d-40a9-8ec9-d7065d96cbb4\">\n",
              "    <div class=\"colab-df-container\">\n",
              "      <div>\n",
              "<style scoped>\n",
              "    .dataframe tbody tr th:only-of-type {\n",
              "        vertical-align: middle;\n",
              "    }\n",
              "\n",
              "    .dataframe tbody tr th {\n",
              "        vertical-align: top;\n",
              "    }\n",
              "\n",
              "    .dataframe thead th {\n",
              "        text-align: right;\n",
              "    }\n",
              "</style>\n",
              "<table border=\"1\" class=\"dataframe\">\n",
              "  <thead>\n",
              "    <tr style=\"text-align: right;\">\n",
              "      <th></th>\n",
              "      <th>Actual</th>\n",
              "      <th>Predicted</th>\n",
              "    </tr>\n",
              "  </thead>\n",
              "  <tbody>\n",
              "    <tr>\n",
              "      <th>5785</th>\n",
              "      <td>1584.6040</td>\n",
              "      <td>1822.823888</td>\n",
              "    </tr>\n",
              "    <tr>\n",
              "      <th>3415</th>\n",
              "      <td>1566.6274</td>\n",
              "      <td>2077.749842</td>\n",
              "    </tr>\n",
              "    <tr>\n",
              "      <th>1793</th>\n",
              "      <td>194.4136</td>\n",
              "      <td>703.809001</td>\n",
              "    </tr>\n",
              "    <tr>\n",
              "      <th>2701</th>\n",
              "      <td>2465.4574</td>\n",
              "      <td>1748.782222</td>\n",
              "    </tr>\n",
              "    <tr>\n",
              "      <th>7118</th>\n",
              "      <td>7190.6400</td>\n",
              "      <td>4221.353824</td>\n",
              "    </tr>\n",
              "  </tbody>\n",
              "</table>\n",
              "</div>\n",
              "      <button class=\"colab-df-convert\" onclick=\"convertToInteractive('df-5cf7a123-566d-40a9-8ec9-d7065d96cbb4')\"\n",
              "              title=\"Convert this dataframe to an interactive table.\"\n",
              "              style=\"display:none;\">\n",
              "        \n",
              "  <svg xmlns=\"http://www.w3.org/2000/svg\" height=\"24px\"viewBox=\"0 0 24 24\"\n",
              "       width=\"24px\">\n",
              "    <path d=\"M0 0h24v24H0V0z\" fill=\"none\"/>\n",
              "    <path d=\"M18.56 5.44l.94 2.06.94-2.06 2.06-.94-2.06-.94-.94-2.06-.94 2.06-2.06.94zm-11 1L8.5 8.5l.94-2.06 2.06-.94-2.06-.94L8.5 2.5l-.94 2.06-2.06.94zm10 10l.94 2.06.94-2.06 2.06-.94-2.06-.94-.94-2.06-.94 2.06-2.06.94z\"/><path d=\"M17.41 7.96l-1.37-1.37c-.4-.4-.92-.59-1.43-.59-.52 0-1.04.2-1.43.59L10.3 9.45l-7.72 7.72c-.78.78-.78 2.05 0 2.83L4 21.41c.39.39.9.59 1.41.59.51 0 1.02-.2 1.41-.59l7.78-7.78 2.81-2.81c.8-.78.8-2.07 0-2.86zM5.41 20L4 18.59l7.72-7.72 1.47 1.35L5.41 20z\"/>\n",
              "  </svg>\n",
              "      </button>\n",
              "      \n",
              "  <style>\n",
              "    .colab-df-container {\n",
              "      display:flex;\n",
              "      flex-wrap:wrap;\n",
              "      gap: 12px;\n",
              "    }\n",
              "\n",
              "    .colab-df-convert {\n",
              "      background-color: #E8F0FE;\n",
              "      border: none;\n",
              "      border-radius: 50%;\n",
              "      cursor: pointer;\n",
              "      display: none;\n",
              "      fill: #1967D2;\n",
              "      height: 32px;\n",
              "      padding: 0 0 0 0;\n",
              "      width: 32px;\n",
              "    }\n",
              "\n",
              "    .colab-df-convert:hover {\n",
              "      background-color: #E2EBFA;\n",
              "      box-shadow: 0px 1px 2px rgba(60, 64, 67, 0.3), 0px 1px 3px 1px rgba(60, 64, 67, 0.15);\n",
              "      fill: #174EA6;\n",
              "    }\n",
              "\n",
              "    [theme=dark] .colab-df-convert {\n",
              "      background-color: #3B4455;\n",
              "      fill: #D2E3FC;\n",
              "    }\n",
              "\n",
              "    [theme=dark] .colab-df-convert:hover {\n",
              "      background-color: #434B5C;\n",
              "      box-shadow: 0px 1px 3px 1px rgba(0, 0, 0, 0.15);\n",
              "      filter: drop-shadow(0px 1px 2px rgba(0, 0, 0, 0.3));\n",
              "      fill: #FFFFFF;\n",
              "    }\n",
              "  </style>\n",
              "\n",
              "      <script>\n",
              "        const buttonEl =\n",
              "          document.querySelector('#df-5cf7a123-566d-40a9-8ec9-d7065d96cbb4 button.colab-df-convert');\n",
              "        buttonEl.style.display =\n",
              "          google.colab.kernel.accessAllowed ? 'block' : 'none';\n",
              "\n",
              "        async function convertToInteractive(key) {\n",
              "          const element = document.querySelector('#df-5cf7a123-566d-40a9-8ec9-d7065d96cbb4');\n",
              "          const dataTable =\n",
              "            await google.colab.kernel.invokeFunction('convertToInteractive',\n",
              "                                                     [key], {});\n",
              "          if (!dataTable) return;\n",
              "\n",
              "          const docLinkHtml = 'Like what you see? Visit the ' +\n",
              "            '<a target=\"_blank\" href=https://colab.research.google.com/notebooks/data_table.ipynb>data table notebook</a>'\n",
              "            + ' to learn more about interactive tables.';\n",
              "          element.innerHTML = '';\n",
              "          dataTable['output_type'] = 'display_data';\n",
              "          await google.colab.output.renderOutput(dataTable, element);\n",
              "          const docLink = document.createElement('div');\n",
              "          docLink.innerHTML = docLinkHtml;\n",
              "          element.appendChild(docLink);\n",
              "        }\n",
              "      </script>\n",
              "    </div>\n",
              "  </div>\n",
              "  "
            ]
          },
          "metadata": {},
          "execution_count": 334
        }
      ],
      "source": [
        "# Import the model\n",
        "from sklearn.ensemble import RandomForestRegressor\n",
        "\n",
        "# The random_state variable is here to guarantee that we all see the same numbers.\n",
        "# Note that we can provide the same parameters as in the decision tree, such as \n",
        "# min_samples_split or max_depth\n",
        "forest = RandomForestRegressor(n_estimators = 170, random_state= 25, min_samples_split = 15, max_depth= 10)\n",
        "forest = forest.fit(X_train, y_train)\n",
        "\n",
        "# Predict based on the model we've trained\n",
        "y_pred = forest.predict(X_test)\n",
        "\n",
        "\n",
        "comparison_frame = pd.DataFrame({'Actual': y_test, 'Predicted': y_pred})\n",
        "comparison_frame.head(5)"
      ]
    },
    {
      "cell_type": "code",
      "execution_count": 335,
      "id": "9d169ca8",
      "metadata": {
        "id": "9d169ca8",
        "colab": {
          "base_uri": "https://localhost:8080/",
          "height": 300
        },
        "outputId": "0c26d39c-1466-454c-bd04-403046c0690a"
      },
      "outputs": [
        {
          "output_type": "execute_result",
          "data": {
            "text/plain": [
              "            Actual    Predicted\n",
              "count  1395.000000  1395.000000\n",
              "mean   2234.214321  2269.212507\n",
              "std    1489.723391  1048.141043\n",
              "min      69.243200   364.670818\n",
              "25%    1100.567400  1429.972058\n",
              "50%    1895.532600  2226.979148\n",
              "75%    3103.959600  3050.112463\n",
              "max    9069.527600  5271.953558"
            ],
            "text/html": [
              "\n",
              "  <div id=\"df-bd46c2fd-9edf-419e-9f24-884de12cd39a\">\n",
              "    <div class=\"colab-df-container\">\n",
              "      <div>\n",
              "<style scoped>\n",
              "    .dataframe tbody tr th:only-of-type {\n",
              "        vertical-align: middle;\n",
              "    }\n",
              "\n",
              "    .dataframe tbody tr th {\n",
              "        vertical-align: top;\n",
              "    }\n",
              "\n",
              "    .dataframe thead th {\n",
              "        text-align: right;\n",
              "    }\n",
              "</style>\n",
              "<table border=\"1\" class=\"dataframe\">\n",
              "  <thead>\n",
              "    <tr style=\"text-align: right;\">\n",
              "      <th></th>\n",
              "      <th>Actual</th>\n",
              "      <th>Predicted</th>\n",
              "    </tr>\n",
              "  </thead>\n",
              "  <tbody>\n",
              "    <tr>\n",
              "      <th>count</th>\n",
              "      <td>1395.000000</td>\n",
              "      <td>1395.000000</td>\n",
              "    </tr>\n",
              "    <tr>\n",
              "      <th>mean</th>\n",
              "      <td>2234.214321</td>\n",
              "      <td>2269.212507</td>\n",
              "    </tr>\n",
              "    <tr>\n",
              "      <th>std</th>\n",
              "      <td>1489.723391</td>\n",
              "      <td>1048.141043</td>\n",
              "    </tr>\n",
              "    <tr>\n",
              "      <th>min</th>\n",
              "      <td>69.243200</td>\n",
              "      <td>364.670818</td>\n",
              "    </tr>\n",
              "    <tr>\n",
              "      <th>25%</th>\n",
              "      <td>1100.567400</td>\n",
              "      <td>1429.972058</td>\n",
              "    </tr>\n",
              "    <tr>\n",
              "      <th>50%</th>\n",
              "      <td>1895.532600</td>\n",
              "      <td>2226.979148</td>\n",
              "    </tr>\n",
              "    <tr>\n",
              "      <th>75%</th>\n",
              "      <td>3103.959600</td>\n",
              "      <td>3050.112463</td>\n",
              "    </tr>\n",
              "    <tr>\n",
              "      <th>max</th>\n",
              "      <td>9069.527600</td>\n",
              "      <td>5271.953558</td>\n",
              "    </tr>\n",
              "  </tbody>\n",
              "</table>\n",
              "</div>\n",
              "      <button class=\"colab-df-convert\" onclick=\"convertToInteractive('df-bd46c2fd-9edf-419e-9f24-884de12cd39a')\"\n",
              "              title=\"Convert this dataframe to an interactive table.\"\n",
              "              style=\"display:none;\">\n",
              "        \n",
              "  <svg xmlns=\"http://www.w3.org/2000/svg\" height=\"24px\"viewBox=\"0 0 24 24\"\n",
              "       width=\"24px\">\n",
              "    <path d=\"M0 0h24v24H0V0z\" fill=\"none\"/>\n",
              "    <path d=\"M18.56 5.44l.94 2.06.94-2.06 2.06-.94-2.06-.94-.94-2.06-.94 2.06-2.06.94zm-11 1L8.5 8.5l.94-2.06 2.06-.94-2.06-.94L8.5 2.5l-.94 2.06-2.06.94zm10 10l.94 2.06.94-2.06 2.06-.94-2.06-.94-.94-2.06-.94 2.06-2.06.94z\"/><path d=\"M17.41 7.96l-1.37-1.37c-.4-.4-.92-.59-1.43-.59-.52 0-1.04.2-1.43.59L10.3 9.45l-7.72 7.72c-.78.78-.78 2.05 0 2.83L4 21.41c.39.39.9.59 1.41.59.51 0 1.02-.2 1.41-.59l7.78-7.78 2.81-2.81c.8-.78.8-2.07 0-2.86zM5.41 20L4 18.59l7.72-7.72 1.47 1.35L5.41 20z\"/>\n",
              "  </svg>\n",
              "      </button>\n",
              "      \n",
              "  <style>\n",
              "    .colab-df-container {\n",
              "      display:flex;\n",
              "      flex-wrap:wrap;\n",
              "      gap: 12px;\n",
              "    }\n",
              "\n",
              "    .colab-df-convert {\n",
              "      background-color: #E8F0FE;\n",
              "      border: none;\n",
              "      border-radius: 50%;\n",
              "      cursor: pointer;\n",
              "      display: none;\n",
              "      fill: #1967D2;\n",
              "      height: 32px;\n",
              "      padding: 0 0 0 0;\n",
              "      width: 32px;\n",
              "    }\n",
              "\n",
              "    .colab-df-convert:hover {\n",
              "      background-color: #E2EBFA;\n",
              "      box-shadow: 0px 1px 2px rgba(60, 64, 67, 0.3), 0px 1px 3px 1px rgba(60, 64, 67, 0.15);\n",
              "      fill: #174EA6;\n",
              "    }\n",
              "\n",
              "    [theme=dark] .colab-df-convert {\n",
              "      background-color: #3B4455;\n",
              "      fill: #D2E3FC;\n",
              "    }\n",
              "\n",
              "    [theme=dark] .colab-df-convert:hover {\n",
              "      background-color: #434B5C;\n",
              "      box-shadow: 0px 1px 3px 1px rgba(0, 0, 0, 0.15);\n",
              "      filter: drop-shadow(0px 1px 2px rgba(0, 0, 0, 0.3));\n",
              "      fill: #FFFFFF;\n",
              "    }\n",
              "  </style>\n",
              "\n",
              "      <script>\n",
              "        const buttonEl =\n",
              "          document.querySelector('#df-bd46c2fd-9edf-419e-9f24-884de12cd39a button.colab-df-convert');\n",
              "        buttonEl.style.display =\n",
              "          google.colab.kernel.accessAllowed ? 'block' : 'none';\n",
              "\n",
              "        async function convertToInteractive(key) {\n",
              "          const element = document.querySelector('#df-bd46c2fd-9edf-419e-9f24-884de12cd39a');\n",
              "          const dataTable =\n",
              "            await google.colab.kernel.invokeFunction('convertToInteractive',\n",
              "                                                     [key], {});\n",
              "          if (!dataTable) return;\n",
              "\n",
              "          const docLinkHtml = 'Like what you see? Visit the ' +\n",
              "            '<a target=\"_blank\" href=https://colab.research.google.com/notebooks/data_table.ipynb>data table notebook</a>'\n",
              "            + ' to learn more about interactive tables.';\n",
              "          element.innerHTML = '';\n",
              "          dataTable['output_type'] = 'display_data';\n",
              "          await google.colab.output.renderOutput(dataTable, element);\n",
              "          const docLink = document.createElement('div');\n",
              "          docLink.innerHTML = docLinkHtml;\n",
              "          element.appendChild(docLink);\n",
              "        }\n",
              "      </script>\n",
              "    </div>\n",
              "  </div>\n",
              "  "
            ]
          },
          "metadata": {},
          "execution_count": 335
        }
      ],
      "source": [
        "comparison_frame.describe()"
      ]
    },
    {
      "cell_type": "code",
      "execution_count": 336,
      "id": "a7be3e5e",
      "metadata": {
        "id": "a7be3e5e",
        "colab": {
          "base_uri": "https://localhost:8080/"
        },
        "outputId": "61441573-9143-4aff-fe51-bd92f365b374"
      },
      "outputs": [
        {
          "output_type": "stream",
          "name": "stdout",
          "text": [
            "Mean Absolute Error: 813.8319783123357\n",
            "Mean Squared Error: 1231152.7026874973\n",
            "Root Mean Squared Error: 1109.5732074484754\n"
          ]
        }
      ],
      "source": [
        "from sklearn import metrics\n",
        "\n",
        "# And now we assess the errors\n",
        "print('Mean Absolute Error:', metrics.mean_absolute_error(y_test, y_pred))  \n",
        "print('Mean Squared Error:', metrics.mean_squared_error(y_test, y_pred))  \n",
        "print('Root Mean Squared Error:', np.sqrt(metrics.mean_squared_error(y_test, y_pred)))"
      ]
    },
    {
      "cell_type": "code",
      "source": [
        "from google.colab import drive\n",
        "drive.mount('/content/drive')"
      ],
      "metadata": {
        "id": "4tJ2DVd2YMOc"
      },
      "id": "4tJ2DVd2YMOc",
      "execution_count": null,
      "outputs": []
    }
  ],
  "metadata": {
    "kernelspec": {
      "display_name": "Python 3 (ipykernel)",
      "language": "python",
      "name": "python3"
    },
    "language_info": {
      "codemirror_mode": {
        "name": "ipython",
        "version": 3
      },
      "file_extension": ".py",
      "mimetype": "text/x-python",
      "name": "python",
      "nbconvert_exporter": "python",
      "pygments_lexer": "ipython3",
      "version": "3.9.13"
    },
    "colab": {
      "provenance": [],
      "include_colab_link": true
    }
  },
  "nbformat": 4,
  "nbformat_minor": 5
}